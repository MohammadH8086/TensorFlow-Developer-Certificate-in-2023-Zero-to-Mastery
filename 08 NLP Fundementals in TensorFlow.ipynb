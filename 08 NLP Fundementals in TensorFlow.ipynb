{
 "cells": [
  {
   "cell_type": "markdown",
   "id": "c722bec4",
   "metadata": {},
   "source": [
    "# Introduction to NLP Fundementals in TensorFlow"
   ]
  },
  {
   "cell_type": "code",
   "execution_count": 1,
   "id": "a238ec3b",
   "metadata": {},
   "outputs": [],
   "source": [
    "#!wget https://raw.githubusercontent.com/mrdbourke/tensorflow-deep-learning/main/extras/helper_functions.py"
   ]
  },
  {
   "cell_type": "code",
   "execution_count": 2,
   "id": "989a5283",
   "metadata": {},
   "outputs": [
    {
     "name": "stderr",
     "output_type": "stream",
     "text": [
      "2024-09-04 09:05:21.811703: E external/local_xla/xla/stream_executor/cuda/cuda_fft.cc:485] Unable to register cuFFT factory: Attempting to register factory for plugin cuFFT when one has already been registered\n",
      "2024-09-04 09:05:21.997472: E external/local_xla/xla/stream_executor/cuda/cuda_dnn.cc:8454] Unable to register cuDNN factory: Attempting to register factory for plugin cuDNN when one has already been registered\n",
      "2024-09-04 09:05:22.064312: E external/local_xla/xla/stream_executor/cuda/cuda_blas.cc:1452] Unable to register cuBLAS factory: Attempting to register factory for plugin cuBLAS when one has already been registered\n",
      "2024-09-04 09:05:22.448992: I tensorflow/core/platform/cpu_feature_guard.cc:210] This TensorFlow binary is optimized to use available CPU instructions in performance-critical operations.\n",
      "To enable the following instructions: AVX2 FMA, in other operations, rebuild TensorFlow with the appropriate compiler flags.\n",
      "2024-09-04 09:05:25.207213: W tensorflow/compiler/tf2tensorrt/utils/py_utils.cc:38] TF-TRT Warning: Could not find TensorRT\n"
     ]
    }
   ],
   "source": [
    "from helper_functions import unzip_data, create_tensorboard_callback, plot_loss_curves, compare_historys"
   ]
  },
  {
   "cell_type": "markdown",
   "id": "af66eb4f",
   "metadata": {},
   "source": [
    "## Get a text dataset"
   ]
  },
  {
   "cell_type": "code",
   "execution_count": 3,
   "id": "6039d348",
   "metadata": {},
   "outputs": [],
   "source": [
    "#!wget https://storage.googleapis.com/ztm_tf_course/nlp_getting_started.zip"
   ]
  },
  {
   "cell_type": "code",
   "execution_count": 4,
   "id": "29d61af2",
   "metadata": {},
   "outputs": [],
   "source": [
    "#unzip_data('nlp_getting_started.zip')"
   ]
  },
  {
   "cell_type": "markdown",
   "id": "69aee3f8",
   "metadata": {},
   "source": [
    "## Visualizing a text dataset"
   ]
  },
  {
   "cell_type": "code",
   "execution_count": 5,
   "id": "79f37907",
   "metadata": {},
   "outputs": [],
   "source": [
    "import pandas as pd\n",
    "\n",
    "train_df= pd.read_csv('train.csv')\n",
    "test_df= pd.read_csv('test.csv')"
   ]
  },
  {
   "cell_type": "code",
   "execution_count": 6,
   "id": "ae57d049",
   "metadata": {},
   "outputs": [
    {
     "data": {
      "text/html": [
       "<div>\n",
       "<style scoped>\n",
       "    .dataframe tbody tr th:only-of-type {\n",
       "        vertical-align: middle;\n",
       "    }\n",
       "\n",
       "    .dataframe tbody tr th {\n",
       "        vertical-align: top;\n",
       "    }\n",
       "\n",
       "    .dataframe thead th {\n",
       "        text-align: right;\n",
       "    }\n",
       "</style>\n",
       "<table border=\"1\" class=\"dataframe\">\n",
       "  <thead>\n",
       "    <tr style=\"text-align: right;\">\n",
       "      <th></th>\n",
       "      <th>id</th>\n",
       "      <th>keyword</th>\n",
       "      <th>location</th>\n",
       "      <th>text</th>\n",
       "      <th>target</th>\n",
       "    </tr>\n",
       "  </thead>\n",
       "  <tbody>\n",
       "    <tr>\n",
       "      <th>0</th>\n",
       "      <td>1</td>\n",
       "      <td>NaN</td>\n",
       "      <td>NaN</td>\n",
       "      <td>Our Deeds are the Reason of this #earthquake M...</td>\n",
       "      <td>1</td>\n",
       "    </tr>\n",
       "    <tr>\n",
       "      <th>1</th>\n",
       "      <td>4</td>\n",
       "      <td>NaN</td>\n",
       "      <td>NaN</td>\n",
       "      <td>Forest fire near La Ronge Sask. Canada</td>\n",
       "      <td>1</td>\n",
       "    </tr>\n",
       "    <tr>\n",
       "      <th>2</th>\n",
       "      <td>5</td>\n",
       "      <td>NaN</td>\n",
       "      <td>NaN</td>\n",
       "      <td>All residents asked to 'shelter in place' are ...</td>\n",
       "      <td>1</td>\n",
       "    </tr>\n",
       "    <tr>\n",
       "      <th>3</th>\n",
       "      <td>6</td>\n",
       "      <td>NaN</td>\n",
       "      <td>NaN</td>\n",
       "      <td>13,000 people receive #wildfires evacuation or...</td>\n",
       "      <td>1</td>\n",
       "    </tr>\n",
       "    <tr>\n",
       "      <th>4</th>\n",
       "      <td>7</td>\n",
       "      <td>NaN</td>\n",
       "      <td>NaN</td>\n",
       "      <td>Just got sent this photo from Ruby #Alaska as ...</td>\n",
       "      <td>1</td>\n",
       "    </tr>\n",
       "  </tbody>\n",
       "</table>\n",
       "</div>"
      ],
      "text/plain": [
       "   id keyword location                                               text  \\\n",
       "0   1     NaN      NaN  Our Deeds are the Reason of this #earthquake M...   \n",
       "1   4     NaN      NaN             Forest fire near La Ronge Sask. Canada   \n",
       "2   5     NaN      NaN  All residents asked to 'shelter in place' are ...   \n",
       "3   6     NaN      NaN  13,000 people receive #wildfires evacuation or...   \n",
       "4   7     NaN      NaN  Just got sent this photo from Ruby #Alaska as ...   \n",
       "\n",
       "   target  \n",
       "0       1  \n",
       "1       1  \n",
       "2       1  \n",
       "3       1  \n",
       "4       1  "
      ]
     },
     "execution_count": 6,
     "metadata": {},
     "output_type": "execute_result"
    }
   ],
   "source": [
    "train_df.head()"
   ]
  },
  {
   "cell_type": "code",
   "execution_count": 7,
   "id": "07e1170b",
   "metadata": {},
   "outputs": [
    {
     "data": {
      "text/plain": [
       "'Our Deeds are the Reason of this #earthquake May ALLAH Forgive us all'"
      ]
     },
     "execution_count": 7,
     "metadata": {},
     "output_type": "execute_result"
    }
   ],
   "source": [
    "train_df['text'][0]"
   ]
  },
  {
   "cell_type": "code",
   "execution_count": 8,
   "id": "f1460d34",
   "metadata": {},
   "outputs": [
    {
     "data": {
      "text/html": [
       "<div>\n",
       "<style scoped>\n",
       "    .dataframe tbody tr th:only-of-type {\n",
       "        vertical-align: middle;\n",
       "    }\n",
       "\n",
       "    .dataframe tbody tr th {\n",
       "        vertical-align: top;\n",
       "    }\n",
       "\n",
       "    .dataframe thead th {\n",
       "        text-align: right;\n",
       "    }\n",
       "</style>\n",
       "<table border=\"1\" class=\"dataframe\">\n",
       "  <thead>\n",
       "    <tr style=\"text-align: right;\">\n",
       "      <th></th>\n",
       "      <th>id</th>\n",
       "      <th>keyword</th>\n",
       "      <th>location</th>\n",
       "      <th>text</th>\n",
       "      <th>target</th>\n",
       "    </tr>\n",
       "  </thead>\n",
       "  <tbody>\n",
       "    <tr>\n",
       "      <th>1277</th>\n",
       "      <td>1840</td>\n",
       "      <td>burned</td>\n",
       "      <td>Gainesville, FL</td>\n",
       "      <td>burned 129 calories doing 24 minutes of Walkin...</td>\n",
       "      <td>1</td>\n",
       "    </tr>\n",
       "    <tr>\n",
       "      <th>190</th>\n",
       "      <td>269</td>\n",
       "      <td>ambulance</td>\n",
       "      <td>NaN</td>\n",
       "      <td>http://t.co/FCqmKFfflW Twelve feared killed in...</td>\n",
       "      <td>1</td>\n",
       "    </tr>\n",
       "    <tr>\n",
       "      <th>4804</th>\n",
       "      <td>6837</td>\n",
       "      <td>loud%20bang</td>\n",
       "      <td>Kenya</td>\n",
       "      <td>daviesmutia: Breaking news! Unconfirmed! I jus...</td>\n",
       "      <td>1</td>\n",
       "    </tr>\n",
       "    <tr>\n",
       "      <th>6803</th>\n",
       "      <td>9746</td>\n",
       "      <td>tragedy</td>\n",
       "      <td>Noida, NCR, India</td>\n",
       "      <td>Rly tragedy in MP: Some live to recount horror...</td>\n",
       "      <td>1</td>\n",
       "    </tr>\n",
       "    <tr>\n",
       "      <th>6488</th>\n",
       "      <td>9276</td>\n",
       "      <td>sunk</td>\n",
       "      <td>New York</td>\n",
       "      <td>Aquarium Ornament Wreck Sailing Boat Sunk Ship...</td>\n",
       "      <td>1</td>\n",
       "    </tr>\n",
       "  </tbody>\n",
       "</table>\n",
       "</div>"
      ],
      "text/plain": [
       "        id      keyword           location  \\\n",
       "1277  1840       burned    Gainesville, FL   \n",
       "190    269    ambulance                NaN   \n",
       "4804  6837  loud%20bang              Kenya   \n",
       "6803  9746      tragedy  Noida, NCR, India   \n",
       "6488  9276         sunk           New York   \n",
       "\n",
       "                                                   text  target  \n",
       "1277  burned 129 calories doing 24 minutes of Walkin...       1  \n",
       "190   http://t.co/FCqmKFfflW Twelve feared killed in...       1  \n",
       "4804  daviesmutia: Breaking news! Unconfirmed! I jus...       1  \n",
       "6803  Rly tragedy in MP: Some live to recount horror...       1  \n",
       "6488  Aquarium Ornament Wreck Sailing Boat Sunk Ship...       1  "
      ]
     },
     "execution_count": 8,
     "metadata": {},
     "output_type": "execute_result"
    }
   ],
   "source": [
    "# Shuffle training dataframe\n",
    "train_df_shuffled= train_df.sample(frac=1, )\n",
    "train_df_shuffled.head()"
   ]
  },
  {
   "cell_type": "code",
   "execution_count": 9,
   "id": "09405ddd",
   "metadata": {},
   "outputs": [
    {
     "data": {
      "text/html": [
       "<div>\n",
       "<style scoped>\n",
       "    .dataframe tbody tr th:only-of-type {\n",
       "        vertical-align: middle;\n",
       "    }\n",
       "\n",
       "    .dataframe tbody tr th {\n",
       "        vertical-align: top;\n",
       "    }\n",
       "\n",
       "    .dataframe thead th {\n",
       "        text-align: right;\n",
       "    }\n",
       "</style>\n",
       "<table border=\"1\" class=\"dataframe\">\n",
       "  <thead>\n",
       "    <tr style=\"text-align: right;\">\n",
       "      <th></th>\n",
       "      <th>id</th>\n",
       "      <th>keyword</th>\n",
       "      <th>location</th>\n",
       "      <th>text</th>\n",
       "    </tr>\n",
       "  </thead>\n",
       "  <tbody>\n",
       "    <tr>\n",
       "      <th>0</th>\n",
       "      <td>0</td>\n",
       "      <td>NaN</td>\n",
       "      <td>NaN</td>\n",
       "      <td>Just happened a terrible car crash</td>\n",
       "    </tr>\n",
       "    <tr>\n",
       "      <th>1</th>\n",
       "      <td>2</td>\n",
       "      <td>NaN</td>\n",
       "      <td>NaN</td>\n",
       "      <td>Heard about #earthquake is different cities, s...</td>\n",
       "    </tr>\n",
       "    <tr>\n",
       "      <th>2</th>\n",
       "      <td>3</td>\n",
       "      <td>NaN</td>\n",
       "      <td>NaN</td>\n",
       "      <td>there is a forest fire at spot pond, geese are...</td>\n",
       "    </tr>\n",
       "    <tr>\n",
       "      <th>3</th>\n",
       "      <td>9</td>\n",
       "      <td>NaN</td>\n",
       "      <td>NaN</td>\n",
       "      <td>Apocalypse lighting. #Spokane #wildfires</td>\n",
       "    </tr>\n",
       "    <tr>\n",
       "      <th>4</th>\n",
       "      <td>11</td>\n",
       "      <td>NaN</td>\n",
       "      <td>NaN</td>\n",
       "      <td>Typhoon Soudelor kills 28 in China and Taiwan</td>\n",
       "    </tr>\n",
       "  </tbody>\n",
       "</table>\n",
       "</div>"
      ],
      "text/plain": [
       "   id keyword location                                               text\n",
       "0   0     NaN      NaN                 Just happened a terrible car crash\n",
       "1   2     NaN      NaN  Heard about #earthquake is different cities, s...\n",
       "2   3     NaN      NaN  there is a forest fire at spot pond, geese are...\n",
       "3   9     NaN      NaN           Apocalypse lighting. #Spokane #wildfires\n",
       "4  11     NaN      NaN      Typhoon Soudelor kills 28 in China and Taiwan"
      ]
     },
     "execution_count": 9,
     "metadata": {},
     "output_type": "execute_result"
    }
   ],
   "source": [
    "# How does the test dataset looks like\n",
    "test_df.head()"
   ]
  },
  {
   "cell_type": "code",
   "execution_count": 10,
   "id": "a4f674b9",
   "metadata": {},
   "outputs": [
    {
     "data": {
      "text/plain": [
       "target\n",
       "0    4342\n",
       "1    3271\n",
       "Name: count, dtype: int64"
      ]
     },
     "execution_count": 10,
     "metadata": {},
     "output_type": "execute_result"
    }
   ],
   "source": [
    "train_df.target.value_counts()"
   ]
  },
  {
   "cell_type": "code",
   "execution_count": 11,
   "id": "67644a28",
   "metadata": {},
   "outputs": [
    {
     "data": {
      "text/plain": [
       "target\n",
       "0    4342\n",
       "1    3271\n",
       "Name: count, dtype: int64"
      ]
     },
     "execution_count": 11,
     "metadata": {},
     "output_type": "execute_result"
    }
   ],
   "source": [
    "pd.Series(train_df.target).value_counts()"
   ]
  },
  {
   "cell_type": "code",
   "execution_count": 12,
   "id": "407e0ec0",
   "metadata": {},
   "outputs": [
    {
     "data": {
      "text/plain": [
       "(7613, 3263)"
      ]
     },
     "execution_count": 12,
     "metadata": {},
     "output_type": "execute_result"
    }
   ],
   "source": [
    "len(train_df), len(test_df)"
   ]
  },
  {
   "cell_type": "code",
   "execution_count": 13,
   "id": "aa8e833c",
   "metadata": {},
   "outputs": [
    {
     "data": {
      "text/plain": [
       "3262.8"
      ]
     },
     "execution_count": 13,
     "metadata": {},
     "output_type": "execute_result"
    }
   ],
   "source": [
    "10876*30/100"
   ]
  },
  {
   "cell_type": "code",
   "execution_count": 14,
   "id": "91c0eadc",
   "metadata": {},
   "outputs": [
    {
     "name": "stdout",
     "output_type": "stream",
     "text": [
      "Index: 4623\n",
      "Text: incident with injury:I-495  inner loop Exit 31 - MD 97/Georgia Ave Silver Spring\n",
      "Target: 1 (real disaster)\n",
      "\n",
      "----\n",
      "\n",
      "Index: 6943\n",
      "Text: I feel so lucky rn\n",
      "Target: 0 (note real disaster)\n",
      "\n",
      "----\n",
      "\n",
      "Index: 3836\n",
      "Text: After shooting event at the theater @Starbucks is giving FREE COFFEE to all first responders police &amp; firefighters. AntiochHickoryHollow#TN\n",
      "Target: 1 (real disaster)\n",
      "\n",
      "----\n",
      "\n",
      "Index: 2140\n",
      "Text: [Comment] Deaths of older children: what do the data tell #US? http://t.co/p8Yr2po6Jn\n",
      " #nghlth\n",
      "Target: 1 (real disaster)\n",
      "\n",
      "----\n",
      "\n",
      "Index: 975\n",
      "Text: One day this heart gone get me zipped up in a body bag.\n",
      "Target: 0 (note real disaster)\n",
      "\n",
      "----\n",
      "\n"
     ]
    }
   ],
   "source": [
    "# Visualize some random samples\n",
    "import random\n",
    "random_index= random.randint(0,len(train_df)-6)\n",
    "\n",
    "for row in train_df_shuffled[['text','target']][random_index:random_index+5].itertuples():\n",
    "    index,text,target= row\n",
    "    print(f'Index: {index}\\n'\n",
    "          f'Text: {text}\\n'\n",
    "          f'Target: {target}', '(real disaster)' if target>0 else '(note real disaster)' )\n",
    "    print()\n",
    "    print('----\\n')"
   ]
  },
  {
   "cell_type": "markdown",
   "id": "a2420072",
   "metadata": {},
   "source": [
    "## Split data into training and validation sets"
   ]
  },
  {
   "cell_type": "code",
   "execution_count": 15,
   "id": "311eb779",
   "metadata": {},
   "outputs": [],
   "source": [
    "from sklearn.model_selection import train_test_split"
   ]
  },
  {
   "cell_type": "code",
   "execution_count": 16,
   "id": "0401b1a9",
   "metadata": {},
   "outputs": [],
   "source": [
    "train_text, validation_text, train_labels, validation_labels= train_test_split(train_df_shuffled['text'].to_numpy(),\n",
    "                                                                               train_df_shuffled['target'].to_numpy(),\n",
    "                                                                               test_size=0.1,\n",
    "                                                                               shuffle=True,\n",
    "                                                                               stratify=train_df_shuffled.target)"
   ]
  },
  {
   "cell_type": "code",
   "execution_count": 17,
   "id": "1c7f6c67",
   "metadata": {},
   "outputs": [
    {
     "data": {
      "text/plain": [
       "6851"
      ]
     },
     "execution_count": 17,
     "metadata": {},
     "output_type": "execute_result"
    }
   ],
   "source": [
    "len(train_text)"
   ]
  },
  {
   "cell_type": "code",
   "execution_count": 18,
   "id": "c23fa9ff",
   "metadata": {},
   "outputs": [
    {
     "data": {
      "text/plain": [
       "6851.7"
      ]
     },
     "execution_count": 18,
     "metadata": {},
     "output_type": "execute_result"
    }
   ],
   "source": [
    "7613*9/10"
   ]
  },
  {
   "cell_type": "code",
   "execution_count": 19,
   "id": "1ab90bdc",
   "metadata": {},
   "outputs": [
    {
     "data": {
      "text/plain": [
       "762"
      ]
     },
     "execution_count": 19,
     "metadata": {},
     "output_type": "execute_result"
    }
   ],
   "source": [
    "len(validation_text)"
   ]
  },
  {
   "cell_type": "code",
   "execution_count": 20,
   "id": "c3b7df3e",
   "metadata": {},
   "outputs": [
    {
     "data": {
      "text/plain": [
       "761.3"
      ]
     },
     "execution_count": 20,
     "metadata": {},
     "output_type": "execute_result"
    }
   ],
   "source": [
    "7613*1/10"
   ]
  },
  {
   "cell_type": "code",
   "execution_count": 21,
   "id": "dc62e33d",
   "metadata": {},
   "outputs": [
    {
     "data": {
      "text/plain": [
       "0    3907\n",
       "1    2944\n",
       "Name: count, dtype: int64"
      ]
     },
     "execution_count": 21,
     "metadata": {},
     "output_type": "execute_result"
    }
   ],
   "source": [
    "pd.Series(train_labels).value_counts()"
   ]
  },
  {
   "cell_type": "code",
   "execution_count": 22,
   "id": "7a822ec9",
   "metadata": {},
   "outputs": [
    {
     "data": {
      "text/plain": [
       "0    435\n",
       "1    327\n",
       "Name: count, dtype: int64"
      ]
     },
     "execution_count": 22,
     "metadata": {},
     "output_type": "execute_result"
    }
   ],
   "source": [
    "pd.Series(validation_labels).value_counts()"
   ]
  },
  {
   "cell_type": "code",
   "execution_count": 23,
   "id": "c1e3b3fa",
   "metadata": {},
   "outputs": [
    {
     "data": {
      "text/plain": [
       "(array(['I reject the laws of the misguided false prophets imprison nations fueling self annihilation',\n",
       "        '.POTUS #StrategicPatience is a strategy for #Genocide; refugees; IDP Internally displaced people; horror; etc. https://t.co/rqWuoy1fm4',\n",
       "        \"in BOTH 'peacetime and times of national emergency.'\",\n",
       "        'Burford. What a catastrophe! Traffic and big lorries. No action as usual from Council.',\n",
       "        '@_itsdanie_ noooo?? I almost drowned you once tho :))))',\n",
       "        'I think that none of us know the impact we have on the lives of those around us. Even the slightest stirring can create a violent storm.',\n",
       "        'DFR EP016 Monthly Meltdown - On Dnbheaven 2015.08.06 http://t.co/EjKRf8N8A8 #Drum and Bass #heavy #nasty http://t.co/SPHWE6wFI5',\n",
       "        'You must be annihilated!',\n",
       "        'Photo: Sketch I did based on the A Taste of Armageddon episode of #startrek #tos http://t.co/a2e6dcsk88',\n",
       "        'People are more worried about the burning of buildings than black people losing their lives disgusting.'],\n",
       "       dtype=object),\n",
       " array([0, 1, 1, 0, 0, 0, 0, 0, 0, 1]))"
      ]
     },
     "execution_count": 23,
     "metadata": {},
     "output_type": "execute_result"
    }
   ],
   "source": [
    "train_text[:10], train_labels[:10]"
   ]
  },
  {
   "cell_type": "code",
   "execution_count": 24,
   "id": "35b0d994",
   "metadata": {},
   "outputs": [
    {
     "data": {
      "text/plain": [
       "(array([\"'imagine an entire aisle dedicated to making people look like serbian refugees.' - director of whole foods clothing section\",\n",
       "        '@TexansDC @kylekrenek @Zepp1978 @Frobeus_NS Never thought I could have that much fun saving (and shooting) teddy bear hostages. lol',\n",
       "        'Tunisia beach massacre linked to March terror attack on museum http://t.co/kuRqLxFiHL',\n",
       "        '#MeditationByMSG 45600 ppl got method of meditation in U.P &amp;got deluge of divine blessing 4 happy n peaceful life. http://t.co/VMf5LnxVzC',\n",
       "        'Read ~ THE UNHEALED WOUNDS OF AN UNENDING CONFLICT #Kashmir #Pakistan #India http://t.co/sAF9MoSkSN #EndOccupation #EndConflict #FreeKashmir',\n",
       "        'World Class Tgirl Ass 02 - Scene 4 - Pandemonium http://t.co/iwCu3DgI1a',\n",
       "        '@SaintRobinho86 someone has to be at the bottom of every league. Tonight clearly demonstrated why the Lions are where they are - sunk!',\n",
       "        'Typhoon Soudelor taking dead aim at Taiwan http://t.co/sA5CDWVDXt',\n",
       "        '@LA_Siren Thanks for joining the foot. @VVorm',\n",
       "        \"@That_fat_guy there's literally a video of an elephant he had tied up in metal cables and electrocuted to death\"],\n",
       "       dtype=object),\n",
       " array([0, 0, 1, 0, 1, 0, 1, 1, 0, 0]))"
      ]
     },
     "execution_count": 24,
     "metadata": {},
     "output_type": "execute_result"
    }
   ],
   "source": [
    "validation_text[:10], validation_labels[:10]"
   ]
  },
  {
   "cell_type": "markdown",
   "id": "623e9347",
   "metadata": {},
   "source": [
    "## Converting text into numbers\n",
    "\n",
    "When dealing with a text problem, one of the first things you'll have to do before you can build a model is to convert your text to numbers.\n",
    "\n",
    "There are a few ways to do this, namely:\n",
    "\n",
    "- Tokenziation - direct mapping of token (a token could be a word or a character) to number\n",
    "- Embedding - create a matrix of feature vector for each token (the size of the feature vector can be defined and this embedding can be learned)"
   ]
  },
  {
   "cell_type": "markdown",
   "id": "903445bd",
   "metadata": {},
   "source": [
    "### Text Vectorization (Tokenization)\n"
   ]
  },
  {
   "cell_type": "code",
   "execution_count": 25,
   "id": "a7937e28",
   "metadata": {},
   "outputs": [
    {
     "data": {
      "text/plain": [
       "array(['I reject the laws of the misguided false prophets imprison nations fueling self annihilation',\n",
       "       '.POTUS #StrategicPatience is a strategy for #Genocide; refugees; IDP Internally displaced people; horror; etc. https://t.co/rqWuoy1fm4',\n",
       "       \"in BOTH 'peacetime and times of national emergency.'\",\n",
       "       'Burford. What a catastrophe! Traffic and big lorries. No action as usual from Council.',\n",
       "       '@_itsdanie_ noooo?? I almost drowned you once tho :))))'],\n",
       "      dtype=object)"
      ]
     },
     "execution_count": 25,
     "metadata": {},
     "output_type": "execute_result"
    }
   ],
   "source": [
    "train_text[:5]"
   ]
  },
  {
   "cell_type": "code",
   "execution_count": 26,
   "id": "f676939d",
   "metadata": {},
   "outputs": [],
   "source": [
    "import tensorflow as tf\n",
    "from tensorflow.keras.layers import TextVectorization"
   ]
  },
  {
   "cell_type": "code",
   "execution_count": 27,
   "id": "9c73ddb2",
   "metadata": {},
   "outputs": [
    {
     "name": "stderr",
     "output_type": "stream",
     "text": [
      "2024-09-04 09:08:02.632601: W tensorflow/core/common_runtime/gpu/gpu_device.cc:2343] Cannot dlopen some GPU libraries. Please make sure the missing libraries mentioned above are installed properly if you would like to use GPU. Follow the guide at https://www.tensorflow.org/install/gpu for how to download and setup the required libraries for your platform.\n",
      "Skipping registering GPU devices...\n"
     ]
    }
   ],
   "source": [
    "# Use the default TextVectorization parameters\n",
    "text_vectorizer= TextVectorization(max_tokens=None,\n",
    "                                  standardize= 'lower_and_strip_punctuation',\n",
    "                                  split='whitespace',\n",
    "                                  ngrams=None , # create groups of n-words?\n",
    "                                  output_mode='int', # how to map tokens to numbers\n",
    "                                  output_sequence_length=None, # length of sequences\n",
    "                                  pad_to_max_tokens=False # padding with zeros\n",
    "                                  )"
   ]
  },
  {
   "cell_type": "code",
   "execution_count": 28,
   "id": "d81a3312",
   "metadata": {},
   "outputs": [
    {
     "data": {
      "text/plain": [
       "['I',\n",
       " 'reject',\n",
       " 'the',\n",
       " 'laws',\n",
       " 'of',\n",
       " 'the',\n",
       " 'misguided',\n",
       " 'false',\n",
       " 'prophets',\n",
       " 'imprison',\n",
       " 'nations',\n",
       " 'fueling',\n",
       " 'self',\n",
       " 'annihilation']"
      ]
     },
     "execution_count": 28,
     "metadata": {},
     "output_type": "execute_result"
    }
   ],
   "source": [
    "# Find the average number of tokens (words) in the training tweets\n",
    "(train_text[0].split())"
   ]
  },
  {
   "cell_type": "code",
   "execution_count": 29,
   "id": "ed99f46e",
   "metadata": {},
   "outputs": [
    {
     "data": {
      "text/plain": [
       "14"
      ]
     },
     "execution_count": 29,
     "metadata": {},
     "output_type": "execute_result"
    }
   ],
   "source": [
    "len(train_text[0].split())"
   ]
  },
  {
   "cell_type": "code",
   "execution_count": 30,
   "id": "f7700781",
   "metadata": {},
   "outputs": [
    {
     "data": {
      "text/plain": [
       "102130"
      ]
     },
     "execution_count": 30,
     "metadata": {},
     "output_type": "execute_result"
    }
   ],
   "source": [
    "sum([len(i.split()) for i in train_text])"
   ]
  },
  {
   "cell_type": "code",
   "execution_count": 31,
   "id": "f6d4b6f0",
   "metadata": {},
   "outputs": [
    {
     "data": {
      "text/plain": [
       "15"
      ]
     },
     "execution_count": 31,
     "metadata": {},
     "output_type": "execute_result"
    }
   ],
   "source": [
    "round(sum([len(i.split()) for i in train_text])/len(train_text))"
   ]
  },
  {
   "cell_type": "code",
   "execution_count": 34,
   "id": "8f1f0bb8",
   "metadata": {},
   "outputs": [],
   "source": [
    "# Setup text vectorization variables\n",
    "max_vocab_length=10000 # max number of words to have in our vocabulary\n",
    "max_length= 15 # max length our sequences will be (e.g. how many words from a Tweet does a model see?)\n",
    "\n",
    "text_vectorizer= TextVectorization(max_tokens= max_vocab_length,\n",
    "                                  output_sequence_length=max_length,\n",
    "                                  output_mode='int'\n",
    "                                  )"
   ]
  },
  {
   "cell_type": "code",
   "execution_count": 35,
   "id": "ee52f76c",
   "metadata": {},
   "outputs": [],
   "source": [
    "# Fit the text vectorizer to the training text\n",
    "text_vectorizer.adapt(train_text)"
   ]
  },
  {
   "cell_type": "code",
   "execution_count": 36,
   "id": "e2138e55",
   "metadata": {},
   "outputs": [
    {
     "data": {
      "text/plain": [
       "<tf.Tensor: shape=(1, 15), dtype=int64, numpy=\n",
       "array([[305,   3, 216,   4,  13, 760,   0,   0,   0,   0,   0,   0,   0,\n",
       "          0,   0]])>"
      ]
     },
     "execution_count": 36,
     "metadata": {},
     "output_type": "execute_result"
    }
   ],
   "source": [
    "# Create a sample sentence and tokenize it\n",
    "sample_sentence= \"There's a flood in my street!\"\n",
    "text_vectorizer([sample_sentence])"
   ]
  },
  {
   "cell_type": "code",
   "execution_count": 37,
   "id": "819fbff9",
   "metadata": {},
   "outputs": [
    {
     "name": "stdout",
     "output_type": "stream",
     "text": [
      "Original text: @nxwestmidlands huge fire at Wholesale markets ablaze http://t.co/rwzbFVNXER     \n",
      "\n",
      "Vectorized: [[   1  946   43   17 2625 2054  575    1    0    0    0    0    0    0\n",
      "     0]]\n"
     ]
    }
   ],
   "source": [
    "random_sentence= random.choice(train_text)\n",
    "sample_sentence=text_vectorizer([random_sentence])\n",
    "\n",
    "print(f'Original text: {random_sentence}\\\n",
    "     \\n\\nVectorized: {sample_sentence}')"
   ]
  },
  {
   "cell_type": "code",
   "execution_count": 38,
   "id": "98cb822b",
   "metadata": {},
   "outputs": [
    {
     "data": {
      "text/plain": [
       "10000"
      ]
     },
     "execution_count": 38,
     "metadata": {},
     "output_type": "execute_result"
    }
   ],
   "source": [
    "# Get the unique words in the vocabulary\n",
    "len(text_vectorizer.get_vocabulary()) # get the number of unique word of adapted train_text"
   ]
  },
  {
   "cell_type": "code",
   "execution_count": 39,
   "id": "0fdb951c",
   "metadata": {},
   "outputs": [
    {
     "data": {
      "text/plain": [
       "['', '[UNK]', 'the', 'a', 'in', 'to', 'of', 'and', 'i', 'is']"
      ]
     },
     "execution_count": 39,
     "metadata": {},
     "output_type": "execute_result"
    }
   ],
   "source": [
    "# Top 10 most common words\n",
    "text_vectorizer.get_vocabulary()[:10] # UNK means unknown OOV words like @KushWush"
   ]
  },
  {
   "cell_type": "code",
   "execution_count": 40,
   "id": "f7d3af77",
   "metadata": {},
   "outputs": [
    {
     "data": {
      "text/plain": [
       "['paddytomlinson1',\n",
       " 'padded',\n",
       " 'pada',\n",
       " 'pact',\n",
       " 'pacquiao',\n",
       " 'packåÊfor',\n",
       " 'packing',\n",
       " 'packed',\n",
       " 'packages',\n",
       " 'package']"
      ]
     },
     "execution_count": 40,
     "metadata": {},
     "output_type": "execute_result"
    }
   ],
   "source": [
    "# Top 10 least common words\n",
    "text_vectorizer.get_vocabulary()[-10:]"
   ]
  },
  {
   "cell_type": "code",
   "execution_count": 41,
   "id": "5a73865b",
   "metadata": {},
   "outputs": [
    {
     "data": {
      "text/plain": [
       "array(['I reject the laws of the misguided false prophets imprison nations fueling self annihilation',\n",
       "       '.POTUS #StrategicPatience is a strategy for #Genocide; refugees; IDP Internally displaced people; horror; etc. https://t.co/rqWuoy1fm4',\n",
       "       \"in BOTH 'peacetime and times of national emergency.'\", ...,\n",
       "       \"#BREAKING: there was a deadly motorcycle car accident that happened to #Hagerstown today. I'll have more details at 5 @Your4State. #WHAG\",\n",
       "       \"Cramer: Iger's 3 words that wrecked Disney's stock http://t.co/3G79prAyYc #cnbc #topnews\",\n",
       "       \"BREAKING: Fairfax County firefighter placed on admin leave amid probe into Facebook post about putting police in 'body bags' dept. says.\"],\n",
       "      dtype=object)"
      ]
     },
     "execution_count": 41,
     "metadata": {},
     "output_type": "execute_result"
    }
   ],
   "source": [
    "train_text"
   ]
  },
  {
   "cell_type": "markdown",
   "id": "7f63d2d6",
   "metadata": {},
   "source": [
    "### Creating an Embedding using an Embedding Layer\n",
    "\n",
    "The main parameters we're concerned about here are:\n",
    "\n",
    "- `input_dim` - The size of the vocabulary (e.g. len(text_vectorizer.get_vocabulary()).\n",
    "- `output_dim` - The size of the output embedding vector, for example, a value of 100 outputs a feature vector of size 100 for each word.\n",
    "- `embeddings_initializer` - How to initialize the embeddings matrix, default is \"uniform\" which randomly initalizes embedding matrix with uniform distribution. This can be changed for using pre-learned embeddings.\n",
    "- `input_length` - Length of sequences being passed to embedding layer."
   ]
  },
  {
   "cell_type": "code",
   "execution_count": 42,
   "id": "5fcad2b5",
   "metadata": {},
   "outputs": [],
   "source": [
    "from tensorflow.keras.layers import Embedding"
   ]
  },
  {
   "cell_type": "code",
   "execution_count": 43,
   "id": "f6ae66a5",
   "metadata": {},
   "outputs": [
    {
     "data": {
      "text/plain": [
       "<Embedding name=embedding, built=False>"
      ]
     },
     "execution_count": 43,
     "metadata": {},
     "output_type": "execute_result"
    }
   ],
   "source": [
    "embedding= Embedding(input_dim=max_vocab_length, # input shape\n",
    "                    output_dim=128)\n",
    "\n",
    "embedding"
   ]
  },
  {
   "cell_type": "code",
   "execution_count": 44,
   "id": "a0c5268e",
   "metadata": {},
   "outputs": [
    {
     "name": "stdout",
     "output_type": "stream",
     "text": [
      "Original text: @Beyonce @NicoleKidman @Oprah these money grubbing kikes need to get a clueI have no money but I can still destroy with telekinesis. Watch.     \n",
      "\n",
      "Embedded version:\n"
     ]
    },
    {
     "data": {
      "text/plain": [
       "<tf.Tensor: shape=(1, 15, 128), dtype=float32, numpy=\n",
       "array([[[ 0.00916199, -0.01709632, -0.00275398, ...,  0.02622921,\n",
       "         -0.02009755, -0.00588588],\n",
       "        [ 0.00392144,  0.00227902, -0.04440103, ...,  0.01327305,\n",
       "         -0.00735395, -0.02185297],\n",
       "        [ 0.00392144,  0.00227902, -0.04440103, ...,  0.01327305,\n",
       "         -0.00735395, -0.02185297],\n",
       "        ...,\n",
       "        [ 0.02745375, -0.04608775,  0.03099072, ...,  0.01119226,\n",
       "          0.04150672,  0.01549451],\n",
       "        [-0.01606032,  0.0350627 ,  0.03981048, ..., -0.0487055 ,\n",
       "         -0.02004784, -0.0234781 ],\n",
       "        [-0.00894537, -0.00965849,  0.04180219, ..., -0.03002828,\n",
       "          0.04034113,  0.04106509]]], dtype=float32)>"
      ]
     },
     "execution_count": 44,
     "metadata": {},
     "output_type": "execute_result"
    }
   ],
   "source": [
    "random_sentence= random.choice(train_text)\n",
    "print(f'Original text: {random_sentence}\\\n",
    "     \\n\\nEmbedded version:')\n",
    "sample_embedded= embedding(text_vectorizer([random_sentence]))\n",
    "sample_embedded"
   ]
  },
  {
   "cell_type": "code",
   "execution_count": 46,
   "id": "0ffd4e9c",
   "metadata": {},
   "outputs": [
    {
     "data": {
      "text/plain": [
       "(<tf.Tensor: shape=(128,), dtype=float32, numpy=\n",
       " array([ 0.00916199, -0.01709632, -0.00275398, -0.03249993,  0.03995847,\n",
       "         0.04667213,  0.01574345, -0.01333674, -0.02370766,  0.04444048,\n",
       "         0.02933464, -0.0395723 ,  0.01343669,  0.02054569,  0.02955539,\n",
       "        -0.02141718, -0.0009114 , -0.01750863, -0.02490218, -0.04639156,\n",
       "         0.00238639, -0.02090951, -0.00657864,  0.00307859, -0.03478419,\n",
       "        -0.04175762, -0.03025606, -0.02182146, -0.03202535,  0.04011886,\n",
       "         0.00304384, -0.00693884, -0.03827232,  0.04464057, -0.03841256,\n",
       "        -0.03900301, -0.01753778,  0.0247939 ,  0.02621417,  0.00782905,\n",
       "        -0.04314969,  0.01410048,  0.0240628 ,  0.03353748,  0.00720219,\n",
       "        -0.03775312,  0.02617424, -0.00881231, -0.03196476,  0.02535014,\n",
       "         0.04217154,  0.00503231, -0.01072485, -0.03956891,  0.04177896,\n",
       "         0.03980594,  0.00298698, -0.02765002, -0.03064868, -0.00729383,\n",
       "         0.04423043,  0.0435351 , -0.00170604, -0.00267279,  0.01378999,\n",
       "         0.04073152, -0.00453702,  0.0315222 ,  0.03304554,  0.03572447,\n",
       "         0.00385081, -0.01080624,  0.00719017, -0.01103848,  0.01548005,\n",
       "         0.04573699, -0.04890646, -0.01714995, -0.00025962, -0.03734503,\n",
       "         0.00750489, -0.03835464, -0.04067994,  0.00466164,  0.03263107,\n",
       "        -0.0366639 ,  0.01287408, -0.04823127,  0.01234133, -0.01791286,\n",
       "         0.04760231, -0.00622568,  0.02475312,  0.02496381, -0.04833753,\n",
       "        -0.0361136 ,  0.04364523,  0.02742084,  0.04894335,  0.03526756,\n",
       "         0.03394009,  0.01107067, -0.04487816,  0.02749655, -0.01270216,\n",
       "         0.03415265,  0.02779415, -0.01768557, -0.02433934,  0.01870431,\n",
       "         0.02939922, -0.03299968, -0.00170577, -0.0202239 , -0.03798028,\n",
       "        -0.00488055,  0.01948375,  0.04934326,  0.03733091, -0.003964  ,\n",
       "        -0.02791522, -0.00990406, -0.048235  , -0.0191559 , -0.01098843,\n",
       "         0.02622921, -0.02009755, -0.00588588], dtype=float32)>,\n",
       " TensorShape([128]),\n",
       " '@Beyonce')"
      ]
     },
     "execution_count": 46,
     "metadata": {},
     "output_type": "execute_result"
    }
   ],
   "source": [
    "sample_embedded[0][0], sample_embedded[0][0].shape, random_sentence.split()[0]"
   ]
  },
  {
   "cell_type": "markdown",
   "id": "e04fa0a9",
   "metadata": {},
   "source": [
    "## Modelling a text dataset (running a series of experiments)\n",
    "\n",
    "- **Model 0**: Naive Bayes (baseline)\n",
    "- **Model 1**: Feed-forward neural network (dense model)\n",
    "- **Model 2**: LSTM model\n",
    "- **Model 3**: GRU model\n",
    "- **Model 4**: Bidirectional-LSTM model\n",
    "- **Model 5**: 1D Convolutional Neural Network\n",
    "- **Model 6**: TensorFlow Hub Pretrained Feature Extractor\n",
    "- **Model 7**: Same as model 6 with 10% of training data\n",
    "\n",
    "Each experiment will go through the following steps:\n",
    "\n",
    "* Construct a model\n",
    "* Build the model\n",
    "* Fit the model\n",
    "* Evaluate the model\n"
   ]
  },
  {
   "cell_type": "markdown",
   "id": "797b8dd4",
   "metadata": {},
   "source": [
    "### Model 0: Getting a baseline\n",
    "\n",
    "As with all machine learning modelling experiments, it's important to create a baseline model so you've got a benchmark for future experiments to build upon."
   ]
  },
  {
   "cell_type": "code",
   "execution_count": 47,
   "id": "3f3be2fc",
   "metadata": {},
   "outputs": [],
   "source": [
    "from sklearn.feature_extraction.text import TfidfVectorizer\n",
    "from sklearn.naive_bayes import MultinomialNB\n",
    "from sklearn.pipeline import Pipeline"
   ]
  },
  {
   "cell_type": "code",
   "execution_count": 48,
   "id": "1adc73ae",
   "metadata": {},
   "outputs": [
    {
     "data": {
      "text/html": [
       "<style>#sk-container-id-1 {\n",
       "  /* Definition of color scheme common for light and dark mode */\n",
       "  --sklearn-color-text: black;\n",
       "  --sklearn-color-line: gray;\n",
       "  /* Definition of color scheme for unfitted estimators */\n",
       "  --sklearn-color-unfitted-level-0: #fff5e6;\n",
       "  --sklearn-color-unfitted-level-1: #f6e4d2;\n",
       "  --sklearn-color-unfitted-level-2: #ffe0b3;\n",
       "  --sklearn-color-unfitted-level-3: chocolate;\n",
       "  /* Definition of color scheme for fitted estimators */\n",
       "  --sklearn-color-fitted-level-0: #f0f8ff;\n",
       "  --sklearn-color-fitted-level-1: #d4ebff;\n",
       "  --sklearn-color-fitted-level-2: #b3dbfd;\n",
       "  --sklearn-color-fitted-level-3: cornflowerblue;\n",
       "\n",
       "  /* Specific color for light theme */\n",
       "  --sklearn-color-text-on-default-background: var(--sg-text-color, var(--theme-code-foreground, var(--jp-content-font-color1, black)));\n",
       "  --sklearn-color-background: var(--sg-background-color, var(--theme-background, var(--jp-layout-color0, white)));\n",
       "  --sklearn-color-border-box: var(--sg-text-color, var(--theme-code-foreground, var(--jp-content-font-color1, black)));\n",
       "  --sklearn-color-icon: #696969;\n",
       "\n",
       "  @media (prefers-color-scheme: dark) {\n",
       "    /* Redefinition of color scheme for dark theme */\n",
       "    --sklearn-color-text-on-default-background: var(--sg-text-color, var(--theme-code-foreground, var(--jp-content-font-color1, white)));\n",
       "    --sklearn-color-background: var(--sg-background-color, var(--theme-background, var(--jp-layout-color0, #111)));\n",
       "    --sklearn-color-border-box: var(--sg-text-color, var(--theme-code-foreground, var(--jp-content-font-color1, white)));\n",
       "    --sklearn-color-icon: #878787;\n",
       "  }\n",
       "}\n",
       "\n",
       "#sk-container-id-1 {\n",
       "  color: var(--sklearn-color-text);\n",
       "}\n",
       "\n",
       "#sk-container-id-1 pre {\n",
       "  padding: 0;\n",
       "}\n",
       "\n",
       "#sk-container-id-1 input.sk-hidden--visually {\n",
       "  border: 0;\n",
       "  clip: rect(1px 1px 1px 1px);\n",
       "  clip: rect(1px, 1px, 1px, 1px);\n",
       "  height: 1px;\n",
       "  margin: -1px;\n",
       "  overflow: hidden;\n",
       "  padding: 0;\n",
       "  position: absolute;\n",
       "  width: 1px;\n",
       "}\n",
       "\n",
       "#sk-container-id-1 div.sk-dashed-wrapped {\n",
       "  border: 1px dashed var(--sklearn-color-line);\n",
       "  margin: 0 0.4em 0.5em 0.4em;\n",
       "  box-sizing: border-box;\n",
       "  padding-bottom: 0.4em;\n",
       "  background-color: var(--sklearn-color-background);\n",
       "}\n",
       "\n",
       "#sk-container-id-1 div.sk-container {\n",
       "  /* jupyter's `normalize.less` sets `[hidden] { display: none; }`\n",
       "     but bootstrap.min.css set `[hidden] { display: none !important; }`\n",
       "     so we also need the `!important` here to be able to override the\n",
       "     default hidden behavior on the sphinx rendered scikit-learn.org.\n",
       "     See: https://github.com/scikit-learn/scikit-learn/issues/21755 */\n",
       "  display: inline-block !important;\n",
       "  position: relative;\n",
       "}\n",
       "\n",
       "#sk-container-id-1 div.sk-text-repr-fallback {\n",
       "  display: none;\n",
       "}\n",
       "\n",
       "div.sk-parallel-item,\n",
       "div.sk-serial,\n",
       "div.sk-item {\n",
       "  /* draw centered vertical line to link estimators */\n",
       "  background-image: linear-gradient(var(--sklearn-color-text-on-default-background), var(--sklearn-color-text-on-default-background));\n",
       "  background-size: 2px 100%;\n",
       "  background-repeat: no-repeat;\n",
       "  background-position: center center;\n",
       "}\n",
       "\n",
       "/* Parallel-specific style estimator block */\n",
       "\n",
       "#sk-container-id-1 div.sk-parallel-item::after {\n",
       "  content: \"\";\n",
       "  width: 100%;\n",
       "  border-bottom: 2px solid var(--sklearn-color-text-on-default-background);\n",
       "  flex-grow: 1;\n",
       "}\n",
       "\n",
       "#sk-container-id-1 div.sk-parallel {\n",
       "  display: flex;\n",
       "  align-items: stretch;\n",
       "  justify-content: center;\n",
       "  background-color: var(--sklearn-color-background);\n",
       "  position: relative;\n",
       "}\n",
       "\n",
       "#sk-container-id-1 div.sk-parallel-item {\n",
       "  display: flex;\n",
       "  flex-direction: column;\n",
       "}\n",
       "\n",
       "#sk-container-id-1 div.sk-parallel-item:first-child::after {\n",
       "  align-self: flex-end;\n",
       "  width: 50%;\n",
       "}\n",
       "\n",
       "#sk-container-id-1 div.sk-parallel-item:last-child::after {\n",
       "  align-self: flex-start;\n",
       "  width: 50%;\n",
       "}\n",
       "\n",
       "#sk-container-id-1 div.sk-parallel-item:only-child::after {\n",
       "  width: 0;\n",
       "}\n",
       "\n",
       "/* Serial-specific style estimator block */\n",
       "\n",
       "#sk-container-id-1 div.sk-serial {\n",
       "  display: flex;\n",
       "  flex-direction: column;\n",
       "  align-items: center;\n",
       "  background-color: var(--sklearn-color-background);\n",
       "  padding-right: 1em;\n",
       "  padding-left: 1em;\n",
       "}\n",
       "\n",
       "\n",
       "/* Toggleable style: style used for estimator/Pipeline/ColumnTransformer box that is\n",
       "clickable and can be expanded/collapsed.\n",
       "- Pipeline and ColumnTransformer use this feature and define the default style\n",
       "- Estimators will overwrite some part of the style using the `sk-estimator` class\n",
       "*/\n",
       "\n",
       "/* Pipeline and ColumnTransformer style (default) */\n",
       "\n",
       "#sk-container-id-1 div.sk-toggleable {\n",
       "  /* Default theme specific background. It is overwritten whether we have a\n",
       "  specific estimator or a Pipeline/ColumnTransformer */\n",
       "  background-color: var(--sklearn-color-background);\n",
       "}\n",
       "\n",
       "/* Toggleable label */\n",
       "#sk-container-id-1 label.sk-toggleable__label {\n",
       "  cursor: pointer;\n",
       "  display: block;\n",
       "  width: 100%;\n",
       "  margin-bottom: 0;\n",
       "  padding: 0.5em;\n",
       "  box-sizing: border-box;\n",
       "  text-align: center;\n",
       "}\n",
       "\n",
       "#sk-container-id-1 label.sk-toggleable__label-arrow:before {\n",
       "  /* Arrow on the left of the label */\n",
       "  content: \"▸\";\n",
       "  float: left;\n",
       "  margin-right: 0.25em;\n",
       "  color: var(--sklearn-color-icon);\n",
       "}\n",
       "\n",
       "#sk-container-id-1 label.sk-toggleable__label-arrow:hover:before {\n",
       "  color: var(--sklearn-color-text);\n",
       "}\n",
       "\n",
       "/* Toggleable content - dropdown */\n",
       "\n",
       "#sk-container-id-1 div.sk-toggleable__content {\n",
       "  max-height: 0;\n",
       "  max-width: 0;\n",
       "  overflow: hidden;\n",
       "  text-align: left;\n",
       "  /* unfitted */\n",
       "  background-color: var(--sklearn-color-unfitted-level-0);\n",
       "}\n",
       "\n",
       "#sk-container-id-1 div.sk-toggleable__content.fitted {\n",
       "  /* fitted */\n",
       "  background-color: var(--sklearn-color-fitted-level-0);\n",
       "}\n",
       "\n",
       "#sk-container-id-1 div.sk-toggleable__content pre {\n",
       "  margin: 0.2em;\n",
       "  border-radius: 0.25em;\n",
       "  color: var(--sklearn-color-text);\n",
       "  /* unfitted */\n",
       "  background-color: var(--sklearn-color-unfitted-level-0);\n",
       "}\n",
       "\n",
       "#sk-container-id-1 div.sk-toggleable__content.fitted pre {\n",
       "  /* unfitted */\n",
       "  background-color: var(--sklearn-color-fitted-level-0);\n",
       "}\n",
       "\n",
       "#sk-container-id-1 input.sk-toggleable__control:checked~div.sk-toggleable__content {\n",
       "  /* Expand drop-down */\n",
       "  max-height: 200px;\n",
       "  max-width: 100%;\n",
       "  overflow: auto;\n",
       "}\n",
       "\n",
       "#sk-container-id-1 input.sk-toggleable__control:checked~label.sk-toggleable__label-arrow:before {\n",
       "  content: \"▾\";\n",
       "}\n",
       "\n",
       "/* Pipeline/ColumnTransformer-specific style */\n",
       "\n",
       "#sk-container-id-1 div.sk-label input.sk-toggleable__control:checked~label.sk-toggleable__label {\n",
       "  color: var(--sklearn-color-text);\n",
       "  background-color: var(--sklearn-color-unfitted-level-2);\n",
       "}\n",
       "\n",
       "#sk-container-id-1 div.sk-label.fitted input.sk-toggleable__control:checked~label.sk-toggleable__label {\n",
       "  background-color: var(--sklearn-color-fitted-level-2);\n",
       "}\n",
       "\n",
       "/* Estimator-specific style */\n",
       "\n",
       "/* Colorize estimator box */\n",
       "#sk-container-id-1 div.sk-estimator input.sk-toggleable__control:checked~label.sk-toggleable__label {\n",
       "  /* unfitted */\n",
       "  background-color: var(--sklearn-color-unfitted-level-2);\n",
       "}\n",
       "\n",
       "#sk-container-id-1 div.sk-estimator.fitted input.sk-toggleable__control:checked~label.sk-toggleable__label {\n",
       "  /* fitted */\n",
       "  background-color: var(--sklearn-color-fitted-level-2);\n",
       "}\n",
       "\n",
       "#sk-container-id-1 div.sk-label label.sk-toggleable__label,\n",
       "#sk-container-id-1 div.sk-label label {\n",
       "  /* The background is the default theme color */\n",
       "  color: var(--sklearn-color-text-on-default-background);\n",
       "}\n",
       "\n",
       "/* On hover, darken the color of the background */\n",
       "#sk-container-id-1 div.sk-label:hover label.sk-toggleable__label {\n",
       "  color: var(--sklearn-color-text);\n",
       "  background-color: var(--sklearn-color-unfitted-level-2);\n",
       "}\n",
       "\n",
       "/* Label box, darken color on hover, fitted */\n",
       "#sk-container-id-1 div.sk-label.fitted:hover label.sk-toggleable__label.fitted {\n",
       "  color: var(--sklearn-color-text);\n",
       "  background-color: var(--sklearn-color-fitted-level-2);\n",
       "}\n",
       "\n",
       "/* Estimator label */\n",
       "\n",
       "#sk-container-id-1 div.sk-label label {\n",
       "  font-family: monospace;\n",
       "  font-weight: bold;\n",
       "  display: inline-block;\n",
       "  line-height: 1.2em;\n",
       "}\n",
       "\n",
       "#sk-container-id-1 div.sk-label-container {\n",
       "  text-align: center;\n",
       "}\n",
       "\n",
       "/* Estimator-specific */\n",
       "#sk-container-id-1 div.sk-estimator {\n",
       "  font-family: monospace;\n",
       "  border: 1px dotted var(--sklearn-color-border-box);\n",
       "  border-radius: 0.25em;\n",
       "  box-sizing: border-box;\n",
       "  margin-bottom: 0.5em;\n",
       "  /* unfitted */\n",
       "  background-color: var(--sklearn-color-unfitted-level-0);\n",
       "}\n",
       "\n",
       "#sk-container-id-1 div.sk-estimator.fitted {\n",
       "  /* fitted */\n",
       "  background-color: var(--sklearn-color-fitted-level-0);\n",
       "}\n",
       "\n",
       "/* on hover */\n",
       "#sk-container-id-1 div.sk-estimator:hover {\n",
       "  /* unfitted */\n",
       "  background-color: var(--sklearn-color-unfitted-level-2);\n",
       "}\n",
       "\n",
       "#sk-container-id-1 div.sk-estimator.fitted:hover {\n",
       "  /* fitted */\n",
       "  background-color: var(--sklearn-color-fitted-level-2);\n",
       "}\n",
       "\n",
       "/* Specification for estimator info (e.g. \"i\" and \"?\") */\n",
       "\n",
       "/* Common style for \"i\" and \"?\" */\n",
       "\n",
       ".sk-estimator-doc-link,\n",
       "a:link.sk-estimator-doc-link,\n",
       "a:visited.sk-estimator-doc-link {\n",
       "  float: right;\n",
       "  font-size: smaller;\n",
       "  line-height: 1em;\n",
       "  font-family: monospace;\n",
       "  background-color: var(--sklearn-color-background);\n",
       "  border-radius: 1em;\n",
       "  height: 1em;\n",
       "  width: 1em;\n",
       "  text-decoration: none !important;\n",
       "  margin-left: 1ex;\n",
       "  /* unfitted */\n",
       "  border: var(--sklearn-color-unfitted-level-1) 1pt solid;\n",
       "  color: var(--sklearn-color-unfitted-level-1);\n",
       "}\n",
       "\n",
       ".sk-estimator-doc-link.fitted,\n",
       "a:link.sk-estimator-doc-link.fitted,\n",
       "a:visited.sk-estimator-doc-link.fitted {\n",
       "  /* fitted */\n",
       "  border: var(--sklearn-color-fitted-level-1) 1pt solid;\n",
       "  color: var(--sklearn-color-fitted-level-1);\n",
       "}\n",
       "\n",
       "/* On hover */\n",
       "div.sk-estimator:hover .sk-estimator-doc-link:hover,\n",
       ".sk-estimator-doc-link:hover,\n",
       "div.sk-label-container:hover .sk-estimator-doc-link:hover,\n",
       ".sk-estimator-doc-link:hover {\n",
       "  /* unfitted */\n",
       "  background-color: var(--sklearn-color-unfitted-level-3);\n",
       "  color: var(--sklearn-color-background);\n",
       "  text-decoration: none;\n",
       "}\n",
       "\n",
       "div.sk-estimator.fitted:hover .sk-estimator-doc-link.fitted:hover,\n",
       ".sk-estimator-doc-link.fitted:hover,\n",
       "div.sk-label-container:hover .sk-estimator-doc-link.fitted:hover,\n",
       ".sk-estimator-doc-link.fitted:hover {\n",
       "  /* fitted */\n",
       "  background-color: var(--sklearn-color-fitted-level-3);\n",
       "  color: var(--sklearn-color-background);\n",
       "  text-decoration: none;\n",
       "}\n",
       "\n",
       "/* Span, style for the box shown on hovering the info icon */\n",
       ".sk-estimator-doc-link span {\n",
       "  display: none;\n",
       "  z-index: 9999;\n",
       "  position: relative;\n",
       "  font-weight: normal;\n",
       "  right: .2ex;\n",
       "  padding: .5ex;\n",
       "  margin: .5ex;\n",
       "  width: min-content;\n",
       "  min-width: 20ex;\n",
       "  max-width: 50ex;\n",
       "  color: var(--sklearn-color-text);\n",
       "  box-shadow: 2pt 2pt 4pt #999;\n",
       "  /* unfitted */\n",
       "  background: var(--sklearn-color-unfitted-level-0);\n",
       "  border: .5pt solid var(--sklearn-color-unfitted-level-3);\n",
       "}\n",
       "\n",
       ".sk-estimator-doc-link.fitted span {\n",
       "  /* fitted */\n",
       "  background: var(--sklearn-color-fitted-level-0);\n",
       "  border: var(--sklearn-color-fitted-level-3);\n",
       "}\n",
       "\n",
       ".sk-estimator-doc-link:hover span {\n",
       "  display: block;\n",
       "}\n",
       "\n",
       "/* \"?\"-specific style due to the `<a>` HTML tag */\n",
       "\n",
       "#sk-container-id-1 a.estimator_doc_link {\n",
       "  float: right;\n",
       "  font-size: 1rem;\n",
       "  line-height: 1em;\n",
       "  font-family: monospace;\n",
       "  background-color: var(--sklearn-color-background);\n",
       "  border-radius: 1rem;\n",
       "  height: 1rem;\n",
       "  width: 1rem;\n",
       "  text-decoration: none;\n",
       "  /* unfitted */\n",
       "  color: var(--sklearn-color-unfitted-level-1);\n",
       "  border: var(--sklearn-color-unfitted-level-1) 1pt solid;\n",
       "}\n",
       "\n",
       "#sk-container-id-1 a.estimator_doc_link.fitted {\n",
       "  /* fitted */\n",
       "  border: var(--sklearn-color-fitted-level-1) 1pt solid;\n",
       "  color: var(--sklearn-color-fitted-level-1);\n",
       "}\n",
       "\n",
       "/* On hover */\n",
       "#sk-container-id-1 a.estimator_doc_link:hover {\n",
       "  /* unfitted */\n",
       "  background-color: var(--sklearn-color-unfitted-level-3);\n",
       "  color: var(--sklearn-color-background);\n",
       "  text-decoration: none;\n",
       "}\n",
       "\n",
       "#sk-container-id-1 a.estimator_doc_link.fitted:hover {\n",
       "  /* fitted */\n",
       "  background-color: var(--sklearn-color-fitted-level-3);\n",
       "}\n",
       "</style><div id=\"sk-container-id-1\" class=\"sk-top-container\"><div class=\"sk-text-repr-fallback\"><pre>Pipeline(steps=[(&#x27;tfidf&#x27;, TfidfVectorizer()), (&#x27;clf&#x27;, MultinomialNB())])</pre><b>In a Jupyter environment, please rerun this cell to show the HTML representation or trust the notebook. <br />On GitHub, the HTML representation is unable to render, please try loading this page with nbviewer.org.</b></div><div class=\"sk-container\" hidden><div class=\"sk-item sk-dashed-wrapped\"><div class=\"sk-label-container\"><div class=\"sk-label fitted sk-toggleable\"><input class=\"sk-toggleable__control sk-hidden--visually\" id=\"sk-estimator-id-1\" type=\"checkbox\" ><label for=\"sk-estimator-id-1\" class=\"sk-toggleable__label fitted sk-toggleable__label-arrow fitted\">&nbsp;&nbsp;Pipeline<a class=\"sk-estimator-doc-link fitted\" rel=\"noreferrer\" target=\"_blank\" href=\"https://scikit-learn.org/1.5/modules/generated/sklearn.pipeline.Pipeline.html\">?<span>Documentation for Pipeline</span></a><span class=\"sk-estimator-doc-link fitted\">i<span>Fitted</span></span></label><div class=\"sk-toggleable__content fitted\"><pre>Pipeline(steps=[(&#x27;tfidf&#x27;, TfidfVectorizer()), (&#x27;clf&#x27;, MultinomialNB())])</pre></div> </div></div><div class=\"sk-serial\"><div class=\"sk-item\"><div class=\"sk-estimator fitted sk-toggleable\"><input class=\"sk-toggleable__control sk-hidden--visually\" id=\"sk-estimator-id-2\" type=\"checkbox\" ><label for=\"sk-estimator-id-2\" class=\"sk-toggleable__label fitted sk-toggleable__label-arrow fitted\">&nbsp;TfidfVectorizer<a class=\"sk-estimator-doc-link fitted\" rel=\"noreferrer\" target=\"_blank\" href=\"https://scikit-learn.org/1.5/modules/generated/sklearn.feature_extraction.text.TfidfVectorizer.html\">?<span>Documentation for TfidfVectorizer</span></a></label><div class=\"sk-toggleable__content fitted\"><pre>TfidfVectorizer()</pre></div> </div></div><div class=\"sk-item\"><div class=\"sk-estimator fitted sk-toggleable\"><input class=\"sk-toggleable__control sk-hidden--visually\" id=\"sk-estimator-id-3\" type=\"checkbox\" ><label for=\"sk-estimator-id-3\" class=\"sk-toggleable__label fitted sk-toggleable__label-arrow fitted\">&nbsp;MultinomialNB<a class=\"sk-estimator-doc-link fitted\" rel=\"noreferrer\" target=\"_blank\" href=\"https://scikit-learn.org/1.5/modules/generated/sklearn.naive_bayes.MultinomialNB.html\">?<span>Documentation for MultinomialNB</span></a></label><div class=\"sk-toggleable__content fitted\"><pre>MultinomialNB()</pre></div> </div></div></div></div></div></div>"
      ],
      "text/plain": [
       "Pipeline(steps=[('tfidf', TfidfVectorizer()), ('clf', MultinomialNB())])"
      ]
     },
     "execution_count": 48,
     "metadata": {},
     "output_type": "execute_result"
    }
   ],
   "source": [
    "# Create tokenization and modeling pipeline\n",
    "model_0= Pipeline([\n",
    "        ('tfidf',TfidfVectorizer()), # convert words to numbers\n",
    "        ('clf', MultinomialNB()), # model the text\n",
    "])\n",
    "\n",
    "# Fit the pipeline to training data\n",
    "model_0.fit(train_text, train_labels)"
   ]
  },
  {
   "cell_type": "code",
   "execution_count": 49,
   "id": "d50f5216",
   "metadata": {},
   "outputs": [
    {
     "name": "stdout",
     "output_type": "stream",
     "text": [
      "Model 0 achieves an accuracy of:0.8018372703412073\n"
     ]
    }
   ],
   "source": [
    "# Evaluate our baseline model\n",
    "model_0_score= model_0.score(validation_text, validation_labels)\n",
    "print(f'Model 0 achieves an accuracy of:{model_0_score}')"
   ]
  },
  {
   "cell_type": "code",
   "execution_count": 50,
   "id": "ab5148d8",
   "metadata": {},
   "outputs": [
    {
     "data": {
      "text/plain": [
       "array([0, 0, 1, 0, 1, 0, 0, 1, 0, 0, 1, 0, 0, 1, 0, 0, 0, 0, 0, 0])"
      ]
     },
     "execution_count": 50,
     "metadata": {},
     "output_type": "execute_result"
    }
   ],
   "source": [
    "# Make predictions\n",
    "model_0_preds= model_0.predict(validation_text)\n",
    "model_0_preds[:20]"
   ]
  },
  {
   "cell_type": "code",
   "execution_count": 51,
   "id": "93528750",
   "metadata": {},
   "outputs": [
    {
     "data": {
      "text/plain": [
       "0.8018372703412073"
      ]
     },
     "execution_count": 51,
     "metadata": {},
     "output_type": "execute_result"
    }
   ],
   "source": [
    "from sklearn.metrics import accuracy_score\n",
    "accuracy_score(validation_labels,model_0_preds)"
   ]
  },
  {
   "cell_type": "markdown",
   "id": "5493fc3d",
   "metadata": {},
   "source": [
    "### Creating an evaluation function for our model experiments\n",
    "We could evaluate these as they are but since we're going to be evaluating several models in the same way going forward, let's create a helper function which takes an array of predictions and ground truth labels and computes the following:\n",
    "\n",
    "- Accuracy\n",
    "- Precision\n",
    "- Recall\n",
    "- F1-score"
   ]
  },
  {
   "cell_type": "code",
   "execution_count": 52,
   "id": "89d9e110",
   "metadata": {},
   "outputs": [],
   "source": [
    "from sklearn.metrics import accuracy_score, precision_recall_fscore_support\n",
    "\n",
    "def calculate_results(y_true, y_pred):\n",
    "    \"\"\"\n",
    "    \n",
    "    Calculates model accuracy, precision, recall and f1 score of a binary classification model.\n",
    "\n",
    "    Args:\n",
    "    -----\n",
    "    y_true = true labels in the form of a 1D array\n",
    "    y_pred = predicted labels in the form of a 1D array\n",
    "\n",
    "    Returns a dictionary of accuracy, precision, recall, f1-score.\n",
    "    \n",
    "    \"\"\"\n",
    "    accuracy= accuracy_score(y_true, y_pred)\n",
    "    precision, recall, f1, _= precision_recall_fscore_support(y_true, y_pred, average='weighted')\n",
    "    \n",
    "    results= {'accuracy':accuracy,\n",
    "             'precision':precision,\n",
    "             'recall':recall,\n",
    "             'f1':f1}\n",
    "    \n",
    "    return results"
   ]
  },
  {
   "cell_type": "code",
   "execution_count": 69,
   "id": "e34a5481",
   "metadata": {},
   "outputs": [
    {
     "data": {
      "text/plain": [
       "{'accuracy': 0.8018372703412073,\n",
       " 'precision': 0.8126421697287839,\n",
       " 'recall': 0.8018372703412073,\n",
       " 'f1': 0.7956417064028612}"
      ]
     },
     "execution_count": 69,
     "metadata": {},
     "output_type": "execute_result"
    }
   ],
   "source": [
    "# Get baseline results\n",
    "model_0_results_= calculate_results(y_true= validation_labels, y_pred= model_0_preds)\n",
    "model_0_results_"
   ]
  },
  {
   "cell_type": "markdown",
   "id": "6a8843f5",
   "metadata": {},
   "source": [
    "### Model 1: A simple dense model"
   ]
  },
  {
   "cell_type": "code",
   "execution_count": 54,
   "id": "51debcb3",
   "metadata": {},
   "outputs": [],
   "source": [
    "from helper_functions import create_tensorboard_callback"
   ]
  },
  {
   "cell_type": "code",
   "execution_count": 56,
   "id": "3b0dcb16",
   "metadata": {},
   "outputs": [],
   "source": [
    "# Build modek with the Functional API\n",
    "from tensorflow.keras import layers\n",
    "\n",
    "inputs= layers.Input(shape=(1,), dtype=tf.string) # inputs are 1-dimentional strings\n",
    "x= text_vectorizer(inputs) # turn the input text into numbers\n",
    "x= embedding(x) # turn the numbers into embedding\n",
    "x= layers.GlobalAveragePooling1D()(x) # condense the feature vector\n",
    "#x= layers.GlobalMaxPooling1D()(x)\n",
    "outputs= layers.Dense(1, activation='sigmoid')(x)\n",
    "model_1= tf.keras.Model(inputs, outputs, name=\"model_1_dense\") # construct the model"
   ]
  },
  {
   "cell_type": "code",
   "execution_count": 57,
   "id": "a819aa57",
   "metadata": {},
   "outputs": [
    {
     "data": {
      "text/html": [
       "<pre style=\"white-space:pre;overflow-x:auto;line-height:normal;font-family:Menlo,'DejaVu Sans Mono',consolas,'Courier New',monospace\"><span style=\"font-weight: bold\">Model: \"model_1_dense\"</span>\n",
       "</pre>\n"
      ],
      "text/plain": [
       "\u001b[1mModel: \"model_1_dense\"\u001b[0m\n"
      ]
     },
     "metadata": {},
     "output_type": "display_data"
    },
    {
     "data": {
      "text/html": [
       "<pre style=\"white-space:pre;overflow-x:auto;line-height:normal;font-family:Menlo,'DejaVu Sans Mono',consolas,'Courier New',monospace\">┏━━━━━━━━━━━━━━━━━━━━━━━━━━━━━━━━━┳━━━━━━━━━━━━━━━━━━━━━━━━┳━━━━━━━━━━━━━━━┓\n",
       "┃<span style=\"font-weight: bold\"> Layer (type)                    </span>┃<span style=\"font-weight: bold\"> Output Shape           </span>┃<span style=\"font-weight: bold\">       Param # </span>┃\n",
       "┡━━━━━━━━━━━━━━━━━━━━━━━━━━━━━━━━━╇━━━━━━━━━━━━━━━━━━━━━━━━╇━━━━━━━━━━━━━━━┩\n",
       "│ input_layer_1 (<span style=\"color: #0087ff; text-decoration-color: #0087ff\">InputLayer</span>)      │ (<span style=\"color: #00d7ff; text-decoration-color: #00d7ff\">None</span>, <span style=\"color: #00af00; text-decoration-color: #00af00\">1</span>)              │             <span style=\"color: #00af00; text-decoration-color: #00af00\">0</span> │\n",
       "├─────────────────────────────────┼────────────────────────┼───────────────┤\n",
       "│ text_vectorization_2            │ (<span style=\"color: #00d7ff; text-decoration-color: #00d7ff\">None</span>, <span style=\"color: #00af00; text-decoration-color: #00af00\">15</span>)             │             <span style=\"color: #00af00; text-decoration-color: #00af00\">0</span> │\n",
       "│ (<span style=\"color: #0087ff; text-decoration-color: #0087ff\">TextVectorization</span>)             │                        │               │\n",
       "├─────────────────────────────────┼────────────────────────┼───────────────┤\n",
       "│ embedding (<span style=\"color: #0087ff; text-decoration-color: #0087ff\">Embedding</span>)           │ (<span style=\"color: #00d7ff; text-decoration-color: #00d7ff\">None</span>, <span style=\"color: #00af00; text-decoration-color: #00af00\">15</span>, <span style=\"color: #00af00; text-decoration-color: #00af00\">128</span>)        │     <span style=\"color: #00af00; text-decoration-color: #00af00\">1,280,000</span> │\n",
       "├─────────────────────────────────┼────────────────────────┼───────────────┤\n",
       "│ global_average_pooling1d        │ (<span style=\"color: #00d7ff; text-decoration-color: #00d7ff\">None</span>, <span style=\"color: #00af00; text-decoration-color: #00af00\">128</span>)            │             <span style=\"color: #00af00; text-decoration-color: #00af00\">0</span> │\n",
       "│ (<span style=\"color: #0087ff; text-decoration-color: #0087ff\">GlobalAveragePooling1D</span>)        │                        │               │\n",
       "├─────────────────────────────────┼────────────────────────┼───────────────┤\n",
       "│ dense (<span style=\"color: #0087ff; text-decoration-color: #0087ff\">Dense</span>)                   │ (<span style=\"color: #00d7ff; text-decoration-color: #00d7ff\">None</span>, <span style=\"color: #00af00; text-decoration-color: #00af00\">1</span>)              │           <span style=\"color: #00af00; text-decoration-color: #00af00\">129</span> │\n",
       "└─────────────────────────────────┴────────────────────────┴───────────────┘\n",
       "</pre>\n"
      ],
      "text/plain": [
       "┏━━━━━━━━━━━━━━━━━━━━━━━━━━━━━━━━━┳━━━━━━━━━━━━━━━━━━━━━━━━┳━━━━━━━━━━━━━━━┓\n",
       "┃\u001b[1m \u001b[0m\u001b[1mLayer (type)                   \u001b[0m\u001b[1m \u001b[0m┃\u001b[1m \u001b[0m\u001b[1mOutput Shape          \u001b[0m\u001b[1m \u001b[0m┃\u001b[1m \u001b[0m\u001b[1m      Param #\u001b[0m\u001b[1m \u001b[0m┃\n",
       "┡━━━━━━━━━━━━━━━━━━━━━━━━━━━━━━━━━╇━━━━━━━━━━━━━━━━━━━━━━━━╇━━━━━━━━━━━━━━━┩\n",
       "│ input_layer_1 (\u001b[38;5;33mInputLayer\u001b[0m)      │ (\u001b[38;5;45mNone\u001b[0m, \u001b[38;5;34m1\u001b[0m)              │             \u001b[38;5;34m0\u001b[0m │\n",
       "├─────────────────────────────────┼────────────────────────┼───────────────┤\n",
       "│ text_vectorization_2            │ (\u001b[38;5;45mNone\u001b[0m, \u001b[38;5;34m15\u001b[0m)             │             \u001b[38;5;34m0\u001b[0m │\n",
       "│ (\u001b[38;5;33mTextVectorization\u001b[0m)             │                        │               │\n",
       "├─────────────────────────────────┼────────────────────────┼───────────────┤\n",
       "│ embedding (\u001b[38;5;33mEmbedding\u001b[0m)           │ (\u001b[38;5;45mNone\u001b[0m, \u001b[38;5;34m15\u001b[0m, \u001b[38;5;34m128\u001b[0m)        │     \u001b[38;5;34m1,280,000\u001b[0m │\n",
       "├─────────────────────────────────┼────────────────────────┼───────────────┤\n",
       "│ global_average_pooling1d        │ (\u001b[38;5;45mNone\u001b[0m, \u001b[38;5;34m128\u001b[0m)            │             \u001b[38;5;34m0\u001b[0m │\n",
       "│ (\u001b[38;5;33mGlobalAveragePooling1D\u001b[0m)        │                        │               │\n",
       "├─────────────────────────────────┼────────────────────────┼───────────────┤\n",
       "│ dense (\u001b[38;5;33mDense\u001b[0m)                   │ (\u001b[38;5;45mNone\u001b[0m, \u001b[38;5;34m1\u001b[0m)              │           \u001b[38;5;34m129\u001b[0m │\n",
       "└─────────────────────────────────┴────────────────────────┴───────────────┘\n"
      ]
     },
     "metadata": {},
     "output_type": "display_data"
    },
    {
     "data": {
      "text/html": [
       "<pre style=\"white-space:pre;overflow-x:auto;line-height:normal;font-family:Menlo,'DejaVu Sans Mono',consolas,'Courier New',monospace\"><span style=\"font-weight: bold\"> Total params: </span><span style=\"color: #00af00; text-decoration-color: #00af00\">1,280,129</span> (4.88 MB)\n",
       "</pre>\n"
      ],
      "text/plain": [
       "\u001b[1m Total params: \u001b[0m\u001b[38;5;34m1,280,129\u001b[0m (4.88 MB)\n"
      ]
     },
     "metadata": {},
     "output_type": "display_data"
    },
    {
     "data": {
      "text/html": [
       "<pre style=\"white-space:pre;overflow-x:auto;line-height:normal;font-family:Menlo,'DejaVu Sans Mono',consolas,'Courier New',monospace\"><span style=\"font-weight: bold\"> Trainable params: </span><span style=\"color: #00af00; text-decoration-color: #00af00\">1,280,129</span> (4.88 MB)\n",
       "</pre>\n"
      ],
      "text/plain": [
       "\u001b[1m Trainable params: \u001b[0m\u001b[38;5;34m1,280,129\u001b[0m (4.88 MB)\n"
      ]
     },
     "metadata": {},
     "output_type": "display_data"
    },
    {
     "data": {
      "text/html": [
       "<pre style=\"white-space:pre;overflow-x:auto;line-height:normal;font-family:Menlo,'DejaVu Sans Mono',consolas,'Courier New',monospace\"><span style=\"font-weight: bold\"> Non-trainable params: </span><span style=\"color: #00af00; text-decoration-color: #00af00\">0</span> (0.00 B)\n",
       "</pre>\n"
      ],
      "text/plain": [
       "\u001b[1m Non-trainable params: \u001b[0m\u001b[38;5;34m0\u001b[0m (0.00 B)\n"
      ]
     },
     "metadata": {},
     "output_type": "display_data"
    }
   ],
   "source": [
    "model_1.summary()"
   ]
  },
  {
   "cell_type": "code",
   "execution_count": 58,
   "id": "c43d4210",
   "metadata": {},
   "outputs": [],
   "source": [
    "# Compile the model\n",
    "model_1.compile(loss=tf.keras.losses.BinaryCrossentropy(),\n",
    "               optimizer=tf.keras.optimizers.Adam(),\n",
    "               metrics=['accuracy'])"
   ]
  },
  {
   "cell_type": "code",
   "execution_count": 59,
   "id": "be78f305",
   "metadata": {},
   "outputs": [
    {
     "name": "stdout",
     "output_type": "stream",
     "text": [
      "Saving TensorBoard log files to: TensorBoard_logs/model_1_dense/20240904-091535\n",
      "Epoch 1/5\n",
      "\u001b[1m215/215\u001b[0m \u001b[32m━━━━━━━━━━━━━━━━━━━━\u001b[0m\u001b[37m\u001b[0m \u001b[1m5s\u001b[0m 17ms/step - accuracy: 0.6435 - loss: 0.6474 - val_accuracy: 0.7638 - val_loss: 0.5337\n",
      "Epoch 2/5\n",
      "\u001b[1m215/215\u001b[0m \u001b[32m━━━━━━━━━━━━━━━━━━━━\u001b[0m\u001b[37m\u001b[0m \u001b[1m3s\u001b[0m 15ms/step - accuracy: 0.8209 - loss: 0.4656 - val_accuracy: 0.7887 - val_loss: 0.4704\n",
      "Epoch 3/5\n",
      "\u001b[1m215/215\u001b[0m \u001b[32m━━━━━━━━━━━━━━━━━━━━\u001b[0m\u001b[37m\u001b[0m \u001b[1m3s\u001b[0m 14ms/step - accuracy: 0.8629 - loss: 0.3586 - val_accuracy: 0.7979 - val_loss: 0.4538\n",
      "Epoch 4/5\n",
      "\u001b[1m215/215\u001b[0m \u001b[32m━━━━━━━━━━━━━━━━━━━━\u001b[0m\u001b[37m\u001b[0m \u001b[1m5s\u001b[0m 14ms/step - accuracy: 0.8873 - loss: 0.2946 - val_accuracy: 0.7940 - val_loss: 0.4431\n",
      "Epoch 5/5\n",
      "\u001b[1m215/215\u001b[0m \u001b[32m━━━━━━━━━━━━━━━━━━━━\u001b[0m\u001b[37m\u001b[0m \u001b[1m3s\u001b[0m 15ms/step - accuracy: 0.9141 - loss: 0.2405 - val_accuracy: 0.7953 - val_loss: 0.4572\n"
     ]
    }
   ],
   "source": [
    "# Fit the model\n",
    "model_1_history= model_1.fit(x= train_text,\n",
    "                            y= train_labels,\n",
    "                            epochs=5,\n",
    "                            validation_data=(validation_text, validation_labels),\n",
    "                            callbacks=[create_tensorboard_callback(dir_name='TensorBoard_logs',\n",
    "                                                                  experiment_name='model_1_dense')])"
   ]
  },
  {
   "cell_type": "code",
   "execution_count": 60,
   "id": "fbdfd1ee",
   "metadata": {},
   "outputs": [
    {
     "data": {
      "text/plain": [
       "214.09375"
      ]
     },
     "execution_count": 60,
     "metadata": {},
     "output_type": "execute_result"
    }
   ],
   "source": [
    "len(train_text)/32"
   ]
  },
  {
   "cell_type": "code",
   "execution_count": 61,
   "id": "f2bafcf2",
   "metadata": {},
   "outputs": [
    {
     "name": "stdout",
     "output_type": "stream",
     "text": [
      "\u001b[1m24/24\u001b[0m \u001b[32m━━━━━━━━━━━━━━━━━━━━\u001b[0m\u001b[37m\u001b[0m \u001b[1m0s\u001b[0m 2ms/step - accuracy: 0.8097 - loss: 0.4230 \n"
     ]
    }
   ],
   "source": [
    "# Check the results\n",
    "model_1_results= model_1.evaluate(validation_text, validation_labels)"
   ]
  },
  {
   "cell_type": "code",
   "execution_count": 62,
   "id": "213c0d59",
   "metadata": {},
   "outputs": [
    {
     "name": "stdout",
     "output_type": "stream",
     "text": [
      "\u001b[1m24/24\u001b[0m \u001b[32m━━━━━━━━━━━━━━━━━━━━\u001b[0m\u001b[37m\u001b[0m \u001b[1m0s\u001b[0m 6ms/step\n"
     ]
    },
    {
     "data": {
      "text/plain": [
       "array([[0.50216067],\n",
       "       [0.15177532],\n",
       "       [0.94383055],\n",
       "       [0.31585196],\n",
       "       [0.6807966 ],\n",
       "       [0.13753873],\n",
       "       [0.10607041],\n",
       "       [0.9782193 ],\n",
       "       [0.29569644],\n",
       "       [0.61101323]], dtype=float32)"
      ]
     },
     "execution_count": 62,
     "metadata": {},
     "output_type": "execute_result"
    }
   ],
   "source": [
    "# Make some predictions\n",
    "model_1_pred_probs= model_1.predict(validation_text)\n",
    "model_1_pred_probs[:10]"
   ]
  },
  {
   "cell_type": "code",
   "execution_count": 63,
   "id": "87ef87ef",
   "metadata": {},
   "outputs": [
    {
     "data": {
      "text/plain": [
       "(762, 1)"
      ]
     },
     "execution_count": 63,
     "metadata": {},
     "output_type": "execute_result"
    }
   ],
   "source": [
    "model_1_pred_probs.shape"
   ]
  },
  {
   "cell_type": "code",
   "execution_count": 64,
   "id": "e1d3fa55",
   "metadata": {},
   "outputs": [],
   "source": [
    "# Convert predictions probabilities into label format\n",
    "model_1_preds= tf.squeeze(tf.round(model_1_pred_probs))"
   ]
  },
  {
   "cell_type": "code",
   "execution_count": 65,
   "id": "3b98965c",
   "metadata": {},
   "outputs": [
    {
     "data": {
      "text/plain": [
       "TensorShape([762])"
      ]
     },
     "execution_count": 65,
     "metadata": {},
     "output_type": "execute_result"
    }
   ],
   "source": [
    "model_1_preds.shape"
   ]
  },
  {
   "cell_type": "code",
   "execution_count": 66,
   "id": "461cf378",
   "metadata": {},
   "outputs": [
    {
     "data": {
      "text/plain": [
       "<tf.Tensor: shape=(10,), dtype=float32, numpy=array([1., 0., 1., 0., 1., 0., 0., 1., 0., 1.], dtype=float32)>"
      ]
     },
     "execution_count": 66,
     "metadata": {},
     "output_type": "execute_result"
    }
   ],
   "source": [
    "model_1_preds[:10]"
   ]
  },
  {
   "cell_type": "code",
   "execution_count": 67,
   "id": "66231b7c",
   "metadata": {},
   "outputs": [
    {
     "data": {
      "text/plain": [
       "{'accuracy': 0.7952755905511811,\n",
       " 'precision': 0.7946426549882092,\n",
       " 'recall': 0.7952755905511811,\n",
       " 'f1': 0.7940079967113983}"
      ]
     },
     "execution_count": 67,
     "metadata": {},
     "output_type": "execute_result"
    }
   ],
   "source": [
    "# Calculate the model_1 metrics\n",
    "model_1_results_= calculate_results(validation_labels, model_1_preds)\n",
    "model_1_results_"
   ]
  },
  {
   "cell_type": "code",
   "execution_count": 70,
   "id": "955cce24",
   "metadata": {},
   "outputs": [
    {
     "data": {
      "text/plain": [
       "{'accuracy': 0.8018372703412073,\n",
       " 'precision': 0.8126421697287839,\n",
       " 'recall': 0.8018372703412073,\n",
       " 'f1': 0.7956417064028612}"
      ]
     },
     "execution_count": 70,
     "metadata": {},
     "output_type": "execute_result"
    }
   ],
   "source": [
    "model_0_results_"
   ]
  },
  {
   "cell_type": "code",
   "execution_count": 71,
   "id": "d0a97ee7",
   "metadata": {},
   "outputs": [
    {
     "data": {
      "text/plain": [
       "array([False, False, False, False])"
      ]
     },
     "execution_count": 71,
     "metadata": {},
     "output_type": "execute_result"
    }
   ],
   "source": [
    "import numpy as np\n",
    "np.array(list(model_1_results_.values())) > np.array(list(model_0_results.values()))"
   ]
  },
  {
   "cell_type": "markdown",
   "id": "43053796",
   "metadata": {},
   "source": [
    "## Visualizing learned embeddings"
   ]
  },
  {
   "cell_type": "code",
   "execution_count": 72,
   "id": "6f2cf956",
   "metadata": {},
   "outputs": [
    {
     "data": {
      "text/plain": [
       "(10000, ['', '[UNK]', 'the', 'a', 'in', 'to', 'of', 'and', 'i', 'is'])"
      ]
     },
     "execution_count": 72,
     "metadata": {},
     "output_type": "execute_result"
    }
   ],
   "source": [
    "# Get the vocabulary from the text vectorization layer\n",
    "words_in_vocab= text_vectorizer.get_vocabulary()\n",
    "len(words_in_vocab), words_in_vocab[:10]"
   ]
  },
  {
   "cell_type": "code",
   "execution_count": 75,
   "id": "c301ad97",
   "metadata": {},
   "outputs": [],
   "source": [
    "# Get the weight matrix of embedding layer\n",
    "# These are the numerical representations of each token in the training data, which have been learned for ~5 epochs\n",
    "\n",
    "embedding_weights= model_1.get_layer('embedding').get_weights()[0]"
   ]
  },
  {
   "cell_type": "code",
   "execution_count": 76,
   "id": "930cf921",
   "metadata": {},
   "outputs": [
    {
     "data": {
      "text/html": [
       "<pre style=\"white-space:pre;overflow-x:auto;line-height:normal;font-family:Menlo,'DejaVu Sans Mono',consolas,'Courier New',monospace\"><span style=\"font-weight: bold\">Model: \"model_1_dense\"</span>\n",
       "</pre>\n"
      ],
      "text/plain": [
       "\u001b[1mModel: \"model_1_dense\"\u001b[0m\n"
      ]
     },
     "metadata": {},
     "output_type": "display_data"
    },
    {
     "data": {
      "text/html": [
       "<pre style=\"white-space:pre;overflow-x:auto;line-height:normal;font-family:Menlo,'DejaVu Sans Mono',consolas,'Courier New',monospace\">┏━━━━━━━━━━━━━━━━━━━━━━━━━━━━━━━━━┳━━━━━━━━━━━━━━━━━━━━━━━━┳━━━━━━━━━━━━━━━┓\n",
       "┃<span style=\"font-weight: bold\"> Layer (type)                    </span>┃<span style=\"font-weight: bold\"> Output Shape           </span>┃<span style=\"font-weight: bold\">       Param # </span>┃\n",
       "┡━━━━━━━━━━━━━━━━━━━━━━━━━━━━━━━━━╇━━━━━━━━━━━━━━━━━━━━━━━━╇━━━━━━━━━━━━━━━┩\n",
       "│ input_layer_1 (<span style=\"color: #0087ff; text-decoration-color: #0087ff\">InputLayer</span>)      │ (<span style=\"color: #00d7ff; text-decoration-color: #00d7ff\">None</span>, <span style=\"color: #00af00; text-decoration-color: #00af00\">1</span>)              │             <span style=\"color: #00af00; text-decoration-color: #00af00\">0</span> │\n",
       "├─────────────────────────────────┼────────────────────────┼───────────────┤\n",
       "│ text_vectorization_2            │ (<span style=\"color: #00d7ff; text-decoration-color: #00d7ff\">None</span>, <span style=\"color: #00af00; text-decoration-color: #00af00\">15</span>)             │             <span style=\"color: #00af00; text-decoration-color: #00af00\">0</span> │\n",
       "│ (<span style=\"color: #0087ff; text-decoration-color: #0087ff\">TextVectorization</span>)             │                        │               │\n",
       "├─────────────────────────────────┼────────────────────────┼───────────────┤\n",
       "│ embedding (<span style=\"color: #0087ff; text-decoration-color: #0087ff\">Embedding</span>)           │ (<span style=\"color: #00d7ff; text-decoration-color: #00d7ff\">None</span>, <span style=\"color: #00af00; text-decoration-color: #00af00\">15</span>, <span style=\"color: #00af00; text-decoration-color: #00af00\">128</span>)        │     <span style=\"color: #00af00; text-decoration-color: #00af00\">1,280,000</span> │\n",
       "├─────────────────────────────────┼────────────────────────┼───────────────┤\n",
       "│ global_average_pooling1d        │ (<span style=\"color: #00d7ff; text-decoration-color: #00d7ff\">None</span>, <span style=\"color: #00af00; text-decoration-color: #00af00\">128</span>)            │             <span style=\"color: #00af00; text-decoration-color: #00af00\">0</span> │\n",
       "│ (<span style=\"color: #0087ff; text-decoration-color: #0087ff\">GlobalAveragePooling1D</span>)        │                        │               │\n",
       "├─────────────────────────────────┼────────────────────────┼───────────────┤\n",
       "│ dense (<span style=\"color: #0087ff; text-decoration-color: #0087ff\">Dense</span>)                   │ (<span style=\"color: #00d7ff; text-decoration-color: #00d7ff\">None</span>, <span style=\"color: #00af00; text-decoration-color: #00af00\">1</span>)              │           <span style=\"color: #00af00; text-decoration-color: #00af00\">129</span> │\n",
       "└─────────────────────────────────┴────────────────────────┴───────────────┘\n",
       "</pre>\n"
      ],
      "text/plain": [
       "┏━━━━━━━━━━━━━━━━━━━━━━━━━━━━━━━━━┳━━━━━━━━━━━━━━━━━━━━━━━━┳━━━━━━━━━━━━━━━┓\n",
       "┃\u001b[1m \u001b[0m\u001b[1mLayer (type)                   \u001b[0m\u001b[1m \u001b[0m┃\u001b[1m \u001b[0m\u001b[1mOutput Shape          \u001b[0m\u001b[1m \u001b[0m┃\u001b[1m \u001b[0m\u001b[1m      Param #\u001b[0m\u001b[1m \u001b[0m┃\n",
       "┡━━━━━━━━━━━━━━━━━━━━━━━━━━━━━━━━━╇━━━━━━━━━━━━━━━━━━━━━━━━╇━━━━━━━━━━━━━━━┩\n",
       "│ input_layer_1 (\u001b[38;5;33mInputLayer\u001b[0m)      │ (\u001b[38;5;45mNone\u001b[0m, \u001b[38;5;34m1\u001b[0m)              │             \u001b[38;5;34m0\u001b[0m │\n",
       "├─────────────────────────────────┼────────────────────────┼───────────────┤\n",
       "│ text_vectorization_2            │ (\u001b[38;5;45mNone\u001b[0m, \u001b[38;5;34m15\u001b[0m)             │             \u001b[38;5;34m0\u001b[0m │\n",
       "│ (\u001b[38;5;33mTextVectorization\u001b[0m)             │                        │               │\n",
       "├─────────────────────────────────┼────────────────────────┼───────────────┤\n",
       "│ embedding (\u001b[38;5;33mEmbedding\u001b[0m)           │ (\u001b[38;5;45mNone\u001b[0m, \u001b[38;5;34m15\u001b[0m, \u001b[38;5;34m128\u001b[0m)        │     \u001b[38;5;34m1,280,000\u001b[0m │\n",
       "├─────────────────────────────────┼────────────────────────┼───────────────┤\n",
       "│ global_average_pooling1d        │ (\u001b[38;5;45mNone\u001b[0m, \u001b[38;5;34m128\u001b[0m)            │             \u001b[38;5;34m0\u001b[0m │\n",
       "│ (\u001b[38;5;33mGlobalAveragePooling1D\u001b[0m)        │                        │               │\n",
       "├─────────────────────────────────┼────────────────────────┼───────────────┤\n",
       "│ dense (\u001b[38;5;33mDense\u001b[0m)                   │ (\u001b[38;5;45mNone\u001b[0m, \u001b[38;5;34m1\u001b[0m)              │           \u001b[38;5;34m129\u001b[0m │\n",
       "└─────────────────────────────────┴────────────────────────┴───────────────┘\n"
      ]
     },
     "metadata": {},
     "output_type": "display_data"
    },
    {
     "data": {
      "text/html": [
       "<pre style=\"white-space:pre;overflow-x:auto;line-height:normal;font-family:Menlo,'DejaVu Sans Mono',consolas,'Courier New',monospace\"><span style=\"font-weight: bold\"> Total params: </span><span style=\"color: #00af00; text-decoration-color: #00af00\">3,840,389</span> (14.65 MB)\n",
       "</pre>\n"
      ],
      "text/plain": [
       "\u001b[1m Total params: \u001b[0m\u001b[38;5;34m3,840,389\u001b[0m (14.65 MB)\n"
      ]
     },
     "metadata": {},
     "output_type": "display_data"
    },
    {
     "data": {
      "text/html": [
       "<pre style=\"white-space:pre;overflow-x:auto;line-height:normal;font-family:Menlo,'DejaVu Sans Mono',consolas,'Courier New',monospace\"><span style=\"font-weight: bold\"> Trainable params: </span><span style=\"color: #00af00; text-decoration-color: #00af00\">1,280,129</span> (4.88 MB)\n",
       "</pre>\n"
      ],
      "text/plain": [
       "\u001b[1m Trainable params: \u001b[0m\u001b[38;5;34m1,280,129\u001b[0m (4.88 MB)\n"
      ]
     },
     "metadata": {},
     "output_type": "display_data"
    },
    {
     "data": {
      "text/html": [
       "<pre style=\"white-space:pre;overflow-x:auto;line-height:normal;font-family:Menlo,'DejaVu Sans Mono',consolas,'Courier New',monospace\"><span style=\"font-weight: bold\"> Non-trainable params: </span><span style=\"color: #00af00; text-decoration-color: #00af00\">0</span> (0.00 B)\n",
       "</pre>\n"
      ],
      "text/plain": [
       "\u001b[1m Non-trainable params: \u001b[0m\u001b[38;5;34m0\u001b[0m (0.00 B)\n"
      ]
     },
     "metadata": {},
     "output_type": "display_data"
    },
    {
     "data": {
      "text/html": [
       "<pre style=\"white-space:pre;overflow-x:auto;line-height:normal;font-family:Menlo,'DejaVu Sans Mono',consolas,'Courier New',monospace\"><span style=\"font-weight: bold\"> Optimizer params: </span><span style=\"color: #00af00; text-decoration-color: #00af00\">2,560,260</span> (9.77 MB)\n",
       "</pre>\n"
      ],
      "text/plain": [
       "\u001b[1m Optimizer params: \u001b[0m\u001b[38;5;34m2,560,260\u001b[0m (9.77 MB)\n"
      ]
     },
     "metadata": {},
     "output_type": "display_data"
    }
   ],
   "source": [
    "model_1.summary()"
   ]
  },
  {
   "cell_type": "code",
   "execution_count": 77,
   "id": "912c67d8",
   "metadata": {},
   "outputs": [
    {
     "data": {
      "text/plain": [
       "[<KerasVariable shape=(10000, 128), dtype=float32, path=embedding/embeddings>,\n",
       " <KerasVariable shape=(128, 1), dtype=float32, path=dense/kernel>,\n",
       " <KerasVariable shape=(1,), dtype=float32, path=dense/bias>]"
      ]
     },
     "execution_count": 77,
     "metadata": {},
     "output_type": "execute_result"
    }
   ],
   "source": [
    "model_1.weights"
   ]
  },
  {
   "cell_type": "code",
   "execution_count": 78,
   "id": "7e1897f5",
   "metadata": {},
   "outputs": [
    {
     "data": {
      "text/plain": [
       "[<KerasVariable shape=(10000, 128), dtype=float32, path=embedding/embeddings>]"
      ]
     },
     "execution_count": 78,
     "metadata": {},
     "output_type": "execute_result"
    }
   ],
   "source": [
    "model_1.layers[2].weights"
   ]
  },
  {
   "cell_type": "code",
   "execution_count": 80,
   "id": "71815a17",
   "metadata": {},
   "outputs": [
    {
     "data": {
      "text/plain": [
       "[<KerasVariable shape=(10000, 128), dtype=float32, path=embedding/embeddings>]"
      ]
     },
     "execution_count": 80,
     "metadata": {},
     "output_type": "execute_result"
    }
   ],
   "source": [
    "model_1.get_layer('embedding').weights"
   ]
  },
  {
   "cell_type": "code",
   "execution_count": 81,
   "id": "dcc22b71",
   "metadata": {},
   "outputs": [
    {
     "data": {
      "text/plain": [
       "(10000, 128)"
      ]
     },
     "execution_count": 81,
     "metadata": {},
     "output_type": "execute_result"
    }
   ],
   "source": [
    "embedding_weights.shape"
   ]
  },
  {
   "cell_type": "code",
   "execution_count": 82,
   "id": "6b69f246",
   "metadata": {},
   "outputs": [
    {
     "data": {
      "text/plain": [
       "0.047885746"
      ]
     },
     "execution_count": 82,
     "metadata": {},
     "output_type": "execute_result"
    }
   ],
   "source": [
    "embedding_weights[0][0]"
   ]
  },
  {
   "cell_type": "code",
   "execution_count": 83,
   "id": "ac47a41b",
   "metadata": {},
   "outputs": [],
   "source": [
    "import io\n",
    "\n",
    "out_v = io.open('vectors.tsv', 'w', encoding='utf-8')\n",
    "out_m = io.open('metadata.tsv', 'w', encoding='utf-8')\n",
    "\n",
    "for index, word in enumerate(words_in_vocab):\n",
    "    if index == 0:\n",
    "        continue  # skip 0, it's padding.\n",
    "    vec = embedding_weights[index]\n",
    "    out_v.write('\\t'.join([str(x) for x in vec]) + \"\\n\")\n",
    "    out_m.write(word + \"\\n\")\n",
    "out_v.close()\n",
    "out_m.close()"
   ]
  },
  {
   "cell_type": "code",
   "execution_count": 84,
   "id": "21aa1d8c",
   "metadata": {},
   "outputs": [
    {
     "data": {
      "text/plain": [
       "(128,)"
      ]
     },
     "execution_count": 84,
     "metadata": {},
     "output_type": "execute_result"
    }
   ],
   "source": [
    "vec.shape"
   ]
  },
  {
   "cell_type": "code",
   "execution_count": 85,
   "id": "c25e9415",
   "metadata": {},
   "outputs": [
    {
     "data": {
      "text/plain": [
       "128"
      ]
     },
     "execution_count": 85,
     "metadata": {},
     "output_type": "execute_result"
    }
   ],
   "source": [
    "len([str(x) for x in vec])"
   ]
  },
  {
   "cell_type": "code",
   "execution_count": 86,
   "id": "e80a7eee",
   "metadata": {},
   "outputs": [
    {
     "data": {
      "text/plain": [
       "'0.07040447\\t0.048973095\\t-0.071903795\\t0.038673185\\t-0.100560255\\t-0.08524825\\t0.041327637\\t-0.018398512\\t-0.06709299\\t-0.07617951\\t-0.063572496\\t-0.013905979\\t0.07764429\\t-0.015811628\\t0.0513054\\t-0.10713541\\t0.08914578\\t-0.07988226\\t-0.078477696\\t-0.019105729\\t0.049943447\\t-0.07788867\\t-0.021010082\\t0.10428631\\t0.086613655\\t-0.023879344\\t-0.021523412\\t-0.07851389\\t0.021755824\\t-0.06158633\\t-0.019080091\\t-0.04166972\\t0.013520193\\t0.037919324\\t-0.015686776\\t0.022007266\\t-0.100690484\\t-0.0960631\\t-0.07548437\\t-0.08754341\\t-0.058350638\\t-0.08954109\\t-0.027851805\\t-0.08750382\\t0.022697426\\t-0.08285125\\t-0.08709254\\t-0.052818082\\t0.061832894\\t-0.07786203\\t0.03514416\\t-0.05050756\\t0.0891293\\t0.07891785\\t0.050627597\\t-0.10082665\\t0.036317226\\t0.05994022\\t-0.023828631\\t0.02940944\\t-0.050325014\\t0.028580612\\t0.039051626\\t0.08326669\\t0.030361714\\t-0.03187359\\t-0.056884784\\t0.035216063\\t0.10374331\\t-0.034520313\\t-0.08620771\\t-0.07997122\\t-0.078567766\\t-0.11086505\\t-0.05558961\\t0.019189117\\t0.09137882\\t-0.098446414\\t-0.079483084\\t-0.04051627\\t0.09430836\\t0.07695042\\t0.0680623\\t0.104961425\\t0.06039636\\t-0.016244283\\t0.104086615\\t-0.107464865\\t0.051769774\\t-0.058064267\\t0.031790424\\t0.03708626\\t0.054463368\\t0.05254843\\t0.018602408\\t0.018458918\\t0.02950734\\t-0.05140616\\t0.07366187\\t0.052084114\\t0.013067855\\t-0.0993584\\t-0.03402238\\t-0.10070263\\t-0.03408868\\t-0.095991015\\t-0.07084725\\t-0.06598625\\t-0.06366056\\t0.11257842\\t-0.06721727\\t-0.045571625\\t-0.019036965\\t-0.06734728\\t-0.11229062\\t0.0436647\\t-0.06726719\\t0.050320607\\t-0.053009033\\t0.05683434\\t0.08410177\\t0.09992955\\t0.082298376\\t-0.06181945\\t-0.104266174\\t0.08312773\\t-0.083775744\\t0.045485098\\n'"
      ]
     },
     "execution_count": 86,
     "metadata": {},
     "output_type": "execute_result"
    }
   ],
   "source": [
    "('\\t'.join([str(x) for x in vec]) + \"\\n\")"
   ]
  },
  {
   "cell_type": "code",
   "execution_count": 87,
   "id": "215e00ba",
   "metadata": {},
   "outputs": [
    {
     "data": {
      "text/plain": [
       "'baabaab'"
      ]
     },
     "execution_count": 87,
     "metadata": {},
     "output_type": "execute_result"
    }
   ],
   "source": [
    "'aa'.join('bbb')"
   ]
  },
  {
   "cell_type": "markdown",
   "id": "e4017313",
   "metadata": {},
   "source": [
    "We can visualizeembeddings in: [TensorFlow Projector](https://projector.tensorflow.org/)"
   ]
  },
  {
   "cell_type": "markdown",
   "id": "def893ae",
   "metadata": {},
   "source": [
    "## Recurrent Neural Networks (RNN's)\n",
    "\n",
    ">📖 **Resources**:\n",
    ">- [MIT Deep Learning Lecture on Recurrent Neural Networks](https://youtu.be/SEnXr6v2ifU) - explains the background of recurrent neural networks and introduces LSTMs.\n",
    ">- [The Unreasonable Effectiveness of Recurrent Neural Networks by Andrej Karpathy](http://karpathy.github.io/2015/05/21/rnn-effectiveness/) - demonstrates the power of RNN's with examples generating various sequences.\n",
    ">- [Understanding LSTMs by Chris Olah](https://colah.github.io/posts/2015-08-Understanding-LSTMs/) - an in-depth (and technical) look at the mechanics of the LSTM cell, possibly the most popular RNN building block."
   ]
  },
  {
   "cell_type": "markdown",
   "id": "5303f826",
   "metadata": {},
   "source": [
    "### Model2: LSTM\n",
    "LSTM = Long Short Term Memory (one of the most popular LSTM cells)\n",
    "\n",
    "`\n",
    "Input (text) -> Tokenize -> Embedding -> Layers (RNNs/Dense) -> Output (label probability)\n",
    "`"
   ]
  },
  {
   "cell_type": "code",
   "execution_count": 120,
   "id": "da95ff9d",
   "metadata": {},
   "outputs": [],
   "source": [
    "# Create an LSTM model\n",
    "import tensorflow.keras.layers\n",
    "\n",
    "embedding_model_2= Embedding(input_dim=max_vocab_length, # input shape\n",
    "                            output_dim=128)\n",
    "                    \n",
    "\n",
    "inputs= layers.Input(shape=(1,), dtype='string')\n",
    "x= text_vectorizer(inputs)\n",
    "x= embedding_model_2(x)\n",
    "# x = layers.LSTM(64, return_sequences=True)(x) # return vector for each word in the Tweet (you can stack RNN cells as long as return_sequences=True)\n",
    "x= layers.LSTM(64, return_sequences=False)(x)\n",
    "# x = layers.Dense(64, activation=\"relu\")(x) # optional dense layer on top of output of LSTM cell\n",
    "outputs= layers.Dense(1, activation='sigmoid')(x)\n",
    "model_2= tf.keras.Model(inputs, outputs, name='model_2_lstm')"
   ]
  },
  {
   "cell_type": "markdown",
   "id": "80b1214e",
   "metadata": {},
   "source": [
    ">🔑 **Note**: The reason we use a new embedding layer for each model is since the embedding layer is a learned representation of words (as numbers), if we were to use the same embedding layer (embedding_1) for each model, we'd be mixing what one model learned with the next. And because we want to compare our models later on, starting them with their own embedding layer each time is a better idea."
   ]
  },
  {
   "cell_type": "code",
   "execution_count": 121,
   "id": "58df6085",
   "metadata": {},
   "outputs": [
    {
     "data": {
      "text/html": [
       "<pre style=\"white-space:pre;overflow-x:auto;line-height:normal;font-family:Menlo,'DejaVu Sans Mono',consolas,'Courier New',monospace\"><span style=\"font-weight: bold\">Model: \"model_2_lstm\"</span>\n",
       "</pre>\n"
      ],
      "text/plain": [
       "\u001b[1mModel: \"model_2_lstm\"\u001b[0m\n"
      ]
     },
     "metadata": {},
     "output_type": "display_data"
    },
    {
     "data": {
      "text/html": [
       "<pre style=\"white-space:pre;overflow-x:auto;line-height:normal;font-family:Menlo,'DejaVu Sans Mono',consolas,'Courier New',monospace\">┏━━━━━━━━━━━━━━━━━━━━━━━━━━━━━━━━━┳━━━━━━━━━━━━━━━━━━━━━━━━┳━━━━━━━━━━━━━━━┓\n",
       "┃<span style=\"font-weight: bold\"> Layer (type)                    </span>┃<span style=\"font-weight: bold\"> Output Shape           </span>┃<span style=\"font-weight: bold\">       Param # </span>┃\n",
       "┡━━━━━━━━━━━━━━━━━━━━━━━━━━━━━━━━━╇━━━━━━━━━━━━━━━━━━━━━━━━╇━━━━━━━━━━━━━━━┩\n",
       "│ input_layer_6 (<span style=\"color: #0087ff; text-decoration-color: #0087ff\">InputLayer</span>)      │ (<span style=\"color: #00d7ff; text-decoration-color: #00d7ff\">None</span>, <span style=\"color: #00af00; text-decoration-color: #00af00\">1</span>)              │             <span style=\"color: #00af00; text-decoration-color: #00af00\">0</span> │\n",
       "├─────────────────────────────────┼────────────────────────┼───────────────┤\n",
       "│ text_vectorization_2            │ (<span style=\"color: #00d7ff; text-decoration-color: #00d7ff\">None</span>, <span style=\"color: #00af00; text-decoration-color: #00af00\">15</span>)             │             <span style=\"color: #00af00; text-decoration-color: #00af00\">0</span> │\n",
       "│ (<span style=\"color: #0087ff; text-decoration-color: #0087ff\">TextVectorization</span>)             │                        │               │\n",
       "├─────────────────────────────────┼────────────────────────┼───────────────┤\n",
       "│ embedding_1 (<span style=\"color: #0087ff; text-decoration-color: #0087ff\">Embedding</span>)         │ (<span style=\"color: #00d7ff; text-decoration-color: #00d7ff\">None</span>, <span style=\"color: #00af00; text-decoration-color: #00af00\">15</span>, <span style=\"color: #00af00; text-decoration-color: #00af00\">128</span>)        │     <span style=\"color: #00af00; text-decoration-color: #00af00\">1,280,000</span> │\n",
       "├─────────────────────────────────┼────────────────────────┼───────────────┤\n",
       "│ lstm_4 (<span style=\"color: #0087ff; text-decoration-color: #0087ff\">LSTM</span>)                   │ (<span style=\"color: #00d7ff; text-decoration-color: #00d7ff\">None</span>, <span style=\"color: #00af00; text-decoration-color: #00af00\">64</span>)             │        <span style=\"color: #00af00; text-decoration-color: #00af00\">49,408</span> │\n",
       "├─────────────────────────────────┼────────────────────────┼───────────────┤\n",
       "│ dense_5 (<span style=\"color: #0087ff; text-decoration-color: #0087ff\">Dense</span>)                 │ (<span style=\"color: #00d7ff; text-decoration-color: #00d7ff\">None</span>, <span style=\"color: #00af00; text-decoration-color: #00af00\">1</span>)              │            <span style=\"color: #00af00; text-decoration-color: #00af00\">65</span> │\n",
       "└─────────────────────────────────┴────────────────────────┴───────────────┘\n",
       "</pre>\n"
      ],
      "text/plain": [
       "┏━━━━━━━━━━━━━━━━━━━━━━━━━━━━━━━━━┳━━━━━━━━━━━━━━━━━━━━━━━━┳━━━━━━━━━━━━━━━┓\n",
       "┃\u001b[1m \u001b[0m\u001b[1mLayer (type)                   \u001b[0m\u001b[1m \u001b[0m┃\u001b[1m \u001b[0m\u001b[1mOutput Shape          \u001b[0m\u001b[1m \u001b[0m┃\u001b[1m \u001b[0m\u001b[1m      Param #\u001b[0m\u001b[1m \u001b[0m┃\n",
       "┡━━━━━━━━━━━━━━━━━━━━━━━━━━━━━━━━━╇━━━━━━━━━━━━━━━━━━━━━━━━╇━━━━━━━━━━━━━━━┩\n",
       "│ input_layer_6 (\u001b[38;5;33mInputLayer\u001b[0m)      │ (\u001b[38;5;45mNone\u001b[0m, \u001b[38;5;34m1\u001b[0m)              │             \u001b[38;5;34m0\u001b[0m │\n",
       "├─────────────────────────────────┼────────────────────────┼───────────────┤\n",
       "│ text_vectorization_2            │ (\u001b[38;5;45mNone\u001b[0m, \u001b[38;5;34m15\u001b[0m)             │             \u001b[38;5;34m0\u001b[0m │\n",
       "│ (\u001b[38;5;33mTextVectorization\u001b[0m)             │                        │               │\n",
       "├─────────────────────────────────┼────────────────────────┼───────────────┤\n",
       "│ embedding_1 (\u001b[38;5;33mEmbedding\u001b[0m)         │ (\u001b[38;5;45mNone\u001b[0m, \u001b[38;5;34m15\u001b[0m, \u001b[38;5;34m128\u001b[0m)        │     \u001b[38;5;34m1,280,000\u001b[0m │\n",
       "├─────────────────────────────────┼────────────────────────┼───────────────┤\n",
       "│ lstm_4 (\u001b[38;5;33mLSTM\u001b[0m)                   │ (\u001b[38;5;45mNone\u001b[0m, \u001b[38;5;34m64\u001b[0m)             │        \u001b[38;5;34m49,408\u001b[0m │\n",
       "├─────────────────────────────────┼────────────────────────┼───────────────┤\n",
       "│ dense_5 (\u001b[38;5;33mDense\u001b[0m)                 │ (\u001b[38;5;45mNone\u001b[0m, \u001b[38;5;34m1\u001b[0m)              │            \u001b[38;5;34m65\u001b[0m │\n",
       "└─────────────────────────────────┴────────────────────────┴───────────────┘\n"
      ]
     },
     "metadata": {},
     "output_type": "display_data"
    },
    {
     "data": {
      "text/html": [
       "<pre style=\"white-space:pre;overflow-x:auto;line-height:normal;font-family:Menlo,'DejaVu Sans Mono',consolas,'Courier New',monospace\"><span style=\"font-weight: bold\"> Total params: </span><span style=\"color: #00af00; text-decoration-color: #00af00\">1,329,473</span> (5.07 MB)\n",
       "</pre>\n"
      ],
      "text/plain": [
       "\u001b[1m Total params: \u001b[0m\u001b[38;5;34m1,329,473\u001b[0m (5.07 MB)\n"
      ]
     },
     "metadata": {},
     "output_type": "display_data"
    },
    {
     "data": {
      "text/html": [
       "<pre style=\"white-space:pre;overflow-x:auto;line-height:normal;font-family:Menlo,'DejaVu Sans Mono',consolas,'Courier New',monospace\"><span style=\"font-weight: bold\"> Trainable params: </span><span style=\"color: #00af00; text-decoration-color: #00af00\">1,329,473</span> (5.07 MB)\n",
       "</pre>\n"
      ],
      "text/plain": [
       "\u001b[1m Trainable params: \u001b[0m\u001b[38;5;34m1,329,473\u001b[0m (5.07 MB)\n"
      ]
     },
     "metadata": {},
     "output_type": "display_data"
    },
    {
     "data": {
      "text/html": [
       "<pre style=\"white-space:pre;overflow-x:auto;line-height:normal;font-family:Menlo,'DejaVu Sans Mono',consolas,'Courier New',monospace\"><span style=\"font-weight: bold\"> Non-trainable params: </span><span style=\"color: #00af00; text-decoration-color: #00af00\">0</span> (0.00 B)\n",
       "</pre>\n"
      ],
      "text/plain": [
       "\u001b[1m Non-trainable params: \u001b[0m\u001b[38;5;34m0\u001b[0m (0.00 B)\n"
      ]
     },
     "metadata": {},
     "output_type": "display_data"
    }
   ],
   "source": [
    "model_2.summary()"
   ]
  },
  {
   "cell_type": "code",
   "execution_count": 122,
   "id": "2a2efe43",
   "metadata": {},
   "outputs": [],
   "source": [
    "# Compile the model\n",
    "model_2.compile(loss=tf.keras.losses.BinaryCrossentropy(),\n",
    "               optimizer=tf.keras.optimizers.Adam(),\n",
    "               metrics=['accuracy'])"
   ]
  },
  {
   "cell_type": "code",
   "execution_count": 123,
   "id": "a38b5fae",
   "metadata": {},
   "outputs": [
    {
     "name": "stdout",
     "output_type": "stream",
     "text": [
      "Saving TensorBoard log files to: TensorBoard_logs/model_2_lstm/20240904-105906\n",
      "Epoch 1/5\n",
      "\u001b[1m215/215\u001b[0m \u001b[32m━━━━━━━━━━━━━━━━━━━━\u001b[0m\u001b[37m\u001b[0m \u001b[1m7s\u001b[0m 23ms/step - accuracy: 0.6757 - loss: 0.5854 - val_accuracy: 0.7966 - val_loss: 0.4405\n",
      "Epoch 2/5\n",
      "\u001b[1m215/215\u001b[0m \u001b[32m━━━━━━━━━━━━━━━━━━━━\u001b[0m\u001b[37m\u001b[0m \u001b[1m5s\u001b[0m 21ms/step - accuracy: 0.8800 - loss: 0.3066 - val_accuracy: 0.7756 - val_loss: 0.5111\n",
      "Epoch 3/5\n",
      "\u001b[1m215/215\u001b[0m \u001b[32m━━━━━━━━━━━━━━━━━━━━\u001b[0m\u001b[37m\u001b[0m \u001b[1m5s\u001b[0m 21ms/step - accuracy: 0.9237 - loss: 0.2133 - val_accuracy: 0.7664 - val_loss: 0.5250\n",
      "Epoch 4/5\n",
      "\u001b[1m215/215\u001b[0m \u001b[32m━━━━━━━━━━━━━━━━━━━━\u001b[0m\u001b[37m\u001b[0m \u001b[1m4s\u001b[0m 21ms/step - accuracy: 0.9452 - loss: 0.1552 - val_accuracy: 0.7572 - val_loss: 0.6821\n",
      "Epoch 5/5\n",
      "\u001b[1m215/215\u001b[0m \u001b[32m━━━━━━━━━━━━━━━━━━━━\u001b[0m\u001b[37m\u001b[0m \u001b[1m5s\u001b[0m 21ms/step - accuracy: 0.9656 - loss: 0.1036 - val_accuracy: 0.7598 - val_loss: 0.6605\n"
     ]
    }
   ],
   "source": [
    "# Fit the model\n",
    "model_2_history= model_2.fit(x=train_text,\n",
    "                            y=train_labels,\n",
    "                            epochs=5,\n",
    "                            validation_data=(validation_text, validation_labels),\n",
    "                            callbacks=[create_tensorboard_callback(dir_name='TensorBoard_logs',\n",
    "                                                                  experiment_name='model_2_lstm')])"
   ]
  },
  {
   "cell_type": "code",
   "execution_count": 128,
   "id": "3e60af98",
   "metadata": {},
   "outputs": [
    {
     "name": "stdout",
     "output_type": "stream",
     "text": [
      "\u001b[1m24/24\u001b[0m \u001b[32m━━━━━━━━━━━━━━━━━━━━\u001b[0m\u001b[37m\u001b[0m \u001b[1m0s\u001b[0m 4ms/step - accuracy: 0.7666 - loss: 0.6413\n"
     ]
    }
   ],
   "source": [
    "model_2_results= model_2.evaluate(validation_text, validation_labels)"
   ]
  },
  {
   "cell_type": "code",
   "execution_count": 129,
   "id": "b97bf07d",
   "metadata": {},
   "outputs": [
    {
     "name": "stdout",
     "output_type": "stream",
     "text": [
      "\u001b[1m24/24\u001b[0m \u001b[32m━━━━━━━━━━━━━━━━━━━━\u001b[0m\u001b[37m\u001b[0m \u001b[1m1s\u001b[0m 14ms/step\n"
     ]
    },
    {
     "data": {
      "text/plain": [
       "array([[0.27280793],\n",
       "       [0.02597044],\n",
       "       [0.99846274],\n",
       "       [0.05300075],\n",
       "       [0.05430886],\n",
       "       [0.01397035],\n",
       "       [0.02242682],\n",
       "       [0.99883074],\n",
       "       [0.3222111 ],\n",
       "       [0.26272172]], dtype=float32)"
      ]
     },
     "execution_count": 129,
     "metadata": {},
     "output_type": "execute_result"
    }
   ],
   "source": [
    "model_2_pred_probs= model_2.predict(validation_text)\n",
    "model_2_pred_probs[:10]"
   ]
  },
  {
   "cell_type": "code",
   "execution_count": 130,
   "id": "e8b5dcee",
   "metadata": {},
   "outputs": [
    {
     "data": {
      "text/plain": [
       "<tf.Tensor: shape=(10,), dtype=float32, numpy=array([0., 0., 1., 0., 0., 0., 0., 1., 0., 0.], dtype=float32)>"
      ]
     },
     "execution_count": 130,
     "metadata": {},
     "output_type": "execute_result"
    }
   ],
   "source": [
    "model_2_preds= tf.squeeze(tf.round(model_2_pred_probs))\n",
    "model_2_preds[:10]"
   ]
  },
  {
   "cell_type": "code",
   "execution_count": 131,
   "id": "4bb9cc97",
   "metadata": {},
   "outputs": [
    {
     "data": {
      "text/plain": [
       "{'accuracy': 0.7598425196850394,\n",
       " 'precision': 0.7587120011701324,\n",
       " 'recall': 0.7598425196850394,\n",
       " 'f1': 0.7586890034552086}"
      ]
     },
     "execution_count": 131,
     "metadata": {},
     "output_type": "execute_result"
    }
   ],
   "source": [
    "model_2_results_= calculate_results(validation_labels, model_2_preds)\n",
    "model_2_results_"
   ]
  },
  {
   "cell_type": "markdown",
   "id": "5ced95e9",
   "metadata": {},
   "source": [
    "### Model 3: GRU\n",
    "\n",
    "Another popular and effective RNN component is the GRU or gated recurrent unit.\n",
    "\n",
    "The GRU cell has similar features to an LSTM cell but has less parameters.\n",
    "\n",
    "The architecture of the GRU-powered model will follow the same structure we've been using:\n",
    "\n",
    "`Input (text) -> Tokenize -> Embedding -> Layers -> Output (label probability)`\n",
    "\n",
    "Again, the only difference will be the layer(s) we use between the embedding and the output.\n"
   ]
  },
  {
   "cell_type": "code",
   "execution_count": 195,
   "id": "45b60765",
   "metadata": {},
   "outputs": [],
   "source": [
    "# Build an RNN using the GRU cell\n",
    "from tensorflow.keras import layers\n",
    "\n",
    "embedding_model_3= layers.Embedding(input_dim= max_vocab_length,\n",
    "                                   output_dim= 128)\n",
    "\n",
    "inputs=layers.Input(shape=(1,), dtype='string')\n",
    "x= text_vectorizer(inputs)\n",
    "x= embedding_model_3(x)\n",
    "#x= layers.GRU(64, return_sequences=True)(x) # stacking recurrent cells requires return_sequences=True\n",
    "#x= layers.GRU(64, return_sequences=True)(x)\n",
    "x= layers.GRU(64, return_sequences=False)(x)\n",
    "#x= layers.Dense(64, activation='relu')(x)\n",
    "outputs= layers.Dense(1, activation='sigmoid')(x)\n",
    "model_3= tf.keras.Model(inputs, outputs, name='model_3_gru')"
   ]
  },
  {
   "cell_type": "code",
   "execution_count": 196,
   "id": "e5a49e92",
   "metadata": {},
   "outputs": [
    {
     "data": {
      "text/html": [
       "<pre style=\"white-space:pre;overflow-x:auto;line-height:normal;font-family:Menlo,'DejaVu Sans Mono',consolas,'Courier New',monospace\"><span style=\"font-weight: bold\">Model: \"model_3_gru\"</span>\n",
       "</pre>\n"
      ],
      "text/plain": [
       "\u001b[1mModel: \"model_3_gru\"\u001b[0m\n"
      ]
     },
     "metadata": {},
     "output_type": "display_data"
    },
    {
     "data": {
      "text/html": [
       "<pre style=\"white-space:pre;overflow-x:auto;line-height:normal;font-family:Menlo,'DejaVu Sans Mono',consolas,'Courier New',monospace\">┏━━━━━━━━━━━━━━━━━━━━━━━━━━━━━━━━━┳━━━━━━━━━━━━━━━━━━━━━━━━┳━━━━━━━━━━━━━━━┓\n",
       "┃<span style=\"font-weight: bold\"> Layer (type)                    </span>┃<span style=\"font-weight: bold\"> Output Shape           </span>┃<span style=\"font-weight: bold\">       Param # </span>┃\n",
       "┡━━━━━━━━━━━━━━━━━━━━━━━━━━━━━━━━━╇━━━━━━━━━━━━━━━━━━━━━━━━╇━━━━━━━━━━━━━━━┩\n",
       "│ input_layer_28 (<span style=\"color: #0087ff; text-decoration-color: #0087ff\">InputLayer</span>)     │ (<span style=\"color: #00d7ff; text-decoration-color: #00d7ff\">None</span>, <span style=\"color: #00af00; text-decoration-color: #00af00\">1</span>)              │             <span style=\"color: #00af00; text-decoration-color: #00af00\">0</span> │\n",
       "├─────────────────────────────────┼────────────────────────┼───────────────┤\n",
       "│ text_vectorization_2            │ (<span style=\"color: #00d7ff; text-decoration-color: #00d7ff\">None</span>, <span style=\"color: #00af00; text-decoration-color: #00af00\">15</span>)             │             <span style=\"color: #00af00; text-decoration-color: #00af00\">0</span> │\n",
       "│ (<span style=\"color: #0087ff; text-decoration-color: #0087ff\">TextVectorization</span>)             │                        │               │\n",
       "├─────────────────────────────────┼────────────────────────┼───────────────┤\n",
       "│ embedding_24 (<span style=\"color: #0087ff; text-decoration-color: #0087ff\">Embedding</span>)        │ (<span style=\"color: #00d7ff; text-decoration-color: #00d7ff\">None</span>, <span style=\"color: #00af00; text-decoration-color: #00af00\">15</span>, <span style=\"color: #00af00; text-decoration-color: #00af00\">128</span>)        │     <span style=\"color: #00af00; text-decoration-color: #00af00\">1,280,000</span> │\n",
       "├─────────────────────────────────┼────────────────────────┼───────────────┤\n",
       "│ gru_44 (<span style=\"color: #0087ff; text-decoration-color: #0087ff\">GRU</span>)                    │ (<span style=\"color: #00d7ff; text-decoration-color: #00d7ff\">None</span>, <span style=\"color: #00af00; text-decoration-color: #00af00\">64</span>)             │        <span style=\"color: #00af00; text-decoration-color: #00af00\">37,248</span> │\n",
       "├─────────────────────────────────┼────────────────────────┼───────────────┤\n",
       "│ dense_32 (<span style=\"color: #0087ff; text-decoration-color: #0087ff\">Dense</span>)                │ (<span style=\"color: #00d7ff; text-decoration-color: #00d7ff\">None</span>, <span style=\"color: #00af00; text-decoration-color: #00af00\">1</span>)              │            <span style=\"color: #00af00; text-decoration-color: #00af00\">65</span> │\n",
       "└─────────────────────────────────┴────────────────────────┴───────────────┘\n",
       "</pre>\n"
      ],
      "text/plain": [
       "┏━━━━━━━━━━━━━━━━━━━━━━━━━━━━━━━━━┳━━━━━━━━━━━━━━━━━━━━━━━━┳━━━━━━━━━━━━━━━┓\n",
       "┃\u001b[1m \u001b[0m\u001b[1mLayer (type)                   \u001b[0m\u001b[1m \u001b[0m┃\u001b[1m \u001b[0m\u001b[1mOutput Shape          \u001b[0m\u001b[1m \u001b[0m┃\u001b[1m \u001b[0m\u001b[1m      Param #\u001b[0m\u001b[1m \u001b[0m┃\n",
       "┡━━━━━━━━━━━━━━━━━━━━━━━━━━━━━━━━━╇━━━━━━━━━━━━━━━━━━━━━━━━╇━━━━━━━━━━━━━━━┩\n",
       "│ input_layer_28 (\u001b[38;5;33mInputLayer\u001b[0m)     │ (\u001b[38;5;45mNone\u001b[0m, \u001b[38;5;34m1\u001b[0m)              │             \u001b[38;5;34m0\u001b[0m │\n",
       "├─────────────────────────────────┼────────────────────────┼───────────────┤\n",
       "│ text_vectorization_2            │ (\u001b[38;5;45mNone\u001b[0m, \u001b[38;5;34m15\u001b[0m)             │             \u001b[38;5;34m0\u001b[0m │\n",
       "│ (\u001b[38;5;33mTextVectorization\u001b[0m)             │                        │               │\n",
       "├─────────────────────────────────┼────────────────────────┼───────────────┤\n",
       "│ embedding_24 (\u001b[38;5;33mEmbedding\u001b[0m)        │ (\u001b[38;5;45mNone\u001b[0m, \u001b[38;5;34m15\u001b[0m, \u001b[38;5;34m128\u001b[0m)        │     \u001b[38;5;34m1,280,000\u001b[0m │\n",
       "├─────────────────────────────────┼────────────────────────┼───────────────┤\n",
       "│ gru_44 (\u001b[38;5;33mGRU\u001b[0m)                    │ (\u001b[38;5;45mNone\u001b[0m, \u001b[38;5;34m64\u001b[0m)             │        \u001b[38;5;34m37,248\u001b[0m │\n",
       "├─────────────────────────────────┼────────────────────────┼───────────────┤\n",
       "│ dense_32 (\u001b[38;5;33mDense\u001b[0m)                │ (\u001b[38;5;45mNone\u001b[0m, \u001b[38;5;34m1\u001b[0m)              │            \u001b[38;5;34m65\u001b[0m │\n",
       "└─────────────────────────────────┴────────────────────────┴───────────────┘\n"
      ]
     },
     "metadata": {},
     "output_type": "display_data"
    },
    {
     "data": {
      "text/html": [
       "<pre style=\"white-space:pre;overflow-x:auto;line-height:normal;font-family:Menlo,'DejaVu Sans Mono',consolas,'Courier New',monospace\"><span style=\"font-weight: bold\"> Total params: </span><span style=\"color: #00af00; text-decoration-color: #00af00\">1,317,313</span> (5.03 MB)\n",
       "</pre>\n"
      ],
      "text/plain": [
       "\u001b[1m Total params: \u001b[0m\u001b[38;5;34m1,317,313\u001b[0m (5.03 MB)\n"
      ]
     },
     "metadata": {},
     "output_type": "display_data"
    },
    {
     "data": {
      "text/html": [
       "<pre style=\"white-space:pre;overflow-x:auto;line-height:normal;font-family:Menlo,'DejaVu Sans Mono',consolas,'Courier New',monospace\"><span style=\"font-weight: bold\"> Trainable params: </span><span style=\"color: #00af00; text-decoration-color: #00af00\">1,317,313</span> (5.03 MB)\n",
       "</pre>\n"
      ],
      "text/plain": [
       "\u001b[1m Trainable params: \u001b[0m\u001b[38;5;34m1,317,313\u001b[0m (5.03 MB)\n"
      ]
     },
     "metadata": {},
     "output_type": "display_data"
    },
    {
     "data": {
      "text/html": [
       "<pre style=\"white-space:pre;overflow-x:auto;line-height:normal;font-family:Menlo,'DejaVu Sans Mono',consolas,'Courier New',monospace\"><span style=\"font-weight: bold\"> Non-trainable params: </span><span style=\"color: #00af00; text-decoration-color: #00af00\">0</span> (0.00 B)\n",
       "</pre>\n"
      ],
      "text/plain": [
       "\u001b[1m Non-trainable params: \u001b[0m\u001b[38;5;34m0\u001b[0m (0.00 B)\n"
      ]
     },
     "metadata": {},
     "output_type": "display_data"
    }
   ],
   "source": [
    "model_3.summary()"
   ]
  },
  {
   "cell_type": "code",
   "execution_count": 197,
   "id": "37cbc7a6",
   "metadata": {},
   "outputs": [],
   "source": [
    "# Compile the model 3\n",
    "model_3.compile(loss=tf.keras.losses.BinaryCrossentropy(),\n",
    "                optimizer=tf.keras.optimizers.Adam(),\n",
    "                metrics=['accuracy'])"
   ]
  },
  {
   "cell_type": "code",
   "execution_count": 198,
   "id": "d1508da9",
   "metadata": {},
   "outputs": [
    {
     "name": "stdout",
     "output_type": "stream",
     "text": [
      "Saving TensorBoard log files to: TensorBoard_logs/model_3_gru/20240904-153251\n",
      "Epoch 1/5\n",
      "\u001b[1m215/215\u001b[0m \u001b[32m━━━━━━━━━━━━━━━━━━━━\u001b[0m\u001b[37m\u001b[0m \u001b[1m8s\u001b[0m 24ms/step - accuracy: 0.6497 - loss: 0.6042 - val_accuracy: 0.8071 - val_loss: 0.4487\n",
      "Epoch 2/5\n",
      "\u001b[1m215/215\u001b[0m \u001b[32m━━━━━━━━━━━━━━━━━━━━\u001b[0m\u001b[37m\u001b[0m \u001b[1m5s\u001b[0m 23ms/step - accuracy: 0.8647 - loss: 0.3227 - val_accuracy: 0.7808 - val_loss: 0.4717\n",
      "Epoch 3/5\n",
      "\u001b[1m215/215\u001b[0m \u001b[32m━━━━━━━━━━━━━━━━━━━━\u001b[0m\u001b[37m\u001b[0m \u001b[1m5s\u001b[0m 22ms/step - accuracy: 0.9230 - loss: 0.2067 - val_accuracy: 0.7664 - val_loss: 0.5088\n",
      "Epoch 4/5\n",
      "\u001b[1m215/215\u001b[0m \u001b[32m━━━━━━━━━━━━━━━━━━━━\u001b[0m\u001b[37m\u001b[0m \u001b[1m5s\u001b[0m 23ms/step - accuracy: 0.9559 - loss: 0.1385 - val_accuracy: 0.7520 - val_loss: 0.6779\n",
      "Epoch 5/5\n",
      "\u001b[1m215/215\u001b[0m \u001b[32m━━━━━━━━━━━━━━━━━━━━\u001b[0m\u001b[37m\u001b[0m \u001b[1m5s\u001b[0m 24ms/step - accuracy: 0.9606 - loss: 0.1196 - val_accuracy: 0.7493 - val_loss: 0.7150\n"
     ]
    }
   ],
   "source": [
    "# Fit the model 3\n",
    "model_3_history= model_3.fit(x=train_text,\n",
    "                            y=train_labels,\n",
    "                            epochs=5,\n",
    "                            validation_data=(validation_text, validation_labels),\n",
    "                            callbacks=[create_tensorboard_callback(dir_name='TensorBoard_logs',\n",
    "                                                                  experiment_name='model_3_gru')])"
   ]
  },
  {
   "cell_type": "code",
   "execution_count": 199,
   "id": "297e0208",
   "metadata": {},
   "outputs": [
    {
     "name": "stdout",
     "output_type": "stream",
     "text": [
      "\u001b[1m24/24\u001b[0m \u001b[32m━━━━━━━━━━━━━━━━━━━━\u001b[0m\u001b[37m\u001b[0m \u001b[1m0s\u001b[0m 6ms/step - accuracy: 0.7555 - loss: 0.6689\n"
     ]
    }
   ],
   "source": [
    "model_3_results= model_3.evaluate(validation_text, validation_labels)"
   ]
  },
  {
   "cell_type": "code",
   "execution_count": 200,
   "id": "6418d14e",
   "metadata": {},
   "outputs": [
    {
     "name": "stdout",
     "output_type": "stream",
     "text": [
      "\u001b[1m24/24\u001b[0m \u001b[32m━━━━━━━━━━━━━━━━━━━━\u001b[0m\u001b[37m\u001b[0m \u001b[1m1s\u001b[0m 15ms/step\n"
     ]
    },
    {
     "data": {
      "text/plain": [
       "array([[0.8786302 ],\n",
       "       [0.07249766],\n",
       "       [0.99704266],\n",
       "       [0.08179193],\n",
       "       [0.7337269 ],\n",
       "       [0.01819964],\n",
       "       [0.02147148],\n",
       "       [0.9983107 ],\n",
       "       [0.50955117],\n",
       "       [0.6152521 ]], dtype=float32)"
      ]
     },
     "execution_count": 200,
     "metadata": {},
     "output_type": "execute_result"
    }
   ],
   "source": [
    "model_3_pred_probs= model_3.predict(validation_text)\n",
    "model_3_pred_probs[:10]"
   ]
  },
  {
   "cell_type": "code",
   "execution_count": 201,
   "id": "c81f7b42",
   "metadata": {},
   "outputs": [
    {
     "data": {
      "text/plain": [
       "<tf.Tensor: shape=(10,), dtype=float32, numpy=array([1., 0., 1., 0., 1., 0., 0., 1., 1., 1.], dtype=float32)>"
      ]
     },
     "execution_count": 201,
     "metadata": {},
     "output_type": "execute_result"
    }
   ],
   "source": [
    "model_3_preds= tf.squeeze(tf.round(model_3_pred_probs))\n",
    "model_3_preds[:10]"
   ]
  },
  {
   "cell_type": "code",
   "execution_count": 202,
   "id": "9eb345c7",
   "metadata": {},
   "outputs": [
    {
     "data": {
      "text/plain": [
       "{'accuracy': 0.7493438320209974,\n",
       " 'precision': 0.7496444099790557,\n",
       " 'recall': 0.7493438320209974,\n",
       " 'f1': 0.7494824451868386}"
      ]
     },
     "execution_count": 202,
     "metadata": {},
     "output_type": "execute_result"
    }
   ],
   "source": [
    "model_3_results_= calculate_results(validation_labels, model_3_preds)\n",
    "model_3_results_\n"
   ]
  },
  {
   "cell_type": "markdown",
   "id": "9672f215",
   "metadata": {},
   "source": [
    "### Model 4: Bidirectional RNN\n",
    "\n",
    "A standard RNN will process a sequence from left to right, where as a bidirectional RNN will process the sequence from left to right and then again from right to left."
   ]
  },
  {
   "cell_type": "code",
   "execution_count": 204,
   "id": "1cd6f138",
   "metadata": {},
   "outputs": [],
   "source": [
    "# Create the model\n",
    "import tensorflow.keras.layers\n",
    "\n",
    "embedding_model_4= layers.Embedding(input_dim=max_vocab_length,\n",
    "                                   output_dim=128)\n",
    "\n",
    "inputs= layers.Input(shape=(1,), dtype='string')\n",
    "x= text_vectorizer(inputs)\n",
    "x= embedding_model_4(x)\n",
    "x= layers.Bidirectional(layer= layers.LSTM(64))(x)\n",
    "outputs= layers.Dense(1, activation='sigmoid')(x)\n",
    "model_4= tf.keras.Model(inputs, outputs, name='model_4_bidirectional')"
   ]
  },
  {
   "cell_type": "code",
   "execution_count": 205,
   "id": "337f1335",
   "metadata": {},
   "outputs": [
    {
     "data": {
      "text/html": [
       "<pre style=\"white-space:pre;overflow-x:auto;line-height:normal;font-family:Menlo,'DejaVu Sans Mono',consolas,'Courier New',monospace\"><span style=\"font-weight: bold\">Model: \"model_4_bidirectional\"</span>\n",
       "</pre>\n"
      ],
      "text/plain": [
       "\u001b[1mModel: \"model_4_bidirectional\"\u001b[0m\n"
      ]
     },
     "metadata": {},
     "output_type": "display_data"
    },
    {
     "data": {
      "text/html": [
       "<pre style=\"white-space:pre;overflow-x:auto;line-height:normal;font-family:Menlo,'DejaVu Sans Mono',consolas,'Courier New',monospace\">┏━━━━━━━━━━━━━━━━━━━━━━━━━━━━━━━━━┳━━━━━━━━━━━━━━━━━━━━━━━━┳━━━━━━━━━━━━━━━┓\n",
       "┃<span style=\"font-weight: bold\"> Layer (type)                    </span>┃<span style=\"font-weight: bold\"> Output Shape           </span>┃<span style=\"font-weight: bold\">       Param # </span>┃\n",
       "┡━━━━━━━━━━━━━━━━━━━━━━━━━━━━━━━━━╇━━━━━━━━━━━━━━━━━━━━━━━━╇━━━━━━━━━━━━━━━┩\n",
       "│ input_layer_30 (<span style=\"color: #0087ff; text-decoration-color: #0087ff\">InputLayer</span>)     │ (<span style=\"color: #00d7ff; text-decoration-color: #00d7ff\">None</span>, <span style=\"color: #00af00; text-decoration-color: #00af00\">1</span>)              │             <span style=\"color: #00af00; text-decoration-color: #00af00\">0</span> │\n",
       "├─────────────────────────────────┼────────────────────────┼───────────────┤\n",
       "│ text_vectorization_2            │ (<span style=\"color: #00d7ff; text-decoration-color: #00d7ff\">None</span>, <span style=\"color: #00af00; text-decoration-color: #00af00\">15</span>)             │             <span style=\"color: #00af00; text-decoration-color: #00af00\">0</span> │\n",
       "│ (<span style=\"color: #0087ff; text-decoration-color: #0087ff\">TextVectorization</span>)             │                        │               │\n",
       "├─────────────────────────────────┼────────────────────────┼───────────────┤\n",
       "│ embedding_26 (<span style=\"color: #0087ff; text-decoration-color: #0087ff\">Embedding</span>)        │ (<span style=\"color: #00d7ff; text-decoration-color: #00d7ff\">None</span>, <span style=\"color: #00af00; text-decoration-color: #00af00\">15</span>, <span style=\"color: #00af00; text-decoration-color: #00af00\">128</span>)        │     <span style=\"color: #00af00; text-decoration-color: #00af00\">1,280,000</span> │\n",
       "├─────────────────────────────────┼────────────────────────┼───────────────┤\n",
       "│ bidirectional_1 (<span style=\"color: #0087ff; text-decoration-color: #0087ff\">Bidirectional</span>) │ (<span style=\"color: #00d7ff; text-decoration-color: #00d7ff\">None</span>, <span style=\"color: #00af00; text-decoration-color: #00af00\">128</span>)            │        <span style=\"color: #00af00; text-decoration-color: #00af00\">98,816</span> │\n",
       "├─────────────────────────────────┼────────────────────────┼───────────────┤\n",
       "│ dense_34 (<span style=\"color: #0087ff; text-decoration-color: #0087ff\">Dense</span>)                │ (<span style=\"color: #00d7ff; text-decoration-color: #00d7ff\">None</span>, <span style=\"color: #00af00; text-decoration-color: #00af00\">1</span>)              │           <span style=\"color: #00af00; text-decoration-color: #00af00\">129</span> │\n",
       "└─────────────────────────────────┴────────────────────────┴───────────────┘\n",
       "</pre>\n"
      ],
      "text/plain": [
       "┏━━━━━━━━━━━━━━━━━━━━━━━━━━━━━━━━━┳━━━━━━━━━━━━━━━━━━━━━━━━┳━━━━━━━━━━━━━━━┓\n",
       "┃\u001b[1m \u001b[0m\u001b[1mLayer (type)                   \u001b[0m\u001b[1m \u001b[0m┃\u001b[1m \u001b[0m\u001b[1mOutput Shape          \u001b[0m\u001b[1m \u001b[0m┃\u001b[1m \u001b[0m\u001b[1m      Param #\u001b[0m\u001b[1m \u001b[0m┃\n",
       "┡━━━━━━━━━━━━━━━━━━━━━━━━━━━━━━━━━╇━━━━━━━━━━━━━━━━━━━━━━━━╇━━━━━━━━━━━━━━━┩\n",
       "│ input_layer_30 (\u001b[38;5;33mInputLayer\u001b[0m)     │ (\u001b[38;5;45mNone\u001b[0m, \u001b[38;5;34m1\u001b[0m)              │             \u001b[38;5;34m0\u001b[0m │\n",
       "├─────────────────────────────────┼────────────────────────┼───────────────┤\n",
       "│ text_vectorization_2            │ (\u001b[38;5;45mNone\u001b[0m, \u001b[38;5;34m15\u001b[0m)             │             \u001b[38;5;34m0\u001b[0m │\n",
       "│ (\u001b[38;5;33mTextVectorization\u001b[0m)             │                        │               │\n",
       "├─────────────────────────────────┼────────────────────────┼───────────────┤\n",
       "│ embedding_26 (\u001b[38;5;33mEmbedding\u001b[0m)        │ (\u001b[38;5;45mNone\u001b[0m, \u001b[38;5;34m15\u001b[0m, \u001b[38;5;34m128\u001b[0m)        │     \u001b[38;5;34m1,280,000\u001b[0m │\n",
       "├─────────────────────────────────┼────────────────────────┼───────────────┤\n",
       "│ bidirectional_1 (\u001b[38;5;33mBidirectional\u001b[0m) │ (\u001b[38;5;45mNone\u001b[0m, \u001b[38;5;34m128\u001b[0m)            │        \u001b[38;5;34m98,816\u001b[0m │\n",
       "├─────────────────────────────────┼────────────────────────┼───────────────┤\n",
       "│ dense_34 (\u001b[38;5;33mDense\u001b[0m)                │ (\u001b[38;5;45mNone\u001b[0m, \u001b[38;5;34m1\u001b[0m)              │           \u001b[38;5;34m129\u001b[0m │\n",
       "└─────────────────────────────────┴────────────────────────┴───────────────┘\n"
      ]
     },
     "metadata": {},
     "output_type": "display_data"
    },
    {
     "data": {
      "text/html": [
       "<pre style=\"white-space:pre;overflow-x:auto;line-height:normal;font-family:Menlo,'DejaVu Sans Mono',consolas,'Courier New',monospace\"><span style=\"font-weight: bold\"> Total params: </span><span style=\"color: #00af00; text-decoration-color: #00af00\">1,378,945</span> (5.26 MB)\n",
       "</pre>\n"
      ],
      "text/plain": [
       "\u001b[1m Total params: \u001b[0m\u001b[38;5;34m1,378,945\u001b[0m (5.26 MB)\n"
      ]
     },
     "metadata": {},
     "output_type": "display_data"
    },
    {
     "data": {
      "text/html": [
       "<pre style=\"white-space:pre;overflow-x:auto;line-height:normal;font-family:Menlo,'DejaVu Sans Mono',consolas,'Courier New',monospace\"><span style=\"font-weight: bold\"> Trainable params: </span><span style=\"color: #00af00; text-decoration-color: #00af00\">1,378,945</span> (5.26 MB)\n",
       "</pre>\n"
      ],
      "text/plain": [
       "\u001b[1m Trainable params: \u001b[0m\u001b[38;5;34m1,378,945\u001b[0m (5.26 MB)\n"
      ]
     },
     "metadata": {},
     "output_type": "display_data"
    },
    {
     "data": {
      "text/html": [
       "<pre style=\"white-space:pre;overflow-x:auto;line-height:normal;font-family:Menlo,'DejaVu Sans Mono',consolas,'Courier New',monospace\"><span style=\"font-weight: bold\"> Non-trainable params: </span><span style=\"color: #00af00; text-decoration-color: #00af00\">0</span> (0.00 B)\n",
       "</pre>\n"
      ],
      "text/plain": [
       "\u001b[1m Non-trainable params: \u001b[0m\u001b[38;5;34m0\u001b[0m (0.00 B)\n"
      ]
     },
     "metadata": {},
     "output_type": "display_data"
    }
   ],
   "source": [
    "model_4.summary()"
   ]
  },
  {
   "cell_type": "code",
   "execution_count": 206,
   "id": "bd6276aa",
   "metadata": {},
   "outputs": [],
   "source": [
    "# Compile the model\n",
    "model_4.compile(loss= tf.keras.losses.BinaryCrossentropy(),\n",
    "               optimizer=tf.keras.optimizers.Adam(),\n",
    "               metrics=['accuracy'])"
   ]
  },
  {
   "cell_type": "code",
   "execution_count": 207,
   "id": "502204ed",
   "metadata": {},
   "outputs": [
    {
     "name": "stdout",
     "output_type": "stream",
     "text": [
      "Saving TensorBoard log files to: TensorBoard_logs/model_4_bidirectional/20240904-160750\n",
      "Epoch 1/5\n",
      "\u001b[1m215/215\u001b[0m \u001b[32m━━━━━━━━━━━━━━━━━━━━\u001b[0m\u001b[37m\u001b[0m \u001b[1m10s\u001b[0m 31ms/step - accuracy: 0.6702 - loss: 0.5800 - val_accuracy: 0.7940 - val_loss: 0.4417\n",
      "Epoch 2/5\n",
      "\u001b[1m215/215\u001b[0m \u001b[32m━━━━━━━━━━━━━━━━━━━━\u001b[0m\u001b[37m\u001b[0m \u001b[1m9s\u001b[0m 27ms/step - accuracy: 0.8638 - loss: 0.3213 - val_accuracy: 0.7743 - val_loss: 0.4988\n",
      "Epoch 3/5\n",
      "\u001b[1m215/215\u001b[0m \u001b[32m━━━━━━━━━━━━━━━━━━━━\u001b[0m\u001b[37m\u001b[0m \u001b[1m6s\u001b[0m 27ms/step - accuracy: 0.9239 - loss: 0.2072 - val_accuracy: 0.7585 - val_loss: 0.5457\n",
      "Epoch 4/5\n",
      "\u001b[1m215/215\u001b[0m \u001b[32m━━━━━━━━━━━━━━━━━━━━\u001b[0m\u001b[37m\u001b[0m \u001b[1m6s\u001b[0m 29ms/step - accuracy: 0.9497 - loss: 0.1490 - val_accuracy: 0.7546 - val_loss: 0.6070\n",
      "Epoch 5/5\n",
      "\u001b[1m215/215\u001b[0m \u001b[32m━━━━━━━━━━━━━━━━━━━━\u001b[0m\u001b[37m\u001b[0m \u001b[1m6s\u001b[0m 28ms/step - accuracy: 0.9649 - loss: 0.1007 - val_accuracy: 0.7625 - val_loss: 0.6956\n"
     ]
    }
   ],
   "source": [
    "# Fit the model\n",
    "model_4_history= model_4.fit(train_text,\n",
    "                            train_labels,\n",
    "                            epochs=5,\n",
    "                            validation_data=(validation_text, validation_labels),\n",
    "                            callbacks=[create_tensorboard_callback(dir_name='TensorBoard_logs',\n",
    "                                                                  experiment_name='model_4_bidirectional')])"
   ]
  },
  {
   "cell_type": "code",
   "execution_count": 211,
   "id": "a532a78b",
   "metadata": {},
   "outputs": [
    {
     "name": "stdout",
     "output_type": "stream",
     "text": [
      "\u001b[1m24/24\u001b[0m \u001b[32m━━━━━━━━━━━━━━━━━━━━\u001b[0m\u001b[37m\u001b[0m \u001b[1m0s\u001b[0m 4ms/step - accuracy: 0.7636 - loss: 0.6727\n"
     ]
    },
    {
     "data": {
      "text/plain": [
       "[0.6956226229667664, 0.7624672055244446]"
      ]
     },
     "execution_count": 211,
     "metadata": {},
     "output_type": "execute_result"
    }
   ],
   "source": [
    "model_4_results= model_4.evaluate(validation_text, validation_labels)\n",
    "model_4_results"
   ]
  },
  {
   "cell_type": "code",
   "execution_count": 220,
   "id": "dbc6e9ec",
   "metadata": {},
   "outputs": [
    {
     "name": "stdout",
     "output_type": "stream",
     "text": [
      "\u001b[1m24/24\u001b[0m \u001b[32m━━━━━━━━━━━━━━━━━━━━\u001b[0m\u001b[37m\u001b[0m \u001b[1m0s\u001b[0m 5ms/step\n"
     ]
    },
    {
     "data": {
      "text/plain": [
       "array([[0.7825118 ],\n",
       "       [0.00637318],\n",
       "       [0.99883926],\n",
       "       [0.03025372],\n",
       "       [0.15447316],\n",
       "       [0.03803952],\n",
       "       [0.01418898],\n",
       "       [0.9990202 ],\n",
       "       [0.5198989 ],\n",
       "       [0.9391436 ]], dtype=float32)"
      ]
     },
     "execution_count": 220,
     "metadata": {},
     "output_type": "execute_result"
    }
   ],
   "source": [
    "model_4_pred_probs= model_4.predict(validation_text)\n",
    "model_4_pred_probs[:10]"
   ]
  },
  {
   "cell_type": "code",
   "execution_count": 224,
   "id": "953b879f",
   "metadata": {},
   "outputs": [
    {
     "data": {
      "text/plain": [
       "<tf.Tensor: shape=(10,), dtype=float32, numpy=array([1., 0., 1., 0., 0., 0., 0., 1., 1., 1.], dtype=float32)>"
      ]
     },
     "execution_count": 224,
     "metadata": {},
     "output_type": "execute_result"
    }
   ],
   "source": [
    "model_4_preds= tf.squeeze(tf.round(model_4_pred_probs))\n",
    "model_4_preds[:10]"
   ]
  },
  {
   "cell_type": "code",
   "execution_count": 226,
   "id": "cc6c5ff9",
   "metadata": {},
   "outputs": [
    {
     "data": {
      "text/plain": [
       "{'accuracy': 0.7624671916010499,\n",
       " 'precision': 0.7619233107385899,\n",
       " 'recall': 0.7624671916010499,\n",
       " 'f1': 0.7621302026902782}"
      ]
     },
     "execution_count": 226,
     "metadata": {},
     "output_type": "execute_result"
    }
   ],
   "source": [
    "model_4_results_= calculate_results(validation_labels, model_4_preds)\n",
    "model_4_results_"
   ]
  },
  {
   "cell_type": "markdown",
   "id": "44130c52",
   "metadata": {},
   "source": [
    "## Convolutional Neural Networks for Text\n",
    "\n",
    "A typical CNN architecture for sequences will look like the following:\n",
    "\n",
    "`Inputs (text) -> Tokenization -> Embedding -> Layers -> Outputs (class probabilities)`"
   ]
  },
  {
   "cell_type": "markdown",
   "id": "07d0fb10",
   "metadata": {},
   "source": [
    "### Model 5: Conv1D"
   ]
  },
  {
   "cell_type": "code",
   "execution_count": 254,
   "id": "0295e1d4",
   "metadata": {},
   "outputs": [],
   "source": [
    "# Test out the embedding, 1D convolutional and max pooling\n",
    "embedding_test= layers.Embedding(input_dim= max_vocab_length, output_dim= 128)\n",
    "\n",
    "tokenizing_test= text_vectorizer(['This is an embedding test'])\n",
    "embedding_test= embedding_test(tokenizing_test)  # turn target sentence into embedding\n",
    "conv_1d= layers.Conv1D(32, 5, activation='relu')(embedding_test) # convolve over target sequence 5 words at a time\n",
    "#conv_1d_output= conv_1d(embedding_test) # pass embedding through 1D convolutional layer\n",
    "max_pool= layers.GlobalMaxPool1D()(conv_1d)\n",
    "#max_pool_output= max_pool(conv_1d_output) # get the most important features"
   ]
  },
  {
   "cell_type": "code",
   "execution_count": 255,
   "id": "ee15d12f",
   "metadata": {},
   "outputs": [
    {
     "data": {
      "text/plain": [
       "(TensorShape([1, 15, 128]), TensorShape([1, 11, 32]), TensorShape([1, 32]))"
      ]
     },
     "execution_count": 255,
     "metadata": {},
     "output_type": "execute_result"
    }
   ],
   "source": [
    "embedding_test.shape, conv_1d.shape, max_pool.shape"
   ]
  },
  {
   "cell_type": "code",
   "execution_count": 256,
   "id": "31c4b393",
   "metadata": {},
   "outputs": [
    {
     "data": {
      "text/plain": [
       "<tf.Tensor: shape=(128,), dtype=float32, numpy=\n",
       "array([-0.02586454, -0.03081371, -0.03986103, -0.03649056,  0.0455738 ,\n",
       "        0.00714306, -0.03041916, -0.04155276, -0.03046498, -0.04579787,\n",
       "        0.00514495,  0.03669615, -0.00295369, -0.04537324,  0.0243125 ,\n",
       "       -0.01170089,  0.03360811,  0.02107764, -0.04439782, -0.03455216,\n",
       "        0.01710306, -0.01984509, -0.02374413, -0.03228672, -0.01434052,\n",
       "        0.03137076,  0.00638716, -0.00451561,  0.02153132,  0.02521849,\n",
       "        0.03282812,  0.03115559,  0.00262292, -0.00871221, -0.04040301,\n",
       "       -0.00414089,  0.00827485,  0.0137963 ,  0.02197925,  0.03030271,\n",
       "        0.03055234, -0.04109057,  0.01674113, -0.00104003, -0.01281568,\n",
       "       -0.01800216,  0.02006978,  0.03035185,  0.0215399 , -0.0047245 ,\n",
       "        0.02990694,  0.00417553,  0.01425102,  0.03828428, -0.02144543,\n",
       "        0.00870763,  0.03599692,  0.03633728,  0.03966172,  0.00216405,\n",
       "        0.03237047,  0.02536165,  0.04897136, -0.03462065,  0.00553615,\n",
       "        0.00952245,  0.0286116 ,  0.0478786 , -0.0210148 ,  0.0464145 ,\n",
       "       -0.04828137, -0.01036207,  0.00789229, -0.02770175, -0.0005842 ,\n",
       "        0.02442065, -0.04185506, -0.04825274, -0.0405768 ,  0.03875086,\n",
       "        0.03245354,  0.03492196, -0.03502108,  0.01516786,  0.00326643,\n",
       "       -0.04305047,  0.02936031, -0.02575393, -0.02531718, -0.01846188,\n",
       "        0.0277753 , -0.03444234,  0.03944707, -0.01405318, -0.04584067,\n",
       "        0.01978728, -0.01409291,  0.03622134, -0.00660975, -0.01852633,\n",
       "       -0.04488543, -0.01628987,  0.00111227,  0.02803028,  0.03856495,\n",
       "       -0.03281905, -0.04552134, -0.0382676 ,  0.02654096, -0.04546214,\n",
       "        0.02767462,  0.00453464,  0.00287997, -0.04370552, -0.02563765,\n",
       "        0.03201446, -0.02860124, -0.00741558,  0.02293492, -0.03714216,\n",
       "        0.02725806,  0.03174411, -0.02349118,  0.04311604, -0.02514385,\n",
       "       -0.01395655, -0.01696395, -0.00687168], dtype=float32)>"
      ]
     },
     "execution_count": 256,
     "metadata": {},
     "output_type": "execute_result"
    }
   ],
   "source": [
    "embedding_test[0][0]"
   ]
  },
  {
   "cell_type": "code",
   "execution_count": 257,
   "id": "5dac0a7c",
   "metadata": {},
   "outputs": [
    {
     "data": {
      "text/plain": [
       "<tf.Tensor: shape=(32,), dtype=float32, numpy=\n",
       "array([0.        , 0.        , 0.02292001, 0.01499614, 0.        ,\n",
       "       0.05666614, 0.        , 0.02965385, 0.        , 0.        ,\n",
       "       0.03834064, 0.0509617 , 0.0268499 , 0.        , 0.        ,\n",
       "       0.0438802 , 0.        , 0.02216474, 0.        , 0.00969512,\n",
       "       0.        , 0.07997873, 0.08008155, 0.        , 0.        ,\n",
       "       0.        , 0.022925  , 0.        , 0.        , 0.02236961,\n",
       "       0.        , 0.        ], dtype=float32)>"
      ]
     },
     "execution_count": 257,
     "metadata": {},
     "output_type": "execute_result"
    }
   ],
   "source": [
    "conv_1d[0][0]"
   ]
  },
  {
   "cell_type": "code",
   "execution_count": 258,
   "id": "f13e6dd9",
   "metadata": {},
   "outputs": [
    {
     "data": {
      "text/plain": [
       "<tf.Tensor: shape=(32,), dtype=float32, numpy=\n",
       "array([0.04855134, 0.01877292, 0.03219604, 0.01499614, 0.02890041,\n",
       "       0.08004729, 0.03986488, 0.02965385, 0.02141007, 0.04403553,\n",
       "       0.04482555, 0.0509617 , 0.061158  , 0.01346205, 0.03454747,\n",
       "       0.0671977 , 0.03378597, 0.02346367, 0.05115514, 0.05072634,\n",
       "       0.0237133 , 0.07997873, 0.08008155, 0.        , 0.02274384,\n",
       "       0.05637973, 0.07601454, 0.03924986, 0.01031367, 0.02236961,\n",
       "       0.02110671, 0.0176202 ], dtype=float32)>"
      ]
     },
     "execution_count": 258,
     "metadata": {},
     "output_type": "execute_result"
    }
   ],
   "source": [
    "max_pool[0]"
   ]
  },
  {
   "cell_type": "code",
   "execution_count": 273,
   "id": "a39d91a2",
   "metadata": {},
   "outputs": [],
   "source": [
    "embedding_model_5= layers.Embedding(input_dim= max_vocab_length, output_dim=128)\n",
    "\n",
    "inputs=layers.Input(shape=(1,), dtype='string')\n",
    "x= text_vectorizer(inputs)\n",
    "x= embedding_model_5(x)\n",
    "x= layers.Conv1D(64, 5, activation='relu')(x)\n",
    "x= layers.GlobalMaxPool1D()(x)\n",
    "outputs= layers.Dense(1, activation='sigmoid')(x)\n",
    "model_5= tf.keras.Model(inputs, outputs, name='model_5_Conv1D')"
   ]
  },
  {
   "cell_type": "code",
   "execution_count": 277,
   "id": "cef6ee1c",
   "metadata": {},
   "outputs": [
    {
     "data": {
      "text/html": [
       "<pre style=\"white-space:pre;overflow-x:auto;line-height:normal;font-family:Menlo,'DejaVu Sans Mono',consolas,'Courier New',monospace\"><span style=\"font-weight: bold\">Model: \"model_5_Conv1D\"</span>\n",
       "</pre>\n"
      ],
      "text/plain": [
       "\u001b[1mModel: \"model_5_Conv1D\"\u001b[0m\n"
      ]
     },
     "metadata": {},
     "output_type": "display_data"
    },
    {
     "data": {
      "text/html": [
       "<pre style=\"white-space:pre;overflow-x:auto;line-height:normal;font-family:Menlo,'DejaVu Sans Mono',consolas,'Courier New',monospace\">┏━━━━━━━━━━━━━━━━━━━━━━━━━━━━━━━━━┳━━━━━━━━━━━━━━━━━━━━━━━━┳━━━━━━━━━━━━━━━┓\n",
       "┃<span style=\"font-weight: bold\"> Layer (type)                    </span>┃<span style=\"font-weight: bold\"> Output Shape           </span>┃<span style=\"font-weight: bold\">       Param # </span>┃\n",
       "┡━━━━━━━━━━━━━━━━━━━━━━━━━━━━━━━━━╇━━━━━━━━━━━━━━━━━━━━━━━━╇━━━━━━━━━━━━━━━┩\n",
       "│ input_layer_35 (<span style=\"color: #0087ff; text-decoration-color: #0087ff\">InputLayer</span>)     │ (<span style=\"color: #00d7ff; text-decoration-color: #00d7ff\">None</span>, <span style=\"color: #00af00; text-decoration-color: #00af00\">1</span>)              │             <span style=\"color: #00af00; text-decoration-color: #00af00\">0</span> │\n",
       "├─────────────────────────────────┼────────────────────────┼───────────────┤\n",
       "│ text_vectorization_2            │ (<span style=\"color: #00d7ff; text-decoration-color: #00d7ff\">None</span>, <span style=\"color: #00af00; text-decoration-color: #00af00\">15</span>)             │             <span style=\"color: #00af00; text-decoration-color: #00af00\">0</span> │\n",
       "│ (<span style=\"color: #0087ff; text-decoration-color: #0087ff\">TextVectorization</span>)             │                        │               │\n",
       "├─────────────────────────────────┼────────────────────────┼───────────────┤\n",
       "│ embedding_43 (<span style=\"color: #0087ff; text-decoration-color: #0087ff\">Embedding</span>)        │ (<span style=\"color: #00d7ff; text-decoration-color: #00d7ff\">None</span>, <span style=\"color: #00af00; text-decoration-color: #00af00\">15</span>, <span style=\"color: #00af00; text-decoration-color: #00af00\">128</span>)        │     <span style=\"color: #00af00; text-decoration-color: #00af00\">1,280,000</span> │\n",
       "├─────────────────────────────────┼────────────────────────┼───────────────┤\n",
       "│ conv1d_14 (<span style=\"color: #0087ff; text-decoration-color: #0087ff\">Conv1D</span>)              │ (<span style=\"color: #00d7ff; text-decoration-color: #00d7ff\">None</span>, <span style=\"color: #00af00; text-decoration-color: #00af00\">11</span>, <span style=\"color: #00af00; text-decoration-color: #00af00\">64</span>)         │        <span style=\"color: #00af00; text-decoration-color: #00af00\">41,024</span> │\n",
       "├─────────────────────────────────┼────────────────────────┼───────────────┤\n",
       "│ global_max_pooling1d_9          │ (<span style=\"color: #00d7ff; text-decoration-color: #00d7ff\">None</span>, <span style=\"color: #00af00; text-decoration-color: #00af00\">64</span>)             │             <span style=\"color: #00af00; text-decoration-color: #00af00\">0</span> │\n",
       "│ (<span style=\"color: #0087ff; text-decoration-color: #0087ff\">GlobalMaxPooling1D</span>)            │                        │               │\n",
       "├─────────────────────────────────┼────────────────────────┼───────────────┤\n",
       "│ dense_39 (<span style=\"color: #0087ff; text-decoration-color: #0087ff\">Dense</span>)                │ (<span style=\"color: #00d7ff; text-decoration-color: #00d7ff\">None</span>, <span style=\"color: #00af00; text-decoration-color: #00af00\">1</span>)              │            <span style=\"color: #00af00; text-decoration-color: #00af00\">65</span> │\n",
       "└─────────────────────────────────┴────────────────────────┴───────────────┘\n",
       "</pre>\n"
      ],
      "text/plain": [
       "┏━━━━━━━━━━━━━━━━━━━━━━━━━━━━━━━━━┳━━━━━━━━━━━━━━━━━━━━━━━━┳━━━━━━━━━━━━━━━┓\n",
       "┃\u001b[1m \u001b[0m\u001b[1mLayer (type)                   \u001b[0m\u001b[1m \u001b[0m┃\u001b[1m \u001b[0m\u001b[1mOutput Shape          \u001b[0m\u001b[1m \u001b[0m┃\u001b[1m \u001b[0m\u001b[1m      Param #\u001b[0m\u001b[1m \u001b[0m┃\n",
       "┡━━━━━━━━━━━━━━━━━━━━━━━━━━━━━━━━━╇━━━━━━━━━━━━━━━━━━━━━━━━╇━━━━━━━━━━━━━━━┩\n",
       "│ input_layer_35 (\u001b[38;5;33mInputLayer\u001b[0m)     │ (\u001b[38;5;45mNone\u001b[0m, \u001b[38;5;34m1\u001b[0m)              │             \u001b[38;5;34m0\u001b[0m │\n",
       "├─────────────────────────────────┼────────────────────────┼───────────────┤\n",
       "│ text_vectorization_2            │ (\u001b[38;5;45mNone\u001b[0m, \u001b[38;5;34m15\u001b[0m)             │             \u001b[38;5;34m0\u001b[0m │\n",
       "│ (\u001b[38;5;33mTextVectorization\u001b[0m)             │                        │               │\n",
       "├─────────────────────────────────┼────────────────────────┼───────────────┤\n",
       "│ embedding_43 (\u001b[38;5;33mEmbedding\u001b[0m)        │ (\u001b[38;5;45mNone\u001b[0m, \u001b[38;5;34m15\u001b[0m, \u001b[38;5;34m128\u001b[0m)        │     \u001b[38;5;34m1,280,000\u001b[0m │\n",
       "├─────────────────────────────────┼────────────────────────┼───────────────┤\n",
       "│ conv1d_14 (\u001b[38;5;33mConv1D\u001b[0m)              │ (\u001b[38;5;45mNone\u001b[0m, \u001b[38;5;34m11\u001b[0m, \u001b[38;5;34m64\u001b[0m)         │        \u001b[38;5;34m41,024\u001b[0m │\n",
       "├─────────────────────────────────┼────────────────────────┼───────────────┤\n",
       "│ global_max_pooling1d_9          │ (\u001b[38;5;45mNone\u001b[0m, \u001b[38;5;34m64\u001b[0m)             │             \u001b[38;5;34m0\u001b[0m │\n",
       "│ (\u001b[38;5;33mGlobalMaxPooling1D\u001b[0m)            │                        │               │\n",
       "├─────────────────────────────────┼────────────────────────┼───────────────┤\n",
       "│ dense_39 (\u001b[38;5;33mDense\u001b[0m)                │ (\u001b[38;5;45mNone\u001b[0m, \u001b[38;5;34m1\u001b[0m)              │            \u001b[38;5;34m65\u001b[0m │\n",
       "└─────────────────────────────────┴────────────────────────┴───────────────┘\n"
      ]
     },
     "metadata": {},
     "output_type": "display_data"
    },
    {
     "data": {
      "text/html": [
       "<pre style=\"white-space:pre;overflow-x:auto;line-height:normal;font-family:Menlo,'DejaVu Sans Mono',consolas,'Courier New',monospace\"><span style=\"font-weight: bold\"> Total params: </span><span style=\"color: #00af00; text-decoration-color: #00af00\">3,963,269</span> (15.12 MB)\n",
       "</pre>\n"
      ],
      "text/plain": [
       "\u001b[1m Total params: \u001b[0m\u001b[38;5;34m3,963,269\u001b[0m (15.12 MB)\n"
      ]
     },
     "metadata": {},
     "output_type": "display_data"
    },
    {
     "data": {
      "text/html": [
       "<pre style=\"white-space:pre;overflow-x:auto;line-height:normal;font-family:Menlo,'DejaVu Sans Mono',consolas,'Courier New',monospace\"><span style=\"font-weight: bold\"> Trainable params: </span><span style=\"color: #00af00; text-decoration-color: #00af00\">1,321,089</span> (5.04 MB)\n",
       "</pre>\n"
      ],
      "text/plain": [
       "\u001b[1m Trainable params: \u001b[0m\u001b[38;5;34m1,321,089\u001b[0m (5.04 MB)\n"
      ]
     },
     "metadata": {},
     "output_type": "display_data"
    },
    {
     "data": {
      "text/html": [
       "<pre style=\"white-space:pre;overflow-x:auto;line-height:normal;font-family:Menlo,'DejaVu Sans Mono',consolas,'Courier New',monospace\"><span style=\"font-weight: bold\"> Non-trainable params: </span><span style=\"color: #00af00; text-decoration-color: #00af00\">0</span> (0.00 B)\n",
       "</pre>\n"
      ],
      "text/plain": [
       "\u001b[1m Non-trainable params: \u001b[0m\u001b[38;5;34m0\u001b[0m (0.00 B)\n"
      ]
     },
     "metadata": {},
     "output_type": "display_data"
    },
    {
     "data": {
      "text/html": [
       "<pre style=\"white-space:pre;overflow-x:auto;line-height:normal;font-family:Menlo,'DejaVu Sans Mono',consolas,'Courier New',monospace\"><span style=\"font-weight: bold\"> Optimizer params: </span><span style=\"color: #00af00; text-decoration-color: #00af00\">2,642,180</span> (10.08 MB)\n",
       "</pre>\n"
      ],
      "text/plain": [
       "\u001b[1m Optimizer params: \u001b[0m\u001b[38;5;34m2,642,180\u001b[0m (10.08 MB)\n"
      ]
     },
     "metadata": {},
     "output_type": "display_data"
    }
   ],
   "source": [
    "model_5.summary()"
   ]
  },
  {
   "cell_type": "code",
   "execution_count": 274,
   "id": "3dece858",
   "metadata": {},
   "outputs": [],
   "source": [
    "model_5.compile(loss=tf.keras.losses.BinaryCrossentropy(),\n",
    "               optimizer=tf.keras.optimizers.Adam(),\n",
    "               metrics=['accuracy'])"
   ]
  },
  {
   "cell_type": "code",
   "execution_count": 709,
   "id": "a3faf424",
   "metadata": {},
   "outputs": [],
   "source": [
    "import datetime\n",
    "model_checkpoint= tf.keras.callbacks.ModelCheckpoint( 'Checkpoints/'+datetime.datetime.now().strftime(\"%Y%m%d-%H%M%S\")+'.keras',\n",
    "                                                    monitor='val_loss',\n",
    "                                                    save_best_only=False,\n",
    "                                                    save_weights_only=False,\n",
    "                                                    save_freq=215)"
   ]
  },
  {
   "cell_type": "code",
   "execution_count": 710,
   "id": "61f29b37",
   "metadata": {},
   "outputs": [
    {
     "name": "stdout",
     "output_type": "stream",
     "text": [
      "Saving TensorBoard log files to: TensorBoard_logs/model_5_Conv1D/20240905-113824\n",
      "Epoch 1/5\n",
      "\u001b[1m215/215\u001b[0m \u001b[32m━━━━━━━━━━━━━━━━━━━━\u001b[0m\u001b[37m\u001b[0m \u001b[1m5s\u001b[0m 21ms/step - accuracy: 0.9863 - loss: 0.0281 - val_accuracy: 0.7559 - val_loss: 0.9188\n",
      "Epoch 2/5\n",
      "\u001b[1m215/215\u001b[0m \u001b[32m━━━━━━━━━━━━━━━━━━━━\u001b[0m\u001b[37m\u001b[0m \u001b[1m5s\u001b[0m 23ms/step - accuracy: 0.9855 - loss: 0.0298 - val_accuracy: 0.7493 - val_loss: 0.9192\n",
      "Epoch 3/5\n",
      "\u001b[1m215/215\u001b[0m \u001b[32m━━━━━━━━━━━━━━━━━━━━\u001b[0m\u001b[37m\u001b[0m \u001b[1m4s\u001b[0m 20ms/step - accuracy: 0.9875 - loss: 0.0254 - val_accuracy: 0.7520 - val_loss: 0.9182\n",
      "Epoch 4/5\n",
      "\u001b[1m215/215\u001b[0m \u001b[32m━━━━━━━━━━━━━━━━━━━━\u001b[0m\u001b[37m\u001b[0m \u001b[1m4s\u001b[0m 20ms/step - accuracy: 0.9842 - loss: 0.0276 - val_accuracy: 0.7559 - val_loss: 0.9516\n",
      "Epoch 5/5\n",
      "\u001b[1m215/215\u001b[0m \u001b[32m━━━━━━━━━━━━━━━━━━━━\u001b[0m\u001b[37m\u001b[0m \u001b[1m5s\u001b[0m 21ms/step - accuracy: 0.9856 - loss: 0.0261 - val_accuracy: 0.7507 - val_loss: 0.9816\n"
     ]
    }
   ],
   "source": [
    "model_5_history= model_5.fit(train_text,\n",
    "                            train_labels,\n",
    "                            epochs=5,\n",
    "                            validation_data=(validation_text, validation_labels),\n",
    "                            callbacks=[create_tensorboard_callback(dir_name='TensorBoard_logs',\n",
    "                                                                  experiment_name='model_5_Conv1D'),\n",
    "                                      model_checkpoint])"
   ]
  },
  {
   "cell_type": "code",
   "execution_count": 278,
   "id": "d5cb2a01",
   "metadata": {},
   "outputs": [
    {
     "name": "stdout",
     "output_type": "stream",
     "text": [
      "\u001b[1m24/24\u001b[0m \u001b[32m━━━━━━━━━━━━━━━━━━━━\u001b[0m\u001b[37m\u001b[0m \u001b[1m0s\u001b[0m 8ms/step\n"
     ]
    }
   ],
   "source": [
    " model_5_pred_probs= model_5.predict(validation_text)\n"
   ]
  },
  {
   "cell_type": "code",
   "execution_count": 283,
   "id": "1f7436e0",
   "metadata": {},
   "outputs": [],
   "source": [
    "model_5_preds= tf.squeeze(tf.round(model_5_pred_probs))\n"
   ]
  },
  {
   "cell_type": "code",
   "execution_count": 282,
   "id": "778b43bd",
   "metadata": {},
   "outputs": [
    {
     "data": {
      "text/plain": [
       "{'accuracy': 0.7690288713910761,\n",
       " 'precision': 0.7681314551682927,\n",
       " 'recall': 0.7690288713910761,\n",
       " 'f1': 0.7671845407215244}"
      ]
     },
     "execution_count": 282,
     "metadata": {},
     "output_type": "execute_result"
    }
   ],
   "source": [
    "model_5_results_= calculate_results(validation_labels, model_5_preds)\n",
    "model_5_results_"
   ]
  },
  {
   "cell_type": "code",
   "execution_count": 284,
   "id": "38ae0b1e",
   "metadata": {},
   "outputs": [
    {
     "data": {
      "text/plain": [
       "{'accuracy': 0.8018372703412073,\n",
       " 'precision': 0.8126421697287839,\n",
       " 'recall': 0.8018372703412073,\n",
       " 'f1': 0.7956417064028612}"
      ]
     },
     "execution_count": 284,
     "metadata": {},
     "output_type": "execute_result"
    }
   ],
   "source": [
    "model_0_results_"
   ]
  },
  {
   "cell_type": "markdown",
   "id": "9fb6205e",
   "metadata": {},
   "source": [
    "### Model 6: TensorFlow Hub Pretrained Sentence Encodert"
   ]
  },
  {
   "cell_type": "code",
   "execution_count": 288,
   "id": "b9fcc9ff",
   "metadata": {},
   "outputs": [],
   "source": [
    "import tensorflow_hub as hub\n"
   ]
  },
  {
   "cell_type": "code",
   "execution_count": 316,
   "id": "b645a95e",
   "metadata": {},
   "outputs": [],
   "source": [
    "# Create an universal-sentence-encoder embedding\n",
    "USE= hub.load(\"tensorflow_hub/universal-sentence-encoder/\")"
   ]
  },
  {
   "cell_type": "code",
   "execution_count": 318,
   "id": "09b0bfa2",
   "metadata": {},
   "outputs": [],
   "source": [
    "use_sample=USE([\n",
    "              \"The quick brown fox jumps over the lazy dog.\",\n",
    "              \"I am a sentence for which I would like to get its embedding\"])"
   ]
  },
  {
   "cell_type": "code",
   "execution_count": 320,
   "id": "cb6470ff",
   "metadata": {},
   "outputs": [
    {
     "data": {
      "text/plain": [
       "TensorShape([2, 512])"
      ]
     },
     "execution_count": 320,
     "metadata": {},
     "output_type": "execute_result"
    }
   ],
   "source": [
    "use_sample.shape"
   ]
  },
  {
   "cell_type": "code",
   "execution_count": 329,
   "id": "f9d34a23",
   "metadata": {},
   "outputs": [
    {
     "data": {
      "text/plain": [
       "TensorShape([512])"
      ]
     },
     "execution_count": 329,
     "metadata": {},
     "output_type": "execute_result"
    }
   ],
   "source": [
    "use_sample[0].shape"
   ]
  },
  {
   "cell_type": "code",
   "execution_count": null,
   "id": "4d2e6212",
   "metadata": {},
   "outputs": [],
   "source": [
    "# Create a keras layer using the USE pretrained layer from tensorflow hub\n",
    "sentense_encoder_layer= hub.KerasLayer(\"tensorflow_hub/universal-sentence-encoder/\",\n",
    "                                      input_shape=[],\n",
    "                                      dtype='string',\n",
    "                                      name='USE')"
   ]
  },
  {
   "cell_type": "code",
   "execution_count": 357,
   "id": "87df6a02",
   "metadata": {},
   "outputs": [],
   "source": [
    "import tf_keras"
   ]
  },
  {
   "cell_type": "code",
   "execution_count": 414,
   "id": "9f77b864",
   "metadata": {},
   "outputs": [],
   "source": [
    "# Create model using the Sequential API\n",
    "model_6= tf_keras.Sequential([\n",
    "    sentense_encoder_layer,\n",
    "    #USE,\n",
    "    #tf_keras.layers.Dense(64, activation='relu'),\n",
    "    tf_keras.layers.Dense(128, activation='relu'),\n",
    "    tf_keras.layers.Dense(1, activation='sigmoid')\n",
    "], name= 'model_6_USE')\n",
    "\n",
    "\n"
   ]
  },
  {
   "cell_type": "code",
   "execution_count": 415,
   "id": "b1953fdd",
   "metadata": {},
   "outputs": [],
   "source": [
    "# Compile \n",
    "model_6.compile(loss=tf_keras.losses.BinaryCrossentropy(),\n",
    "               optimizer=tf_keras.optimizers.Adam(),\n",
    "               metrics=['accuracy'])\n"
   ]
  },
  {
   "cell_type": "code",
   "execution_count": 416,
   "id": "cff8d9e1",
   "metadata": {},
   "outputs": [
    {
     "name": "stdout",
     "output_type": "stream",
     "text": [
      "Epoch 1/5\n",
      "215/215 [==============================] - 4s 11ms/step - loss: 0.4929 - accuracy: 0.7851 - val_loss: 0.4102 - val_accuracy: 0.8241\n",
      "Epoch 2/5\n",
      "215/215 [==============================] - 2s 9ms/step - loss: 0.4112 - accuracy: 0.8173 - val_loss: 0.4031 - val_accuracy: 0.8255\n",
      "Epoch 3/5\n",
      "215/215 [==============================] - 2s 9ms/step - loss: 0.3961 - accuracy: 0.8235 - val_loss: 0.3938 - val_accuracy: 0.8333\n",
      "Epoch 4/5\n",
      "215/215 [==============================] - 2s 9ms/step - loss: 0.3866 - accuracy: 0.8295 - val_loss: 0.3950 - val_accuracy: 0.8320\n",
      "Epoch 5/5\n",
      "215/215 [==============================] - 2s 9ms/step - loss: 0.3750 - accuracy: 0.8361 - val_loss: 0.3947 - val_accuracy: 0.8255\n"
     ]
    }
   ],
   "source": [
    "# Fit\n",
    "model_6_history= model_6.fit(train_text,\n",
    "                            train_labels,\n",
    "                            epochs=5,\n",
    "                            validation_data=(validation_text, validation_labels),\n",
    "                            #callbacks=[create_tensorboard_callback(dir_name='TensorBoard_logs',\n",
    "                             #                                      experiment_name='model_6_USE')]\n",
    "                            )"
   ]
  },
  {
   "cell_type": "code",
   "execution_count": 417,
   "id": "ceed9f6a",
   "metadata": {},
   "outputs": [
    {
     "name": "stdout",
     "output_type": "stream",
     "text": [
      "Model: \"model_6_USE\"\n",
      "_________________________________________________________________\n",
      " Layer (type)                Output Shape              Param #   \n",
      "=================================================================\n",
      " USE (KerasLayer)            (None, 512)               256797824 \n",
      "                                                                 \n",
      " dense_22 (Dense)            (None, 128)               65664     \n",
      "                                                                 \n",
      " dense_23 (Dense)            (None, 1)                 129       \n",
      "                                                                 \n",
      "=================================================================\n",
      "Total params: 256863617 (979.86 MB)\n",
      "Trainable params: 65793 (257.00 KB)\n",
      "Non-trainable params: 256797824 (979.61 MB)\n",
      "_________________________________________________________________\n"
     ]
    }
   ],
   "source": [
    "model_6. summary()"
   ]
  },
  {
   "cell_type": "code",
   "execution_count": 418,
   "id": "632943e8",
   "metadata": {},
   "outputs": [
    {
     "name": "stdout",
     "output_type": "stream",
     "text": [
      "24/24 [==============================] - 1s 7ms/step\n"
     ]
    }
   ],
   "source": [
    "model_6_pred_probs= model_6.predict(validation_text)"
   ]
  },
  {
   "cell_type": "code",
   "execution_count": 419,
   "id": "8cee01e5",
   "metadata": {},
   "outputs": [],
   "source": [
    "model_6_preds= tf.squeeze(tf.round(model_6_pred_probs))\n",
    "#model_6_preds[:10]"
   ]
  },
  {
   "cell_type": "code",
   "execution_count": 420,
   "id": "b0bde259",
   "metadata": {},
   "outputs": [
    {
     "data": {
      "text/plain": [
       "{'accuracy': 0.8254593175853019,\n",
       " 'precision': 0.8271948469872117,\n",
       " 'recall': 0.8254593175853019,\n",
       " 'f1': 0.8233027541992525}"
      ]
     },
     "execution_count": 420,
     "metadata": {},
     "output_type": "execute_result"
    }
   ],
   "source": [
    "model_6_results_= calculate_results(validation_labels, model_6_preds)\n",
    "model_6_results_"
   ]
  },
  {
   "cell_type": "code",
   "execution_count": 421,
   "id": "8936b716",
   "metadata": {},
   "outputs": [
    {
     "data": {
      "text/plain": [
       "{'accuracy': 0.8018372703412073,\n",
       " 'precision': 0.8126421697287839,\n",
       " 'recall': 0.8018372703412073,\n",
       " 'f1': 0.7956417064028612}"
      ]
     },
     "execution_count": 421,
     "metadata": {},
     "output_type": "execute_result"
    }
   ],
   "source": [
    "model_0_results"
   ]
  },
  {
   "cell_type": "markdown",
   "id": "58835bbf",
   "metadata": {},
   "source": [
    "### Model 7: TF Hub pretrained USE but with 10% of training data"
   ]
  },
  {
   "cell_type": "code",
   "execution_count": 514,
   "id": "9c1f2284",
   "metadata": {},
   "outputs": [],
   "source": [
    "### NOTE: Making splits like this will lead to data leakage ###\n",
    "### (some of the training examples in the validation set) ###\n",
    "\n",
    "### WRONG WAY TO MAKE SPLITS (train_df_shuffled has already been split) ### \n",
    "\n",
    "# Create subsets of 10% of training data\n",
    "# train_10_percent= train_df_shuffled[['text','target']].sample(frac=0.1, random_state=0)\n",
    "# train_text_10_percent= train_10_percent['text'].to_list()\n",
    "# train_labels_10_percent= train_10_percent['target'].to_list()\n"
   ]
  },
  {
   "cell_type": "code",
   "execution_count": 516,
   "id": "594f438d",
   "metadata": {},
   "outputs": [],
   "source": [
    "# Making a better dataset split (no data leakage)\n",
    "train_text_10_percent= train_text[:int(0.1 * len(train_text))]\n",
    "train_labels_10_percent= train_labels[:int(0.1 * len(train_text))]"
   ]
  },
  {
   "cell_type": "code",
   "execution_count": 517,
   "id": "3b718954",
   "metadata": {},
   "outputs": [
    {
     "data": {
      "text/plain": [
       "6851"
      ]
     },
     "execution_count": 517,
     "metadata": {},
     "output_type": "execute_result"
    }
   ],
   "source": [
    "len(train_text)"
   ]
  },
  {
   "cell_type": "code",
   "execution_count": 519,
   "id": "fdbfc630",
   "metadata": {},
   "outputs": [
    {
     "data": {
      "text/plain": [
       "685"
      ]
     },
     "execution_count": 519,
     "metadata": {},
     "output_type": "execute_result"
    }
   ],
   "source": [
    "len(train_text_10_percent)"
   ]
  },
  {
   "cell_type": "code",
   "execution_count": 520,
   "id": "69647bd2",
   "metadata": {},
   "outputs": [
    {
     "data": {
      "text/plain": [
       "685"
      ]
     },
     "execution_count": 520,
     "metadata": {},
     "output_type": "execute_result"
    }
   ],
   "source": [
    "len(train_labels_10_percent)"
   ]
  },
  {
   "cell_type": "code",
   "execution_count": 525,
   "id": "d761ce62",
   "metadata": {},
   "outputs": [
    {
     "data": {
      "text/plain": [
       "0    3907\n",
       "1    2944\n",
       "Name: count, dtype: int64"
      ]
     },
     "execution_count": 525,
     "metadata": {},
     "output_type": "execute_result"
    }
   ],
   "source": [
    "pd.Series(train_labels).value_counts()"
   ]
  },
  {
   "cell_type": "code",
   "execution_count": 527,
   "id": "9c186db6",
   "metadata": {},
   "outputs": [
    {
     "data": {
      "text/plain": [
       "0    393\n",
       "1    292\n",
       "Name: count, dtype: int64"
      ]
     },
     "execution_count": 527,
     "metadata": {},
     "output_type": "execute_result"
    }
   ],
   "source": [
    "pd.Series(train_labels_10_percent).value_counts()"
   ]
  },
  {
   "cell_type": "code",
   "execution_count": 691,
   "id": "4754a07f",
   "metadata": {},
   "outputs": [],
   "source": [
    "import datetime\n",
    "model_checkpoint= tf.keras.callbacks.ModelCheckpoint( 'Checkpoints'+datetime.datetime.now().strftime(\"%Y%m%d-%H%M%S\")+'.keras')"
   ]
  },
  {
   "cell_type": "code",
   "execution_count": 692,
   "id": "081adbb5",
   "metadata": {},
   "outputs": [],
   "source": [
    "#model_7= tf_keras.models.clone_model(model_6)\n",
    "model_7= tf_keras.Sequential([\n",
    "    sentense_encoder_layer,\n",
    "    #USE,\n",
    "    #tf_keras.layers.Dense(64, activation='relu'),\n",
    "    tf_keras.layers.Dense(128, activation='relu'),\n",
    "    tf_keras.layers.Dense(1, activation='sigmoid')\n",
    "], name= 'model_7_USE')\n"
   ]
  },
  {
   "cell_type": "code",
   "execution_count": 693,
   "id": "85095431",
   "metadata": {},
   "outputs": [],
   "source": [
    "model_7.compile(loss=tf_keras.losses.BinaryCrossentropy(),\n",
    "               optimizer=tf_keras.optimizers.Adam(),\n",
    "               metrics=['accuracy'])\n"
   ]
  },
  {
   "cell_type": "code",
   "execution_count": 695,
   "id": "628300c2",
   "metadata": {},
   "outputs": [
    {
     "name": "stdout",
     "output_type": "stream",
     "text": [
      "Epoch 1/5\n",
      "22/22 [==============================] - 2s 39ms/step - loss: 0.6638 - accuracy: 0.6788 - val_loss: 0.6208 - val_accuracy: 0.7664\n",
      "Epoch 2/5\n",
      "22/22 [==============================] - 0s 16ms/step - loss: 0.5665 - accuracy: 0.7956 - val_loss: 0.5405 - val_accuracy: 0.7887\n",
      "Epoch 3/5\n",
      "22/22 [==============================] - 1s 26ms/step - loss: 0.4808 - accuracy: 0.8088 - val_loss: 0.4837 - val_accuracy: 0.7992\n",
      "Epoch 4/5\n",
      "22/22 [==============================] - 0s 18ms/step - loss: 0.4261 - accuracy: 0.8146 - val_loss: 0.4589 - val_accuracy: 0.8045\n",
      "Epoch 5/5\n",
      "22/22 [==============================] - 0s 16ms/step - loss: 0.3882 - accuracy: 0.8336 - val_loss: 0.4490 - val_accuracy: 0.8031\n"
     ]
    },
    {
     "data": {
      "text/plain": [
       "<tf_keras.src.callbacks.History at 0x7aea1adc7a70>"
      ]
     },
     "execution_count": 695,
     "metadata": {},
     "output_type": "execute_result"
    }
   ],
   "source": [
    "model_7.fit(train_text_10_percent,\n",
    "           train_labels_10_percent,\n",
    "           epochs=5,\n",
    "           validation_data=(validation_text, validation_labels),\n",
    "           )"
   ]
  },
  {
   "cell_type": "code",
   "execution_count": 531,
   "id": "b78aefd2",
   "metadata": {},
   "outputs": [
    {
     "name": "stdout",
     "output_type": "stream",
     "text": [
      "Model: \"model_7_USE\"\n",
      "_________________________________________________________________\n",
      " Layer (type)                Output Shape              Param #   \n",
      "=================================================================\n",
      " USE (KerasLayer)            (None, 512)               256797824 \n",
      "                                                                 \n",
      " dense_34 (Dense)            (None, 128)               65664     \n",
      "                                                                 \n",
      " dense_35 (Dense)            (None, 1)                 129       \n",
      "                                                                 \n",
      "=================================================================\n",
      "Total params: 256863617 (979.86 MB)\n",
      "Trainable params: 65793 (257.00 KB)\n",
      "Non-trainable params: 256797824 (979.61 MB)\n",
      "_________________________________________________________________\n"
     ]
    }
   ],
   "source": [
    "model_7.summary()"
   ]
  },
  {
   "cell_type": "code",
   "execution_count": 532,
   "id": "cb75acf8",
   "metadata": {},
   "outputs": [
    {
     "name": "stdout",
     "output_type": "stream",
     "text": [
      "24/24 [==============================] - 1s 8ms/step\n"
     ]
    }
   ],
   "source": [
    "model_7_preds= tf.round(model_7.predict(validation_text))\n"
   ]
  },
  {
   "cell_type": "code",
   "execution_count": 533,
   "id": "d3bf4350",
   "metadata": {},
   "outputs": [
    {
     "data": {
      "text/plain": [
       "{'accuracy': 0.8083989501312336,\n",
       " 'precision': 0.8085528668161727,\n",
       " 'recall': 0.8083989501312336,\n",
       " 'f1': 0.8084702863656599}"
      ]
     },
     "execution_count": 533,
     "metadata": {},
     "output_type": "execute_result"
    }
   ],
   "source": [
    "model_7_results_= calculate_results(validation_labels, model_7_preds)\n",
    "model_7_results_"
   ]
  },
  {
   "cell_type": "markdown",
   "id": "8167eb92",
   "metadata": {},
   "source": [
    "## Compare the performance of each of our models\n",
    " "
   ]
  },
  {
   "cell_type": "code",
   "execution_count": 545,
   "id": "2b72a103",
   "metadata": {},
   "outputs": [
    {
     "data": {
      "text/html": [
       "<div>\n",
       "<style scoped>\n",
       "    .dataframe tbody tr th:only-of-type {\n",
       "        vertical-align: middle;\n",
       "    }\n",
       "\n",
       "    .dataframe tbody tr th {\n",
       "        vertical-align: top;\n",
       "    }\n",
       "\n",
       "    .dataframe thead th {\n",
       "        text-align: right;\n",
       "    }\n",
       "</style>\n",
       "<table border=\"1\" class=\"dataframe\">\n",
       "  <thead>\n",
       "    <tr style=\"text-align: right;\">\n",
       "      <th></th>\n",
       "      <th>accuracy</th>\n",
       "      <th>precision</th>\n",
       "      <th>recall</th>\n",
       "      <th>f1</th>\n",
       "    </tr>\n",
       "  </thead>\n",
       "  <tbody>\n",
       "    <tr>\n",
       "      <th>0_baseline</th>\n",
       "      <td>0.801837</td>\n",
       "      <td>0.812642</td>\n",
       "      <td>0.801837</td>\n",
       "      <td>0.795642</td>\n",
       "    </tr>\n",
       "    <tr>\n",
       "      <th>1_simple_dense</th>\n",
       "      <td>0.795276</td>\n",
       "      <td>0.794643</td>\n",
       "      <td>0.795276</td>\n",
       "      <td>0.794008</td>\n",
       "    </tr>\n",
       "    <tr>\n",
       "      <th>2_lstm</th>\n",
       "      <td>0.759843</td>\n",
       "      <td>0.758712</td>\n",
       "      <td>0.759843</td>\n",
       "      <td>0.758689</td>\n",
       "    </tr>\n",
       "    <tr>\n",
       "      <th>3_gru</th>\n",
       "      <td>0.749344</td>\n",
       "      <td>0.749644</td>\n",
       "      <td>0.749344</td>\n",
       "      <td>0.749482</td>\n",
       "    </tr>\n",
       "    <tr>\n",
       "      <th>4_bidirectional</th>\n",
       "      <td>0.762467</td>\n",
       "      <td>0.761923</td>\n",
       "      <td>0.762467</td>\n",
       "      <td>0.762130</td>\n",
       "    </tr>\n",
       "    <tr>\n",
       "      <th>5_conv1d</th>\n",
       "      <td>0.769029</td>\n",
       "      <td>0.768131</td>\n",
       "      <td>0.769029</td>\n",
       "      <td>0.767185</td>\n",
       "    </tr>\n",
       "    <tr>\n",
       "      <th>6_tf_hub_use</th>\n",
       "      <td>0.825459</td>\n",
       "      <td>0.827195</td>\n",
       "      <td>0.825459</td>\n",
       "      <td>0.823303</td>\n",
       "    </tr>\n",
       "    <tr>\n",
       "      <th>7_tf_hub_use_10_percent</th>\n",
       "      <td>0.808399</td>\n",
       "      <td>0.808553</td>\n",
       "      <td>0.808399</td>\n",
       "      <td>0.808470</td>\n",
       "    </tr>\n",
       "  </tbody>\n",
       "</table>\n",
       "</div>"
      ],
      "text/plain": [
       "                         accuracy  precision    recall        f1\n",
       "0_baseline               0.801837   0.812642  0.801837  0.795642\n",
       "1_simple_dense           0.795276   0.794643  0.795276  0.794008\n",
       "2_lstm                   0.759843   0.758712  0.759843  0.758689\n",
       "3_gru                    0.749344   0.749644  0.749344  0.749482\n",
       "4_bidirectional          0.762467   0.761923  0.762467  0.762130\n",
       "5_conv1d                 0.769029   0.768131  0.769029  0.767185\n",
       "6_tf_hub_use             0.825459   0.827195  0.825459  0.823303\n",
       "7_tf_hub_use_10_percent  0.808399   0.808553  0.808399  0.808470"
      ]
     },
     "execution_count": 545,
     "metadata": {},
     "output_type": "execute_result"
    }
   ],
   "source": [
    "# Combine model results into a dataframe\n",
    "all_model_results= pd.DataFrame({'0_baseline':model_0_results_,\n",
    "                                '1_simple_dense':model_1_results_,\n",
    "                                '2_lstm':model_2_results_,\n",
    "                                '3_gru':model_3_results_,\n",
    "                                '4_bidirectional':model_4_results_,\n",
    "                                '5_conv1d':model_5_results_,\n",
    "                                '6_tf_hub_use':model_6_results_,\n",
    "                                '7_tf_hub_use_10_percent':model_7_results_})\n",
    "all_model_results= all_model_results.transpose()\n",
    "all_model_results"
   ]
  },
  {
   "cell_type": "code",
   "execution_count": 557,
   "id": "ef6192d1",
   "metadata": {},
   "outputs": [],
   "source": [
    "import matplotlib.pyplot as plt"
   ]
  },
  {
   "cell_type": "code",
   "execution_count": 687,
   "id": "34fa53b4",
   "metadata": {},
   "outputs": [
    {
     "data": {
      "image/png": "[encoded data removed]",
      "text/plain": [
       "<Figure size 640x480 with 1 Axes>"
      ]
     },
     "metadata": {},
     "output_type": "display_data"
    }
   ],
   "source": [
    "# Plot and campare all of the model results\n",
    "all_model_results.plot(kind='bar').legend(bbox_to_anchor=(1,1))\n",
    "#plt.legend(bbox_to_anchor=(1,1))\n",
    "plt.grid()"
   ]
  },
  {
   "cell_type": "code",
   "execution_count": 688,
   "id": "be4a9c32",
   "metadata": {},
   "outputs": [
    {
     "data": {
      "text/plain": [
       "<Axes: >"
      ]
     },
     "execution_count": 688,
     "metadata": {},
     "output_type": "execute_result"
    },
    {
     "data": {
      "image/png": "[encoded data removed]",
      "text/plain": [
       "<Figure size 640x480 with 1 Axes>"
      ]
     },
     "metadata": {},
     "output_type": "display_data"
    }
   ],
   "source": [
    "# Sort model results by f1-score\n",
    "all_model_results.sort_values('f1', ascending=False)['f1'].plot(kind='bar')"
   ]
  },
  {
   "cell_type": "markdown",
   "id": "563e9f80",
   "metadata": {},
   "source": [
    "## Saving and loading a trained model"
   ]
  },
  {
   "cell_type": "code",
   "execution_count": 729,
   "id": "7d7bf2dc",
   "metadata": {},
   "outputs": [
    {
     "name": "stdout",
     "output_type": "stream",
     "text": [
      "INFO:tensorflow:Assets written to: Saved_models/model_6/assets\n"
     ]
    },
    {
     "name": "stderr",
     "output_type": "stream",
     "text": [
      "INFO:tensorflow:Assets written to: Saved_models/model_6/assets\n"
     ]
    }
   ],
   "source": [
    "model_6.save('Saved_models/model_6')"
   ]
  },
  {
   "cell_type": "code",
   "execution_count": 730,
   "id": "79bc3087",
   "metadata": {},
   "outputs": [],
   "source": [
    "loaded_model_6= tf_keras.models.load_model('Saved_models/model_6',\n",
    "                                          custom_objects={'KerasLayer':hub.KerasLayer})"
   ]
  },
  {
   "cell_type": "code",
   "execution_count": 731,
   "id": "5a90014d",
   "metadata": {},
   "outputs": [
    {
     "name": "stdout",
     "output_type": "stream",
     "text": [
      "Model: \"model_6_USE\"\n",
      "_________________________________________________________________\n",
      " Layer (type)                Output Shape              Param #   \n",
      "=================================================================\n",
      " USE (KerasLayer)            (None, 512)               256797824 \n",
      "                                                                 \n",
      " dense_22 (Dense)            (None, 128)               65664     \n",
      "                                                                 \n",
      " dense_23 (Dense)            (None, 1)                 129       \n",
      "                                                                 \n",
      "=================================================================\n",
      "Total params: 256863617 (979.86 MB)\n",
      "Trainable params: 65793 (257.00 KB)\n",
      "Non-trainable params: 256797824 (979.61 MB)\n",
      "_________________________________________________________________\n"
     ]
    }
   ],
   "source": [
    "loaded_model_6.summary()"
   ]
  },
  {
   "cell_type": "code",
   "execution_count": 732,
   "id": "613e6948",
   "metadata": {},
   "outputs": [
    {
     "name": "stdout",
     "output_type": "stream",
     "text": [
      "24/24 [==============================] - 1s 8ms/step - loss: 0.3947 - accuracy: 0.8255\n"
     ]
    },
    {
     "data": {
      "text/plain": [
       "[0.3946782052516937, 0.8254593014717102]"
      ]
     },
     "execution_count": 732,
     "metadata": {},
     "output_type": "execute_result"
    }
   ],
   "source": [
    "loaded_model_6.evaluate(validation_text, validation_labels)"
   ]
  },
  {
   "cell_type": "code",
   "execution_count": 733,
   "id": "ffa617c0",
   "metadata": {},
   "outputs": [
    {
     "data": {
      "text/plain": [
       "{'accuracy': 0.8254593175853019,\n",
       " 'precision': 0.8271948469872117,\n",
       " 'recall': 0.8254593175853019,\n",
       " 'f1': 0.8233027541992525}"
      ]
     },
     "execution_count": 733,
     "metadata": {},
     "output_type": "execute_result"
    }
   ],
   "source": [
    "model_6_results_"
   ]
  },
  {
   "cell_type": "markdown",
   "id": "287475e6",
   "metadata": {},
   "source": [
    "## Finding the most wrong example"
   ]
  },
  {
   "cell_type": "code",
   "execution_count": 745,
   "id": "e45fbf1a",
   "metadata": {},
   "outputs": [
    {
     "name": "stdout",
     "output_type": "stream",
     "text": [
      "24/24 [==============================] - 0s 7ms/step\n"
     ]
    }
   ],
   "source": [
    "loaded_model_6_pred_probs= tf.squeeze(loaded_model_6.predict(validation_text))"
   ]
  },
  {
   "cell_type": "code",
   "execution_count": 746,
   "id": "8b1a6778",
   "metadata": {},
   "outputs": [],
   "source": [
    "loaded_model_6_preds= tf.squeeze(tf.round(loaded_model_6_pred_probs))"
   ]
  },
  {
   "cell_type": "code",
   "execution_count": 749,
   "id": "e119f742",
   "metadata": {},
   "outputs": [
    {
     "data": {
      "text/html": [
       "<div>\n",
       "<style scoped>\n",
       "    .dataframe tbody tr th:only-of-type {\n",
       "        vertical-align: middle;\n",
       "    }\n",
       "\n",
       "    .dataframe tbody tr th {\n",
       "        vertical-align: top;\n",
       "    }\n",
       "\n",
       "    .dataframe thead th {\n",
       "        text-align: right;\n",
       "    }\n",
       "</style>\n",
       "<table border=\"1\" class=\"dataframe\">\n",
       "  <thead>\n",
       "    <tr style=\"text-align: right;\">\n",
       "      <th></th>\n",
       "      <th>text</th>\n",
       "      <th>target</th>\n",
       "      <th>pred</th>\n",
       "      <th>pred_prob</th>\n",
       "    </tr>\n",
       "  </thead>\n",
       "  <tbody>\n",
       "    <tr>\n",
       "      <th>0</th>\n",
       "      <td>'imagine an entire aisle dedicated to making p...</td>\n",
       "      <td>0</td>\n",
       "      <td>0.0</td>\n",
       "      <td>0.193933</td>\n",
       "    </tr>\n",
       "    <tr>\n",
       "      <th>1</th>\n",
       "      <td>@TexansDC @kylekrenek @Zepp1978 @Frobeus_NS Ne...</td>\n",
       "      <td>0</td>\n",
       "      <td>0.0</td>\n",
       "      <td>0.130870</td>\n",
       "    </tr>\n",
       "    <tr>\n",
       "      <th>2</th>\n",
       "      <td>Tunisia beach massacre linked to March terror ...</td>\n",
       "      <td>1</td>\n",
       "      <td>1.0</td>\n",
       "      <td>0.992886</td>\n",
       "    </tr>\n",
       "    <tr>\n",
       "      <th>3</th>\n",
       "      <td>#MeditationByMSG 45600 ppl got method of medit...</td>\n",
       "      <td>0</td>\n",
       "      <td>0.0</td>\n",
       "      <td>0.155252</td>\n",
       "    </tr>\n",
       "    <tr>\n",
       "      <th>4</th>\n",
       "      <td>Read ~ THE UNHEALED WOUNDS OF AN UNENDING CONF...</td>\n",
       "      <td>1</td>\n",
       "      <td>1.0</td>\n",
       "      <td>0.933062</td>\n",
       "    </tr>\n",
       "  </tbody>\n",
       "</table>\n",
       "</div>"
      ],
      "text/plain": [
       "                                                text  target  pred  pred_prob\n",
       "0  'imagine an entire aisle dedicated to making p...       0   0.0   0.193933\n",
       "1  @TexansDC @kylekrenek @Zepp1978 @Frobeus_NS Ne...       0   0.0   0.130870\n",
       "2  Tunisia beach massacre linked to March terror ...       1   1.0   0.992886\n",
       "3  #MeditationByMSG 45600 ppl got method of medit...       0   0.0   0.155252\n",
       "4  Read ~ THE UNHEALED WOUNDS OF AN UNENDING CONF...       1   1.0   0.933062"
      ]
     },
     "execution_count": 749,
     "metadata": {},
     "output_type": "execute_result"
    }
   ],
   "source": [
    "# Create dataframe with validation sentences and best performing model predictions label and it's probabilities\n",
    "val_df= pd.DataFrame({'text':validation_text,\n",
    "                     'target':validation_labels,\n",
    "                     'pred':loaded_model_6_preds,\n",
    "                     'pred_prob':loaded_model_6_pred_probs})\n",
    "\n",
    "val_df.head()"
   ]
  },
  {
   "cell_type": "code",
   "execution_count": 758,
   "id": "6d505b9a",
   "metadata": {},
   "outputs": [
    {
     "data": {
      "text/plain": [
       "(133, 4)"
      ]
     },
     "execution_count": 758,
     "metadata": {},
     "output_type": "execute_result"
    }
   ],
   "source": [
    "val_df[val_df['target'] != val_df['pred']].shape"
   ]
  },
  {
   "cell_type": "code",
   "execution_count": 764,
   "id": "b544370d",
   "metadata": {},
   "outputs": [
    {
     "data": {
      "text/html": [
       "<div>\n",
       "<style scoped>\n",
       "    .dataframe tbody tr th:only-of-type {\n",
       "        vertical-align: middle;\n",
       "    }\n",
       "\n",
       "    .dataframe tbody tr th {\n",
       "        vertical-align: top;\n",
       "    }\n",
       "\n",
       "    .dataframe thead th {\n",
       "        text-align: right;\n",
       "    }\n",
       "</style>\n",
       "<table border=\"1\" class=\"dataframe\">\n",
       "  <thead>\n",
       "    <tr style=\"text-align: right;\">\n",
       "      <th></th>\n",
       "      <th>text</th>\n",
       "      <th>target</th>\n",
       "      <th>pred</th>\n",
       "      <th>pred_prob</th>\n",
       "    </tr>\n",
       "  </thead>\n",
       "  <tbody>\n",
       "    <tr>\n",
       "      <th>668</th>\n",
       "      <td>FedEx will no longer transport bioterror patho...</td>\n",
       "      <td>0</td>\n",
       "      <td>1.0</td>\n",
       "      <td>0.934213</td>\n",
       "    </tr>\n",
       "    <tr>\n",
       "      <th>706</th>\n",
       "      <td>HereÛªs how media in Pakistan covered the cap...</td>\n",
       "      <td>0</td>\n",
       "      <td>1.0</td>\n",
       "      <td>0.933627</td>\n",
       "    </tr>\n",
       "    <tr>\n",
       "      <th>712</th>\n",
       "      <td>San Jose Mercury: Governor Brown allows parole...</td>\n",
       "      <td>0</td>\n",
       "      <td>1.0</td>\n",
       "      <td>0.924888</td>\n",
       "    </tr>\n",
       "    <tr>\n",
       "      <th>319</th>\n",
       "      <td>Over half of poll respondents worry nuclear di...</td>\n",
       "      <td>0</td>\n",
       "      <td>1.0</td>\n",
       "      <td>0.922938</td>\n",
       "    </tr>\n",
       "    <tr>\n",
       "      <th>97</th>\n",
       "      <td>County 911 Overload Prompts Use of Emergency P...</td>\n",
       "      <td>0</td>\n",
       "      <td>1.0</td>\n",
       "      <td>0.914921</td>\n",
       "    </tr>\n",
       "    <tr>\n",
       "      <th>34</th>\n",
       "      <td>@CNN the End of Times are upon us. Famine War ...</td>\n",
       "      <td>0</td>\n",
       "      <td>1.0</td>\n",
       "      <td>0.913202</td>\n",
       "    </tr>\n",
       "    <tr>\n",
       "      <th>363</th>\n",
       "      <td>? High Skies - Burning Buildings ? http://t.co...</td>\n",
       "      <td>0</td>\n",
       "      <td>1.0</td>\n",
       "      <td>0.908730</td>\n",
       "    </tr>\n",
       "    <tr>\n",
       "      <th>62</th>\n",
       "      <td>[55436] 1950 LIONEL TRAINS SMOKE LOCOMOTIVES W...</td>\n",
       "      <td>0</td>\n",
       "      <td>1.0</td>\n",
       "      <td>0.895238</td>\n",
       "    </tr>\n",
       "    <tr>\n",
       "      <th>579</th>\n",
       "      <td>Las Vegas in top 5 cities for red-light runnin...</td>\n",
       "      <td>0</td>\n",
       "      <td>1.0</td>\n",
       "      <td>0.864722</td>\n",
       "    </tr>\n",
       "    <tr>\n",
       "      <th>609</th>\n",
       "      <td>the MOFO in DC will leave our military unarmed...</td>\n",
       "      <td>0</td>\n",
       "      <td>1.0</td>\n",
       "      <td>0.862197</td>\n",
       "    </tr>\n",
       "  </tbody>\n",
       "</table>\n",
       "</div>"
      ],
      "text/plain": [
       "                                                  text  target  pred  \\\n",
       "668  FedEx will no longer transport bioterror patho...       0   1.0   \n",
       "706  HereÛªs how media in Pakistan covered the cap...       0   1.0   \n",
       "712  San Jose Mercury: Governor Brown allows parole...       0   1.0   \n",
       "319  Over half of poll respondents worry nuclear di...       0   1.0   \n",
       "97   County 911 Overload Prompts Use of Emergency P...       0   1.0   \n",
       "34   @CNN the End of Times are upon us. Famine War ...       0   1.0   \n",
       "363  ? High Skies - Burning Buildings ? http://t.co...       0   1.0   \n",
       "62   [55436] 1950 LIONEL TRAINS SMOKE LOCOMOTIVES W...       0   1.0   \n",
       "579  Las Vegas in top 5 cities for red-light runnin...       0   1.0   \n",
       "609  the MOFO in DC will leave our military unarmed...       0   1.0   \n",
       "\n",
       "     pred_prob  \n",
       "668   0.934213  \n",
       "706   0.933627  \n",
       "712   0.924888  \n",
       "319   0.922938  \n",
       "97    0.914921  \n",
       "34    0.913202  \n",
       "363   0.908730  \n",
       "62    0.895238  \n",
       "579   0.864722  \n",
       "609   0.862197  "
      ]
     },
     "execution_count": 764,
     "metadata": {},
     "output_type": "execute_result"
    }
   ],
   "source": [
    "most_wrong=val_df[val_df['target'] != val_df['pred']].sort_values('pred_prob', ascending=False)\n",
    "most_wrong[:10] # false posatives"
   ]
  },
  {
   "cell_type": "code",
   "execution_count": 766,
   "id": "67c20509",
   "metadata": {},
   "outputs": [
    {
     "data": {
      "text/html": [
       "<div>\n",
       "<style scoped>\n",
       "    .dataframe tbody tr th:only-of-type {\n",
       "        vertical-align: middle;\n",
       "    }\n",
       "\n",
       "    .dataframe tbody tr th {\n",
       "        vertical-align: top;\n",
       "    }\n",
       "\n",
       "    .dataframe thead th {\n",
       "        text-align: right;\n",
       "    }\n",
       "</style>\n",
       "<table border=\"1\" class=\"dataframe\">\n",
       "  <thead>\n",
       "    <tr style=\"text-align: right;\">\n",
       "      <th></th>\n",
       "      <th>text</th>\n",
       "      <th>target</th>\n",
       "      <th>pred</th>\n",
       "      <th>pred_prob</th>\n",
       "    </tr>\n",
       "  </thead>\n",
       "  <tbody>\n",
       "    <tr>\n",
       "      <th>212</th>\n",
       "      <td>only had a car for not even a week and got in ...</td>\n",
       "      <td>1</td>\n",
       "      <td>0.0</td>\n",
       "      <td>0.103354</td>\n",
       "    </tr>\n",
       "    <tr>\n",
       "      <th>6</th>\n",
       "      <td>@SaintRobinho86 someone has to be at the botto...</td>\n",
       "      <td>1</td>\n",
       "      <td>0.0</td>\n",
       "      <td>0.097075</td>\n",
       "    </tr>\n",
       "    <tr>\n",
       "      <th>293</th>\n",
       "      <td>Skinny Jeans are Hazardous for Your Health! #s...</td>\n",
       "      <td>1</td>\n",
       "      <td>0.0</td>\n",
       "      <td>0.094280</td>\n",
       "    </tr>\n",
       "    <tr>\n",
       "      <th>741</th>\n",
       "      <td>The little girl next to me sees the spot light...</td>\n",
       "      <td>1</td>\n",
       "      <td>0.0</td>\n",
       "      <td>0.073258</td>\n",
       "    </tr>\n",
       "    <tr>\n",
       "      <th>466</th>\n",
       "      <td>Chick masturbates a guy until she gets explode...</td>\n",
       "      <td>1</td>\n",
       "      <td>0.0</td>\n",
       "      <td>0.070050</td>\n",
       "    </tr>\n",
       "    <tr>\n",
       "      <th>169</th>\n",
       "      <td>?? New Ladies Shoulder Tote #Handbag Faux Leat...</td>\n",
       "      <td>1</td>\n",
       "      <td>0.0</td>\n",
       "      <td>0.052196</td>\n",
       "    </tr>\n",
       "    <tr>\n",
       "      <th>537</th>\n",
       "      <td>Butt Trauma Extraordinaire</td>\n",
       "      <td>1</td>\n",
       "      <td>0.0</td>\n",
       "      <td>0.048303</td>\n",
       "    </tr>\n",
       "    <tr>\n",
       "      <th>747</th>\n",
       "      <td>@SoonerMagic_ I mean I'm a fan but I don't nee...</td>\n",
       "      <td>1</td>\n",
       "      <td>0.0</td>\n",
       "      <td>0.040001</td>\n",
       "    </tr>\n",
       "    <tr>\n",
       "      <th>246</th>\n",
       "      <td>OMFG??\\nDidnt expect Drag Me Down to be the fi...</td>\n",
       "      <td>1</td>\n",
       "      <td>0.0</td>\n",
       "      <td>0.039228</td>\n",
       "    </tr>\n",
       "    <tr>\n",
       "      <th>657</th>\n",
       "      <td>This is set to become a huge one month wonder....</td>\n",
       "      <td>1</td>\n",
       "      <td>0.0</td>\n",
       "      <td>0.036360</td>\n",
       "    </tr>\n",
       "  </tbody>\n",
       "</table>\n",
       "</div>"
      ],
      "text/plain": [
       "                                                  text  target  pred  \\\n",
       "212  only had a car for not even a week and got in ...       1   0.0   \n",
       "6    @SaintRobinho86 someone has to be at the botto...       1   0.0   \n",
       "293  Skinny Jeans are Hazardous for Your Health! #s...       1   0.0   \n",
       "741  The little girl next to me sees the spot light...       1   0.0   \n",
       "466  Chick masturbates a guy until she gets explode...       1   0.0   \n",
       "169  ?? New Ladies Shoulder Tote #Handbag Faux Leat...       1   0.0   \n",
       "537                         Butt Trauma Extraordinaire       1   0.0   \n",
       "747  @SoonerMagic_ I mean I'm a fan but I don't nee...       1   0.0   \n",
       "246  OMFG??\\nDidnt expect Drag Me Down to be the fi...       1   0.0   \n",
       "657  This is set to become a huge one month wonder....       1   0.0   \n",
       "\n",
       "     pred_prob  \n",
       "212   0.103354  \n",
       "6     0.097075  \n",
       "293   0.094280  \n",
       "741   0.073258  \n",
       "466   0.070050  \n",
       "169   0.052196  \n",
       "537   0.048303  \n",
       "747   0.040001  \n",
       "246   0.039228  \n",
       "657   0.036360  "
      ]
     },
     "execution_count": 766,
     "metadata": {},
     "output_type": "execute_result"
    }
   ],
   "source": [
    "most_wrong[-10:] # false negatives"
   ]
  },
  {
   "cell_type": "markdown",
   "id": "e51b9da6",
   "metadata": {},
   "source": [
    "A reminder:\n",
    "\n",
    "* `0` = Not a real diaster Tweet\n",
    "- `1` = Real diaster Tweet\n"
   ]
  },
  {
   "cell_type": "code",
   "execution_count": 768,
   "id": "76f31520",
   "metadata": {},
   "outputs": [
    {
     "name": "stdout",
     "output_type": "stream",
     "text": [
      "Target: 0,\n",
      "Pred: 1\n",
      "Prob: 0.9342131018638611\n",
      "Text:\n",
      "FedEx will no longer transport bioterror pathogens in wake of anthrax lab mishaps http://t.co/lHpgxc4b8J\n",
      "\n",
      "----\n",
      "\n",
      "Target: 0,\n",
      "Pred: 1\n",
      "Prob: 0.9336274862289429\n",
      "Text:\n",
      "HereÛªs how media in Pakistan covered the capture of terrorist Mohammed Naved http://t.co/f7WqpCEkg2\n",
      "\n",
      "----\n",
      "\n",
      "Target: 0,\n",
      "Pred: 1\n",
      "Prob: 0.9248881936073303\n",
      "Text:\n",
      "San Jose Mercury: Governor Brown allows parole for California school bus hijacker  http://t.co/GpCeCp9kHv\n",
      "\n",
      "----\n",
      "\n",
      "Target: 0,\n",
      "Pred: 1\n",
      "Prob: 0.9229379296302795\n",
      "Text:\n",
      "Over half of poll respondents worry nuclear disaster fading from public consciousness http://t.co/YtnnnD631z ##fukushima\n",
      "\n",
      "----\n",
      "\n",
      "Target: 0,\n",
      "Pred: 1\n",
      "Prob: 0.9149210453033447\n",
      "Text:\n",
      "County 911 Overload Prompts Use of Emergency Plan During July 4 Celebrations http://t.co/HXTUPrA5bc http://t.co/DqxKJibbKy\n",
      "\n",
      "----\n",
      "\n",
      "Target: 0,\n",
      "Pred: 1\n",
      "Prob: 0.9132019877433777\n",
      "Text:\n",
      "@CNN the End of Times are upon us. Famine War Death Plague. The presence is growing stronger.\n",
      "\n",
      "----\n",
      "\n",
      "Target: 0,\n",
      "Pred: 1\n",
      "Prob: 0.9087302684783936\n",
      "Text:\n",
      "? High Skies - Burning Buildings ? http://t.co/uVq41i3Kx2 #nowplaying\n",
      "\n",
      "----\n",
      "\n",
      "Target: 0,\n",
      "Pred: 1\n",
      "Prob: 0.8952383995056152\n",
      "Text:\n",
      "[55436] 1950 LIONEL TRAINS SMOKE LOCOMOTIVES WITH MAGNE-TRACTION INSTRUCTIONS http://t.co/xEZBs3sq0y http://t.co/C2x0QoKGlY\n",
      "\n",
      "----\n",
      "\n",
      "Target: 0,\n",
      "Pred: 1\n",
      "Prob: 0.864722490310669\n",
      "Text:\n",
      "Las Vegas in top 5 cities for red-light running fatalities - News3LV http://t.co/eXdbcx4gCR\n",
      "\n",
      "----\n",
      "\n",
      "Target: 0,\n",
      "Pred: 1\n",
      "Prob: 0.8621972799301147\n",
      "Text:\n",
      "the MOFO in DC will leave our military unarmed to be gunned down by terrorist &amp; a lot worseits not their sorry asses\n",
      "\n",
      "----\n",
      "\n"
     ]
    }
   ],
   "source": [
    "# Check the false positives (model predicted 1 when should've been 0)\n",
    "for row in most_wrong[:10].itertuples(): # loop through the top 10 rows (change the index to view different rows)\n",
    "    _, text, target, pred, prob = row\n",
    "    print(f\"Target: {target},\\nPred: {int(pred)}\\nProb: {prob}\")\n",
    "    print(f\"Text:\\n{text}\\n\")\n",
    "    print(\"----\\n\")"
   ]
  },
  {
   "cell_type": "code",
   "execution_count": 770,
   "id": "4ca9ea60",
   "metadata": {},
   "outputs": [
    {
     "name": "stdout",
     "output_type": "stream",
     "text": [
      "Target: 1,\n",
      "Pred: 0\n",
      "Prob: 0.10335428267717361\n",
      "Text:\n",
      "only had a car for not even a week and got in a fucking car accident .. Mfs can't fucking drive .\n",
      "\n",
      "----\n",
      "\n",
      "Target: 1,\n",
      "Pred: 0\n",
      "Prob: 0.09707539528608322\n",
      "Text:\n",
      "@SaintRobinho86 someone has to be at the bottom of every league. Tonight clearly demonstrated why the Lions are where they are - sunk!\n",
      "\n",
      "----\n",
      "\n",
      "Target: 1,\n",
      "Pred: 0\n",
      "Prob: 0.09427953511476517\n",
      "Text:\n",
      "Skinny Jeans are Hazardous for Your Health! #socialnews http://t.co/92Pk0HujD8\n",
      "\n",
      "----\n",
      "\n",
      "Target: 1,\n",
      "Pred: 0\n",
      "Prob: 0.07325778156518936\n",
      "Text:\n",
      "The little girl next to me sees the spot lights in the sky and screams ' mom! Look I see Angels in the sky!' ????\n",
      "\n",
      "----\n",
      "\n",
      "Target: 1,\n",
      "Pred: 0\n",
      "Prob: 0.07005015760660172\n",
      "Text:\n",
      "Chick masturbates a guy until she gets exploded on her face &gt; http://t.co/5QhoeHE9hf\n",
      "\n",
      "----\n",
      "\n",
      "Target: 1,\n",
      "Pred: 0\n",
      "Prob: 0.052195604890584946\n",
      "Text:\n",
      "?? New Ladies Shoulder Tote #Handbag Faux Leather Hobo Purse Cross Body Bag #Womens http://t.co/zujwUiomb3 http://t.co/iap4LwvqsW\n",
      "\n",
      "----\n",
      "\n",
      "Target: 1,\n",
      "Pred: 0\n",
      "Prob: 0.048302892595529556\n",
      "Text:\n",
      "Butt Trauma Extraordinaire\n",
      "\n",
      "----\n",
      "\n",
      "Target: 1,\n",
      "Pred: 0\n",
      "Prob: 0.04000095650553703\n",
      "Text:\n",
      "@SoonerMagic_ I mean I'm a fan but I don't need a girl sounding off like a damn siren\n",
      "\n",
      "----\n",
      "\n",
      "Target: 1,\n",
      "Pred: 0\n",
      "Prob: 0.03922845423221588\n",
      "Text:\n",
      "OMFG??\n",
      "Didnt expect Drag Me Down to be the first song Pandora played \n",
      "\n",
      "OMFG I SCREAMED SO LOUD\n",
      "My coworker is scared http://t.co/VzcvAdkcQp\n",
      "\n",
      "----\n",
      "\n",
      "Target: 1,\n",
      "Pred: 0\n",
      "Prob: 0.03636046126484871\n",
      "Text:\n",
      "This is set to become a huge one month wonder. (And then Pornhub will be inundated....) http://t.co/gghfx8PzMh\n",
      "\n",
      "----\n",
      "\n"
     ]
    }
   ],
   "source": [
    "# Check the false negatives (model predicted 0 when should've been 1)\n",
    "for row in most_wrong[-10:].itertuples(): # loop through the top 10 rows (change the index to view different rows)\n",
    "    _, text, target, pred, prob = row\n",
    "    print(f\"Target: {target},\\nPred: {int(pred)}\\nProb: {prob}\")\n",
    "    print(f\"Text:\\n{text}\\n\")\n",
    "    print(\"----\\n\")"
   ]
  },
  {
   "cell_type": "code",
   "execution_count": 772,
   "id": "808e17f0",
   "metadata": {},
   "outputs": [
    {
     "data": {
      "text/html": [
       "<div>\n",
       "<style scoped>\n",
       "    .dataframe tbody tr th:only-of-type {\n",
       "        vertical-align: middle;\n",
       "    }\n",
       "\n",
       "    .dataframe tbody tr th {\n",
       "        vertical-align: top;\n",
       "    }\n",
       "\n",
       "    .dataframe thead th {\n",
       "        text-align: right;\n",
       "    }\n",
       "</style>\n",
       "<table border=\"1\" class=\"dataframe\">\n",
       "  <thead>\n",
       "    <tr style=\"text-align: right;\">\n",
       "      <th></th>\n",
       "      <th>id</th>\n",
       "      <th>keyword</th>\n",
       "      <th>location</th>\n",
       "      <th>text</th>\n",
       "    </tr>\n",
       "  </thead>\n",
       "  <tbody>\n",
       "    <tr>\n",
       "      <th>0</th>\n",
       "      <td>0</td>\n",
       "      <td>NaN</td>\n",
       "      <td>NaN</td>\n",
       "      <td>Just happened a terrible car crash</td>\n",
       "    </tr>\n",
       "    <tr>\n",
       "      <th>1</th>\n",
       "      <td>2</td>\n",
       "      <td>NaN</td>\n",
       "      <td>NaN</td>\n",
       "      <td>Heard about #earthquake is different cities, s...</td>\n",
       "    </tr>\n",
       "    <tr>\n",
       "      <th>2</th>\n",
       "      <td>3</td>\n",
       "      <td>NaN</td>\n",
       "      <td>NaN</td>\n",
       "      <td>there is a forest fire at spot pond, geese are...</td>\n",
       "    </tr>\n",
       "    <tr>\n",
       "      <th>3</th>\n",
       "      <td>9</td>\n",
       "      <td>NaN</td>\n",
       "      <td>NaN</td>\n",
       "      <td>Apocalypse lighting. #Spokane #wildfires</td>\n",
       "    </tr>\n",
       "    <tr>\n",
       "      <th>4</th>\n",
       "      <td>11</td>\n",
       "      <td>NaN</td>\n",
       "      <td>NaN</td>\n",
       "      <td>Typhoon Soudelor kills 28 in China and Taiwan</td>\n",
       "    </tr>\n",
       "  </tbody>\n",
       "</table>\n",
       "</div>"
      ],
      "text/plain": [
       "   id keyword location                                               text\n",
       "0   0     NaN      NaN                 Just happened a terrible car crash\n",
       "1   2     NaN      NaN  Heard about #earthquake is different cities, s...\n",
       "2   3     NaN      NaN  there is a forest fire at spot pond, geese are...\n",
       "3   9     NaN      NaN           Apocalypse lighting. #Spokane #wildfires\n",
       "4  11     NaN      NaN      Typhoon Soudelor kills 28 in China and Taiwan"
      ]
     },
     "execution_count": 772,
     "metadata": {},
     "output_type": "execute_result"
    }
   ],
   "source": [
    "test_df.head()"
   ]
  },
  {
   "cell_type": "markdown",
   "id": "5ee6ea9d",
   "metadata": {},
   "source": [
    "## Making predictions on the test dataset"
   ]
  },
  {
   "cell_type": "code",
   "execution_count": 776,
   "id": "c8581feb",
   "metadata": {},
   "outputs": [
    {
     "data": {
      "text/plain": [
       "['Just happened a terrible car crash',\n",
       " 'Heard about #earthquake is different cities, stay safe everyone.',\n",
       " 'there is a forest fire at spot pond, geese are fleeing across the street, I cannot save them all',\n",
       " 'Apocalypse lighting. #Spokane #wildfires',\n",
       " 'Typhoon Soudelor kills 28 in China and Taiwan']"
      ]
     },
     "execution_count": 776,
     "metadata": {},
     "output_type": "execute_result"
    }
   ],
   "source": [
    "test_text= test_df['text'].to_list()\n",
    "test_text[:5]"
   ]
  },
  {
   "cell_type": "code",
   "execution_count": 800,
   "id": "34d96a6d",
   "metadata": {},
   "outputs": [
    {
     "name": "stdout",
     "output_type": "stream",
     "text": [
      "1/1 [==============================] - 0s 69ms/step\n",
      "pred: 0\n",
      "prob: 0.08552152663469315\n",
      "sentence:\n",
      " Aramis will crush 1 pitch strop\n",
      "\n",
      "\n",
      "1/1 [==============================] - 0s 49ms/step\n",
      "pred: 0\n",
      "prob: 0.2449064552783966\n",
      "sentence:\n",
      " ÛÏTell Shinichi Kudo that IÛªm giving him 3 minutes to enjoy it..Û -Moriya Teiji famous architect from The Time Bombed Skyscraper\n",
      "\n",
      "\n",
      "1/1 [==============================] - 0s 52ms/step\n",
      "pred: 0\n",
      "prob: 0.15297985076904297\n",
      "sentence:\n",
      " 'Failure doesnÛªt exist. ItÛªs only a change of direction' - Alejandro Jodorowsky (via buildings-on-fire) http://t.co/ByMVemW4xF\n",
      "\n",
      "\n",
      "1/1 [==============================] - 0s 42ms/step\n",
      "pred: 0\n",
      "prob: 0.10170187056064606\n",
      "sentence:\n",
      " @justinbieber @ArianaGrande IMA SCREAMING HSBFUCKJSJ\n",
      "\n",
      "\n",
      "1/1 [==============================] - 0s 37ms/step\n",
      "pred: 0\n",
      "prob: 0.46688851714134216\n",
      "sentence:\n",
      " Cyclone hits Skye  http://t.co/QZYeRMrQtW http://t.co/N5AI9pQNjg\n",
      "\n",
      "\n",
      "1/1 [==============================] - 0s 40ms/step\n",
      "pred: 0\n",
      "prob: 0.23958247900009155\n",
      "sentence:\n",
      " Literally for lunch i had cheese curds and for dinner i had a blizzard pls pray for my health\n",
      "\n",
      "\n",
      "1/1 [==============================] - 0s 37ms/step\n",
      "pred: 0\n",
      "prob: 0.13767699897289276\n",
      "sentence:\n",
      " @JPens4Real21 Geno has weapons now I'll give him the benefit of the doubt this year. I'm just not a huge believer. Still not mature enough.\n",
      "\n",
      "\n",
      "1/1 [==============================] - 0s 45ms/step\n",
      "pred: 1\n",
      "prob: 0.8011414408683777\n",
      "sentence:\n",
      " Just had to evacuate the 100 Oaks Regal theater. I've never been more terrified.\n",
      "\n",
      "\n",
      "1/1 [==============================] - 0s 43ms/step\n",
      "pred: 0\n",
      "prob: 0.10688475519418716\n",
      "sentence:\n",
      " @LordMinion777 *screaming* i can't go!!!\n",
      ":(\n",
      "\n",
      "\n",
      "1/1 [==============================] - 0s 58ms/step\n",
      "pred: 1\n",
      "prob: 0.989088773727417\n",
      "sentence:\n",
      " #AUS Aircraft debris found on island is from MH370 Malaysia confirms http://t.co/1zFGk9ET5v #abc\n",
      "\n",
      "\n"
     ]
    }
   ],
   "source": [
    "test_samples= random.sample(test_text,10)\n",
    "for sample in test_samples:\n",
    "    pred_prob= tf.squeeze(loaded_model_6.predict([sample]))\n",
    "    pred= tf.round(pred_prob)\n",
    "    print(f'pred: {int(pred)}\\nprob: {pred_prob}\\nsentence:\\n {sample}\\n\\n')"
   ]
  },
  {
   "cell_type": "code",
   "execution_count": 785,
   "id": "a57c4c5f",
   "metadata": {},
   "outputs": [
    {
     "data": {
      "text/plain": [
       "10"
      ]
     },
     "execution_count": 785,
     "metadata": {},
     "output_type": "execute_result"
    }
   ],
   "source": [
    "len(test_samples)"
   ]
  },
  {
   "cell_type": "markdown",
   "id": "fb3f6e0c",
   "metadata": {},
   "source": [
    "## The speed/score tradeoff"
   ]
  },
  {
   "cell_type": "code",
   "execution_count": 802,
   "id": "8df50968",
   "metadata": {},
   "outputs": [],
   "source": [
    "# Calculate the time of predictions\n",
    "import time\n",
    "def pred_timer(model, samples):\n",
    "    \"\"\"\n",
    "    Times how long a model takes to make predictions on samples.\n",
    "\n",
    "    Args:\n",
    "    ----\n",
    "    model = a trained model\n",
    "    sample = a list of samples\n",
    "\n",
    "    Returns:\n",
    "    ----\n",
    "    total_time = total elapsed time for model to make predictions on samples\n",
    "    time_per_pred = time in seconds per single sample\n",
    "    \"\"\"\n",
    "    start_time= time.perf_counter()\n",
    "    model.predict(samples)\n",
    "    total_time= time.perf_counter() - start_time\n",
    "    \n",
    "    time_per_pred=total_time/len(samples)\n",
    "    return total_time, time_per_pred"
   ]
  },
  {
   "cell_type": "code",
   "execution_count": 804,
   "id": "9652dcfc",
   "metadata": {},
   "outputs": [
    {
     "name": "stdout",
     "output_type": "stream",
     "text": [
      "24/24 [==============================] - 0s 8ms/step\n"
     ]
    },
    {
     "data": {
      "text/plain": [
       "(0.30845764800324105, 0.00040480006299637935)"
      ]
     },
     "execution_count": 804,
     "metadata": {},
     "output_type": "execute_result"
    }
   ],
   "source": [
    "model_6_total_pred_time, model_6_time_per_pred= pred_timer(loaded_model_6, validation_text)\n",
    "model_6_total_pred_time, model_6_time_per_pred"
   ]
  },
  {
   "cell_type": "code",
   "execution_count": 805,
   "id": "7cc72d17",
   "metadata": {},
   "outputs": [
    {
     "data": {
      "text/plain": [
       "(0.07755053100117948, 0.00010177235039524866)"
      ]
     },
     "execution_count": 805,
     "metadata": {},
     "output_type": "execute_result"
    }
   ],
   "source": [
    "baseline_total_pred_time, baseline_time_per_pred= pred_timer(model_0, validation_text)\n",
    "baseline_total_pred_time, baseline_time_per_pred"
   ]
  },
  {
   "cell_type": "code",
   "execution_count": 807,
   "id": "6a80f5cc",
   "metadata": {},
   "outputs": [
    {
     "data": {
      "text/plain": [
       "(3.977505299074608, 3.977505299074608)"
      ]
     },
     "execution_count": 807,
     "metadata": {},
     "output_type": "execute_result"
    }
   ],
   "source": [
    "model_6_total_pred_time/baseline_total_pred_time,  model_6_time_per_pred/baseline_time_per_pred"
   ]
  },
  {
   "cell_type": "code",
   "execution_count": 827,
   "id": "66ff8a70",
   "metadata": {
    "scrolled": false
   },
   "outputs": [
    {
     "data": {
      "image/png": "[encoded data removed]",
      "text/plain": [
       "<Figure size 1000x600 with 1 Axes>"
      ]
     },
     "metadata": {},
     "output_type": "display_data"
    }
   ],
   "source": [
    "import matplotlib.pyplot as plt\n",
    "\n",
    "plt.figure(figsize=(10,6))\n",
    "plt.scatter(baseline_time_per_pred, model_0_results_['f1'], label='baseline')\n",
    "plt.scatter(model_6_time_per_pred, model_6_results_['f1'], label='tf_hub_USE')\n",
    "plt.legend()\n",
    "plt.title(\"F1-score versus time per prediction\")\n",
    "plt.xlabel(\"Time per prediction\")\n",
    "plt.ylabel(\"F1-Score\");\n"
   ]
  },
  {
   "cell_type": "code",
   "execution_count": null,
   "id": "92b069dc",
   "metadata": {},
   "outputs": [],
   "source": []
  },
  {
   "cell_type": "code",
   "execution_count": null,
   "id": "6c9e45d9",
   "metadata": {},
   "outputs": [],
   "source": []
  }
 ],
 "metadata": {
  "kernelspec": {
   "display_name": "Tensorflow_Certificate",
   "language": "python",
   "name": "tensorflow_certificate"
  },
  "language_info": {
   "codemirror_mode": {
    "name": "ipython",
    "version": 3
   },
   "file_extension": ".py",
   "mimetype": "text/x-python",
   "name": "python",
   "nbconvert_exporter": "python",
   "pygments_lexer": "ipython3",
   "version": "3.12.3"
  }
 },
 "nbformat": 4,
 "nbformat_minor": 5
}

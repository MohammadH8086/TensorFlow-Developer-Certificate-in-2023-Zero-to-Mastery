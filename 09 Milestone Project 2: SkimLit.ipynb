{
 "cells": [
  {
   "cell_type": "markdown",
   "id": "2e13cb13",
   "metadata": {},
   "source": [
    "## Milestone Project 2: SkimLit 📄🔥\n",
    "The purpose of this notebook is to build an NLP model to make reading medical abstracts easier.\n",
    "\n",
    "The paper we're replicating (the source of the dataset that we'll be using) is available here: https://arxiv.org/abs/1710.06071\n",
    "\n",
    "And reading through the paper above, we see that the model architecture that they use to achieve their best results is available here: https://arxiv.org/abs/1612.05251\n",
    "\n",
    "📖 Resource: If you want to find the ground truth for this notebook (with lots of diagrams and text annotations) see the GitHub: https://github.com/mrdbourke/tensorflow-deep-learning/blob/main/09_SkimLit_nlp_milestone_project_2.ipynb"
   ]
  },
  {
   "cell_type": "markdown",
   "id": "6b11e7d3",
   "metadata": {},
   "source": [
    "## Get data\n",
    "Since we'll be replicating the paper above (PubMed 200k RCT), let's download the dataset they used.\n",
    "\n",
    "We can do so from the authors GitHub: https://github.com/Franck-Dernoncourt/pubmed-rct"
   ]
  },
  {
   "cell_type": "code",
   "execution_count": 1,
   "id": "2a6a61b8",
   "metadata": {},
   "outputs": [
    {
     "data": {
      "text/plain": [
       "'1'"
      ]
     },
     "execution_count": 1,
     "metadata": {},
     "output_type": "execute_result"
    }
   ],
   "source": [
    "import os\n",
    "#import tf_keras\n",
    "os.environ['TF_USE_LEGACY_KERAS']='1'\n",
    "os.environ['TF_USE_LEGACY_KERAS']"
   ]
  },
  {
   "cell_type": "code",
   "execution_count": 2,
   "id": "e86e2672",
   "metadata": {},
   "outputs": [
    {
     "name": "stderr",
     "output_type": "stream",
     "text": [
      "2024-09-10 17:45:14.738228: E external/local_xla/xla/stream_executor/cuda/cuda_fft.cc:485] Unable to register cuFFT factory: Attempting to register factory for plugin cuFFT when one has already been registered\n",
      "2024-09-10 17:45:14.761113: E external/local_xla/xla/stream_executor/cuda/cuda_dnn.cc:8454] Unable to register cuDNN factory: Attempting to register factory for plugin cuDNN when one has already been registered\n",
      "2024-09-10 17:45:14.768178: E external/local_xla/xla/stream_executor/cuda/cuda_blas.cc:1452] Unable to register cuBLAS factory: Attempting to register factory for plugin cuBLAS when one has already been registered\n",
      "2024-09-10 17:45:14.785244: I tensorflow/core/platform/cpu_feature_guard.cc:210] This TensorFlow binary is optimized to use available CPU instructions in performance-critical operations.\n",
      "To enable the following instructions: AVX2 FMA, in other operations, rebuild TensorFlow with the appropriate compiler flags.\n",
      "2024-09-10 17:45:16.089899: W tensorflow/compiler/tf2tensorrt/utils/py_utils.cc:38] TF-TRT Warning: Could not find TensorRT\n"
     ]
    },
    {
     "data": {
      "text/plain": [
       "'2.17.0'"
      ]
     },
     "execution_count": 2,
     "metadata": {},
     "output_type": "execute_result"
    }
   ],
   "source": [
    "import tensorflow as tf\n",
    "\n",
    "tf.__version__"
   ]
  },
  {
   "cell_type": "code",
   "execution_count": 3,
   "id": "1b17d132",
   "metadata": {},
   "outputs": [],
   "source": [
    "#tf_keras.__version__"
   ]
  },
  {
   "cell_type": "code",
   "execution_count": 4,
   "id": "479eb077",
   "metadata": {},
   "outputs": [],
   "source": [
    "#tf.keras.__version__"
   ]
  },
  {
   "cell_type": "code",
   "execution_count": 5,
   "id": "75c1a5cc",
   "metadata": {},
   "outputs": [],
   "source": [
    "#!git clone https://github.com/Franck-Dernoncourt/pubmed-rct"
   ]
  },
  {
   "cell_type": "code",
   "execution_count": 6,
   "id": "ca9f89d8",
   "metadata": {},
   "outputs": [
    {
     "name": "stdout",
     "output_type": "stream",
     "text": [
      "PubMed_200k_RCT\r\n",
      "PubMed_200k_RCT_numbers_replaced_with_at_sign\r\n",
      "PubMed_20k_RCT\r\n",
      "PubMed_20k_RCT_numbers_replaced_with_at_sign\r\n",
      "README.md\r\n"
     ]
    }
   ],
   "source": [
    "!ls pubmed-rct"
   ]
  },
  {
   "cell_type": "code",
   "execution_count": 7,
   "id": "e958f62b",
   "metadata": {},
   "outputs": [
    {
     "name": "stdout",
     "output_type": "stream",
     "text": [
      "dev.txt  test.txt  train.txt\r\n"
     ]
    }
   ],
   "source": [
    "!ls pubmed-rct/PubMed_20k_RCT/"
   ]
  },
  {
   "cell_type": "code",
   "execution_count": 8,
   "id": "53776fae",
   "metadata": {},
   "outputs": [],
   "source": [
    "# Start our experiments using the 20k dataset with numbers replaced by \"@\" sign\n",
    "data_dir='pubmed-rct/PubMed_20k_RCT_numbers_replaced_with_at_sign/'"
   ]
  },
  {
   "cell_type": "code",
   "execution_count": 9,
   "id": "e80a4f01",
   "metadata": {},
   "outputs": [
    {
     "data": {
      "text/plain": [
       "['pubmed-rct/PubMed_20k_RCT_numbers_replaced_with_at_sign/dev.txt',\n",
       " 'pubmed-rct/PubMed_20k_RCT_numbers_replaced_with_at_sign/test.txt',\n",
       " 'pubmed-rct/PubMed_20k_RCT_numbers_replaced_with_at_sign/train.txt']"
      ]
     },
     "execution_count": 9,
     "metadata": {},
     "output_type": "execute_result"
    }
   ],
   "source": [
    "# Check all of the filenames in the target directory\n",
    "import os\n",
    "\n",
    "filenames= [data_dir + filename for filename in os.listdir(data_dir)]\n",
    "filenames"
   ]
  },
  {
   "cell_type": "markdown",
   "id": "f247e4c7",
   "metadata": {},
   "source": [
    "## Preprocess data\n",
    "Now we've got some text data, it's time to become one with it.\n",
    "\n",
    "And one of the best ways to become one with the data is to...\n",
    "\n",
    ">Visualize, visualize, visualize\n",
    "\n",
    "So with that in mind, let's write a function to read in all of the lines of a target text file."
   ]
  },
  {
   "cell_type": "code",
   "execution_count": 10,
   "id": "bd4a41ec",
   "metadata": {},
   "outputs": [],
   "source": [
    "# Create function to read the lines of a document\n",
    "def get_lines(filename):\n",
    "    with open(filename, 'r') as f:\n",
    "        return f.readlines()\n"
   ]
  },
  {
   "cell_type": "code",
   "execution_count": 11,
   "id": "8fbef12b",
   "metadata": {},
   "outputs": [],
   "source": [
    "# Let's read in the training lines\n",
    "train_lines= get_lines(data_dir + 'train.txt')"
   ]
  },
  {
   "cell_type": "code",
   "execution_count": 12,
   "id": "dca36cf1",
   "metadata": {},
   "outputs": [
    {
     "data": {
      "text/plain": [
       "'pubmed-rct/PubMed_20k_RCT_numbers_replaced_with_at_sign/'"
      ]
     },
     "execution_count": 12,
     "metadata": {},
     "output_type": "execute_result"
    }
   ],
   "source": [
    "data_dir"
   ]
  },
  {
   "cell_type": "code",
   "execution_count": 13,
   "id": "1db17df7",
   "metadata": {},
   "outputs": [
    {
     "data": {
      "text/plain": [
       "210040"
      ]
     },
     "execution_count": 13,
     "metadata": {},
     "output_type": "execute_result"
    }
   ],
   "source": [
    "len(train_lines)"
   ]
  },
  {
   "cell_type": "code",
   "execution_count": 14,
   "id": "abf3d261",
   "metadata": {},
   "outputs": [
    {
     "name": "stdout",
     "output_type": "stream",
     "text": [
      "0\t ###24293578\n",
      "\n",
      "1\t OBJECTIVE\tTo investigate the efficacy of @ weeks of daily low-dose oral prednisolone in improving pain , mobility , and systemic low-grade inflammation in the short term and whether the effect would be sustained at @ weeks in older adults with moderate to severe knee osteoarthritis ( OA ) .\n",
      "\n",
      "2\t METHODS\tA total of @ patients with primary knee OA were randomized @:@ ; @ received @ mg/day of prednisolone and @ received placebo for @ weeks .\n",
      "\n",
      "3\t METHODS\tOutcome measures included pain reduction and improvement in function scores and systemic inflammation markers .\n",
      "\n",
      "4\t METHODS\tPain was assessed using the visual analog pain scale ( @-@ mm ) .\n",
      "\n",
      "5\t METHODS\tSecondary outcome measures included the Western Ontario and McMaster Universities Osteoarthritis Index scores , patient global assessment ( PGA ) of the severity of knee OA , and @-min walk distance ( @MWD ) .\n",
      "\n",
      "6\t METHODS\tSerum levels of interleukin @ ( IL-@ ) , IL-@ , tumor necrosis factor ( TNF ) - , and high-sensitivity C-reactive protein ( hsCRP ) were measured .\n",
      "\n",
      "7\t RESULTS\tThere was a clinically relevant reduction in the intervention group compared to the placebo group for knee pain , physical function , PGA , and @MWD at @ weeks .\n",
      "\n",
      "8\t RESULTS\tThe mean difference between treatment arms ( @ % CI ) was @ ( @-@ @ ) , p < @ ; @ ( @-@ @ ) , p < @ ; @ ( @-@ @ ) , p < @ ; and @ ( @-@ @ ) , p < @ , respectively .\n",
      "\n",
      "9\t RESULTS\tFurther , there was a clinically relevant reduction in the serum levels of IL-@ , IL-@ , TNF - , and hsCRP at @ weeks in the intervention group when compared to the placebo group .\n",
      "\n",
      "10\t RESULTS\tThese differences remained significant at @ weeks .\n",
      "\n",
      "11\t RESULTS\tThe Outcome Measures in Rheumatology Clinical Trials-Osteoarthritis Research Society International responder rate was @ % in the intervention group and @ % in the placebo group ( p < @ ) .\n",
      "\n",
      "12\t CONCLUSIONS\tLow-dose oral prednisolone had both a short-term and a longer sustained effect resulting in less knee pain , better physical function , and attenuation of systemic inflammation in older patients with knee OA ( ClinicalTrials.gov identifier NCT@ ) .\n",
      "\n",
      "13\t \n",
      "\n",
      "14\t ###24854809\n",
      "\n",
      "15\t BACKGROUND\tEmotional eating is associated with overeating and the development of obesity .\n",
      "\n",
      "16\t BACKGROUND\tYet , empirical evidence for individual ( trait ) differences in emotional eating and cognitive mechanisms that contribute to eating during sad mood remain equivocal .\n",
      "\n",
      "17\t OBJECTIVE\tThe aim of this study was to test if attention bias for food moderates the effect of self-reported emotional eating during sad mood ( vs neutral mood ) on actual food intake .\n",
      "\n",
      "18\t OBJECTIVE\tIt was expected that emotional eating is predictive of elevated attention for food and higher food intake after an experimentally induced sad mood and that attentional maintenance on food predicts food intake during a sad versus a neutral mood .\n",
      "\n",
      "19\t METHODS\tParticipants ( N = @ ) were randomly assigned to one of the two experimental mood induction conditions ( sad/neutral ) .\n",
      "\n"
     ]
    }
   ],
   "source": [
    "for i, sentence in enumerate(train_lines[:20]):\n",
    "    print(f'{i}\\t {sentence}')"
   ]
  },
  {
   "cell_type": "code",
   "execution_count": 15,
   "id": "920bddaa",
   "metadata": {},
   "outputs": [
    {
     "data": {
      "text/plain": [
       "['###24293578\\n',\n",
       " 'OBJECTIVE\\tTo investigate the efficacy of @ weeks of daily low-dose oral prednisolone in improving pain , mobility , and systemic low-grade inflammation in the short term and whether the effect would be sustained at @ weeks in older adults with moderate to severe knee osteoarthritis ( OA ) .\\n',\n",
       " 'METHODS\\tA total of @ patients with primary knee OA were randomized @:@ ; @ received @ mg/day of prednisolone and @ received placebo for @ weeks .\\n',\n",
       " 'METHODS\\tOutcome measures included pain reduction and improvement in function scores and systemic inflammation markers .\\n',\n",
       " 'METHODS\\tPain was assessed using the visual analog pain scale ( @-@ mm ) .\\n',\n",
       " 'METHODS\\tSecondary outcome measures included the Western Ontario and McMaster Universities Osteoarthritis Index scores , patient global assessment ( PGA ) of the severity of knee OA , and @-min walk distance ( @MWD ) .\\n',\n",
       " 'METHODS\\tSerum levels of interleukin @ ( IL-@ ) , IL-@ , tumor necrosis factor ( TNF ) - , and high-sensitivity C-reactive protein ( hsCRP ) were measured .\\n',\n",
       " 'RESULTS\\tThere was a clinically relevant reduction in the intervention group compared to the placebo group for knee pain , physical function , PGA , and @MWD at @ weeks .\\n',\n",
       " 'RESULTS\\tThe mean difference between treatment arms ( @ % CI ) was @ ( @-@ @ ) , p < @ ; @ ( @-@ @ ) , p < @ ; @ ( @-@ @ ) , p < @ ; and @ ( @-@ @ ) , p < @ , respectively .\\n',\n",
       " 'RESULTS\\tFurther , there was a clinically relevant reduction in the serum levels of IL-@ , IL-@ , TNF - , and hsCRP at @ weeks in the intervention group when compared to the placebo group .\\n',\n",
       " 'RESULTS\\tThese differences remained significant at @ weeks .\\n',\n",
       " 'RESULTS\\tThe Outcome Measures in Rheumatology Clinical Trials-Osteoarthritis Research Society International responder rate was @ % in the intervention group and @ % in the placebo group ( p < @ ) .\\n',\n",
       " 'CONCLUSIONS\\tLow-dose oral prednisolone had both a short-term and a longer sustained effect resulting in less knee pain , better physical function , and attenuation of systemic inflammation in older patients with knee OA ( ClinicalTrials.gov identifier NCT@ ) .\\n',\n",
       " '\\n',\n",
       " '###24854809\\n',\n",
       " 'BACKGROUND\\tEmotional eating is associated with overeating and the development of obesity .\\n',\n",
       " 'BACKGROUND\\tYet , empirical evidence for individual ( trait ) differences in emotional eating and cognitive mechanisms that contribute to eating during sad mood remain equivocal .\\n',\n",
       " 'OBJECTIVE\\tThe aim of this study was to test if attention bias for food moderates the effect of self-reported emotional eating during sad mood ( vs neutral mood ) on actual food intake .\\n',\n",
       " 'OBJECTIVE\\tIt was expected that emotional eating is predictive of elevated attention for food and higher food intake after an experimentally induced sad mood and that attentional maintenance on food predicts food intake during a sad versus a neutral mood .\\n',\n",
       " 'METHODS\\tParticipants ( N = @ ) were randomly assigned to one of the two experimental mood induction conditions ( sad/neutral ) .\\n']"
      ]
     },
     "execution_count": 15,
     "metadata": {},
     "output_type": "execute_result"
    }
   ],
   "source": [
    "train_lines[:20]"
   ]
  },
  {
   "cell_type": "markdown",
   "id": "76b86d32",
   "metadata": {},
   "source": [
    "Let's think about how we want our data to look...\n",
    "\n",
    "How I think our data would be best represented...\n",
    "```\n",
    "[{'line_number': 0,\n",
    "   'target': 'BACKGROUND',\n",
    "   'text': \"Emotional eating is associated with overeating and the development of obesity .\\n\"\n",
    "   'total_lines': 11},\n",
    "   ...]\n",
    "```\n",
    "Let's write a function which turns each of our datasets into the above format so we can continue to prepare our data for modelling."
   ]
  },
  {
   "cell_type": "code",
   "execution_count": 16,
   "id": "b23f5666",
   "metadata": {},
   "outputs": [
    {
     "data": {
      "text/plain": [
       "list"
      ]
     },
     "execution_count": 16,
     "metadata": {},
     "output_type": "execute_result"
    }
   ],
   "source": [
    "type(train_lines)"
   ]
  },
  {
   "cell_type": "code",
   "execution_count": 17,
   "id": "85355a6d",
   "metadata": {},
   "outputs": [],
   "source": [
    "def preprocess_text_with_line_numbers(filename):\n",
    "    \"\"\"\n",
    "    Returns a list of dictionaries of abstract line data.\n",
    "\n",
    "    Takes in filename, reads it contents and sorts through each line,\n",
    "    extracting things like the target label, the text of the sentnece,\n",
    "    how many sentences are in the current abstract and what sentence\n",
    "    number the target line is.\n",
    "    \n",
    "    Args:\n",
    "        filename: a string of the target text file to read and extract line data\n",
    "        from.\n",
    "\n",
    "    Returns:\n",
    "        A list of dictionaries each containing a line from an abstract,\n",
    "        the lines label, the lines position in the abstract and the total number\n",
    "        of lines in the abstract where the line is from. For example:\n",
    "\n",
    "        [{\"target\": 'CONCLUSION',\n",
    "        \"text\": The study couldn't have gone better, turns out people are kinder than you think\",\n",
    "        \"line_number\": 8,\n",
    "        \"total_lines\": 8}]\n",
    "    \"\"\"\n",
    "    input_lines= get_lines(filename) # get all lines from filename\n",
    "    abstract_lines=\"\" # create an empty abstract \n",
    "    abstract_samples=[] # create an empty list of abstracts\n",
    "    \n",
    "    # Loop through each line in the target file\n",
    "    for line in input_lines:\n",
    "        if line.startswith('###'): # check to see if this is an ID line\n",
    "            #abstract_id= line # set the abstract ID\n",
    "            abstract_lines=\"\" # reset the abstract string\n",
    "        \n",
    "        elif line.isspace(): # check to see if line is a new line\n",
    "            abstract_lines_split= abstract_lines.splitlines() # split abstract into separate lines\n",
    "            \n",
    "            # Iterate through each line in abstract and count them at the same time\n",
    "            for abstract_line_number, abstract_line in enumerate(abstract_lines_split):\n",
    "                line_data={} # create an empty dictionary for each line\n",
    "                target_text_split= abstract_line.split('\\t') # split target label from text\n",
    "                line_data['target']= target_text_split[0] # get target label\n",
    "                line_data['text']= target_text_split[1].lower() # get the target text and lower it\n",
    "                line_data['line_number']= abstract_line_number\n",
    "                line_data['total_lines']= len(abstract_lines_split)-1\n",
    "                \n",
    "                abstract_samples.append(line_data)\n",
    "        \n",
    "        else: #  if the above conditions aren't fulfilled, the line contains a labelled sentence\n",
    "            abstract_lines += line\n",
    "                \n",
    "    return abstract_samples"
   ]
  },
  {
   "cell_type": "code",
   "execution_count": 18,
   "id": "6505ec48",
   "metadata": {},
   "outputs": [
    {
     "data": {
      "text/plain": [
       "(False, False)"
      ]
     },
     "execution_count": 18,
     "metadata": {},
     "output_type": "execute_result"
    }
   ],
   "source": [
    "a='###25552432' \n",
    "b='\\n'\n",
    "a.isalpha(), b.isalpha()"
   ]
  },
  {
   "cell_type": "code",
   "execution_count": 19,
   "id": "7022b5a5",
   "metadata": {},
   "outputs": [
    {
     "data": {
      "text/plain": [
       "False"
      ]
     },
     "execution_count": 19,
     "metadata": {},
     "output_type": "execute_result"
    }
   ],
   "source": [
    "a='water\\n'\n",
    "a.isalpha()"
   ]
  },
  {
   "cell_type": "code",
   "execution_count": 20,
   "id": "d0d5acd1",
   "metadata": {},
   "outputs": [
    {
     "data": {
      "text/plain": [
       "False"
      ]
     },
     "execution_count": 20,
     "metadata": {},
     "output_type": "execute_result"
    }
   ],
   "source": [
    "a='water\\n'\n",
    "a.isspace()"
   ]
  },
  {
   "cell_type": "code",
   "execution_count": 21,
   "id": "285a1fd2",
   "metadata": {},
   "outputs": [
    {
     "data": {
      "text/plain": [
       "True"
      ]
     },
     "execution_count": 21,
     "metadata": {},
     "output_type": "execute_result"
    }
   ],
   "source": [
    "a='\\n'\n",
    "a.isspace()"
   ]
  },
  {
   "cell_type": "code",
   "execution_count": 22,
   "id": "9e5359c9",
   "metadata": {},
   "outputs": [
    {
     "data": {
      "text/plain": [
       "['How yo doing', 'Im ok']"
      ]
     },
     "execution_count": 22,
     "metadata": {},
     "output_type": "execute_result"
    }
   ],
   "source": [
    "a='How yo doing\\nIm ok'\n",
    "a.splitlines()"
   ]
  },
  {
   "cell_type": "code",
   "execution_count": 23,
   "id": "50b424b5",
   "metadata": {},
   "outputs": [
    {
     "data": {
      "text/plain": [
       "{'a': 1, 2: 2}"
      ]
     },
     "execution_count": 23,
     "metadata": {},
     "output_type": "execute_result"
    }
   ],
   "source": [
    "a={}\n",
    "a['a']=1\n",
    "a[2]=2\n",
    "a"
   ]
  },
  {
   "cell_type": "code",
   "execution_count": 24,
   "id": "ec4d5854",
   "metadata": {},
   "outputs": [
    {
     "name": "stdout",
     "output_type": "stream",
     "text": [
      "CPU times: user 4 μs, sys: 1 μs, total: 5 μs\n",
      "Wall time: 11.4 μs\n"
     ]
    },
    {
     "data": {
      "text/plain": [
       "(180040, 30212, 30135)"
      ]
     },
     "execution_count": 24,
     "metadata": {},
     "output_type": "execute_result"
    }
   ],
   "source": [
    "# Get data from file and preprocess it\n",
    "%time\n",
    "\n",
    "train_samples= preprocess_text_with_line_numbers(data_dir + 'train.txt')\n",
    "val_samples= preprocess_text_with_line_numbers(data_dir + 'dev.txt')\n",
    "test_samples= preprocess_text_with_line_numbers(data_dir + 'test.txt')\n",
    "\n",
    "len(train_samples) , len(val_samples), len(test_samples)"
   ]
  },
  {
   "cell_type": "code",
   "execution_count": 25,
   "id": "9cef9bdd",
   "metadata": {},
   "outputs": [
    {
     "data": {
      "text/plain": [
       "[{'target': 'OBJECTIVE',\n",
       "  'text': 'to investigate the efficacy of @ weeks of daily low-dose oral prednisolone in improving pain , mobility , and systemic low-grade inflammation in the short term and whether the effect would be sustained at @ weeks in older adults with moderate to severe knee osteoarthritis ( oa ) .',\n",
       "  'line_number': 0,\n",
       "  'total_lines': 11},\n",
       " {'target': 'METHODS',\n",
       "  'text': 'a total of @ patients with primary knee oa were randomized @:@ ; @ received @ mg/day of prednisolone and @ received placebo for @ weeks .',\n",
       "  'line_number': 1,\n",
       "  'total_lines': 11},\n",
       " {'target': 'METHODS',\n",
       "  'text': 'outcome measures included pain reduction and improvement in function scores and systemic inflammation markers .',\n",
       "  'line_number': 2,\n",
       "  'total_lines': 11},\n",
       " {'target': 'METHODS',\n",
       "  'text': 'pain was assessed using the visual analog pain scale ( @-@ mm ) .',\n",
       "  'line_number': 3,\n",
       "  'total_lines': 11},\n",
       " {'target': 'METHODS',\n",
       "  'text': 'secondary outcome measures included the western ontario and mcmaster universities osteoarthritis index scores , patient global assessment ( pga ) of the severity of knee oa , and @-min walk distance ( @mwd ) .',\n",
       "  'line_number': 4,\n",
       "  'total_lines': 11},\n",
       " {'target': 'METHODS',\n",
       "  'text': 'serum levels of interleukin @ ( il-@ ) , il-@ , tumor necrosis factor ( tnf ) - , and high-sensitivity c-reactive protein ( hscrp ) were measured .',\n",
       "  'line_number': 5,\n",
       "  'total_lines': 11},\n",
       " {'target': 'RESULTS',\n",
       "  'text': 'there was a clinically relevant reduction in the intervention group compared to the placebo group for knee pain , physical function , pga , and @mwd at @ weeks .',\n",
       "  'line_number': 6,\n",
       "  'total_lines': 11},\n",
       " {'target': 'RESULTS',\n",
       "  'text': 'the mean difference between treatment arms ( @ % ci ) was @ ( @-@ @ ) , p < @ ; @ ( @-@ @ ) , p < @ ; @ ( @-@ @ ) , p < @ ; and @ ( @-@ @ ) , p < @ , respectively .',\n",
       "  'line_number': 7,\n",
       "  'total_lines': 11},\n",
       " {'target': 'RESULTS',\n",
       "  'text': 'further , there was a clinically relevant reduction in the serum levels of il-@ , il-@ , tnf - , and hscrp at @ weeks in the intervention group when compared to the placebo group .',\n",
       "  'line_number': 8,\n",
       "  'total_lines': 11},\n",
       " {'target': 'RESULTS',\n",
       "  'text': 'these differences remained significant at @ weeks .',\n",
       "  'line_number': 9,\n",
       "  'total_lines': 11},\n",
       " {'target': 'RESULTS',\n",
       "  'text': 'the outcome measures in rheumatology clinical trials-osteoarthritis research society international responder rate was @ % in the intervention group and @ % in the placebo group ( p < @ ) .',\n",
       "  'line_number': 10,\n",
       "  'total_lines': 11},\n",
       " {'target': 'CONCLUSIONS',\n",
       "  'text': 'low-dose oral prednisolone had both a short-term and a longer sustained effect resulting in less knee pain , better physical function , and attenuation of systemic inflammation in older patients with knee oa ( clinicaltrials.gov identifier nct@ ) .',\n",
       "  'line_number': 11,\n",
       "  'total_lines': 11}]"
      ]
     },
     "execution_count": 25,
     "metadata": {},
     "output_type": "execute_result"
    }
   ],
   "source": [
    "# Check the first abstract of our training data\n",
    "(train_samples[:12])"
   ]
  },
  {
   "cell_type": "code",
   "execution_count": 26,
   "id": "2b85eff9",
   "metadata": {},
   "outputs": [],
   "source": [
    "# Turning dictionaries intp dataframes to further visualizing\n",
    "import pandas as pd\n",
    "train_df= pd.DataFrame(train_samples)\n",
    "val_df= pd.DataFrame(val_samples)\n",
    "test_df= pd.DataFrame(test_samples)"
   ]
  },
  {
   "cell_type": "code",
   "execution_count": 27,
   "id": "427c73aa",
   "metadata": {},
   "outputs": [
    {
     "data": {
      "text/html": [
       "<div>\n",
       "<style scoped>\n",
       "    .dataframe tbody tr th:only-of-type {\n",
       "        vertical-align: middle;\n",
       "    }\n",
       "\n",
       "    .dataframe tbody tr th {\n",
       "        vertical-align: top;\n",
       "    }\n",
       "\n",
       "    .dataframe thead th {\n",
       "        text-align: right;\n",
       "    }\n",
       "</style>\n",
       "<table border=\"1\" class=\"dataframe\">\n",
       "  <thead>\n",
       "    <tr style=\"text-align: right;\">\n",
       "      <th></th>\n",
       "      <th>target</th>\n",
       "      <th>text</th>\n",
       "      <th>line_number</th>\n",
       "      <th>total_lines</th>\n",
       "    </tr>\n",
       "  </thead>\n",
       "  <tbody>\n",
       "    <tr>\n",
       "      <th>0</th>\n",
       "      <td>OBJECTIVE</td>\n",
       "      <td>to investigate the efficacy of @ weeks of dail...</td>\n",
       "      <td>0</td>\n",
       "      <td>11</td>\n",
       "    </tr>\n",
       "    <tr>\n",
       "      <th>1</th>\n",
       "      <td>METHODS</td>\n",
       "      <td>a total of @ patients with primary knee oa wer...</td>\n",
       "      <td>1</td>\n",
       "      <td>11</td>\n",
       "    </tr>\n",
       "    <tr>\n",
       "      <th>2</th>\n",
       "      <td>METHODS</td>\n",
       "      <td>outcome measures included pain reduction and i...</td>\n",
       "      <td>2</td>\n",
       "      <td>11</td>\n",
       "    </tr>\n",
       "    <tr>\n",
       "      <th>3</th>\n",
       "      <td>METHODS</td>\n",
       "      <td>pain was assessed using the visual analog pain...</td>\n",
       "      <td>3</td>\n",
       "      <td>11</td>\n",
       "    </tr>\n",
       "    <tr>\n",
       "      <th>4</th>\n",
       "      <td>METHODS</td>\n",
       "      <td>secondary outcome measures included the wester...</td>\n",
       "      <td>4</td>\n",
       "      <td>11</td>\n",
       "    </tr>\n",
       "    <tr>\n",
       "      <th>5</th>\n",
       "      <td>METHODS</td>\n",
       "      <td>serum levels of interleukin @ ( il-@ ) , il-@ ...</td>\n",
       "      <td>5</td>\n",
       "      <td>11</td>\n",
       "    </tr>\n",
       "    <tr>\n",
       "      <th>6</th>\n",
       "      <td>RESULTS</td>\n",
       "      <td>there was a clinically relevant reduction in t...</td>\n",
       "      <td>6</td>\n",
       "      <td>11</td>\n",
       "    </tr>\n",
       "    <tr>\n",
       "      <th>7</th>\n",
       "      <td>RESULTS</td>\n",
       "      <td>the mean difference between treatment arms ( @...</td>\n",
       "      <td>7</td>\n",
       "      <td>11</td>\n",
       "    </tr>\n",
       "    <tr>\n",
       "      <th>8</th>\n",
       "      <td>RESULTS</td>\n",
       "      <td>further , there was a clinically relevant redu...</td>\n",
       "      <td>8</td>\n",
       "      <td>11</td>\n",
       "    </tr>\n",
       "    <tr>\n",
       "      <th>9</th>\n",
       "      <td>RESULTS</td>\n",
       "      <td>these differences remained significant at @ we...</td>\n",
       "      <td>9</td>\n",
       "      <td>11</td>\n",
       "    </tr>\n",
       "    <tr>\n",
       "      <th>10</th>\n",
       "      <td>RESULTS</td>\n",
       "      <td>the outcome measures in rheumatology clinical ...</td>\n",
       "      <td>10</td>\n",
       "      <td>11</td>\n",
       "    </tr>\n",
       "    <tr>\n",
       "      <th>11</th>\n",
       "      <td>CONCLUSIONS</td>\n",
       "      <td>low-dose oral prednisolone had both a short-te...</td>\n",
       "      <td>11</td>\n",
       "      <td>11</td>\n",
       "    </tr>\n",
       "  </tbody>\n",
       "</table>\n",
       "</div>"
      ],
      "text/plain": [
       "         target                                               text  \\\n",
       "0     OBJECTIVE  to investigate the efficacy of @ weeks of dail...   \n",
       "1       METHODS  a total of @ patients with primary knee oa wer...   \n",
       "2       METHODS  outcome measures included pain reduction and i...   \n",
       "3       METHODS  pain was assessed using the visual analog pain...   \n",
       "4       METHODS  secondary outcome measures included the wester...   \n",
       "5       METHODS  serum levels of interleukin @ ( il-@ ) , il-@ ...   \n",
       "6       RESULTS  there was a clinically relevant reduction in t...   \n",
       "7       RESULTS  the mean difference between treatment arms ( @...   \n",
       "8       RESULTS  further , there was a clinically relevant redu...   \n",
       "9       RESULTS  these differences remained significant at @ we...   \n",
       "10      RESULTS  the outcome measures in rheumatology clinical ...   \n",
       "11  CONCLUSIONS  low-dose oral prednisolone had both a short-te...   \n",
       "\n",
       "    line_number  total_lines  \n",
       "0             0           11  \n",
       "1             1           11  \n",
       "2             2           11  \n",
       "3             3           11  \n",
       "4             4           11  \n",
       "5             5           11  \n",
       "6             6           11  \n",
       "7             7           11  \n",
       "8             8           11  \n",
       "9             9           11  \n",
       "10           10           11  \n",
       "11           11           11  "
      ]
     },
     "execution_count": 27,
     "metadata": {},
     "output_type": "execute_result"
    }
   ],
   "source": [
    "train_df[:12]"
   ]
  },
  {
   "cell_type": "code",
   "execution_count": 28,
   "id": "d62e72c4",
   "metadata": {
    "scrolled": true
   },
   "outputs": [
    {
     "data": {
      "text/plain": [
       "target\n",
       "METHODS        59353\n",
       "RESULTS        57953\n",
       "CONCLUSIONS    27168\n",
       "BACKGROUND     21727\n",
       "OBJECTIVE      13839\n",
       "Name: count, dtype: int64"
      ]
     },
     "execution_count": 28,
     "metadata": {},
     "output_type": "execute_result"
    }
   ],
   "source": [
    "# Distribution of labels in training dataset\n",
    "train_df.target.value_counts()"
   ]
  },
  {
   "cell_type": "code",
   "execution_count": 29,
   "id": "1cafad7d",
   "metadata": {},
   "outputs": [
    {
     "data": {
      "text/plain": [
       "total_lines\n",
       "3        32\n",
       "4       215\n",
       "5      1146\n",
       "6      3353\n",
       "7      7464\n",
       "8     12285\n",
       "9     19400\n",
       "10    23639\n",
       "11    24468\n",
       "12    22113\n",
       "13    18438\n",
       "14    14610\n",
       "15    10768\n",
       "16     7429\n",
       "17     5202\n",
       "18     3344\n",
       "19     2480\n",
       "20     1281\n",
       "21      770\n",
       "22      759\n",
       "23      264\n",
       "24      200\n",
       "25      182\n",
       "26       81\n",
       "27       28\n",
       "28       58\n",
       "30       31\n",
       "Name: count, dtype: int64"
      ]
     },
     "execution_count": 29,
     "metadata": {},
     "output_type": "execute_result"
    }
   ],
   "source": [
    "# Length of different lines\n",
    "train_df.total_lines.value_counts().sort_index()"
   ]
  },
  {
   "cell_type": "code",
   "execution_count": 30,
   "id": "36dc450c",
   "metadata": {},
   "outputs": [
    {
     "data": {
      "text/plain": [
       "<Axes: ylabel='Frequency'>"
      ]
     },
     "execution_count": 30,
     "metadata": {},
     "output_type": "execute_result"
    },
    {
     "data": {
      "image/png": "[encoded data removed]",
      "text/plain": [
       "<Figure size 640x480 with 1 Axes>"
      ]
     },
     "metadata": {},
     "output_type": "display_data"
    }
   ],
   "source": [
    "train_df.total_lines.plot(kind='hist')"
   ]
  },
  {
   "cell_type": "code",
   "execution_count": 31,
   "id": "7ca44532",
   "metadata": {},
   "outputs": [
    {
     "data": {
      "text/plain": [
       "<Axes: ylabel='total_lines'>"
      ]
     },
     "execution_count": 31,
     "metadata": {},
     "output_type": "execute_result"
    },
    {
     "data": {
      "image/png": "[encoded data removed]",
      "text/plain": [
       "<Figure size 640x480 with 1 Axes>"
      ]
     },
     "metadata": {},
     "output_type": "display_data"
    }
   ],
   "source": [
    "train_df.total_lines.value_counts().sort_index().plot.barh()"
   ]
  },
  {
   "cell_type": "markdown",
   "id": "2ff6925b",
   "metadata": {},
   "source": [
    "### Get lists of sentences"
   ]
  },
  {
   "cell_type": "code",
   "execution_count": 32,
   "id": "4e082bf2",
   "metadata": {},
   "outputs": [],
   "source": [
    "# Convert abstract text lines to lists\n",
    "train_sentences= train_df['text'].to_list()\n",
    "val_sentences= val_df['text'].to_list()\n",
    "test_sentences= test_df['text'].to_list()"
   ]
  },
  {
   "cell_type": "code",
   "execution_count": 33,
   "id": "a4bc82fd",
   "metadata": {},
   "outputs": [
    {
     "data": {
      "text/plain": [
       "['to investigate the efficacy of @ weeks of daily low-dose oral prednisolone in improving pain , mobility , and systemic low-grade inflammation in the short term and whether the effect would be sustained at @ weeks in older adults with moderate to severe knee osteoarthritis ( oa ) .',\n",
       " 'a total of @ patients with primary knee oa were randomized @:@ ; @ received @ mg/day of prednisolone and @ received placebo for @ weeks .',\n",
       " 'outcome measures included pain reduction and improvement in function scores and systemic inflammation markers .',\n",
       " 'pain was assessed using the visual analog pain scale ( @-@ mm ) .',\n",
       " 'secondary outcome measures included the western ontario and mcmaster universities osteoarthritis index scores , patient global assessment ( pga ) of the severity of knee oa , and @-min walk distance ( @mwd ) .',\n",
       " 'serum levels of interleukin @ ( il-@ ) , il-@ , tumor necrosis factor ( tnf ) - , and high-sensitivity c-reactive protein ( hscrp ) were measured .',\n",
       " 'there was a clinically relevant reduction in the intervention group compared to the placebo group for knee pain , physical function , pga , and @mwd at @ weeks .',\n",
       " 'the mean difference between treatment arms ( @ % ci ) was @ ( @-@ @ ) , p < @ ; @ ( @-@ @ ) , p < @ ; @ ( @-@ @ ) , p < @ ; and @ ( @-@ @ ) , p < @ , respectively .',\n",
       " 'further , there was a clinically relevant reduction in the serum levels of il-@ , il-@ , tnf - , and hscrp at @ weeks in the intervention group when compared to the placebo group .',\n",
       " 'these differences remained significant at @ weeks .']"
      ]
     },
     "execution_count": 33,
     "metadata": {},
     "output_type": "execute_result"
    }
   ],
   "source": [
    "train_sentences[:10]"
   ]
  },
  {
   "cell_type": "markdown",
   "id": "1dac3660",
   "metadata": {},
   "source": [
    "### Make numeric labels (ML models require numeric labels)"
   ]
  },
  {
   "cell_type": "code",
   "execution_count": 34,
   "id": "b6f2a44d",
   "metadata": {},
   "outputs": [],
   "source": [
    "# One hot encode labels\n",
    "from sklearn.preprocessing import OneHotEncoder\n",
    "\n",
    "one_hot_encoder= OneHotEncoder(sparse_output=False)\n",
    "train_labels_one_hot= one_hot_encoder.fit_transform(train_df['target'].to_numpy().reshape(-1,1))\n",
    "val_labels_one_hot= one_hot_encoder.transform(val_df['target'].to_numpy().reshape(-1,1))\n",
    "test_labels_one_hot= one_hot_encoder.transform(test_df['target'].to_numpy().reshape(-1,1))"
   ]
  },
  {
   "cell_type": "code",
   "execution_count": 35,
   "id": "9f12623a",
   "metadata": {},
   "outputs": [
    {
     "data": {
      "text/plain": [
       "[array(['BACKGROUND', 'CONCLUSIONS', 'METHODS', 'OBJECTIVE', 'RESULTS'],\n",
       "       dtype=object)]"
      ]
     },
     "execution_count": 35,
     "metadata": {},
     "output_type": "execute_result"
    }
   ],
   "source": [
    "one_hot_encoder.categories_"
   ]
  },
  {
   "cell_type": "code",
   "execution_count": 36,
   "id": "3f2dd884",
   "metadata": {},
   "outputs": [
    {
     "data": {
      "text/plain": [
       "((180040,), (180040, 1))"
      ]
     },
     "execution_count": 36,
     "metadata": {},
     "output_type": "execute_result"
    }
   ],
   "source": [
    "train_df['target'].shape, train_df['target'].to_numpy().reshape(-1,1).shape"
   ]
  },
  {
   "cell_type": "code",
   "execution_count": 37,
   "id": "3dbec3cd",
   "metadata": {},
   "outputs": [
    {
     "data": {
      "text/plain": [
       "array([[0., 0., 0., 1., 0.],\n",
       "       [0., 0., 1., 0., 0.],\n",
       "       [0., 0., 1., 0., 0.],\n",
       "       ...,\n",
       "       [0., 0., 0., 0., 1.],\n",
       "       [0., 1., 0., 0., 0.],\n",
       "       [0., 1., 0., 0., 0.]])"
      ]
     },
     "execution_count": 37,
     "metadata": {},
     "output_type": "execute_result"
    }
   ],
   "source": [
    "train_labels_one_hot"
   ]
  },
  {
   "cell_type": "code",
   "execution_count": 38,
   "id": "426cb5d8",
   "metadata": {},
   "outputs": [
    {
     "data": {
      "text/plain": [
       "(5,)"
      ]
     },
     "execution_count": 38,
     "metadata": {},
     "output_type": "execute_result"
    }
   ],
   "source": [
    "train_df['target'].value_counts().shape"
   ]
  },
  {
   "cell_type": "code",
   "execution_count": 39,
   "id": "a5b7f07a",
   "metadata": {},
   "outputs": [
    {
     "name": "stderr",
     "output_type": "stream",
     "text": [
      "2024-09-10 17:45:35.052864: W tensorflow/core/common_runtime/gpu/gpu_device.cc:2343] Cannot dlopen some GPU libraries. Please make sure the missing libraries mentioned above are installed properly if you would like to use GPU. Follow the guide at https://www.tensorflow.org/install/gpu for how to download and setup the required libraries for your platform.\n",
      "Skipping registering GPU devices...\n"
     ]
    },
    {
     "data": {
      "text/plain": [
       "<tf.Tensor: shape=(180040, 5), dtype=float64, numpy=\n",
       "array([[0., 0., 0., 1., 0.],\n",
       "       [0., 0., 1., 0., 0.],\n",
       "       [0., 0., 1., 0., 0.],\n",
       "       ...,\n",
       "       [0., 0., 0., 0., 1.],\n",
       "       [0., 1., 0., 0., 0.],\n",
       "       [0., 1., 0., 0., 0.]])>"
      ]
     },
     "execution_count": 39,
     "metadata": {},
     "output_type": "execute_result"
    }
   ],
   "source": [
    "import tensorflow as tf\n",
    "\n",
    "tf.constant(train_labels_one_hot)"
   ]
  },
  {
   "cell_type": "markdown",
   "id": "5bdeb1b6",
   "metadata": {},
   "source": [
    "### Label encode labels"
   ]
  },
  {
   "cell_type": "code",
   "execution_count": 40,
   "id": "031ca2ef",
   "metadata": {},
   "outputs": [
    {
     "data": {
      "text/plain": [
       "dtype('float64')"
      ]
     },
     "execution_count": 40,
     "metadata": {},
     "output_type": "execute_result"
    }
   ],
   "source": [
    "train_labels_one_hot.dtype"
   ]
  },
  {
   "cell_type": "code",
   "execution_count": 41,
   "id": "29f4ab69",
   "metadata": {},
   "outputs": [
    {
     "data": {
      "text/plain": [
       "numpy.ndarray"
      ]
     },
     "execution_count": 41,
     "metadata": {},
     "output_type": "execute_result"
    }
   ],
   "source": [
    "type(train_labels_one_hot)"
   ]
  },
  {
   "cell_type": "code",
   "execution_count": 42,
   "id": "c0e539db",
   "metadata": {},
   "outputs": [],
   "source": [
    "# Extract labels (\"target\" columns) and encode them into integers \n",
    "from sklearn.preprocessing import LabelEncoder\n",
    "\n",
    "label_encoder= LabelEncoder()\n",
    "train_labels_encoded= label_encoder.fit_transform(train_df['target'])\n",
    "val_labels_encoded= label_encoder.transform(val_df['target'])\n",
    "test_labels_encoded= label_encoder.transform(test_df['target'])"
   ]
  },
  {
   "cell_type": "code",
   "execution_count": 43,
   "id": "2cf013c4",
   "metadata": {},
   "outputs": [
    {
     "data": {
      "text/plain": [
       "array(['BACKGROUND', 'CONCLUSIONS', 'METHODS', 'OBJECTIVE', 'RESULTS'],\n",
       "      dtype=object)"
      ]
     },
     "execution_count": 43,
     "metadata": {},
     "output_type": "execute_result"
    }
   ],
   "source": [
    "label_encoder.classes_"
   ]
  },
  {
   "cell_type": "code",
   "execution_count": 44,
   "id": "4987d40f",
   "metadata": {},
   "outputs": [
    {
     "data": {
      "text/plain": [
       "array([3, 2, 2, ..., 4, 1, 1])"
      ]
     },
     "execution_count": 44,
     "metadata": {},
     "output_type": "execute_result"
    }
   ],
   "source": [
    "train_labels_encoded"
   ]
  },
  {
   "cell_type": "code",
   "execution_count": 45,
   "id": "c8370df4",
   "metadata": {},
   "outputs": [
    {
     "data": {
      "text/plain": [
       "(5,\n",
       " array(['BACKGROUND', 'CONCLUSIONS', 'METHODS', 'OBJECTIVE', 'RESULTS'],\n",
       "       dtype=object))"
      ]
     },
     "execution_count": 45,
     "metadata": {},
     "output_type": "execute_result"
    }
   ],
   "source": [
    "num_classes= len(label_encoder.classes_)\n",
    "class_names= label_encoder.classes_\n",
    "\n",
    "num_classes, class_names"
   ]
  },
  {
   "cell_type": "markdown",
   "id": "ed35a77c",
   "metadata": {},
   "source": [
    "## Starting a series of modeling experiments"
   ]
  },
  {
   "cell_type": "markdown",
   "id": "d30a77d3",
   "metadata": {},
   "source": [
    "## Model 0: base line TF-IDF Multinomial Naive Bayes classifier"
   ]
  },
  {
   "cell_type": "code",
   "execution_count": 46,
   "id": "adf9c906",
   "metadata": {},
   "outputs": [
    {
     "data": {
      "text/html": [
       "<style>#sk-container-id-1 {\n",
       "  /* Definition of color scheme common for light and dark mode */\n",
       "  --sklearn-color-text: black;\n",
       "  --sklearn-color-line: gray;\n",
       "  /* Definition of color scheme for unfitted estimators */\n",
       "  --sklearn-color-unfitted-level-0: #fff5e6;\n",
       "  --sklearn-color-unfitted-level-1: #f6e4d2;\n",
       "  --sklearn-color-unfitted-level-2: #ffe0b3;\n",
       "  --sklearn-color-unfitted-level-3: chocolate;\n",
       "  /* Definition of color scheme for fitted estimators */\n",
       "  --sklearn-color-fitted-level-0: #f0f8ff;\n",
       "  --sklearn-color-fitted-level-1: #d4ebff;\n",
       "  --sklearn-color-fitted-level-2: #b3dbfd;\n",
       "  --sklearn-color-fitted-level-3: cornflowerblue;\n",
       "\n",
       "  /* Specific color for light theme */\n",
       "  --sklearn-color-text-on-default-background: var(--sg-text-color, var(--theme-code-foreground, var(--jp-content-font-color1, black)));\n",
       "  --sklearn-color-background: var(--sg-background-color, var(--theme-background, var(--jp-layout-color0, white)));\n",
       "  --sklearn-color-border-box: var(--sg-text-color, var(--theme-code-foreground, var(--jp-content-font-color1, black)));\n",
       "  --sklearn-color-icon: #696969;\n",
       "\n",
       "  @media (prefers-color-scheme: dark) {\n",
       "    /* Redefinition of color scheme for dark theme */\n",
       "    --sklearn-color-text-on-default-background: var(--sg-text-color, var(--theme-code-foreground, var(--jp-content-font-color1, white)));\n",
       "    --sklearn-color-background: var(--sg-background-color, var(--theme-background, var(--jp-layout-color0, #111)));\n",
       "    --sklearn-color-border-box: var(--sg-text-color, var(--theme-code-foreground, var(--jp-content-font-color1, white)));\n",
       "    --sklearn-color-icon: #878787;\n",
       "  }\n",
       "}\n",
       "\n",
       "#sk-container-id-1 {\n",
       "  color: var(--sklearn-color-text);\n",
       "}\n",
       "\n",
       "#sk-container-id-1 pre {\n",
       "  padding: 0;\n",
       "}\n",
       "\n",
       "#sk-container-id-1 input.sk-hidden--visually {\n",
       "  border: 0;\n",
       "  clip: rect(1px 1px 1px 1px);\n",
       "  clip: rect(1px, 1px, 1px, 1px);\n",
       "  height: 1px;\n",
       "  margin: -1px;\n",
       "  overflow: hidden;\n",
       "  padding: 0;\n",
       "  position: absolute;\n",
       "  width: 1px;\n",
       "}\n",
       "\n",
       "#sk-container-id-1 div.sk-dashed-wrapped {\n",
       "  border: 1px dashed var(--sklearn-color-line);\n",
       "  margin: 0 0.4em 0.5em 0.4em;\n",
       "  box-sizing: border-box;\n",
       "  padding-bottom: 0.4em;\n",
       "  background-color: var(--sklearn-color-background);\n",
       "}\n",
       "\n",
       "#sk-container-id-1 div.sk-container {\n",
       "  /* jupyter's `normalize.less` sets `[hidden] { display: none; }`\n",
       "     but bootstrap.min.css set `[hidden] { display: none !important; }`\n",
       "     so we also need the `!important` here to be able to override the\n",
       "     default hidden behavior on the sphinx rendered scikit-learn.org.\n",
       "     See: https://github.com/scikit-learn/scikit-learn/issues/21755 */\n",
       "  display: inline-block !important;\n",
       "  position: relative;\n",
       "}\n",
       "\n",
       "#sk-container-id-1 div.sk-text-repr-fallback {\n",
       "  display: none;\n",
       "}\n",
       "\n",
       "div.sk-parallel-item,\n",
       "div.sk-serial,\n",
       "div.sk-item {\n",
       "  /* draw centered vertical line to link estimators */\n",
       "  background-image: linear-gradient(var(--sklearn-color-text-on-default-background), var(--sklearn-color-text-on-default-background));\n",
       "  background-size: 2px 100%;\n",
       "  background-repeat: no-repeat;\n",
       "  background-position: center center;\n",
       "}\n",
       "\n",
       "/* Parallel-specific style estimator block */\n",
       "\n",
       "#sk-container-id-1 div.sk-parallel-item::after {\n",
       "  content: \"\";\n",
       "  width: 100%;\n",
       "  border-bottom: 2px solid var(--sklearn-color-text-on-default-background);\n",
       "  flex-grow: 1;\n",
       "}\n",
       "\n",
       "#sk-container-id-1 div.sk-parallel {\n",
       "  display: flex;\n",
       "  align-items: stretch;\n",
       "  justify-content: center;\n",
       "  background-color: var(--sklearn-color-background);\n",
       "  position: relative;\n",
       "}\n",
       "\n",
       "#sk-container-id-1 div.sk-parallel-item {\n",
       "  display: flex;\n",
       "  flex-direction: column;\n",
       "}\n",
       "\n",
       "#sk-container-id-1 div.sk-parallel-item:first-child::after {\n",
       "  align-self: flex-end;\n",
       "  width: 50%;\n",
       "}\n",
       "\n",
       "#sk-container-id-1 div.sk-parallel-item:last-child::after {\n",
       "  align-self: flex-start;\n",
       "  width: 50%;\n",
       "}\n",
       "\n",
       "#sk-container-id-1 div.sk-parallel-item:only-child::after {\n",
       "  width: 0;\n",
       "}\n",
       "\n",
       "/* Serial-specific style estimator block */\n",
       "\n",
       "#sk-container-id-1 div.sk-serial {\n",
       "  display: flex;\n",
       "  flex-direction: column;\n",
       "  align-items: center;\n",
       "  background-color: var(--sklearn-color-background);\n",
       "  padding-right: 1em;\n",
       "  padding-left: 1em;\n",
       "}\n",
       "\n",
       "\n",
       "/* Toggleable style: style used for estimator/Pipeline/ColumnTransformer box that is\n",
       "clickable and can be expanded/collapsed.\n",
       "- Pipeline and ColumnTransformer use this feature and define the default style\n",
       "- Estimators will overwrite some part of the style using the `sk-estimator` class\n",
       "*/\n",
       "\n",
       "/* Pipeline and ColumnTransformer style (default) */\n",
       "\n",
       "#sk-container-id-1 div.sk-toggleable {\n",
       "  /* Default theme specific background. It is overwritten whether we have a\n",
       "  specific estimator or a Pipeline/ColumnTransformer */\n",
       "  background-color: var(--sklearn-color-background);\n",
       "}\n",
       "\n",
       "/* Toggleable label */\n",
       "#sk-container-id-1 label.sk-toggleable__label {\n",
       "  cursor: pointer;\n",
       "  display: block;\n",
       "  width: 100%;\n",
       "  margin-bottom: 0;\n",
       "  padding: 0.5em;\n",
       "  box-sizing: border-box;\n",
       "  text-align: center;\n",
       "}\n",
       "\n",
       "#sk-container-id-1 label.sk-toggleable__label-arrow:before {\n",
       "  /* Arrow on the left of the label */\n",
       "  content: \"▸\";\n",
       "  float: left;\n",
       "  margin-right: 0.25em;\n",
       "  color: var(--sklearn-color-icon);\n",
       "}\n",
       "\n",
       "#sk-container-id-1 label.sk-toggleable__label-arrow:hover:before {\n",
       "  color: var(--sklearn-color-text);\n",
       "}\n",
       "\n",
       "/* Toggleable content - dropdown */\n",
       "\n",
       "#sk-container-id-1 div.sk-toggleable__content {\n",
       "  max-height: 0;\n",
       "  max-width: 0;\n",
       "  overflow: hidden;\n",
       "  text-align: left;\n",
       "  /* unfitted */\n",
       "  background-color: var(--sklearn-color-unfitted-level-0);\n",
       "}\n",
       "\n",
       "#sk-container-id-1 div.sk-toggleable__content.fitted {\n",
       "  /* fitted */\n",
       "  background-color: var(--sklearn-color-fitted-level-0);\n",
       "}\n",
       "\n",
       "#sk-container-id-1 div.sk-toggleable__content pre {\n",
       "  margin: 0.2em;\n",
       "  border-radius: 0.25em;\n",
       "  color: var(--sklearn-color-text);\n",
       "  /* unfitted */\n",
       "  background-color: var(--sklearn-color-unfitted-level-0);\n",
       "}\n",
       "\n",
       "#sk-container-id-1 div.sk-toggleable__content.fitted pre {\n",
       "  /* unfitted */\n",
       "  background-color: var(--sklearn-color-fitted-level-0);\n",
       "}\n",
       "\n",
       "#sk-container-id-1 input.sk-toggleable__control:checked~div.sk-toggleable__content {\n",
       "  /* Expand drop-down */\n",
       "  max-height: 200px;\n",
       "  max-width: 100%;\n",
       "  overflow: auto;\n",
       "}\n",
       "\n",
       "#sk-container-id-1 input.sk-toggleable__control:checked~label.sk-toggleable__label-arrow:before {\n",
       "  content: \"▾\";\n",
       "}\n",
       "\n",
       "/* Pipeline/ColumnTransformer-specific style */\n",
       "\n",
       "#sk-container-id-1 div.sk-label input.sk-toggleable__control:checked~label.sk-toggleable__label {\n",
       "  color: var(--sklearn-color-text);\n",
       "  background-color: var(--sklearn-color-unfitted-level-2);\n",
       "}\n",
       "\n",
       "#sk-container-id-1 div.sk-label.fitted input.sk-toggleable__control:checked~label.sk-toggleable__label {\n",
       "  background-color: var(--sklearn-color-fitted-level-2);\n",
       "}\n",
       "\n",
       "/* Estimator-specific style */\n",
       "\n",
       "/* Colorize estimator box */\n",
       "#sk-container-id-1 div.sk-estimator input.sk-toggleable__control:checked~label.sk-toggleable__label {\n",
       "  /* unfitted */\n",
       "  background-color: var(--sklearn-color-unfitted-level-2);\n",
       "}\n",
       "\n",
       "#sk-container-id-1 div.sk-estimator.fitted input.sk-toggleable__control:checked~label.sk-toggleable__label {\n",
       "  /* fitted */\n",
       "  background-color: var(--sklearn-color-fitted-level-2);\n",
       "}\n",
       "\n",
       "#sk-container-id-1 div.sk-label label.sk-toggleable__label,\n",
       "#sk-container-id-1 div.sk-label label {\n",
       "  /* The background is the default theme color */\n",
       "  color: var(--sklearn-color-text-on-default-background);\n",
       "}\n",
       "\n",
       "/* On hover, darken the color of the background */\n",
       "#sk-container-id-1 div.sk-label:hover label.sk-toggleable__label {\n",
       "  color: var(--sklearn-color-text);\n",
       "  background-color: var(--sklearn-color-unfitted-level-2);\n",
       "}\n",
       "\n",
       "/* Label box, darken color on hover, fitted */\n",
       "#sk-container-id-1 div.sk-label.fitted:hover label.sk-toggleable__label.fitted {\n",
       "  color: var(--sklearn-color-text);\n",
       "  background-color: var(--sklearn-color-fitted-level-2);\n",
       "}\n",
       "\n",
       "/* Estimator label */\n",
       "\n",
       "#sk-container-id-1 div.sk-label label {\n",
       "  font-family: monospace;\n",
       "  font-weight: bold;\n",
       "  display: inline-block;\n",
       "  line-height: 1.2em;\n",
       "}\n",
       "\n",
       "#sk-container-id-1 div.sk-label-container {\n",
       "  text-align: center;\n",
       "}\n",
       "\n",
       "/* Estimator-specific */\n",
       "#sk-container-id-1 div.sk-estimator {\n",
       "  font-family: monospace;\n",
       "  border: 1px dotted var(--sklearn-color-border-box);\n",
       "  border-radius: 0.25em;\n",
       "  box-sizing: border-box;\n",
       "  margin-bottom: 0.5em;\n",
       "  /* unfitted */\n",
       "  background-color: var(--sklearn-color-unfitted-level-0);\n",
       "}\n",
       "\n",
       "#sk-container-id-1 div.sk-estimator.fitted {\n",
       "  /* fitted */\n",
       "  background-color: var(--sklearn-color-fitted-level-0);\n",
       "}\n",
       "\n",
       "/* on hover */\n",
       "#sk-container-id-1 div.sk-estimator:hover {\n",
       "  /* unfitted */\n",
       "  background-color: var(--sklearn-color-unfitted-level-2);\n",
       "}\n",
       "\n",
       "#sk-container-id-1 div.sk-estimator.fitted:hover {\n",
       "  /* fitted */\n",
       "  background-color: var(--sklearn-color-fitted-level-2);\n",
       "}\n",
       "\n",
       "/* Specification for estimator info (e.g. \"i\" and \"?\") */\n",
       "\n",
       "/* Common style for \"i\" and \"?\" */\n",
       "\n",
       ".sk-estimator-doc-link,\n",
       "a:link.sk-estimator-doc-link,\n",
       "a:visited.sk-estimator-doc-link {\n",
       "  float: right;\n",
       "  font-size: smaller;\n",
       "  line-height: 1em;\n",
       "  font-family: monospace;\n",
       "  background-color: var(--sklearn-color-background);\n",
       "  border-radius: 1em;\n",
       "  height: 1em;\n",
       "  width: 1em;\n",
       "  text-decoration: none !important;\n",
       "  margin-left: 1ex;\n",
       "  /* unfitted */\n",
       "  border: var(--sklearn-color-unfitted-level-1) 1pt solid;\n",
       "  color: var(--sklearn-color-unfitted-level-1);\n",
       "}\n",
       "\n",
       ".sk-estimator-doc-link.fitted,\n",
       "a:link.sk-estimator-doc-link.fitted,\n",
       "a:visited.sk-estimator-doc-link.fitted {\n",
       "  /* fitted */\n",
       "  border: var(--sklearn-color-fitted-level-1) 1pt solid;\n",
       "  color: var(--sklearn-color-fitted-level-1);\n",
       "}\n",
       "\n",
       "/* On hover */\n",
       "div.sk-estimator:hover .sk-estimator-doc-link:hover,\n",
       ".sk-estimator-doc-link:hover,\n",
       "div.sk-label-container:hover .sk-estimator-doc-link:hover,\n",
       ".sk-estimator-doc-link:hover {\n",
       "  /* unfitted */\n",
       "  background-color: var(--sklearn-color-unfitted-level-3);\n",
       "  color: var(--sklearn-color-background);\n",
       "  text-decoration: none;\n",
       "}\n",
       "\n",
       "div.sk-estimator.fitted:hover .sk-estimator-doc-link.fitted:hover,\n",
       ".sk-estimator-doc-link.fitted:hover,\n",
       "div.sk-label-container:hover .sk-estimator-doc-link.fitted:hover,\n",
       ".sk-estimator-doc-link.fitted:hover {\n",
       "  /* fitted */\n",
       "  background-color: var(--sklearn-color-fitted-level-3);\n",
       "  color: var(--sklearn-color-background);\n",
       "  text-decoration: none;\n",
       "}\n",
       "\n",
       "/* Span, style for the box shown on hovering the info icon */\n",
       ".sk-estimator-doc-link span {\n",
       "  display: none;\n",
       "  z-index: 9999;\n",
       "  position: relative;\n",
       "  font-weight: normal;\n",
       "  right: .2ex;\n",
       "  padding: .5ex;\n",
       "  margin: .5ex;\n",
       "  width: min-content;\n",
       "  min-width: 20ex;\n",
       "  max-width: 50ex;\n",
       "  color: var(--sklearn-color-text);\n",
       "  box-shadow: 2pt 2pt 4pt #999;\n",
       "  /* unfitted */\n",
       "  background: var(--sklearn-color-unfitted-level-0);\n",
       "  border: .5pt solid var(--sklearn-color-unfitted-level-3);\n",
       "}\n",
       "\n",
       ".sk-estimator-doc-link.fitted span {\n",
       "  /* fitted */\n",
       "  background: var(--sklearn-color-fitted-level-0);\n",
       "  border: var(--sklearn-color-fitted-level-3);\n",
       "}\n",
       "\n",
       ".sk-estimator-doc-link:hover span {\n",
       "  display: block;\n",
       "}\n",
       "\n",
       "/* \"?\"-specific style due to the `<a>` HTML tag */\n",
       "\n",
       "#sk-container-id-1 a.estimator_doc_link {\n",
       "  float: right;\n",
       "  font-size: 1rem;\n",
       "  line-height: 1em;\n",
       "  font-family: monospace;\n",
       "  background-color: var(--sklearn-color-background);\n",
       "  border-radius: 1rem;\n",
       "  height: 1rem;\n",
       "  width: 1rem;\n",
       "  text-decoration: none;\n",
       "  /* unfitted */\n",
       "  color: var(--sklearn-color-unfitted-level-1);\n",
       "  border: var(--sklearn-color-unfitted-level-1) 1pt solid;\n",
       "}\n",
       "\n",
       "#sk-container-id-1 a.estimator_doc_link.fitted {\n",
       "  /* fitted */\n",
       "  border: var(--sklearn-color-fitted-level-1) 1pt solid;\n",
       "  color: var(--sklearn-color-fitted-level-1);\n",
       "}\n",
       "\n",
       "/* On hover */\n",
       "#sk-container-id-1 a.estimator_doc_link:hover {\n",
       "  /* unfitted */\n",
       "  background-color: var(--sklearn-color-unfitted-level-3);\n",
       "  color: var(--sklearn-color-background);\n",
       "  text-decoration: none;\n",
       "}\n",
       "\n",
       "#sk-container-id-1 a.estimator_doc_link.fitted:hover {\n",
       "  /* fitted */\n",
       "  background-color: var(--sklearn-color-fitted-level-3);\n",
       "}\n",
       "</style><div id=\"sk-container-id-1\" class=\"sk-top-container\"><div class=\"sk-text-repr-fallback\"><pre>Pipeline(steps=[(&#x27;tf-idf&#x27;, TfidfVectorizer()), (&#x27;clf&#x27;, MultinomialNB())])</pre><b>In a Jupyter environment, please rerun this cell to show the HTML representation or trust the notebook. <br />On GitHub, the HTML representation is unable to render, please try loading this page with nbviewer.org.</b></div><div class=\"sk-container\" hidden><div class=\"sk-item sk-dashed-wrapped\"><div class=\"sk-label-container\"><div class=\"sk-label fitted sk-toggleable\"><input class=\"sk-toggleable__control sk-hidden--visually\" id=\"sk-estimator-id-1\" type=\"checkbox\" ><label for=\"sk-estimator-id-1\" class=\"sk-toggleable__label fitted sk-toggleable__label-arrow fitted\">&nbsp;&nbsp;Pipeline<a class=\"sk-estimator-doc-link fitted\" rel=\"noreferrer\" target=\"_blank\" href=\"https://scikit-learn.org/1.5/modules/generated/sklearn.pipeline.Pipeline.html\">?<span>Documentation for Pipeline</span></a><span class=\"sk-estimator-doc-link fitted\">i<span>Fitted</span></span></label><div class=\"sk-toggleable__content fitted\"><pre>Pipeline(steps=[(&#x27;tf-idf&#x27;, TfidfVectorizer()), (&#x27;clf&#x27;, MultinomialNB())])</pre></div> </div></div><div class=\"sk-serial\"><div class=\"sk-item\"><div class=\"sk-estimator fitted sk-toggleable\"><input class=\"sk-toggleable__control sk-hidden--visually\" id=\"sk-estimator-id-2\" type=\"checkbox\" ><label for=\"sk-estimator-id-2\" class=\"sk-toggleable__label fitted sk-toggleable__label-arrow fitted\">&nbsp;TfidfVectorizer<a class=\"sk-estimator-doc-link fitted\" rel=\"noreferrer\" target=\"_blank\" href=\"https://scikit-learn.org/1.5/modules/generated/sklearn.feature_extraction.text.TfidfVectorizer.html\">?<span>Documentation for TfidfVectorizer</span></a></label><div class=\"sk-toggleable__content fitted\"><pre>TfidfVectorizer()</pre></div> </div></div><div class=\"sk-item\"><div class=\"sk-estimator fitted sk-toggleable\"><input class=\"sk-toggleable__control sk-hidden--visually\" id=\"sk-estimator-id-3\" type=\"checkbox\" ><label for=\"sk-estimator-id-3\" class=\"sk-toggleable__label fitted sk-toggleable__label-arrow fitted\">&nbsp;MultinomialNB<a class=\"sk-estimator-doc-link fitted\" rel=\"noreferrer\" target=\"_blank\" href=\"https://scikit-learn.org/1.5/modules/generated/sklearn.naive_bayes.MultinomialNB.html\">?<span>Documentation for MultinomialNB</span></a></label><div class=\"sk-toggleable__content fitted\"><pre>MultinomialNB()</pre></div> </div></div></div></div></div></div>"
      ],
      "text/plain": [
       "Pipeline(steps=[('tf-idf', TfidfVectorizer()), ('clf', MultinomialNB())])"
      ]
     },
     "execution_count": 46,
     "metadata": {},
     "output_type": "execute_result"
    }
   ],
   "source": [
    "from sklearn.feature_extraction.text import TfidfVectorizer\n",
    "from sklearn.naive_bayes import MultinomialNB\n",
    "from sklearn.pipeline import Pipeline\n",
    "\n",
    "model_0= Pipeline([\n",
    "    ('tf-idf', TfidfVectorizer()),\n",
    "    ('clf', MultinomialNB())\n",
    "])\n",
    "\n",
    "model_0.fit(train_sentences, train_labels_encoded)"
   ]
  },
  {
   "cell_type": "code",
   "execution_count": 47,
   "id": "c767b188",
   "metadata": {},
   "outputs": [
    {
     "data": {
      "text/plain": [
       "0.7218323844829869"
      ]
     },
     "execution_count": 47,
     "metadata": {},
     "output_type": "execute_result"
    }
   ],
   "source": [
    "model_0.score(val_sentences, val_labels_encoded)"
   ]
  },
  {
   "cell_type": "code",
   "execution_count": 48,
   "id": "bb4855a6",
   "metadata": {},
   "outputs": [
    {
     "data": {
      "text/plain": [
       "array([2, 2, 2, ..., 4, 4, 4])"
      ]
     },
     "execution_count": 48,
     "metadata": {},
     "output_type": "execute_result"
    }
   ],
   "source": [
    "baseline_preds= model_0.predict(test_sentences)\n",
    "baseline_preds"
   ]
  },
  {
   "cell_type": "code",
   "execution_count": 49,
   "id": "3bde0ea5",
   "metadata": {},
   "outputs": [
    {
     "name": "stdout",
     "output_type": "stream",
     "text": [
      "--2024-09-10 17:45:40--  https://raw.githubusercontent.com/mrdbourke/tensorflow-deep-learning/main/extras/helper_functions.py\n",
      "Connecting to 127.0.0.1:12334... connected.\n",
      "Proxy request sent, awaiting response... 200 OK\n",
      "Length: 10246 (10K) [text/plain]\n",
      "Saving to: ‘helper_functions.py.9’\n",
      "\n",
      "helper_functions.py 100%[===================>]  10.01K  --.-KB/s    in 0s      \n",
      "\n",
      "2024-09-10 17:45:44 (44.4 MB/s) - ‘helper_functions.py.9’ saved [10246/10246]\n",
      "\n"
     ]
    }
   ],
   "source": [
    "!wget https://raw.githubusercontent.com/mrdbourke/tensorflow-deep-learning/main/extras/helper_functions.py\n"
   ]
  },
  {
   "cell_type": "code",
   "execution_count": 50,
   "id": "1f5d8647",
   "metadata": {},
   "outputs": [
    {
     "data": {
      "text/plain": [
       "{'accuracy': 71.6674962667994,\n",
       " 'precision': 0.7124322482375202,\n",
       " 'recall': 0.716674962667994,\n",
       " 'f1': 0.6925101703856846}"
      ]
     },
     "execution_count": 50,
     "metadata": {},
     "output_type": "execute_result"
    }
   ],
   "source": [
    "from helper_functions import calculate_results\n",
    "\n",
    "baseline_results= calculate_results(test_labels_encoded, baseline_preds)\n",
    "baseline_results"
   ]
  },
  {
   "cell_type": "markdown",
   "id": "5ddf0d32",
   "metadata": {},
   "source": [
    "## Preparing our data for deep sequence models"
   ]
  },
  {
   "cell_type": "code",
   "execution_count": 51,
   "id": "8716ff5d",
   "metadata": {},
   "outputs": [],
   "source": [
    "import numpy as np\n",
    "import tensorflow as tf\n",
    "from tensorflow.keras.layers import TextVectorization\n",
    "from tensorflow.keras.layers import Embedding\n"
   ]
  },
  {
   "cell_type": "code",
   "execution_count": 52,
   "id": "4603e2f8",
   "metadata": {},
   "outputs": [
    {
     "data": {
      "text/plain": [
       "26.338269273494777"
      ]
     },
     "execution_count": 52,
     "metadata": {},
     "output_type": "execute_result"
    }
   ],
   "source": [
    "word_len=[len(sentence.split()) for sentence in train_sentences]\n",
    "    \n",
    "word_len_avg= np.mean(word_len) \n",
    "word_len_avg"
   ]
  },
  {
   "cell_type": "code",
   "execution_count": 53,
   "id": "1eff1034",
   "metadata": {},
   "outputs": [
    {
     "data": {
      "text/plain": [
       "(array([1.1050e+03, 3.5170e+03, 7.7850e+03, 1.3079e+04, 1.6589e+04,\n",
       "        1.8463e+04, 1.8770e+04, 1.7656e+04, 1.5580e+04, 1.3302e+04,\n",
       "        1.1002e+04, 9.0040e+03, 7.0390e+03, 5.5540e+03, 4.2780e+03,\n",
       "        3.3890e+03, 2.7020e+03, 2.1960e+03, 1.7050e+03, 9.5300e+02,\n",
       "        1.1780e+03, 9.0000e+02, 7.5000e+02, 6.0900e+02, 4.9400e+02,\n",
       "        4.0100e+02, 3.5000e+02, 2.5000e+02, 2.2900e+02, 2.1500e+02,\n",
       "        1.6700e+02, 1.2600e+02, 1.0200e+02, 1.0100e+02, 6.4000e+01,\n",
       "        6.1000e+01, 5.5000e+01, 4.5000e+01, 4.0000e+01, 2.5000e+01,\n",
       "        2.5000e+01, 2.4000e+01, 2.2000e+01, 1.4000e+01, 1.6000e+01,\n",
       "        1.0000e+01, 7.0000e+00, 1.6000e+01, 7.0000e+00, 5.0000e+00,\n",
       "        3.0000e+00, 5.0000e+00, 5.0000e+00, 6.0000e+00, 1.0000e+00,\n",
       "        3.0000e+00, 1.0000e+00, 4.0000e+00, 4.0000e+00, 0.0000e+00,\n",
       "        3.0000e+00, 0.0000e+00, 1.0000e+00, 2.0000e+00, 3.0000e+00,\n",
       "        3.0000e+00, 0.0000e+00, 2.0000e+00, 4.0000e+00, 1.0000e+00,\n",
       "        0.0000e+00, 3.0000e+00, 2.0000e+00, 1.0000e+00, 0.0000e+00,\n",
       "        0.0000e+00, 0.0000e+00, 2.0000e+00, 0.0000e+00, 0.0000e+00,\n",
       "        0.0000e+00, 1.0000e+00, 1.0000e+00, 1.0000e+00, 0.0000e+00,\n",
       "        0.0000e+00, 0.0000e+00, 0.0000e+00, 0.0000e+00, 0.0000e+00,\n",
       "        0.0000e+00, 0.0000e+00, 1.0000e+00, 0.0000e+00, 0.0000e+00,\n",
       "        0.0000e+00, 0.0000e+00, 0.0000e+00, 0.0000e+00, 1.0000e+00]),\n",
       " array([  1.  ,   3.95,   6.9 ,   9.85,  12.8 ,  15.75,  18.7 ,  21.65,\n",
       "         24.6 ,  27.55,  30.5 ,  33.45,  36.4 ,  39.35,  42.3 ,  45.25,\n",
       "         48.2 ,  51.15,  54.1 ,  57.05,  60.  ,  62.95,  65.9 ,  68.85,\n",
       "         71.8 ,  74.75,  77.7 ,  80.65,  83.6 ,  86.55,  89.5 ,  92.45,\n",
       "         95.4 ,  98.35, 101.3 , 104.25, 107.2 , 110.15, 113.1 , 116.05,\n",
       "        119.  , 121.95, 124.9 , 127.85, 130.8 , 133.75, 136.7 , 139.65,\n",
       "        142.6 , 145.55, 148.5 , 151.45, 154.4 , 157.35, 160.3 , 163.25,\n",
       "        166.2 , 169.15, 172.1 , 175.05, 178.  , 180.95, 183.9 , 186.85,\n",
       "        189.8 , 192.75, 195.7 , 198.65, 201.6 , 204.55, 207.5 , 210.45,\n",
       "        213.4 , 216.35, 219.3 , 222.25, 225.2 , 228.15, 231.1 , 234.05,\n",
       "        237.  , 239.95, 242.9 , 245.85, 248.8 , 251.75, 254.7 , 257.65,\n",
       "        260.6 , 263.55, 266.5 , 269.45, 272.4 , 275.35, 278.3 , 281.25,\n",
       "        284.2 , 287.15, 290.1 , 293.05, 296.  ]),\n",
       " <BarContainer object of 100 artists>)"
      ]
     },
     "execution_count": 53,
     "metadata": {},
     "output_type": "execute_result"
    },
    {
     "data": {
      "image/png": "[encoded data removed]",
      "text/plain": [
       "<Figure size 640x480 with 1 Axes>"
      ]
     },
     "metadata": {},
     "output_type": "display_data"
    }
   ],
   "source": [
    "import matplotlib.pyplot as plt\n",
    "\n",
    "plt.hist(word_len, bins=100)"
   ]
  },
  {
   "cell_type": "code",
   "execution_count": 54,
   "id": "2739bfab",
   "metadata": {},
   "outputs": [
    {
     "data": {
      "text/plain": [
       "(1, 296)"
      ]
     },
     "execution_count": 54,
     "metadata": {},
     "output_type": "execute_result"
    }
   ],
   "source": [
    "np.min(word_len), np.max(word_len)"
   ]
  },
  {
   "cell_type": "code",
   "execution_count": 55,
   "id": "63840526",
   "metadata": {},
   "outputs": [
    {
     "data": {
      "text/plain": [
       "55"
      ]
     },
     "execution_count": 55,
     "metadata": {},
     "output_type": "execute_result"
    }
   ],
   "source": [
    "output_seq_len= int(np.quantile(word_len, .95))\n",
    "output_seq_len\n"
   ]
  },
  {
   "cell_type": "code",
   "execution_count": 56,
   "id": "64181053",
   "metadata": {},
   "outputs": [
    {
     "data": {
      "text/plain": [
       "55.0"
      ]
     },
     "execution_count": 56,
     "metadata": {},
     "output_type": "execute_result"
    }
   ],
   "source": [
    "np.percentile(word_len, 95)"
   ]
  },
  {
   "cell_type": "markdown",
   "id": "53041e20",
   "metadata": {},
   "source": [
    "### Create text vectorizer layer\n",
    "We want to make a layer which maps our texts from words to numbers."
   ]
  },
  {
   "cell_type": "code",
   "execution_count": 57,
   "id": "ac881519",
   "metadata": {},
   "outputs": [],
   "source": [
    "# How many words are in our vocab? (taken from table 2 in: https://arxiv.org/pdf/1710.06071.pdf)\n",
    "max_tokens = 68000\n",
    "  "
   ]
  },
  {
   "cell_type": "code",
   "execution_count": 58,
   "id": "aa752c6b",
   "metadata": {},
   "outputs": [],
   "source": [
    "text_vectorizer= TextVectorization(max_tokens=max_tokens,\n",
    "                                  output_mode='int',\n",
    "                                  output_sequence_length= output_seq_len\n",
    "                                  )"
   ]
  },
  {
   "cell_type": "code",
   "execution_count": 59,
   "id": "e42cb889",
   "metadata": {},
   "outputs": [],
   "source": [
    "# Adapt text vectorizer to training sentences\n",
    "text_vectorizer.adapt(train_sentences)"
   ]
  },
  {
   "cell_type": "code",
   "execution_count": 60,
   "id": "37998373",
   "metadata": {},
   "outputs": [
    {
     "data": {
      "text/plain": [
       "<tf.Tensor: shape=(55,), dtype=int64, numpy=\n",
       "array([   6,  331,    2,   79,    4,   53,    4,  161, 1127,  217, 2535,\n",
       "          5,  557,   65, 1584,    3,  670, 5559,  636,    5,    2,  654,\n",
       "       1137,    3,  180,    2,   70,  495,   36,  781,   15,   53,    5,\n",
       "        350,  266,    7,  362,    6,  289,  517, 1430, 1743,    0,    0,\n",
       "          0,    0,    0,    0,    0,    0,    0,    0,    0,    0,    0])>"
      ]
     },
     "execution_count": 60,
     "metadata": {},
     "output_type": "execute_result"
    }
   ],
   "source": [
    "text_vectorizer(train_sentences[0])"
   ]
  },
  {
   "cell_type": "code",
   "execution_count": 61,
   "id": "b8d1d059",
   "metadata": {},
   "outputs": [
    {
     "name": "stdout",
     "output_type": "stream",
     "text": [
      "Text:\n",
      "a higher preference ( chi-square , p = @ ) for e. mulungu was observed for both genders . \n",
      "\n",
      "Length:\t19 \n",
      "\n",
      "Vectorized text:\n",
      "[    8    82  1845  2960    14    11   949 29948    10   148    11    54\n",
      "  7220     0     0     0     0     0     0     0     0     0     0     0\n",
      "     0     0     0     0     0     0     0     0     0     0     0     0\n",
      "     0     0     0     0     0     0     0     0     0     0     0     0\n",
      "     0     0     0     0     0     0     0]\n"
     ]
    }
   ],
   "source": [
    "import random\n",
    "\n",
    "random_sentence= random.choice(train_sentences)\n",
    "print(f'Text:\\n{random_sentence}',\n",
    "     f'\\n\\nLength:\\t{len(random_sentence.split())}',\n",
    "     f'\\n\\nVectorized text:\\n{text_vectorizer(random_sentence)}')"
   ]
  },
  {
   "cell_type": "code",
   "execution_count": 62,
   "id": "b42dd3c5",
   "metadata": {},
   "outputs": [
    {
     "name": "stdout",
     "output_type": "stream",
     "text": [
      "Number of words in vocab: 64841\n",
      "Most common words in the vocab: ['', '[UNK]', 'the', 'and', 'of']\n",
      "Least common words in the vocab: ['aainduced', 'aaigroup', 'aachener', 'aachen', 'aaacp']\n"
     ]
    }
   ],
   "source": [
    "# How many words in our training vocabulary\n",
    "rct_20k_text_vocab = text_vectorizer.get_vocabulary()\n",
    "print(f\"Number of words in vocab: {len(rct_20k_text_vocab)}\")\n",
    "print(f\"Most common words in the vocab: {rct_20k_text_vocab[:5]}\")\n",
    "print(f\"Least common words in the vocab: {rct_20k_text_vocab[-5:]}\")"
   ]
  },
  {
   "cell_type": "code",
   "execution_count": 63,
   "id": "6127d8cd",
   "metadata": {},
   "outputs": [
    {
     "data": {
      "text/plain": [
       "64841"
      ]
     },
     "execution_count": 63,
     "metadata": {},
     "output_type": "execute_result"
    }
   ],
   "source": [
    "text_vectorizer.vocabulary_size()"
   ]
  },
  {
   "cell_type": "code",
   "execution_count": 64,
   "id": "0ccf9faf",
   "metadata": {},
   "outputs": [
    {
     "data": {
      "text/plain": [
       "{'name': 'text_vectorization',\n",
       " 'trainable': True,\n",
       " 'dtype': 'string',\n",
       " 'batch_input_shape': (None,),\n",
       " 'max_tokens': 68000,\n",
       " 'standardize': 'lower_and_strip_punctuation',\n",
       " 'split': 'whitespace',\n",
       " 'ngrams': None,\n",
       " 'output_mode': 'int',\n",
       " 'output_sequence_length': 55,\n",
       " 'pad_to_max_tokens': False,\n",
       " 'sparse': False,\n",
       " 'ragged': False,\n",
       " 'vocabulary': None,\n",
       " 'idf_weights': None,\n",
       " 'encoding': 'utf-8',\n",
       " 'vocabulary_size': 64841}"
      ]
     },
     "execution_count": 64,
     "metadata": {},
     "output_type": "execute_result"
    }
   ],
   "source": [
    "text_vectorizer.get_config()"
   ]
  },
  {
   "cell_type": "markdown",
   "id": "37f532fb",
   "metadata": {},
   "source": [
    "### Create custom text embedding layer"
   ]
  },
  {
   "cell_type": "code",
   "execution_count": 65,
   "id": "7849b6f4",
   "metadata": {},
   "outputs": [],
   "source": [
    "token_embedding= Embedding(input_dim=len(rct_20k_text_vocab),\n",
    "                         output_dim=128,\n",
    "                         mask_zero=True,\n",
    "                         name= 'token_embedding')"
   ]
  },
  {
   "cell_type": "code",
   "execution_count": 66,
   "id": "8f062a4c",
   "metadata": {},
   "outputs": [
    {
     "name": "stdout",
     "output_type": "stream",
     "text": [
      "Sentence before vectorization:\n",
      "a higher preference ( chi-square , p = @ ) for e. mulungu was observed for both genders .\n",
      "Len: 19\n",
      "\n",
      "Sentence after vectorization:\n",
      "[    8    82  1845  2960    14    11   949 29948    10   148    11    54\n",
      "  7220     0     0     0     0     0     0     0     0     0     0     0\n",
      "     0     0     0     0     0     0     0     0     0     0     0     0\n",
      "     0     0     0     0     0     0     0     0     0     0     0     0\n",
      "     0     0     0     0     0     0     0] \n",
      "Len: (55,)\n",
      "\n",
      "Sentence after embedding:\n",
      "[[ 0.02618775 -0.01092144  0.01663447 ... -0.02367148 -0.03830415\n",
      "   0.00765042]\n",
      " [ 0.00204182 -0.02576964  0.02923802 ... -0.0136838   0.02209704\n",
      "  -0.01868911]\n",
      " [ 0.01594212  0.01127898 -0.02155893 ...  0.01623939  0.01697545\n",
      "   0.04398756]\n",
      " ...\n",
      " [-0.01536334  0.00362496 -0.03177564 ...  0.04927814  0.02636642\n",
      "  -0.01366482]\n",
      " [-0.01536334  0.00362496 -0.03177564 ...  0.04927814  0.02636642\n",
      "  -0.01366482]\n",
      " [-0.01536334  0.00362496 -0.03177564 ...  0.04927814  0.02636642\n",
      "  -0.01366482]]\n",
      "Len: (55, 128)\n"
     ]
    }
   ],
   "source": [
    "vectorized_random_sentence= text_vectorizer(random_sentence) \n",
    "embedded_random_sentence= token_embedding(vectorized_random_sentence)\n",
    "\n",
    "print(f'Sentence before vectorization:\\n{random_sentence}'\n",
    "      f'\\nLen: {len(random_sentence.split())}'\n",
    "      \n",
    "     f'\\n\\nSentence after vectorization:\\n{vectorized_random_sentence} '\n",
    "     f'\\nLen: {vectorized_random_sentence.shape}'\n",
    "     \n",
    "     f'\\n\\nSentence after embedding:\\n{embedded_random_sentence}'\n",
    "     f'\\nLen: {embedded_random_sentence.shape}')"
   ]
  },
  {
   "cell_type": "markdown",
   "id": "cf36e628",
   "metadata": {},
   "source": [
    "## Creating datasets (making sure our data loads as fast as possible)\n",
    "We're going to setup our data to run as fast as possible with the TensorFlow tf.data API, many of the steps here are discussed at length in these two resources:\n",
    "\n",
    "- https://www.tensorflow.org/guide/data_performance\n",
    "- https://www.tensorflow.org/guide/data"
   ]
  },
  {
   "cell_type": "code",
   "execution_count": 67,
   "id": "5afdfb53",
   "metadata": {},
   "outputs": [],
   "source": [
    "# Turn out data into TensorFlow datasets\n",
    "train_dataset= tf.data.Dataset.from_tensor_slices((train_sentences, train_labels_one_hot))\n",
    "val_dataset= tf.data.Dataset.from_tensor_slices((val_sentences, val_labels_one_hot))\n",
    "test_dataset= tf.data.Dataset.from_tensor_slices( (test_sentences, test_labels_one_hot))"
   ]
  },
  {
   "cell_type": "code",
   "execution_count": 68,
   "id": "1f6fa917",
   "metadata": {},
   "outputs": [
    {
     "data": {
      "text/plain": [
       "180040"
      ]
     },
     "execution_count": 68,
     "metadata": {},
     "output_type": "execute_result"
    }
   ],
   "source": [
    "len(train_dataset)"
   ]
  },
  {
   "cell_type": "code",
   "execution_count": 69,
   "id": "433f9dc4",
   "metadata": {},
   "outputs": [
    {
     "data": {
      "text/plain": [
       "<_TensorSliceDataset element_spec=(TensorSpec(shape=(), dtype=tf.string, name=None), TensorSpec(shape=(5,), dtype=tf.float64, name=None))>"
      ]
     },
     "execution_count": 69,
     "metadata": {},
     "output_type": "execute_result"
    }
   ],
   "source": [
    "train_dataset"
   ]
  },
  {
   "cell_type": "code",
   "execution_count": 70,
   "id": "ea66ce54",
   "metadata": {},
   "outputs": [],
   "source": [
    "# Take the TensorSliceDataset's and turn them into prefected datasets\n",
    "train_dataset= train_dataset.batch(32).prefetch(tf.data.AUTOTUNE)\n",
    "val_dataset= val_dataset.batch(32).prefetch(tf.data.AUTOTUNE)\n",
    "test_dataset= test_dataset.batch(32).prefetch(tf.data.AUTOTUNE)\n",
    "\n",
    "# We don't need to shuffle dataset because we want the model to leans the order "
   ]
  },
  {
   "cell_type": "code",
   "execution_count": 71,
   "id": "01cc2e34",
   "metadata": {},
   "outputs": [
    {
     "data": {
      "text/plain": [
       "<_PrefetchDataset element_spec=(TensorSpec(shape=(None,), dtype=tf.string, name=None), TensorSpec(shape=(None, 5), dtype=tf.float64, name=None))>"
      ]
     },
     "execution_count": 71,
     "metadata": {},
     "output_type": "execute_result"
    }
   ],
   "source": [
    "train_dataset"
   ]
  },
  {
   "cell_type": "markdown",
   "id": "1f07ac72",
   "metadata": {},
   "source": [
    "## Model 1: Cond1D with token embedings"
   ]
  },
  {
   "cell_type": "code",
   "execution_count": 72,
   "id": "f2cd05ed",
   "metadata": {},
   "outputs": [],
   "source": [
    "from tf_keras import layers\n",
    "\n",
    "inputs= layers.Input(shape=(1,), dtype=tf.string)\n",
    "vectors= text_vectorizer(inputs)\n",
    "embeddings= token_embedding(vectors)\n",
    "x= layers.Conv1D(64, 5, padding='same', activation='relu')(embeddings)\n",
    "x= layers.GlobalAvgPool1D()(x)\n",
    "outputs= layers.Dense(num_classes, activation='softmax')(x)\n",
    "model_1= tf.keras.Model(inputs, outputs)\n",
    "\n",
    "model_1.compile(loss=tf.keras.losses.CategoricalCrossentropy(),\n",
    "               optimizer=tf.keras.optimizers.Adam(),\n",
    "               metrics=['accuracy'])"
   ]
  },
  {
   "cell_type": "code",
   "execution_count": 73,
   "id": "20b8a716",
   "metadata": {},
   "outputs": [
    {
     "name": "stdout",
     "output_type": "stream",
     "text": [
      "Model: \"model\"\n",
      "_________________________________________________________________\n",
      " Layer (type)                Output Shape              Param #   \n",
      "=================================================================\n",
      " input_1 (InputLayer)        [(None, 1)]               0         \n",
      "                                                                 \n",
      " text_vectorization (TextVe  (None, 55)                0         \n",
      " ctorization)                                                    \n",
      "                                                                 \n",
      " token_embedding (Embedding  (None, 55, 128)           8299648   \n",
      " )                                                               \n",
      "                                                                 \n",
      " conv1d (Conv1D)             (None, 55, 64)            41024     \n",
      "                                                                 \n",
      " global_average_pooling1d (  (None, 64)                0         \n",
      " GlobalAveragePooling1D)                                         \n",
      "                                                                 \n",
      " dense (Dense)               (None, 5)                 325       \n",
      "                                                                 \n",
      "=================================================================\n",
      "Total params: 8340997 (31.82 MB)\n",
      "Trainable params: 8340997 (31.82 MB)\n",
      "Non-trainable params: 0 (0.00 Byte)\n",
      "_________________________________________________________________\n"
     ]
    }
   ],
   "source": [
    "model_1.summary()"
   ]
  },
  {
   "cell_type": "code",
   "execution_count": 74,
   "id": "17325c5d",
   "metadata": {},
   "outputs": [
    {
     "data": {
      "text/plain": [
       "5"
      ]
     },
     "execution_count": 74,
     "metadata": {},
     "output_type": "execute_result"
    }
   ],
   "source": [
    "num_classes"
   ]
  },
  {
   "cell_type": "code",
   "execution_count": 75,
   "id": "80bcfbdb",
   "metadata": {},
   "outputs": [
    {
     "data": {
      "text/plain": [
       "<_PrefetchDataset element_spec=(TensorSpec(shape=(None,), dtype=tf.string, name=None), TensorSpec(shape=(None, 5), dtype=tf.float64, name=None))>"
      ]
     },
     "execution_count": 75,
     "metadata": {},
     "output_type": "execute_result"
    }
   ],
   "source": [
    "train_dataset"
   ]
  },
  {
   "cell_type": "code",
   "execution_count": 76,
   "id": "f584b4d9",
   "metadata": {},
   "outputs": [
    {
     "data": {
      "text/plain": [
       "(5627, 180040)"
      ]
     },
     "execution_count": 76,
     "metadata": {},
     "output_type": "execute_result"
    }
   ],
   "source": [
    "len(train_dataset), len(train_sentences)"
   ]
  },
  {
   "cell_type": "code",
   "execution_count": 77,
   "id": "1f98ad4d",
   "metadata": {},
   "outputs": [
    {
     "data": {
      "text/plain": [
       "31.99573484983117"
      ]
     },
     "execution_count": 77,
     "metadata": {},
     "output_type": "execute_result"
    }
   ],
   "source": [
    "len(train_sentences)/len(train_dataset)"
   ]
  },
  {
   "cell_type": "code",
   "execution_count": 78,
   "id": "ac7be2fd",
   "metadata": {},
   "outputs": [
    {
     "data": {
      "text/plain": [
       "562"
      ]
     },
     "execution_count": 78,
     "metadata": {},
     "output_type": "execute_result"
    }
   ],
   "source": [
    "int(0.1 * len(train_dataset))"
   ]
  },
  {
   "cell_type": "code",
   "execution_count": 79,
   "id": "ce0e66af",
   "metadata": {},
   "outputs": [
    {
     "name": "stdout",
     "output_type": "stream",
     "text": [
      "Epoch 1/3\n",
      "562/562 [==============================] - 60s 106ms/step - loss: 0.9193 - accuracy: 0.6341 - val_loss: 0.6878 - val_accuracy: 0.7407\n",
      "Epoch 2/3\n",
      "562/562 [==============================] - 58s 102ms/step - loss: 0.6617 - accuracy: 0.7536 - val_loss: 0.6337 - val_accuracy: 0.7703\n",
      "Epoch 3/3\n",
      "562/562 [==============================] - 57s 102ms/step - loss: 0.6231 - accuracy: 0.7720 - val_loss: 0.6006 - val_accuracy: 0.7859\n"
     ]
    }
   ],
   "source": [
    "history_model_1= model_1.fit(train_dataset,\n",
    "                            steps_per_epoch=int(0.1 * len(train_dataset)), # only train on 10% of batches\n",
    "                            epochs=3,\n",
    "                            validation_data= val_dataset,\n",
    "                            validation_steps= int(.1 * len(val_dataset))) # only validate on 10% of batches"
   ]
  },
  {
   "cell_type": "code",
   "execution_count": 80,
   "id": "02447d5f",
   "metadata": {},
   "outputs": [
    {
     "name": "stdout",
     "output_type": "stream",
     "text": [
      "942/942 [==============================] - 4s 4ms/step - loss: 0.6166 - accuracy: 0.7815\n"
     ]
    },
    {
     "data": {
      "text/plain": [
       "[0.6166027784347534, 0.7814833521842957]"
      ]
     },
     "execution_count": 80,
     "metadata": {},
     "output_type": "execute_result"
    }
   ],
   "source": [
    "model_1.evaluate(test_dataset)"
   ]
  },
  {
   "cell_type": "code",
   "execution_count": 81,
   "id": "ec175572",
   "metadata": {},
   "outputs": [
    {
     "name": "stdout",
     "output_type": "stream",
     "text": [
      "942/942 [==============================] - 4s 4ms/step\n"
     ]
    },
    {
     "data": {
      "text/plain": [
       "array([[3.6234576e-01, 6.6131987e-02, 2.6218015e-01, 2.8357592e-01,\n",
       "        2.5766125e-02],\n",
       "       [2.0421096e-03, 1.2576473e-03, 9.6830654e-01, 2.4011591e-03,\n",
       "        2.5992420e-02],\n",
       "       [5.9552968e-04, 2.3932867e-03, 8.3795661e-01, 3.1123369e-04,\n",
       "        1.5874329e-01],\n",
       "       [3.2604625e-04, 4.3787289e-04, 9.3146861e-01, 6.2067795e-04,\n",
       "        6.7146726e-02],\n",
       "       [1.0146103e-03, 4.5000814e-02, 1.1016395e-02, 4.5483711e-04,\n",
       "        9.4251323e-01],\n",
       "       [3.1491505e-09, 4.0094375e-05, 1.1499808e-06, 8.9872576e-10,\n",
       "        9.9995869e-01],\n",
       "       [3.6805704e-07, 1.5929593e-04, 3.8150602e-04, 9.3146667e-08,\n",
       "        9.9945867e-01],\n",
       "       [5.6286764e-01, 1.6143790e-01, 5.2333083e-03, 2.6850477e-01,\n",
       "        1.9564333e-03],\n",
       "       [2.6393810e-01, 5.1236528e-01, 3.4540374e-02, 1.3626306e-01,\n",
       "        5.2893307e-02],\n",
       "       [3.4106049e-01, 3.9755058e-01, 4.7053741e-03, 2.5408098e-01,\n",
       "        2.6025523e-03]], dtype=float32)"
      ]
     },
     "execution_count": 81,
     "metadata": {},
     "output_type": "execute_result"
    }
   ],
   "source": [
    "# Make predictions (our model predicts prediction probabilities for each class)\n",
    "model_1_pred_probs= model_1.predict(test_dataset)\n",
    "model_1_pred_probs[:10]"
   ]
  },
  {
   "cell_type": "code",
   "execution_count": 82,
   "id": "7e13cbb0",
   "metadata": {},
   "outputs": [
    {
     "data": {
      "text/plain": [
       "<tf.Tensor: shape=(10,), dtype=int64, numpy=array([0, 2, 2, 2, 4, 4, 4, 0, 1, 1])>"
      ]
     },
     "execution_count": 82,
     "metadata": {},
     "output_type": "execute_result"
    }
   ],
   "source": [
    "model_1_preds= tf.argmax(model_1_pred_probs, axis=1)\n",
    "model_1_preds[:10]"
   ]
  },
  {
   "cell_type": "code",
   "execution_count": 83,
   "id": "dadacda3",
   "metadata": {},
   "outputs": [
    {
     "data": {
      "text/plain": [
       "{'accuracy': 78.1483325037332,\n",
       " 'precision': 0.7785987243095172,\n",
       " 'recall': 0.781483325037332,\n",
       " 'f1': 0.7790050365957764}"
      ]
     },
     "execution_count": 83,
     "metadata": {},
     "output_type": "execute_result"
    }
   ],
   "source": [
    "model_1_results= calculate_results(test_labels_encoded, model_1_preds)\n",
    "model_1_results"
   ]
  },
  {
   "cell_type": "code",
   "execution_count": 84,
   "id": "b7503094",
   "metadata": {},
   "outputs": [
    {
     "data": {
      "text/plain": [
       "{'accuracy': 71.6674962667994,\n",
       " 'precision': 0.7124322482375202,\n",
       " 'recall': 0.716674962667994,\n",
       " 'f1': 0.6925101703856846}"
      ]
     },
     "execution_count": 84,
     "metadata": {},
     "output_type": "execute_result"
    }
   ],
   "source": [
    "baseline_results"
   ]
  },
  {
   "cell_type": "markdown",
   "id": "d21ed004",
   "metadata": {},
   "source": [
    "## Model 2: Feature extraction with pretrained token embeddings\n",
    "\n",
    "The paper originally used GloVe embeddings, however, we're going to stick with the later created USE pretrained embeddings.\n",
    "\n"
   ]
  },
  {
   "cell_type": "code",
   "execution_count": 85,
   "id": "10db27a5",
   "metadata": {},
   "outputs": [],
   "source": [
    "import tensorflow_hub as hub\n",
    "\n",
    "tf_hub_embedding_layer= hub.KerasLayer(\"tensorflow_hub/universal-sentence-encoder/\",\n",
    "                                       trainable=False,\n",
    "                                       input_shape=[],\n",
    "                                       output_shape=[],\n",
    "                                       dtype='string',\n",
    "                                       name='universal_sentence_encoder' \n",
    "                                       )"
   ]
  },
  {
   "cell_type": "code",
   "execution_count": 86,
   "id": "ef22a6af",
   "metadata": {},
   "outputs": [
    {
     "data": {
      "text/plain": [
       "<tensorflow_hub.keras_layer.KerasLayer at 0x7fb3af8659d0>"
      ]
     },
     "execution_count": 86,
     "metadata": {},
     "output_type": "execute_result"
    }
   ],
   "source": [
    "tf_hub_embedding_layer"
   ]
  },
  {
   "cell_type": "code",
   "execution_count": 87,
   "id": "24bc6e08",
   "metadata": {},
   "outputs": [
    {
     "name": "stdout",
     "output_type": "stream",
     "text": [
      "Random train sentence:\n",
      "Shape: 12\n",
      "a stratified-block randomized controlled multicenter trial was designed for this study .\n",
      "\n",
      "After passing through Universal Sentence Encoder:\n",
      "Shape: (1, 512)\n",
      "[[ 0.03313299  0.03058615  0.00038158 -0.02143525 -0.04267887  0.0118019\n",
      "   0.04846274 -0.01298285  0.07977622  0.00756513  0.0573509   0.02112124\n",
      "   0.09047729  0.04089547 -0.00538897 -0.00197658 -0.03336632  0.07443674\n",
      "   0.04609964 -0.07538683 -0.0771336   0.01900086 -0.07444838 -0.03956249\n",
      "   0.01956215 -0.02580973  0.05154924  0.0687549   0.00604931 -0.00474414\n",
      "   0.06586796  0.03844732 -0.0454361   0.05740369 -0.03791422  0.04999524\n",
      "  -0.08693098 -0.04602776  0.01643779  0.02967106 -0.06954911  0.07200667\n",
      "  -0.06143852 -0.00216977 -0.0334749   0.04623605 -0.03508041  0.0520578\n",
      "   0.01264876 -0.04238234  0.01424803 -0.06384389  0.03055163 -0.01266206\n",
      "   0.027103   -0.01792813  0.08496539 -0.01358143  0.06788569  0.03053904\n",
      "  -0.03532942  0.05033947  0.03848899 -0.06001144  0.04311215  0.03225929\n",
      "   0.06711799 -0.03283893  0.07372864 -0.02216412  0.02250137 -0.01723843\n",
      "   0.00186072  0.03864855 -0.04072012  0.05235474  0.01576811  0.00375665\n",
      "   0.00916927  0.00749093 -0.01226433  0.02081236  0.06196013 -0.03523746\n",
      "   0.01213172  0.03959987 -0.07230658 -0.02223143 -0.01402395 -0.06214499\n",
      "  -0.03423355  0.01311    -0.00469499  0.01925019  0.05415478  0.08593776\n",
      "  -0.025399   -0.05219618  0.03521251 -0.0325805  -0.04165307  0.02715834\n",
      "   0.05023467  0.02658114  0.02420013 -0.01292751 -0.02203142  0.03441187\n",
      "   0.01596639 -0.06311277  0.03870766  0.02587876  0.04321112  0.07594897\n",
      "  -0.01066532  0.01233619 -0.04316805  0.00042784  0.07200241  0.08536344\n",
      "   0.03712933  0.01888122  0.06959746  0.034168    0.06513364  0.00414716\n",
      "  -0.05197959  0.03961983 -0.00214986  0.03103156  0.01683665  0.09031678\n",
      "   0.05099565 -0.03783406 -0.01640039  0.00221428 -0.00709962  0.01851163\n",
      "  -0.0639222  -0.01889495  0.06518087  0.03408798 -0.05288576  0.01396587\n",
      "  -0.02276223  0.05088767  0.04994915  0.02722936  0.06764654 -0.03106561\n",
      "   0.03707473  0.00671061 -0.07267465 -0.02783452  0.0644939   0.05717349\n",
      "  -0.05426868 -0.06412596 -0.01817641 -0.0228631  -0.02163971 -0.030822\n",
      "  -0.02826883 -0.03983771  0.0391051   0.01494742 -0.05754488  0.04419702\n",
      "  -0.07310976 -0.04389986  0.04334488 -0.00276283 -0.03004499 -0.00909939\n",
      "  -0.01602367 -0.00475677 -0.00557154  0.07486073  0.03492742  0.02343928\n",
      "   0.057942   -0.03683808 -0.05373222 -0.05591989  0.01384707 -0.02455752\n",
      "   0.0268267  -0.02548389  0.0424553   0.07379734  0.07042223  0.00870146\n",
      "  -0.04027136  0.06031025  0.0321485   0.06796513  0.02217735  0.0655182\n",
      "  -0.01839529 -0.01141049  0.07591081  0.03872691  0.03602159  0.04095532\n",
      "   0.0722242  -0.07373367  0.0039759  -0.05951789  0.05660428  0.07823641\n",
      "  -0.02119336  0.00992495  0.01703283  0.03313284  0.05514466 -0.0481338\n",
      "   0.08624236  0.06418749  0.04740636 -0.05290844 -0.0099336  -0.05934577\n",
      "   0.05159269 -0.00280434  0.04696316  0.05754661  0.04458281  0.08044729\n",
      "  -0.05508562  0.02627225  0.02691721 -0.00877322  0.0112937  -0.04968126\n",
      "   0.03490159 -0.06951337  0.01193395  0.03354063  0.01139363  0.02514377\n",
      "   0.04180913 -0.0278802   0.01910294 -0.06910591 -0.0029932  -0.04847733\n",
      "  -0.01619559 -0.07511124 -0.05641062 -0.07368147 -0.00371793 -0.00833414\n",
      "  -0.0594835   0.02880534  0.02582296  0.01191936 -0.03121819 -0.0378008\n",
      "   0.05662941 -0.02561306 -0.01322397  0.07085013  0.01847534  0.02945164\n",
      "  -0.01945283 -0.06547605 -0.00928296  0.01791041 -0.04555761 -0.07698206\n",
      "  -0.02488853  0.05670888  0.01773368 -0.00909851 -0.03434844 -0.01729985\n",
      "   0.07603395 -0.03098227 -0.03307982  0.0014101  -0.05612483 -0.0080224\n",
      "  -0.03213714  0.02168768 -0.0109956  -0.014283    0.0367972   0.07089713\n",
      "  -0.03656966 -0.07643969 -0.00624291  0.0311988  -0.05079838  0.05583934\n",
      "   0.00679027 -0.05806568  0.05226153  0.00188703 -0.00262994 -0.05894633\n",
      "   0.02019445  0.01014651  0.01105985 -0.05208876 -0.08572422  0.04837392\n",
      "   0.06743291  0.00813184 -0.00827062 -0.03288227  0.04782007 -0.01938516\n",
      "   0.06452528 -0.00751815 -0.05133071  0.02916887  0.06434614 -0.05757\n",
      "  -0.07294276 -0.06360184 -0.01517165 -0.07476374  0.03067253 -0.01388649\n",
      "  -0.07071123  0.0084579   0.04311965 -0.04559076 -0.01997207 -0.02592669\n",
      "  -0.05282938  0.0542179   0.05481237 -0.08454239 -0.00997055  0.00282819\n",
      "   0.06736361 -0.01391804 -0.0274994   0.06325389  0.02018602  0.05628188\n",
      "  -0.0139521   0.02032718 -0.02419115  0.04544648  0.02445178  0.03382381\n",
      "   0.00170628  0.01817688 -0.0502288  -0.04900069  0.04053978 -0.02470169\n",
      "   0.07529704 -0.06088119 -0.04675033 -0.07284295  0.07782745 -0.0007966\n",
      "   0.00517621 -0.05727995 -0.04285437 -0.019575   -0.04884424 -0.07445103\n",
      "  -0.05309734  0.07069405 -0.00460106 -0.05120807 -0.08620374 -0.05844782\n",
      "   0.01555793 -0.00737042  0.00356309  0.03984984 -0.03108907 -0.01471115\n",
      "  -0.00881665  0.03184237 -0.0011202  -0.03373773  0.01198622  0.07128775\n",
      "   0.03269568  0.04971798  0.00303664  0.03732063 -0.01890009  0.03122353\n",
      "  -0.02592702  0.06725021 -0.07476761 -0.04906992 -0.07171785  0.03458603\n",
      "   0.04992099 -0.09046286  0.01929197 -0.07293288  0.00786502  0.06539208\n",
      "  -0.0274504   0.00291869 -0.03650681  0.00665115 -0.06198748  0.04722438\n",
      "  -0.05541616 -0.04112389  0.04876455 -0.01585753 -0.04217629  0.04151166\n",
      "  -0.03131182 -0.07240827 -0.04203877 -0.04779024  0.00026208  0.05926071\n",
      "   0.05262434 -0.05963263 -0.08051019  0.04551989  0.0571216   0.07440063\n",
      "  -0.00733505 -0.03766983 -0.02785943 -0.03554405 -0.07490556 -0.06912788\n",
      "  -0.07293549 -0.02842384  0.02250678  0.05182708 -0.03599558  0.00390568\n",
      "   0.02036385 -0.00822641 -0.03393751 -0.07648529  0.02088219 -0.00964902\n",
      "   0.04469348 -0.04351498  0.03499524 -0.03444953  0.03290462 -0.01842569\n",
      "   0.05635487 -0.00502887 -0.01175568 -0.01707053 -0.04872586 -0.04954296\n",
      "   0.0419381   0.02898453 -0.01000943  0.05699653  0.04581509  0.04890573\n",
      "  -0.00833751  0.03729488 -0.00298395  0.03547829  0.012385    0.00922456\n",
      "   0.0884183  -0.0806076   0.020348    0.03481584 -0.00686977  0.04198715\n",
      "  -0.03401943  0.03831939 -0.03665544 -0.02719452 -0.00821364  0.05689808\n",
      "  -0.02084095  0.03985784 -0.04742638 -0.02112411  0.02973275  0.0305666\n",
      "   0.01673427 -0.05465126 -0.00519823  0.04762098 -0.03622512 -0.07091928\n",
      "   0.07148936 -0.05672561  0.02982581 -0.03120973  0.00881408 -0.01031918\n",
      "  -0.04473476 -0.00292908 -0.01997314 -0.05555835 -0.06573741  0.06735492\n",
      "   0.01686035 -0.08527794  0.05008787  0.04195759 -0.02436223  0.01140283\n",
      "  -0.02425597  0.03320833]]\n"
     ]
    }
   ],
   "source": [
    "random_sentence= random.choice(train_sentences)\n",
    "print(f'Random train sentence:'\n",
    "      f'\\nShape: {len(random_sentence.split())}'\n",
    "      f'\\n{random_sentence}')\n",
    "\n",
    "random_sentence_use= tf_hub_embedding_layer([random_sentence])\n",
    "print(f'\\nAfter passing through Universal Sentence Encoder:'\n",
    "      f'\\nShape: {random_sentence_use.shape}'\n",
    "      f'\\n{random_sentence_use}')"
   ]
  },
  {
   "cell_type": "code",
   "execution_count": 88,
   "id": "a46a534e",
   "metadata": {},
   "outputs": [
    {
     "data": {
      "text/plain": [
       "<tf.Tensor: shape=(), dtype=float32, numpy=0.033132993>"
      ]
     },
     "execution_count": 88,
     "metadata": {},
     "output_type": "execute_result"
    }
   ],
   "source": [
    "random_sentence_use[0][0]"
   ]
  },
  {
   "cell_type": "markdown",
   "id": "aa28462a",
   "metadata": {},
   "source": [
    "### Building and fitting an NLP feature extraction model using pretrained embeddings TensorFlow Hub"
   ]
  },
  {
   "cell_type": "code",
   "execution_count": 89,
   "id": "835e673a",
   "metadata": {},
   "outputs": [],
   "source": [
    "import tf_keras"
   ]
  },
  {
   "cell_type": "code",
   "execution_count": 90,
   "id": "57c90141",
   "metadata": {},
   "outputs": [],
   "source": [
    "inputs= tf.keras.layers.Input(shape=[], dtype=tf.string)\n",
    "pretrained_embedding= tf_hub_embedding_layer(inputs)\n",
    "x= tf.keras.layers.Dense(128, activation='relu')(pretrained_embedding)\n",
    "outputs= tf.keras.layers.Dense(num_classes, activation='softmax')(x)\n",
    "model_2= tf.keras.Model(inputs, outputs,\n",
    "                       name='model_2_use_feature_extractor')\n",
    "\n",
    "model_2.compile(loss=tf_keras.losses.CategoricalCrossentropy(),\n",
    "               optimizer= tf_keras.optimizers.Adam(),\n",
    "               metrics= ['accuracy'])"
   ]
  },
  {
   "cell_type": "code",
   "execution_count": null,
   "id": "89fc6b21",
   "metadata": {},
   "outputs": [],
   "source": []
  },
  {
   "cell_type": "code",
   "execution_count": 91,
   "id": "2833e069",
   "metadata": {},
   "outputs": [
    {
     "name": "stdout",
     "output_type": "stream",
     "text": [
      "Model: \"model_2_use_feature_extractor\"\n",
      "_________________________________________________________________\n",
      " Layer (type)                Output Shape              Param #   \n",
      "=================================================================\n",
      " input_2 (InputLayer)        [(None,)]                 0         \n",
      "                                                                 \n",
      " universal_sentence_encoder  (None, 512)               256797824 \n",
      "  (KerasLayer)                                                   \n",
      "                                                                 \n",
      " dense_1 (Dense)             (None, 128)               65664     \n",
      "                                                                 \n",
      " dense_2 (Dense)             (None, 5)                 645       \n",
      "                                                                 \n",
      "=================================================================\n",
      "Total params: 256864133 (979.86 MB)\n",
      "Trainable params: 66309 (259.02 KB)\n",
      "Non-trainable params: 256797824 (979.61 MB)\n",
      "_________________________________________________________________\n"
     ]
    }
   ],
   "source": [
    "model_2.summary()"
   ]
  },
  {
   "cell_type": "code",
   "execution_count": 92,
   "id": "a81838a7",
   "metadata": {},
   "outputs": [
    {
     "name": "stdout",
     "output_type": "stream",
     "text": [
      "Epoch 1/3\n",
      "562/562 [==============================] - 9s 11ms/step - loss: 0.9180 - accuracy: 0.6477 - val_loss: 0.7938 - val_accuracy: 0.6912\n",
      "Epoch 2/3\n",
      "562/562 [==============================] - 6s 10ms/step - loss: 0.7659 - accuracy: 0.7025 - val_loss: 0.7518 - val_accuracy: 0.7058\n",
      "Epoch 3/3\n",
      "562/562 [==============================] - 6s 12ms/step - loss: 0.7477 - accuracy: 0.7133 - val_loss: 0.7357 - val_accuracy: 0.7134\n"
     ]
    }
   ],
   "source": [
    "history_model_2= model_2.fit(train_dataset,\n",
    "                            steps_per_epoch= int(0.1 * len(train_dataset)),\n",
    "                            epochs=3,\n",
    "                            validation_data= val_dataset,\n",
    "                            validation_steps= int(0.1 * len(val_dataset)))"
   ]
  },
  {
   "cell_type": "code",
   "execution_count": 93,
   "id": "a1d67c87",
   "metadata": {},
   "outputs": [
    {
     "name": "stdout",
     "output_type": "stream",
     "text": [
      "942/942 [==============================] - 8s 8ms/step - loss: 0.7506 - accuracy: 0.7082\n"
     ]
    },
    {
     "data": {
      "text/plain": [
       "[0.7506044507026672, 0.7081798315048218]"
      ]
     },
     "execution_count": 93,
     "metadata": {},
     "output_type": "execute_result"
    }
   ],
   "source": [
    "model_2.evaluate(test_dataset)"
   ]
  },
  {
   "cell_type": "code",
   "execution_count": 94,
   "id": "aceb28d1",
   "metadata": {},
   "outputs": [
    {
     "name": "stdout",
     "output_type": "stream",
     "text": [
      "942/942 [==============================] - 8s 8ms/step\n"
     ]
    }
   ],
   "source": [
    "model_2_pred_probs= model_2.predict(test_dataset)"
   ]
  },
  {
   "cell_type": "code",
   "execution_count": 95,
   "id": "8df12553",
   "metadata": {},
   "outputs": [
    {
     "data": {
      "text/plain": [
       "array([[3.7407893e-01, 1.0385188e-01, 4.2053547e-02, 4.4924873e-01,\n",
       "        3.0766876e-02],\n",
       "       [2.8498602e-01, 4.3923065e-02, 8.7473467e-02, 5.6775254e-01,\n",
       "        1.5864944e-02],\n",
       "       [1.1216059e-03, 7.0089144e-03, 8.7445611e-01, 1.6274982e-03,\n",
       "        1.1578587e-01],\n",
       "       [8.3121080e-03, 1.6399471e-02, 4.9132985e-01, 2.4390161e-02,\n",
       "        4.5956844e-01],\n",
       "       [6.5435859e-04, 3.1233126e-02, 4.4538807e-02, 4.4880027e-04,\n",
       "        9.2312497e-01]], dtype=float32)"
      ]
     },
     "execution_count": 95,
     "metadata": {},
     "output_type": "execute_result"
    }
   ],
   "source": [
    "model_2_pred_probs[:5]"
   ]
  },
  {
   "cell_type": "code",
   "execution_count": 96,
   "id": "f1324285",
   "metadata": {},
   "outputs": [
    {
     "data": {
      "text/plain": [
       "<tf.Tensor: shape=(5,), dtype=int64, numpy=array([3, 3, 2, 2, 4])>"
      ]
     },
     "execution_count": 96,
     "metadata": {},
     "output_type": "execute_result"
    }
   ],
   "source": [
    "model_2_preds= tf.argmax(model_2_pred_probs, axis=1)\n",
    "model_2_preds[:5]"
   ]
  },
  {
   "cell_type": "code",
   "execution_count": 97,
   "id": "aa887af3",
   "metadata": {},
   "outputs": [
    {
     "data": {
      "text/plain": [
       "{'accuracy': 70.81798573087772,\n",
       " 'precision': 0.7106493391371064,\n",
       " 'recall': 0.7081798573087772,\n",
       " 'f1': 0.7055737267535206}"
      ]
     },
     "execution_count": 97,
     "metadata": {},
     "output_type": "execute_result"
    }
   ],
   "source": [
    "model_2_results=calculate_results(test_labels_encoded, model_2_preds)\n",
    "model_2_results"
   ]
  },
  {
   "cell_type": "code",
   "execution_count": 98,
   "id": "78eb65ee",
   "metadata": {},
   "outputs": [
    {
     "data": {
      "text/plain": [
       "{'accuracy': 78.1483325037332,\n",
       " 'precision': 0.7785987243095172,\n",
       " 'recall': 0.781483325037332,\n",
       " 'f1': 0.7790050365957764}"
      ]
     },
     "execution_count": 98,
     "metadata": {},
     "output_type": "execute_result"
    }
   ],
   "source": [
    "model_1_results"
   ]
  },
  {
   "cell_type": "markdown",
   "id": "b5782b95",
   "metadata": {},
   "source": [
    "## Model 3: Conv1D with character embeddings\n",
    "The paper which we're replicating states they used a combination of token and character-level embeddings.\n",
    "\n",
    "Previously we've token-level embeddings but we'll need to do similar steps for characters if we want to use char-level embeddings."
   ]
  },
  {
   "cell_type": "markdown",
   "id": "f15beb4a",
   "metadata": {},
   "source": [
    "### Creating a character-level tokenizer"
   ]
  },
  {
   "cell_type": "code",
   "execution_count": 99,
   "id": "406804ce",
   "metadata": {},
   "outputs": [
    {
     "data": {
      "text/plain": [
       "'M o h a m m a d'"
      ]
     },
     "execution_count": 99,
     "metadata": {},
     "output_type": "execute_result"
    }
   ],
   "source": [
    "a='Mohammad'\n",
    "' '.join(a)"
   ]
  },
  {
   "cell_type": "code",
   "execution_count": 100,
   "id": "607a67a5",
   "metadata": {},
   "outputs": [
    {
     "name": "stdout",
     "output_type": "stream",
     "text": [
      "M o h a m m a d\n",
      "H o s s e i n\n",
      "A b e d i\n"
     ]
    }
   ],
   "source": [
    "a=['Mohammad','Hossein','Abedi']\n",
    "for i in a:\n",
    "    print(' '.join(i))"
   ]
  },
  {
   "cell_type": "code",
   "execution_count": 101,
   "id": "8ede7bf5",
   "metadata": {},
   "outputs": [],
   "source": [
    "def split_character(text):\n",
    "    return ' '.join(list(text))\n"
   ]
  },
  {
   "cell_type": "code",
   "execution_count": 102,
   "id": "e6d6f252",
   "metadata": {},
   "outputs": [
    {
     "data": {
      "text/plain": [
       "'M o h a m m a d   H o s s e i n   A b e d i'"
      ]
     },
     "execution_count": 102,
     "metadata": {},
     "output_type": "execute_result"
    }
   ],
   "source": [
    "split_character('Mohammad Hossein Abedi')"
   ]
  },
  {
   "cell_type": "code",
   "execution_count": 103,
   "id": "3434d9fd",
   "metadata": {},
   "outputs": [
    {
     "data": {
      "text/plain": [
       "['M o h a m m a d', 'H o s s e i n', 'A b e d i']"
      ]
     },
     "execution_count": 103,
     "metadata": {},
     "output_type": "execute_result"
    }
   ],
   "source": [
    "[' '.join(i) for i in ['Mohammad','Hossein','Abedi']]"
   ]
  },
  {
   "cell_type": "code",
   "execution_count": 104,
   "id": "49a8fbf2",
   "metadata": {},
   "outputs": [
    {
     "data": {
      "text/plain": [
       "[['M', 'o', 'h', 'a', 'm', 'm', 'a', 'd'],\n",
       " ['H', 'o', 's', 's', 'e', 'i', 'n'],\n",
       " ['A', 'b', 'e', 'd', 'i']]"
      ]
     },
     "execution_count": 104,
     "metadata": {},
     "output_type": "execute_result"
    }
   ],
   "source": [
    "[' '.join(i).split() for i in ['Mohammad','Hossein','Abedi']]"
   ]
  },
  {
   "cell_type": "code",
   "execution_count": 105,
   "id": "690cb00a",
   "metadata": {},
   "outputs": [
    {
     "data": {
      "text/plain": [
       "['M o h a m m a d', 'H o s s e i n', 'A b e d i']"
      ]
     },
     "execution_count": 105,
     "metadata": {},
     "output_type": "execute_result"
    }
   ],
   "source": [
    "[split_character(i) for i in ['Mohammad','Hossein','Abedi']]"
   ]
  },
  {
   "cell_type": "code",
   "execution_count": 106,
   "id": "cfae5eb6",
   "metadata": {},
   "outputs": [],
   "source": [
    "train_chars= [split_character(i) for i in train_sentences]\n",
    "val_chars= [split_character(i) for i in val_sentences]\n",
    "test_chars= [split_character(i) for i in test_sentences]"
   ]
  },
  {
   "cell_type": "code",
   "execution_count": 107,
   "id": "1b6f348e",
   "metadata": {},
   "outputs": [
    {
     "data": {
      "text/plain": [
       "('t o   i n v e s t i g a t e   t h e   e f f i c a c y   o f   @   w e e k s   o f   d a i l y   l o w - d o s e   o r a l   p r e d n i s o l o n e   i n   i m p r o v i n g   p a i n   ,   m o b i l i t y   ,   a n d   s y s t e m i c   l o w - g r a d e   i n f l a m m a t i o n   i n   t h e   s h o r t   t e r m   a n d   w h e t h e r   t h e   e f f e c t   w o u l d   b e   s u s t a i n e d   a t   @   w e e k s   i n   o l d e r   a d u l t s   w i t h   m o d e r a t e   t o   s e v e r e   k n e e   o s t e o a r t h r i t i s   (   o a   )   .',\n",
       " 'i g e   s e n s i t i z a t i o n   t o   a s p e r g i l l u s   f u m i g a t u s   a n d   a   p o s i t i v e   s p u t u m   f u n g a l   c u l t u r e   r e s u l t   a r e   c o m m o n   i n   p a t i e n t s   w i t h   r e f r a c t o r y   a s t h m a   .',\n",
       " 't h i s   s t u d y   a n a l y z e d   l i v e r   f u n c t i o n   a b n o r m a l i t i e s   i n   h e a r t   f a i l u r e   p a t i e n t s   a d m i t t e d   w i t h   s e v e r e   a c u t e   d e c o m p e n s a t e d   h e a r t   f a i l u r e   (   a d h f   )   .')"
      ]
     },
     "execution_count": 107,
     "metadata": {},
     "output_type": "execute_result"
    }
   ],
   "source": [
    "train_chars[0], val_chars[0], test_chars[0]"
   ]
  },
  {
   "cell_type": "code",
   "execution_count": 108,
   "id": "16e90e54",
   "metadata": {},
   "outputs": [
    {
     "data": {
      "text/plain": [
       "561"
      ]
     },
     "execution_count": 108,
     "metadata": {},
     "output_type": "execute_result"
    }
   ],
   "source": [
    "len(train_chars[0])"
   ]
  },
  {
   "cell_type": "code",
   "execution_count": 109,
   "id": "b8b32b2b",
   "metadata": {},
   "outputs": [
    {
     "data": {
      "text/plain": [
       "233"
      ]
     },
     "execution_count": 109,
     "metadata": {},
     "output_type": "execute_result"
    }
   ],
   "source": [
    "len(train_chars[0].split())"
   ]
  },
  {
   "cell_type": "code",
   "execution_count": 110,
   "id": "e4930413",
   "metadata": {},
   "outputs": [],
   "source": [
    "# Whats the average charater length?\n",
    "char_len= [len(i) for i in train_chars]"
   ]
  },
  {
   "cell_type": "code",
   "execution_count": 111,
   "id": "cf5b9810",
   "metadata": {},
   "outputs": [
    {
     "data": {
      "text/plain": [
       "[561, 273, 221, 129, 417, 293, 321, 327, 359, 101]"
      ]
     },
     "execution_count": 111,
     "metadata": {},
     "output_type": "execute_result"
    }
   ],
   "source": [
    "char_len[:10]"
   ]
  },
  {
   "cell_type": "code",
   "execution_count": 112,
   "id": "f8c70f3f",
   "metadata": {},
   "outputs": [
    {
     "data": {
      "text/plain": [
       "180040"
      ]
     },
     "execution_count": 112,
     "metadata": {},
     "output_type": "execute_result"
    }
   ],
   "source": [
    "len(char_len)"
   ]
  },
  {
   "cell_type": "code",
   "execution_count": 113,
   "id": "cb223773",
   "metadata": {},
   "outputs": [
    {
     "data": {
      "text/plain": [
       "297.7325149966674"
      ]
     },
     "execution_count": 113,
     "metadata": {},
     "output_type": "execute_result"
    }
   ],
   "source": [
    "char_len_avg= np.mean(char_len)\n",
    "char_len_avg"
   ]
  },
  {
   "cell_type": "code",
   "execution_count": 114,
   "id": "694beb17",
   "metadata": {},
   "outputs": [
    {
     "data": {
      "text/plain": [
       "579.0"
      ]
     },
     "execution_count": 114,
     "metadata": {},
     "output_type": "execute_result"
    }
   ],
   "source": [
    "char_len_q95= np.quantile(char_len, 0.95)\n",
    "char_len_q95"
   ]
  },
  {
   "cell_type": "code",
   "execution_count": 115,
   "id": "82ee53de",
   "metadata": {},
   "outputs": [
    {
     "data": {
      "text/plain": [
       "2771"
      ]
     },
     "execution_count": 115,
     "metadata": {},
     "output_type": "execute_result"
    }
   ],
   "source": [
    "np.max(char_len)"
   ]
  },
  {
   "cell_type": "code",
   "execution_count": 116,
   "id": "a26d401e",
   "metadata": {},
   "outputs": [
    {
     "data": {
      "text/plain": [
       "([<matplotlib.axis.XTick at 0x7fb352229e20>,\n",
       "  <matplotlib.axis.XTick at 0x7fb3522295e0>,\n",
       "  <matplotlib.axis.XTick at 0x7fb355b4f0e0>,\n",
       "  <matplotlib.axis.XTick at 0x7fb355b04980>,\n",
       "  <matplotlib.axis.XTick at 0x7fb355b64a70>,\n",
       "  <matplotlib.axis.XTick at 0x7fb355b656d0>,\n",
       "  <matplotlib.axis.XTick at 0x7fb355b66180>,\n",
       "  <matplotlib.axis.XTick at 0x7fb355b64650>,\n",
       "  <matplotlib.axis.XTick at 0x7fb355b66ae0>,\n",
       "  <matplotlib.axis.XTick at 0x7fb35cf55490>,\n",
       "  <matplotlib.axis.XTick at 0x7fb38fdab9b0>,\n",
       "  <matplotlib.axis.XTick at 0x7fb367e72060>,\n",
       "  <matplotlib.axis.XTick at 0x7fb355b66f00>,\n",
       "  <matplotlib.axis.XTick at 0x7fb367e71250>,\n",
       "  <matplotlib.axis.XTick at 0x7fb367e718e0>,\n",
       "  <matplotlib.axis.XTick at 0x7fb367e70620>,\n",
       "  <matplotlib.axis.XTick at 0x7fb38fdb8f80>,\n",
       "  <matplotlib.axis.XTick at 0x7fb367e715b0>,\n",
       "  <matplotlib.axis.XTick at 0x7fb38fdba810>,\n",
       "  <matplotlib.axis.XTick at 0x7fb38fdd2e70>,\n",
       "  <matplotlib.axis.XTick at 0x7fb35ce6eb40>,\n",
       "  <matplotlib.axis.XTick at 0x7fb35ce6c830>,\n",
       "  <matplotlib.axis.XTick at 0x7fb36c02e450>,\n",
       "  <matplotlib.axis.XTick at 0x7fb35ce6e210>,\n",
       "  <matplotlib.axis.XTick at 0x7fb35ce6f290>,\n",
       "  <matplotlib.axis.XTick at 0x7fb35ce6f620>,\n",
       "  <matplotlib.axis.XTick at 0x7fb352275100>,\n",
       "  <matplotlib.axis.XTick at 0x7fb352275970>],\n",
       " [Text(0, 0, '0'),\n",
       "  Text(100, 0, '100'),\n",
       "  Text(200, 0, '200'),\n",
       "  Text(300, 0, '300'),\n",
       "  Text(400, 0, '400'),\n",
       "  Text(500, 0, '500'),\n",
       "  Text(600, 0, '600'),\n",
       "  Text(700, 0, '700'),\n",
       "  Text(800, 0, '800'),\n",
       "  Text(900, 0, '900'),\n",
       "  Text(1000, 0, '1000'),\n",
       "  Text(1100, 0, '1100'),\n",
       "  Text(1200, 0, '1200'),\n",
       "  Text(1300, 0, '1300'),\n",
       "  Text(1400, 0, '1400'),\n",
       "  Text(1500, 0, '1500'),\n",
       "  Text(1600, 0, '1600'),\n",
       "  Text(1700, 0, '1700'),\n",
       "  Text(1800, 0, '1800'),\n",
       "  Text(1900, 0, '1900'),\n",
       "  Text(2000, 0, '2000'),\n",
       "  Text(2100, 0, '2100'),\n",
       "  Text(2200, 0, '2200'),\n",
       "  Text(2300, 0, '2300'),\n",
       "  Text(2400, 0, '2400'),\n",
       "  Text(2500, 0, '2500'),\n",
       "  Text(2600, 0, '2600'),\n",
       "  Text(2700, 0, '2700')])"
      ]
     },
     "execution_count": 116,
     "metadata": {},
     "output_type": "execute_result"
    },
    {
     "data": {
      "image/png": "[encoded data removed]",
      "text/plain": [
       "<Figure size 1400x600 with 1 Axes>"
      ]
     },
     "metadata": {},
     "output_type": "display_data"
    }
   ],
   "source": [
    "plt.figure(figsize=(14,6))\n",
    "plt.hist(char_len, bins=100)\n",
    "plt.xticks(np.arange(0,np.max(char_len),100))"
   ]
  },
  {
   "cell_type": "code",
   "execution_count": 117,
   "id": "b519d4a3",
   "metadata": {},
   "outputs": [
    {
     "data": {
      "text/plain": [
       "4741942"
      ]
     },
     "execution_count": 117,
     "metadata": {},
     "output_type": "execute_result"
    }
   ],
   "source": [
    "np.sum(word_len)"
   ]
  },
  {
   "cell_type": "code",
   "execution_count": 118,
   "id": "b0427348",
   "metadata": {},
   "outputs": [
    {
     "data": {
      "text/plain": [
       "53603762"
      ]
     },
     "execution_count": 118,
     "metadata": {},
     "output_type": "execute_result"
    }
   ],
   "source": [
    "np.sum(char_len)"
   ]
  },
  {
   "cell_type": "code",
   "execution_count": 119,
   "id": "1641f5e3",
   "metadata": {},
   "outputs": [
    {
     "data": {
      "text/plain": [
       "('abcdefghijklmnopqrstuvwxyz0123456789!\"#$%&\\'()*+,-./:;<=>?@[\\\\]^_`{|}~', 68)"
      ]
     },
     "execution_count": 119,
     "metadata": {},
     "output_type": "execute_result"
    }
   ],
   "source": [
    "# Get all keyboard characters\n",
    "import string\n",
    "alphabet= string.ascii_lowercase + string.digits + string.punctuation \n",
    "alphabet, len(alphabet)"
   ]
  },
  {
   "cell_type": "code",
   "execution_count": 120,
   "id": "18e6cac4",
   "metadata": {},
   "outputs": [],
   "source": [
    "# Create char level token vectorizer instance\n",
    "NUM_CHAR_TOKENS= len(alphabet) + 2 # add 2 for space and OOV token (OOV = out of vocab, '[UNK]')\n",
    "char_vectorizer= TextVectorization(max_tokens=NUM_CHAR_TOKENS,\n",
    "                                  output_mode='int',\n",
    "                                  output_sequence_length= int(char_len_q95),\n",
    "                                  # standardize=None, # set standardization to \"None\" if you want to leave punctuation in\n",
    "                                  name='char_vectorizer',\n",
    "                                  )\n",
    "\n"
   ]
  },
  {
   "cell_type": "code",
   "execution_count": 121,
   "id": "eb40dfdd",
   "metadata": {},
   "outputs": [
    {
     "data": {
      "text/plain": [
       "70"
      ]
     },
     "execution_count": 121,
     "metadata": {},
     "output_type": "execute_result"
    }
   ],
   "source": [
    "NUM_CHAR_TOKENS"
   ]
  },
  {
   "cell_type": "code",
   "execution_count": 122,
   "id": "9170c525",
   "metadata": {},
   "outputs": [
    {
     "data": {
      "text/plain": [
       "579.0"
      ]
     },
     "execution_count": 122,
     "metadata": {},
     "output_type": "execute_result"
    }
   ],
   "source": [
    "(char_len_q95)"
   ]
  },
  {
   "cell_type": "code",
   "execution_count": 123,
   "id": "22175cb3",
   "metadata": {},
   "outputs": [],
   "source": [
    "# Adapt character vectorizer to training character\n",
    "char_vectorizer.adapt(train_chars)"
   ]
  },
  {
   "cell_type": "code",
   "execution_count": 124,
   "id": "ad02c79c",
   "metadata": {},
   "outputs": [
    {
     "data": {
      "text/plain": [
       "(28,\n",
       " ['',\n",
       "  '[UNK]',\n",
       "  'e',\n",
       "  't',\n",
       "  'i',\n",
       "  'a',\n",
       "  'n',\n",
       "  'o',\n",
       "  'r',\n",
       "  's',\n",
       "  'd',\n",
       "  'c',\n",
       "  'l',\n",
       "  'h',\n",
       "  'p',\n",
       "  'm',\n",
       "  'u',\n",
       "  'f',\n",
       "  'g',\n",
       "  'y',\n",
       "  'w',\n",
       "  'v',\n",
       "  'b',\n",
       "  'k',\n",
       "  'x',\n",
       "  'z',\n",
       "  'q',\n",
       "  'j'])"
      ]
     },
     "execution_count": 124,
     "metadata": {},
     "output_type": "execute_result"
    }
   ],
   "source": [
    "# Check character vocab stats\n",
    "char_vocab= char_vectorizer.get_vocabulary()\n",
    "len(char_vocab), char_vocab"
   ]
  },
  {
   "cell_type": "code",
   "execution_count": 125,
   "id": "a7db2052",
   "metadata": {},
   "outputs": [
    {
     "name": "stdout",
     "output_type": "stream",
     "text": [
      "Text:\t(Shape: 76)\n",
      "u n i n t e n t i o n a l   o v e r d o s e   d e a t h s   i n v o l v i n g   p r e s c r i p t i o n   o p i o i d s   h a v e   q u a d r u p l e d   s i n c e   @   .\n",
      "\n",
      "\n",
      "Randm sentence after character vectorization:\t(Shape: 579)\n",
      "[16  6  4  6  3  2  6  3  4  7  6  5 12  7 21  2  8 10  7  9  2 10  2  5\n",
      "  3 13  9  4  6 21  7 12 21  4  6 18 14  8  2  9 11  8  4 14  3  4  7  6\n",
      "  7 14  4  7  4 10  9 13  5 21  2 26 16  5 10  8 16 14 12  2 10  9  4  6\n",
      " 11  2  0  0  0  0  0  0  0  0  0  0  0  0  0  0  0  0  0  0  0  0  0  0\n",
      "  0  0  0  0  0  0  0  0  0  0  0  0  0  0  0  0  0  0  0  0  0  0  0  0\n",
      "  0  0  0  0  0  0  0  0  0  0  0  0  0  0  0  0  0  0  0  0  0  0  0  0\n",
      "  0  0  0  0  0  0  0  0  0  0  0  0  0  0  0  0  0  0  0  0  0  0  0  0\n",
      "  0  0  0  0  0  0  0  0  0  0  0  0  0  0  0  0  0  0  0  0  0  0  0  0\n",
      "  0  0  0  0  0  0  0  0  0  0  0  0  0  0  0  0  0  0  0  0  0  0  0  0\n",
      "  0  0  0  0  0  0  0  0  0  0  0  0  0  0  0  0  0  0  0  0  0  0  0  0\n",
      "  0  0  0  0  0  0  0  0  0  0  0  0  0  0  0  0  0  0  0  0  0  0  0  0\n",
      "  0  0  0  0  0  0  0  0  0  0  0  0  0  0  0  0  0  0  0  0  0  0  0  0\n",
      "  0  0  0  0  0  0  0  0  0  0  0  0  0  0  0  0  0  0  0  0  0  0  0  0\n",
      "  0  0  0  0  0  0  0  0  0  0  0  0  0  0  0  0  0  0  0  0  0  0  0  0\n",
      "  0  0  0  0  0  0  0  0  0  0  0  0  0  0  0  0  0  0  0  0  0  0  0  0\n",
      "  0  0  0  0  0  0  0  0  0  0  0  0  0  0  0  0  0  0  0  0  0  0  0  0\n",
      "  0  0  0  0  0  0  0  0  0  0  0  0  0  0  0  0  0  0  0  0  0  0  0  0\n",
      "  0  0  0  0  0  0  0  0  0  0  0  0  0  0  0  0  0  0  0  0  0  0  0  0\n",
      "  0  0  0  0  0  0  0  0  0  0  0  0  0  0  0  0  0  0  0  0  0  0  0  0\n",
      "  0  0  0  0  0  0  0  0  0  0  0  0  0  0  0  0  0  0  0  0  0  0  0  0\n",
      "  0  0  0  0  0  0  0  0  0  0  0  0  0  0  0  0  0  0  0  0  0  0  0  0\n",
      "  0  0  0  0  0  0  0  0  0  0  0  0  0  0  0  0  0  0  0  0  0  0  0  0\n",
      "  0  0  0  0  0  0  0  0  0  0  0  0  0  0  0  0  0  0  0  0  0  0  0  0\n",
      "  0  0  0  0  0  0  0  0  0  0  0  0  0  0  0  0  0  0  0  0  0  0  0  0\n",
      "  0  0  0]\n"
     ]
    }
   ],
   "source": [
    "# Test out character vectorizer\n",
    "random_sentence= random.choice(train_chars)\n",
    "print(f'Text:\\t(Shape: {len(random_sentence.split())})\\n{random_sentence}')\n",
    "\n",
    "random_sentence_vectorized=char_vectorizer(random_sentence)\n",
    "print(f'\\n\\nRandm sentence after character vectorization:\\t(Shape: {len(random_sentence_vectorized)})\\n{random_sentence_vectorized}')"
   ]
  },
  {
   "cell_type": "markdown",
   "id": "bb5679ce",
   "metadata": {},
   "source": [
    "### Creating a character-level embedding"
   ]
  },
  {
   "cell_type": "code",
   "execution_count": 126,
   "id": "5e7d33a9",
   "metadata": {},
   "outputs": [
    {
     "data": {
      "text/plain": [
       "28"
      ]
     },
     "execution_count": 126,
     "metadata": {},
     "output_type": "execute_result"
    }
   ],
   "source": [
    "len(char_vectorizer.get_vocabulary())"
   ]
  },
  {
   "cell_type": "code",
   "execution_count": 127,
   "id": "3cd55b29",
   "metadata": {},
   "outputs": [],
   "source": [
    "char_embedding= Embedding(input_dim= len(char_vocab),\n",
    "                         output_dim= 25, # embedding dimension of each character (same as Figure 1 in https://arxiv.org/pdf/1612.05251.pdf)\n",
    "                         mask_zero=False, # don't use masks (this messes up model_5 if set to True)\n",
    "                         name= 'char_embedding')"
   ]
  },
  {
   "cell_type": "code",
   "execution_count": 128,
   "id": "cbb6a6e1",
   "metadata": {},
   "outputs": [
    {
     "name": "stdout",
     "output_type": "stream",
     "text": [
      "Text:\t(Shape: 177)\n",
      "t h e   i n t e r v e n t i o n   w a s   m o r e   e f f e c t i v e   t h a n   u s u a l   c a r e   (   s h o r t - t e r m   d i a b e t e s   e d u c a t i o n   )   a t   i m p r o v i n g   g l y c e m i c   c o n t r o l   ,   b u t   n o t   w e i g h t   ,   i n   l o w - i n c o m e   a f r i c a n   a m e r i c a n s   w i t h   c o m o r b i d   d i a b e t e s   a n d   h y p e r t e n s i o n   .\n",
      "\n",
      "\n",
      "Randm sentence after character vectorization:\t(Shape: (579, 25))\n",
      "[[-0.0139403  -0.04839521  0.04491781 ...  0.0088007  -0.03567537\n",
      "   0.01115258]\n",
      " [-0.03442105  0.03955983  0.002581   ... -0.00748483  0.00118848\n",
      "   0.01330994]\n",
      " [-0.00677912  0.0363686   0.03987478 ...  0.03006807 -0.02163336\n",
      "   0.04373688]\n",
      " ...\n",
      " [-0.02090702 -0.03071876 -0.00188953 ... -0.02269254 -0.01028447\n",
      "   0.0436447 ]\n",
      " [-0.02090702 -0.03071876 -0.00188953 ... -0.02269254 -0.01028447\n",
      "   0.0436447 ]\n",
      " [-0.02090702 -0.03071876 -0.00188953 ... -0.02269254 -0.01028447\n",
      "   0.0436447 ]]\n"
     ]
    }
   ],
   "source": [
    "# Test out character embedding\n",
    "random_sentence= random.choice(train_chars)\n",
    "print(f'Text:\\t(Shape: {len(random_sentence.split())})\\n{random_sentence}')\n",
    "\n",
    "random_sentence_embedded=char_embedding(char_vectorizer(random_sentence))\n",
    "print(f'\\n\\nRandm sentence after character vectorization:\\t(Shape: {(random_sentence_embedded).shape})\\n{random_sentence_embedded}')"
   ]
  },
  {
   "cell_type": "code",
   "execution_count": 129,
   "id": "b62e3a2a",
   "metadata": {},
   "outputs": [
    {
     "data": {
      "text/plain": [
       "<tf.Tensor: shape=(25,), dtype=float32, numpy=\n",
       "array([-0.0139403 , -0.04839521,  0.04491781,  0.03933039, -0.02733936,\n",
       "       -0.0271776 , -0.04997639,  0.0263369 , -0.02731823, -0.0409567 ,\n",
       "        0.01680222,  0.03763686, -0.03950872,  0.04621849,  0.02398172,\n",
       "        0.01500913,  0.00173688,  0.02683312,  0.04601211, -0.02258561,\n",
       "       -0.00548499, -0.03208037,  0.0088007 , -0.03567537,  0.01115258],\n",
       "      dtype=float32)>"
      ]
     },
     "execution_count": 129,
     "metadata": {},
     "output_type": "execute_result"
    }
   ],
   "source": [
    "random_sentence_embedded[0]"
   ]
  },
  {
   "cell_type": "markdown",
   "id": "1a2b190b",
   "metadata": {},
   "source": [
    "### Building a Conv1D model to fit on character embeddings\n"
   ]
  },
  {
   "cell_type": "code",
   "execution_count": 130,
   "id": "471b4af0",
   "metadata": {},
   "outputs": [],
   "source": [
    "# Make Conv1D on chars only\n",
    "inputs= tf.keras.layers.Input(shape=(1,), dtype=tf.string)\n",
    "vectorizing= char_vectorizer(inputs)\n",
    "embedding= char_embedding(vectorizing)\n",
    "x= tf.keras.layers.Conv1D(64, 5, padding='same', activation='relu')(embedding)\n",
    "x= tf.keras.layers.GlobalMaxPool1D()(x)\n",
    "outputs= tf_keras.layers.Dense(num_classes, activation='softmax')(x)\n",
    "model_3= tf.keras.Model(inputs, outputs, name='model_3_Conv1D_char_embedding')\n",
    "\n",
    "model_3.compile(loss=tf.keras.losses.CategoricalCrossentropy(),\n",
    "                optimizer=tf.keras.optimizers.Adam(),\n",
    "                metrics=['accuracy'])"
   ]
  },
  {
   "cell_type": "code",
   "execution_count": 131,
   "id": "be1643b4",
   "metadata": {},
   "outputs": [
    {
     "name": "stdout",
     "output_type": "stream",
     "text": [
      "Model: \"model_3_Conv1D_char_embedding\"\n",
      "_________________________________________________________________\n",
      " Layer (type)                Output Shape              Param #   \n",
      "=================================================================\n",
      " input_3 (InputLayer)        [(None, 1)]               0         \n",
      "                                                                 \n",
      " char_vectorizer (TextVecto  (None, 579)               0         \n",
      " rization)                                                       \n",
      "                                                                 \n",
      " char_embedding (Embedding)  (None, 579, 25)           700       \n",
      "                                                                 \n",
      " conv1d_1 (Conv1D)           (None, 579, 64)           8064      \n",
      "                                                                 \n",
      " global_max_pooling1d (Glob  (None, 64)                0         \n",
      " alMaxPooling1D)                                                 \n",
      "                                                                 \n",
      " dense_3 (Dense)             (None, 5)                 325       \n",
      "                                                                 \n",
      "=================================================================\n",
      "Total params: 9089 (35.50 KB)\n",
      "Trainable params: 9089 (35.50 KB)\n",
      "Non-trainable params: 0 (0.00 Byte)\n",
      "_________________________________________________________________\n"
     ]
    }
   ],
   "source": [
    "model_3.summary()"
   ]
  },
  {
   "cell_type": "code",
   "execution_count": 132,
   "id": "b7a01e4a",
   "metadata": {},
   "outputs": [],
   "source": [
    "# Create character level dataser\n",
    "train_char_dataset= tf.data.Dataset.from_tensor_slices((train_chars, train_labels_one_hot)).batch(32).prefetch(tf.data.AUTOTUNE)\n",
    "val_char_dataset= tf.data.Dataset.from_tensor_slices((val_chars, val_labels_one_hot)).batch(32).prefetch(tf.data.AUTOTUNE)\n",
    "test_char_dataset= tf.data.Dataset.from_tensor_slices((test_chars, test_labels_one_hot)).batch(32).prefetch(tf.data.AUTOTUNE)"
   ]
  },
  {
   "cell_type": "code",
   "execution_count": 133,
   "id": "6ce38773",
   "metadata": {},
   "outputs": [
    {
     "name": "stdout",
     "output_type": "stream",
     "text": [
      "Epoch 1/3\n",
      "562/562 [==============================] - 16s 27ms/step - loss: 1.2562 - accuracy: 0.4887 - val_loss: 1.0396 - val_accuracy: 0.5928\n",
      "Epoch 2/3\n",
      "562/562 [==============================] - 15s 27ms/step - loss: 1.0033 - accuracy: 0.5994 - val_loss: 0.9290 - val_accuracy: 0.6403\n",
      "Epoch 3/3\n",
      "562/562 [==============================] - 15s 26ms/step - loss: 0.9190 - accuracy: 0.6405 - val_loss: 0.8535 - val_accuracy: 0.6809\n"
     ]
    }
   ],
   "source": [
    "history_model_3= model_3.fit(train_char_dataset,\n",
    "                             steps_per_epoch= int(.1 * len(train_char_dataset)),\n",
    "                             epochs=3,\n",
    "                             validation_data= val_char_dataset,\n",
    "                             validation_steps= int(.1 * len(val_char_dataset)))"
   ]
  },
  {
   "cell_type": "code",
   "execution_count": 134,
   "id": "5fb2d561",
   "metadata": {},
   "outputs": [
    {
     "name": "stdout",
     "output_type": "stream",
     "text": [
      "942/942 [==============================] - 7s 7ms/step - loss: 0.8895 - accuracy: 0.6543\n"
     ]
    },
    {
     "data": {
      "text/plain": [
       "[0.8894991278648376, 0.6542558670043945]"
      ]
     },
     "execution_count": 134,
     "metadata": {},
     "output_type": "execute_result"
    }
   ],
   "source": [
    "model_3.evaluate(test_char_dataset)"
   ]
  },
  {
   "cell_type": "code",
   "execution_count": 135,
   "id": "aef32adc",
   "metadata": {},
   "outputs": [
    {
     "name": "stdout",
     "output_type": "stream",
     "text": [
      "942/942 [==============================] - 7s 7ms/step\n"
     ]
    }
   ],
   "source": [
    "model_3_pred_probs= model_3.predict(test_char_dataset)"
   ]
  },
  {
   "cell_type": "code",
   "execution_count": 136,
   "id": "84df2afa",
   "metadata": {},
   "outputs": [],
   "source": [
    "model_3_preds= tf.argmax(model_3_pred_probs, axis=1)"
   ]
  },
  {
   "cell_type": "code",
   "execution_count": 137,
   "id": "6cdf24a6",
   "metadata": {},
   "outputs": [
    {
     "data": {
      "text/plain": [
       "{'accuracy': 65.42558486809358,\n",
       " 'precision': 0.6479299557827728,\n",
       " 'recall': 0.6542558486809358,\n",
       " 'f1': 0.6429193595768494}"
      ]
     },
     "execution_count": 137,
     "metadata": {},
     "output_type": "execute_result"
    }
   ],
   "source": [
    "model_3_results= calculate_results(test_labels_encoded, model_3_preds)\n",
    "model_3_results"
   ]
  },
  {
   "cell_type": "markdown",
   "id": "0bcc1d32",
   "metadata": {},
   "source": [
    "## Model 4: Combining pretrained token embeddings + character embeddings (hybrid embedding layer)\n",
    "\n",
    "1. Create a token-level embedding model (`similar model_2`)\n",
    "2. Create a character-level model (`similar to model_3` with a slight modification)\n",
    "3. Combine 1 & 2 with a concatenate (`layers.Concatenate`)\n",
    "4. Build a series of output layers on top of 3 similar to Figure 1 and section 4.2 of https://arxiv.org/pdf/1612.05251.pdf\n",
    "5. Construct a model which takes token and character-level sequences as input and produces sequence label probabilities as output"
   ]
  },
  {
   "cell_type": "code",
   "execution_count": 138,
   "id": "44dcfe0e",
   "metadata": {},
   "outputs": [],
   "source": [
    "# 1. Setup token inputs/model\n",
    "token_inputs= layers.Input(shape=[], dtype=tf.string, name='token_inputs')\n",
    "token_embeddings= tf_hub_embedding_layer(token_inputs)\n",
    "token_outputs= layers.Dense(128, activation='relu')(token_embeddings)\n",
    "token_model= tf.keras.Model(inputs= token_inputs,\n",
    "                           outputs= token_outputs)\n",
    "\n",
    "# 2. Setup char inputs/model\n",
    "char_inputs= tf.keras.Input(shape=(1,), dtype=tf.string, name='char_inputs')\n",
    "char_vectors= char_vectorizer(char_inputs)\n",
    "char_embeddings= char_embedding(char_vectors)\n",
    "char_bi_lstm= layers.Bidirectional(layers.LSTM(24))(char_embeddings) # bi-LSTM shown in Figure 1 of https://arxiv.org/pdf/1612.05251.pdf\n",
    "char_model= tf.keras.Model(inputs= char_inputs,\n",
    "                           outputs= char_bi_lstm)\n",
    "\n",
    "# 3. Concatenate token and char inputs (create hybrid token embedding)\n",
    "token_char_concat= layers.Concatenate(name='token_char_hybrid')([token_model.output,\n",
    "                                                                char_model.output])\n",
    "\n",
    "# 4. Create output layers - adding in Dropout, discussed in section 4.2 of https://arxiv.org/pdf/1612.05251.pdf\n",
    "combined_dropout= layers.Dropout(0.5)(token_char_concat)\n",
    "combined_dense= layers.Dense(128, activation='relu')(combined_dropout)\n",
    "final_dropout= layers.Dropout(0.5)(combined_dense)\n",
    "output_layer= layers.Dense(num_classes, activation='softmax')(final_dropout)\n",
    "\n",
    "# 5. Construct model with char and token inputs\n",
    "model_4= tf.keras.Model(inputs=[token_model.input, char_model.input],\n",
    "                       outputs= output_layer,\n",
    "                       name='model_4_token_and_char_embeddings')\n",
    "\n"
   ]
  },
  {
   "cell_type": "code",
   "execution_count": 139,
   "id": "323f4ef4",
   "metadata": {},
   "outputs": [
    {
     "name": "stdout",
     "output_type": "stream",
     "text": [
      "Model: \"model_4_token_and_char_embeddings\"\n",
      "__________________________________________________________________________________________________\n",
      " Layer (type)                Output Shape                 Param #   Connected to                  \n",
      "==================================================================================================\n",
      " char_inputs (InputLayer)    [(None, 1)]                  0         []                            \n",
      "                                                                                                  \n",
      " token_inputs (InputLayer)   [(None,)]                    0         []                            \n",
      "                                                                                                  \n",
      " char_vectorizer (TextVecto  (None, 579)                  0         ['char_inputs[0][0]']         \n",
      " rization)                                                                                        \n",
      "                                                                                                  \n",
      " universal_sentence_encoder  (None, 512)                  2567978   ['token_inputs[0][0]']        \n",
      "  (KerasLayer)                                            24                                      \n",
      "                                                                                                  \n",
      " char_embedding (Embedding)  (None, 579, 25)              700       ['char_vectorizer[1][0]']     \n",
      "                                                                                                  \n",
      " dense_4 (Dense)             (None, 128)                  65664     ['universal_sentence_encoder[1\n",
      "                                                                    ][0]']                        \n",
      "                                                                                                  \n",
      " bidirectional (Bidirection  (None, 48)                   9600      ['char_embedding[1][0]']      \n",
      " al)                                                                                              \n",
      "                                                                                                  \n",
      " token_char_hybrid (Concate  (None, 176)                  0         ['dense_4[0][0]',             \n",
      " nate)                                                               'bidirectional[0][0]']       \n",
      "                                                                                                  \n",
      " dropout (Dropout)           (None, 176)                  0         ['token_char_hybrid[0][0]']   \n",
      "                                                                                                  \n",
      " dense_5 (Dense)             (None, 128)                  22656     ['dropout[0][0]']             \n",
      "                                                                                                  \n",
      " dropout_1 (Dropout)         (None, 128)                  0         ['dense_5[0][0]']             \n",
      "                                                                                                  \n",
      " dense_6 (Dense)             (None, 5)                    645       ['dropout_1[0][0]']           \n",
      "                                                                                                  \n",
      "==================================================================================================\n",
      "Total params: 256897089 (979.98 MB)\n",
      "Trainable params: 99265 (387.75 KB)\n",
      "Non-trainable params: 256797824 (979.61 MB)\n",
      "__________________________________________________________________________________________________\n"
     ]
    }
   ],
   "source": [
    "model_4.summary()"
   ]
  },
  {
   "cell_type": "code",
   "execution_count": 140,
   "id": "87245334",
   "metadata": {},
   "outputs": [],
   "source": [
    "# Plot hybrid token and character model\n",
    "from tensorflow.keras.utils import plot_model"
   ]
  },
  {
   "cell_type": "code",
   "execution_count": 141,
   "id": "dda9bb98",
   "metadata": {},
   "outputs": [
    {
     "data": {
      "image/png": "[encoded data removed]",
      "text/plain": [
       "<IPython.core.display.Image object>"
      ]
     },
     "execution_count": 141,
     "metadata": {},
     "output_type": "execute_result"
    }
   ],
   "source": [
    "plot_model(model_4, show_dtype=True, show_layer_activations=True, show_shapes=True)"
   ]
  },
  {
   "cell_type": "code",
   "execution_count": 142,
   "id": "b7a93cc2",
   "metadata": {},
   "outputs": [],
   "source": [
    "# Compile token and char hybrid model\n",
    "model_4.compile(loss=tf.keras.losses.CategoricalCrossentropy(),\n",
    "               optimizer=tf.keras.optimizers.Adam(), # section 4.2 of the paper says they use SGD, you might want to try this\n",
    "               metrics=['accuracy'])"
   ]
  },
  {
   "cell_type": "markdown",
   "id": "1b654bbc",
   "metadata": {},
   "source": [
    "### Combining token and character into a tf.data.Dataset"
   ]
  },
  {
   "cell_type": "code",
   "execution_count": 143,
   "id": "24427237",
   "metadata": {},
   "outputs": [],
   "source": [
    "# Combine chars and tokens into a dataset\n",
    "train_token_char_data= tf.data.Dataset.from_tensor_slices((train_sentences, train_chars))\n",
    "train_token_char_labels= tf.data.Dataset.from_tensor_slices(train_labels_one_hot)\n",
    "train_token_char_dataset= tf.data.Dataset.zip(train_token_char_data, train_token_char_labels)\n",
    "\n",
    "# Batch and prefetch dataset\n",
    "train_token_char_dataset= train_token_char_dataset.batch(32).prefetch(tf.data.AUTOTUNE)"
   ]
  },
  {
   "cell_type": "code",
   "execution_count": 144,
   "id": "8a9c946d",
   "metadata": {},
   "outputs": [],
   "source": [
    "# For validation dataset\n",
    "val_token_char_data= tf.data.Dataset.from_tensor_slices((val_sentences, val_chars))\n",
    "val_token_char_labels= tf.data.Dataset.from_tensor_slices(val_labels_one_hot)\n",
    "val_token_char_dataset= tf.data.Dataset.zip(val_token_char_data, val_token_char_labels)\n",
    "\n",
    "\n",
    "val_token_char_dataset= val_token_char_dataset.batch(32).prefetch(tf.data.AUTOTUNE)"
   ]
  },
  {
   "cell_type": "code",
   "execution_count": 145,
   "id": "9935956d",
   "metadata": {},
   "outputs": [
    {
     "data": {
      "text/plain": [
       "(<_PrefetchDataset element_spec=((TensorSpec(shape=(None,), dtype=tf.string, name=None), TensorSpec(shape=(None,), dtype=tf.string, name=None)), TensorSpec(shape=(None, 5), dtype=tf.float64, name=None))>,\n",
       " '',\n",
       " <_PrefetchDataset element_spec=((TensorSpec(shape=(None,), dtype=tf.string, name=None), TensorSpec(shape=(None,), dtype=tf.string, name=None)), TensorSpec(shape=(None, 5), dtype=tf.float64, name=None))>)"
      ]
     },
     "execution_count": 145,
     "metadata": {},
     "output_type": "execute_result"
    }
   ],
   "source": [
    "train_token_char_dataset, '', val_token_char_dataset"
   ]
  },
  {
   "cell_type": "markdown",
   "id": "6a4142d3",
   "metadata": {},
   "source": [
    "### Fitting a model on token and character-level sequences\n"
   ]
  },
  {
   "cell_type": "code",
   "execution_count": 146,
   "id": "38234712",
   "metadata": {},
   "outputs": [
    {
     "data": {
      "text/plain": [
       "5627"
      ]
     },
     "execution_count": 146,
     "metadata": {},
     "output_type": "execute_result"
    }
   ],
   "source": [
    "len(train_token_char_dataset)"
   ]
  },
  {
   "cell_type": "code",
   "execution_count": 147,
   "id": "c3215709",
   "metadata": {},
   "outputs": [
    {
     "data": {
      "text/plain": [
       "180064"
      ]
     },
     "execution_count": 147,
     "metadata": {},
     "output_type": "execute_result"
    }
   ],
   "source": [
    "5627*32"
   ]
  },
  {
   "cell_type": "code",
   "execution_count": 148,
   "id": "7b22fdf5",
   "metadata": {},
   "outputs": [
    {
     "name": "stdout",
     "output_type": "stream",
     "text": [
      "Epoch 1/3\n",
      "562/562 [==============================] - 127s 218ms/step - loss: 0.9804 - accuracy: 0.6117 - val_loss: 0.7835 - val_accuracy: 0.6938\n",
      "Epoch 2/3\n",
      "562/562 [==============================] - 121s 215ms/step - loss: 0.8069 - accuracy: 0.6903 - val_loss: 0.7230 - val_accuracy: 0.7234\n",
      "Epoch 3/3\n",
      "562/562 [==============================] - 121s 216ms/step - loss: 0.7795 - accuracy: 0.7013 - val_loss: 0.6969 - val_accuracy: 0.7344\n"
     ]
    }
   ],
   "source": [
    "history_model_4= model_4.fit(train_token_char_dataset,\n",
    "                            steps_per_epoch= int(.1 * len(train_token_char_dataset)),\n",
    "                            epochs=3,\n",
    "                            validation_data= val_token_char_dataset,\n",
    "                            validation_steps= int(.1 * len(val_token_char_dataset)))"
   ]
  },
  {
   "cell_type": "code",
   "execution_count": 149,
   "id": "ea2dd17c",
   "metadata": {},
   "outputs": [
    {
     "name": "stdout",
     "output_type": "stream",
     "text": [
      "945/945 [==============================] - 50s 53ms/step - loss: 0.7021 - accuracy: 0.7327\n"
     ]
    },
    {
     "data": {
      "text/plain": [
       "[0.7020867466926575, 0.7326558828353882]"
      ]
     },
     "execution_count": 149,
     "metadata": {},
     "output_type": "execute_result"
    }
   ],
   "source": [
    "model_4.evaluate(val_token_char_dataset)"
   ]
  },
  {
   "cell_type": "code",
   "execution_count": 150,
   "id": "d62cbb73",
   "metadata": {},
   "outputs": [
    {
     "name": "stdout",
     "output_type": "stream",
     "text": [
      "945/945 [==============================] - 51s 53ms/step\n"
     ]
    }
   ],
   "source": [
    "model_4_preds= tf.argmax(model_4.predict(val_token_char_dataset), axis=1)"
   ]
  },
  {
   "cell_type": "code",
   "execution_count": 151,
   "id": "c00a8b41",
   "metadata": {},
   "outputs": [
    {
     "data": {
      "text/plain": [
       "{'accuracy': 73.2655898318549,\n",
       " 'precision': 0.7338079946382718,\n",
       " 'recall': 0.7326558983185489,\n",
       " 'f1': 0.7303937606280158}"
      ]
     },
     "execution_count": 151,
     "metadata": {},
     "output_type": "execute_result"
    }
   ],
   "source": [
    "model_4_results= calculate_results(val_labels_encoded, model_4_preds)\n",
    "model_4_results"
   ]
  },
  {
   "cell_type": "markdown",
   "id": "b2d4d852",
   "metadata": {},
   "source": [
    "## Model 5: Transfer Learning with pretrained token embeddings + character embeddings + positional embeddings"
   ]
  },
  {
   "cell_type": "code",
   "execution_count": 152,
   "id": "c63562e5",
   "metadata": {},
   "outputs": [
    {
     "data": {
      "text/plain": [
       "[{'target': 'OBJECTIVE',\n",
       "  'text': 'to investigate the efficacy of @ weeks of daily low-dose oral prednisolone in improving pain , mobility , and systemic low-grade inflammation in the short term and whether the effect would be sustained at @ weeks in older adults with moderate to severe knee osteoarthritis ( oa ) .',\n",
       "  'line_number': 0,\n",
       "  'total_lines': 11},\n",
       " {'target': 'METHODS',\n",
       "  'text': 'a total of @ patients with primary knee oa were randomized @:@ ; @ received @ mg/day of prednisolone and @ received placebo for @ weeks .',\n",
       "  'line_number': 1,\n",
       "  'total_lines': 11},\n",
       " {'target': 'METHODS',\n",
       "  'text': 'outcome measures included pain reduction and improvement in function scores and systemic inflammation markers .',\n",
       "  'line_number': 2,\n",
       "  'total_lines': 11},\n",
       " {'target': 'METHODS',\n",
       "  'text': 'pain was assessed using the visual analog pain scale ( @-@ mm ) .',\n",
       "  'line_number': 3,\n",
       "  'total_lines': 11},\n",
       " {'target': 'METHODS',\n",
       "  'text': 'secondary outcome measures included the western ontario and mcmaster universities osteoarthritis index scores , patient global assessment ( pga ) of the severity of knee oa , and @-min walk distance ( @mwd ) .',\n",
       "  'line_number': 4,\n",
       "  'total_lines': 11}]"
      ]
     },
     "execution_count": 152,
     "metadata": {},
     "output_type": "execute_result"
    }
   ],
   "source": [
    "train_samples[:5]"
   ]
  },
  {
   "cell_type": "code",
   "execution_count": 153,
   "id": "11c12a2e",
   "metadata": {},
   "outputs": [
    {
     "data": {
      "text/html": [
       "<div>\n",
       "<style scoped>\n",
       "    .dataframe tbody tr th:only-of-type {\n",
       "        vertical-align: middle;\n",
       "    }\n",
       "\n",
       "    .dataframe tbody tr th {\n",
       "        vertical-align: top;\n",
       "    }\n",
       "\n",
       "    .dataframe thead th {\n",
       "        text-align: right;\n",
       "    }\n",
       "</style>\n",
       "<table border=\"1\" class=\"dataframe\">\n",
       "  <thead>\n",
       "    <tr style=\"text-align: right;\">\n",
       "      <th></th>\n",
       "      <th>target</th>\n",
       "      <th>text</th>\n",
       "      <th>line_number</th>\n",
       "      <th>total_lines</th>\n",
       "    </tr>\n",
       "  </thead>\n",
       "  <tbody>\n",
       "    <tr>\n",
       "      <th>0</th>\n",
       "      <td>OBJECTIVE</td>\n",
       "      <td>to investigate the efficacy of @ weeks of dail...</td>\n",
       "      <td>0</td>\n",
       "      <td>11</td>\n",
       "    </tr>\n",
       "    <tr>\n",
       "      <th>1</th>\n",
       "      <td>METHODS</td>\n",
       "      <td>a total of @ patients with primary knee oa wer...</td>\n",
       "      <td>1</td>\n",
       "      <td>11</td>\n",
       "    </tr>\n",
       "    <tr>\n",
       "      <th>2</th>\n",
       "      <td>METHODS</td>\n",
       "      <td>outcome measures included pain reduction and i...</td>\n",
       "      <td>2</td>\n",
       "      <td>11</td>\n",
       "    </tr>\n",
       "    <tr>\n",
       "      <th>3</th>\n",
       "      <td>METHODS</td>\n",
       "      <td>pain was assessed using the visual analog pain...</td>\n",
       "      <td>3</td>\n",
       "      <td>11</td>\n",
       "    </tr>\n",
       "    <tr>\n",
       "      <th>4</th>\n",
       "      <td>METHODS</td>\n",
       "      <td>secondary outcome measures included the wester...</td>\n",
       "      <td>4</td>\n",
       "      <td>11</td>\n",
       "    </tr>\n",
       "  </tbody>\n",
       "</table>\n",
       "</div>"
      ],
      "text/plain": [
       "      target                                               text  line_number  \\\n",
       "0  OBJECTIVE  to investigate the efficacy of @ weeks of dail...            0   \n",
       "1    METHODS  a total of @ patients with primary knee oa wer...            1   \n",
       "2    METHODS  outcome measures included pain reduction and i...            2   \n",
       "3    METHODS  pain was assessed using the visual analog pain...            3   \n",
       "4    METHODS  secondary outcome measures included the wester...            4   \n",
       "\n",
       "   total_lines  \n",
       "0           11  \n",
       "1           11  \n",
       "2           11  \n",
       "3           11  \n",
       "4           11  "
      ]
     },
     "execution_count": 153,
     "metadata": {},
     "output_type": "execute_result"
    }
   ],
   "source": [
    "train_df.head()"
   ]
  },
  {
   "cell_type": "markdown",
   "id": "ad5f236e",
   "metadata": {},
   "source": [
    ">🔑 Note: Any engineered features used to train a model need to be available at test time. In our case, line numbers and total lines are available."
   ]
  },
  {
   "cell_type": "markdown",
   "id": "7b46fb74",
   "metadata": {},
   "source": [
    "### Create positional embeddings"
   ]
  },
  {
   "cell_type": "code",
   "execution_count": 154,
   "id": "e160cba2",
   "metadata": {},
   "outputs": [
    {
     "data": {
      "text/plain": [
       "line_number\n",
       "0     15000\n",
       "1     15000\n",
       "2     15000\n",
       "3     15000\n",
       "4     14992\n",
       "5     14949\n",
       "6     14758\n",
       "7     14279\n",
       "8     13346\n",
       "9     11981\n",
       "10    10041\n",
       "11     7892\n",
       "12     5853\n",
       "13     4152\n",
       "14     2835\n",
       "15     1861\n",
       "16     1188\n",
       "17      751\n",
       "18      462\n",
       "19      286\n",
       "20      162\n",
       "21      101\n",
       "22       66\n",
       "23       33\n",
       "24       22\n",
       "25       14\n",
       "26        7\n",
       "27        4\n",
       "28        3\n",
       "29        1\n",
       "30        1\n",
       "Name: count, dtype: int64"
      ]
     },
     "execution_count": 154,
     "metadata": {},
     "output_type": "execute_result"
    }
   ],
   "source": [
    "train_df['line_number'].value_counts()"
   ]
  },
  {
   "cell_type": "code",
   "execution_count": 155,
   "id": "3e53553a",
   "metadata": {
    "scrolled": false
   },
   "outputs": [
    {
     "data": {
      "text/plain": [
       "([<matplotlib.axis.XTick at 0x7fb322992300>,\n",
       "  <matplotlib.axis.XTick at 0x7fb3229903b0>,\n",
       "  <matplotlib.axis.XTick at 0x7fb3236526c0>,\n",
       "  <matplotlib.axis.XTick at 0x7fb322765fa0>,\n",
       "  <matplotlib.axis.XTick at 0x7fb322766060>,\n",
       "  <matplotlib.axis.XTick at 0x7fb322766fc0>,\n",
       "  <matplotlib.axis.XTick at 0x7fb3227679e0>,\n",
       "  <matplotlib.axis.XTick at 0x7fb322778290>,\n",
       "  <matplotlib.axis.XTick at 0x7fb322767b30>,\n",
       "  <matplotlib.axis.XTick at 0x7fb322a5d460>,\n",
       "  <matplotlib.axis.XTick at 0x7fb3227665a0>,\n",
       "  <matplotlib.axis.XTick at 0x7fb322779640>,\n",
       "  <matplotlib.axis.XTick at 0x7fb3227796d0>,\n",
       "  <matplotlib.axis.XTick at 0x7fb32277a5d0>,\n",
       "  <matplotlib.axis.XTick at 0x7fb32277adb0>,\n",
       "  <matplotlib.axis.XTick at 0x7fb322827740>,\n",
       "  <matplotlib.axis.XTick at 0x7fb322779910>,\n",
       "  <matplotlib.axis.XTick at 0x7fb32277b680>,\n",
       "  <matplotlib.axis.XTick at 0x7fb3227799d0>,\n",
       "  <matplotlib.axis.XTick at 0x7fb3227281d0>,\n",
       "  <matplotlib.axis.XTick at 0x7fb322728a70>,\n",
       "  <matplotlib.axis.XTick at 0x7fb32277b590>,\n",
       "  <matplotlib.axis.XTick at 0x7fb3227294f0>,\n",
       "  <matplotlib.axis.XTick at 0x7fb322778500>,\n",
       "  <matplotlib.axis.XTick at 0x7fb322728230>,\n",
       "  <matplotlib.axis.XTick at 0x7fb322728dd0>,\n",
       "  <matplotlib.axis.XTick at 0x7fb322766750>,\n",
       "  <matplotlib.axis.XTick at 0x7fb322728ec0>,\n",
       "  <matplotlib.axis.XTick at 0x7fb32277ad50>,\n",
       "  <matplotlib.axis.XTick at 0x7fb32272bd10>,\n",
       "  <matplotlib.axis.XTick at 0x7fb322729fa0>],\n",
       " [Text(0, 0, '0'),\n",
       "  Text(1, 0, '1'),\n",
       "  Text(2, 0, '2'),\n",
       "  Text(3, 0, '3'),\n",
       "  Text(4, 0, '4'),\n",
       "  Text(5, 0, '5'),\n",
       "  Text(6, 0, '6'),\n",
       "  Text(7, 0, '7'),\n",
       "  Text(8, 0, '8'),\n",
       "  Text(9, 0, '9'),\n",
       "  Text(10, 0, '10'),\n",
       "  Text(11, 0, '11'),\n",
       "  Text(12, 0, '12'),\n",
       "  Text(13, 0, '13'),\n",
       "  Text(14, 0, '14'),\n",
       "  Text(15, 0, '15'),\n",
       "  Text(16, 0, '16'),\n",
       "  Text(17, 0, '17'),\n",
       "  Text(18, 0, '18'),\n",
       "  Text(19, 0, '19'),\n",
       "  Text(20, 0, '20'),\n",
       "  Text(21, 0, '21'),\n",
       "  Text(22, 0, '22'),\n",
       "  Text(23, 0, '23'),\n",
       "  Text(24, 0, '24'),\n",
       "  Text(25, 0, '25'),\n",
       "  Text(26, 0, '26'),\n",
       "  Text(27, 0, '27'),\n",
       "  Text(28, 0, '28'),\n",
       "  Text(29, 0, '29'),\n",
       "  Text(30, 0, '30')])"
      ]
     },
     "execution_count": 155,
     "metadata": {},
     "output_type": "execute_result"
    },
    {
     "data": {
      "image/png": "[encoded data removed]",
      "text/plain": [
       "<Figure size 1200x600 with 1 Axes>"
      ]
     },
     "metadata": {},
     "output_type": "display_data"
    }
   ],
   "source": [
    "plt.figure(figsize=(12,6))\n",
    "train_df.line_number.plot.hist(bins=10)\n",
    "plt.xticks(np.arange(31))\n"
   ]
  },
  {
   "cell_type": "code",
   "execution_count": 156,
   "id": "aac721f6",
   "metadata": {},
   "outputs": [
    {
     "data": {
      "text/plain": [
       "15.0"
      ]
     },
     "execution_count": 156,
     "metadata": {},
     "output_type": "execute_result"
    }
   ],
   "source": [
    "np.percentile(train_df['line_number'], 98)"
   ]
  },
  {
   "cell_type": "code",
   "execution_count": 157,
   "id": "9b508188",
   "metadata": {},
   "outputs": [],
   "source": [
    "# Use TensorFlow to create one-hot-encoded tensors of our \"line_number\" column\n",
    "train_line_number_one_hot= tf.one_hot(train_df['line_number'], depth=15)\n",
    "val_line_number_one_hot= tf.one_hot(val_df['line_number'], depth=15)\n",
    "test_line_number_one_hot= tf.one_hot(test_df['line_number'], depth=15)"
   ]
  },
  {
   "cell_type": "code",
   "execution_count": 158,
   "id": "b1d74d2e",
   "metadata": {},
   "outputs": [
    {
     "data": {
      "text/plain": [
       "<tf.Tensor: shape=(180040, 15), dtype=float32, numpy=\n",
       "array([[1., 0., 0., ..., 0., 0., 0.],\n",
       "       [0., 1., 0., ..., 0., 0., 0.],\n",
       "       [0., 0., 1., ..., 0., 0., 0.],\n",
       "       ...,\n",
       "       [0., 0., 0., ..., 0., 0., 0.],\n",
       "       [0., 0., 0., ..., 0., 0., 0.],\n",
       "       [0., 0., 0., ..., 0., 0., 0.]], dtype=float32)>"
      ]
     },
     "execution_count": 158,
     "metadata": {},
     "output_type": "execute_result"
    }
   ],
   "source": [
    "train_line_number_one_hot"
   ]
  },
  {
   "cell_type": "code",
   "execution_count": 159,
   "id": "c10b6b50",
   "metadata": {},
   "outputs": [
    {
     "data": {
      "text/plain": [
       "total_lines\n",
       "11    24468\n",
       "10    23639\n",
       "12    22113\n",
       "9     19400\n",
       "13    18438\n",
       "14    14610\n",
       "8     12285\n",
       "15    10768\n",
       "7      7464\n",
       "16     7429\n",
       "17     5202\n",
       "6      3353\n",
       "18     3344\n",
       "19     2480\n",
       "20     1281\n",
       "5      1146\n",
       "21      770\n",
       "22      759\n",
       "23      264\n",
       "4       215\n",
       "24      200\n",
       "25      182\n",
       "26       81\n",
       "28       58\n",
       "3        32\n",
       "30       31\n",
       "27       28\n",
       "Name: count, dtype: int64"
      ]
     },
     "execution_count": 159,
     "metadata": {},
     "output_type": "execute_result"
    }
   ],
   "source": [
    "train_df['total_lines'].value_counts()"
   ]
  },
  {
   "cell_type": "code",
   "execution_count": 160,
   "id": "23887c16",
   "metadata": {},
   "outputs": [
    {
     "data": {
      "text/plain": [
       "([<matplotlib.axis.XTick at 0x7fb323705280>,\n",
       "  <matplotlib.axis.XTick at 0x7fb3239a95e0>,\n",
       "  <matplotlib.axis.XTick at 0x7fb323a40cb0>,\n",
       "  <matplotlib.axis.XTick at 0x7fb3227fb620>,\n",
       "  <matplotlib.axis.XTick at 0x7fb3227fbd10>,\n",
       "  <matplotlib.axis.XTick at 0x7fb3227fbda0>,\n",
       "  <matplotlib.axis.XTick at 0x7fb322628ce0>,\n",
       "  <matplotlib.axis.XTick at 0x7fb322629550>,\n",
       "  <matplotlib.axis.XTick at 0x7fb323dd51c0>,\n",
       "  <matplotlib.axis.XTick at 0x7fb32262a2d0>,\n",
       "  <matplotlib.axis.XTick at 0x7fb322629970>,\n",
       "  <matplotlib.axis.XTick at 0x7fb32262a6c0>,\n",
       "  <matplotlib.axis.XTick at 0x7fb32262ac00>,\n",
       "  <matplotlib.axis.XTick at 0x7fb32262b530>,\n",
       "  <matplotlib.axis.XTick at 0x7fb32262bc80>,\n",
       "  <matplotlib.axis.XTick at 0x7fb32262bc20>,\n",
       "  <matplotlib.axis.XTick at 0x7fb322628aa0>,\n",
       "  <matplotlib.axis.XTick at 0x7fb32262b860>,\n",
       "  <matplotlib.axis.XTick at 0x7fb322649010>,\n",
       "  <matplotlib.axis.XTick at 0x7fb322649730>,\n",
       "  <matplotlib.axis.XTick at 0x7fb322649e50>,\n",
       "  <matplotlib.axis.XTick at 0x7fb3226283b0>,\n",
       "  <matplotlib.axis.XTick at 0x7fb322648a70>,\n",
       "  <matplotlib.axis.XTick at 0x7fb32264a990>,\n",
       "  <matplotlib.axis.XTick at 0x7fb32264af90>,\n",
       "  <matplotlib.axis.XTick at 0x7fb32264b7a0>,\n",
       "  <matplotlib.axis.XTick at 0x7fb32264af30>,\n",
       "  <matplotlib.axis.XTick at 0x7fb32264b6b0>,\n",
       "  <matplotlib.axis.XTick at 0x7fb322649400>,\n",
       "  <matplotlib.axis.XTick at 0x7fb32264b4a0>,\n",
       "  <matplotlib.axis.XTick at 0x7fb32266d010>],\n",
       " [Text(0, 0, '0'),\n",
       "  Text(1, 0, '1'),\n",
       "  Text(2, 0, '2'),\n",
       "  Text(3, 0, '3'),\n",
       "  Text(4, 0, '4'),\n",
       "  Text(5, 0, '5'),\n",
       "  Text(6, 0, '6'),\n",
       "  Text(7, 0, '7'),\n",
       "  Text(8, 0, '8'),\n",
       "  Text(9, 0, '9'),\n",
       "  Text(10, 0, '10'),\n",
       "  Text(11, 0, '11'),\n",
       "  Text(12, 0, '12'),\n",
       "  Text(13, 0, '13'),\n",
       "  Text(14, 0, '14'),\n",
       "  Text(15, 0, '15'),\n",
       "  Text(16, 0, '16'),\n",
       "  Text(17, 0, '17'),\n",
       "  Text(18, 0, '18'),\n",
       "  Text(19, 0, '19'),\n",
       "  Text(20, 0, '20'),\n",
       "  Text(21, 0, '21'),\n",
       "  Text(22, 0, '22'),\n",
       "  Text(23, 0, '23'),\n",
       "  Text(24, 0, '24'),\n",
       "  Text(25, 0, '25'),\n",
       "  Text(26, 0, '26'),\n",
       "  Text(27, 0, '27'),\n",
       "  Text(28, 0, '28'),\n",
       "  Text(29, 0, '29'),\n",
       "  Text(30, 0, '30')])"
      ]
     },
     "execution_count": 160,
     "metadata": {},
     "output_type": "execute_result"
    },
    {
     "data": {
      "image/png": "[encoded data removed]",
      "text/plain": [
       "<Figure size 1000x600 with 1 Axes>"
      ]
     },
     "metadata": {},
     "output_type": "display_data"
    }
   ],
   "source": [
    "plt.figure(figsize=(10,6))\n",
    "train_df['total_lines'].plot.hist(bins=10)\n",
    "plt.xticks(range(31))"
   ]
  },
  {
   "cell_type": "code",
   "execution_count": 161,
   "id": "7b998740",
   "metadata": {},
   "outputs": [
    {
     "data": {
      "text/plain": [
       "20.0"
      ]
     },
     "execution_count": 161,
     "metadata": {},
     "output_type": "execute_result"
    }
   ],
   "source": [
    "np.percentile(train_df['total_lines'], 98)"
   ]
  },
  {
   "cell_type": "code",
   "execution_count": 180,
   "id": "0cc8bce2",
   "metadata": {},
   "outputs": [],
   "source": [
    "train_total_lines_one_hot= tf.one_hot(train_df['total_lines'], depth=20)\n",
    "val_total_lines_one_hot= tf.one_hot(val_df['total_lines'], depth=20)\n",
    "test_total_lines_onr_hot= tf.one_hot(test_df['total_lines'], depth=20)"
   ]
  },
  {
   "cell_type": "code",
   "execution_count": 171,
   "id": "14360959",
   "metadata": {},
   "outputs": [
    {
     "data": {
      "text/plain": [
       "<tf.Tensor: shape=(180040, 20), dtype=float32, numpy=\n",
       "array([[0., 0., 0., ..., 0., 0., 0.],\n",
       "       [0., 0., 0., ..., 0., 0., 0.],\n",
       "       [0., 0., 0., ..., 0., 0., 0.],\n",
       "       ...,\n",
       "       [0., 0., 0., ..., 0., 0., 0.],\n",
       "       [0., 0., 0., ..., 0., 0., 0.],\n",
       "       [0., 0., 0., ..., 0., 0., 0.]], dtype=float32)>"
      ]
     },
     "execution_count": 171,
     "metadata": {},
     "output_type": "execute_result"
    }
   ],
   "source": [
    "train_total_lines_one_hot"
   ]
  },
  {
   "cell_type": "markdown",
   "id": "8bc2d77b",
   "metadata": {},
   "source": [
    "### Building a tribrid embedding model\n",
    "\n",
    "1. Create a token-level model\n",
    "2. Create a character-level model\n",
    "3. Create a model for the \"line_number\" feature\n",
    "4. Create a model for the \"total_lines\" feature\n",
    "5. Combine the outputs of 1 & 2 using tf.keras.layers.Concatenate\n",
    "6. Combine the outputs of 3, 4, 5 using tf.keras.layers.Concatenate\n",
    "7. Create an output layer to accept the tribrid embedding and output label probabilities\n",
    "8. Combine the inputs of 1, 2, 3, 4 and outputs of into a tf.keras.Model"
   ]
  },
  {
   "cell_type": "code",
   "execution_count": 164,
   "id": "aec2f98e",
   "metadata": {},
   "outputs": [],
   "source": [
    "# 1. Token inputs\n",
    "token_inputs= layers.Input(shape=[], dtype=tf.string, name='token_inputs')\n",
    "token_embeddings= tf_hub_embedding_layer(token_inputs)\n",
    "token_outputs= layers.Dense(128, activation='relu', name='token_outputs')(token_embeddings)\n",
    "token_model= tf.keras.Model(inputs= token_inputs,\n",
    "                           outputs= token_outputs)\n",
    "\n",
    "# 2. Char inputs\n",
    "char_inputs= layers.Input(shape=(1,), dtype=tf.string, name='char_inputs')\n",
    "char_vectors= char_vectorizer(char_inputs)\n",
    "char_embeddings= char_embedding(char_vectors)\n",
    "char_bi_lstm= layers.Bidirectional(layers.LSTM(24))(char_embeddings)\n",
    "char_model= tf.keras.Model(inputs= char_inputs,\n",
    "                          outputs= char_bi_lstm)\n",
    "\n",
    "# 3. Line number model\n",
    "line_number_inputs= layers.Input(shape=(15,), dtype=tf.float32, name='line_number_inputs')\n",
    "line_number_outputs= layers.Dense(32, activation='relu')(line_number_inputs)\n",
    "line_number_model= tf.keras.Model(line_number_inputs,\n",
    "                                 line_number_outputs) \n",
    "\n",
    "# 4. Total lines model\n",
    "total_lines_inputs= layers.Input(shape=(20,), dtype=tf.float32, name='total_lines_inputs')\n",
    "total_lines_outputs= layers.Dense(32, activation='relu')(total_lines_inputs)\n",
    "total_lines_model= tf.keras.Model(total_lines_inputs,\n",
    "                                 total_lines_outputs)\n",
    "\n",
    "# 5. Combine token and char embeddings into a hybrid embedding\n",
    "combined_embeddings= layers.Concatenate(name='token_char_embedding')([token_model.output,\n",
    "                                                                     char_model.output])\n",
    "\n",
    "combined_dense= layers.Dense(256, activation='relu')(combined_embeddings)\n",
    "combined_dropout= layers.Dropout(0.5)(combined_dense)\n",
    "\n",
    "# 6. Combine positional embedding with combined token and char embeddings\n",
    "tribrid_embeddings= layers.Concatenate(name='token_char_positional_embedding')([line_number_model.output,\n",
    "                                                                               total_lines_model.output,\n",
    "                                                                               combined_dropout])\n",
    "\n",
    "# 7. Create output layer\n",
    "output_layer= layers.Dense(num_classes, activation='softmax', name='output_layer')(tribrid_embeddings)\n",
    "\n",
    "# 8. Put together model with all kinds of inputs\n",
    "model_5= tf.keras.Model(inputs=[line_number_model.input,\n",
    "                               total_lines_model.input,\n",
    "                               token_model.input,\n",
    "                               char_model.input ],\n",
    "                       outputs= output_layer,\n",
    "                       name='model_5_tribrid_embedding')"
   ]
  },
  {
   "cell_type": "code",
   "execution_count": 165,
   "id": "68da6173",
   "metadata": {},
   "outputs": [
    {
     "name": "stdout",
     "output_type": "stream",
     "text": [
      "Model: \"model_5_tribrid_embedding\"\n",
      "__________________________________________________________________________________________________\n",
      " Layer (type)                Output Shape                 Param #   Connected to                  \n",
      "==================================================================================================\n",
      " char_inputs (InputLayer)    [(None, 1)]                  0         []                            \n",
      "                                                                                                  \n",
      " token_inputs (InputLayer)   [(None,)]                    0         []                            \n",
      "                                                                                                  \n",
      " char_vectorizer (TextVecto  (None, 579)                  0         ['char_inputs[0][0]']         \n",
      " rization)                                                                                        \n",
      "                                                                                                  \n",
      " universal_sentence_encoder  (None, 512)                  2567978   ['token_inputs[0][0]']        \n",
      "  (KerasLayer)                                            24                                      \n",
      "                                                                                                  \n",
      " char_embedding (Embedding)  (None, 579, 25)              700       ['char_vectorizer[2][0]']     \n",
      "                                                                                                  \n",
      " token_outputs (Dense)       (None, 128)                  65664     ['universal_sentence_encoder[2\n",
      "                                                                    ][0]']                        \n",
      "                                                                                                  \n",
      " bidirectional_1 (Bidirecti  (None, 48)                   9600      ['char_embedding[2][0]']      \n",
      " onal)                                                                                            \n",
      "                                                                                                  \n",
      " token_char_embedding (Conc  (None, 176)                  0         ['token_outputs[0][0]',       \n",
      " atenate)                                                            'bidirectional_1[0][0]']     \n",
      "                                                                                                  \n",
      " line_number_inputs (InputL  [(None, 15)]                 0         []                            \n",
      " ayer)                                                                                            \n",
      "                                                                                                  \n",
      " total_lines_inputs (InputL  [(None, 20)]                 0         []                            \n",
      " ayer)                                                                                            \n",
      "                                                                                                  \n",
      " dense_9 (Dense)             (None, 256)                  45312     ['token_char_embedding[0][0]']\n",
      "                                                                                                  \n",
      " dense_7 (Dense)             (None, 32)                   512       ['line_number_inputs[0][0]']  \n",
      "                                                                                                  \n",
      " dense_8 (Dense)             (None, 32)                   672       ['total_lines_inputs[0][0]']  \n",
      "                                                                                                  \n",
      " dropout_2 (Dropout)         (None, 256)                  0         ['dense_9[0][0]']             \n",
      "                                                                                                  \n",
      " token_char_positional_embe  (None, 320)                  0         ['dense_7[0][0]',             \n",
      " dding (Concatenate)                                                 'dense_8[0][0]',             \n",
      "                                                                     'dropout_2[0][0]']           \n",
      "                                                                                                  \n",
      " output_layer (Dense)        (None, 5)                    1605      ['token_char_positional_embedd\n",
      "                                                                    ing[0][0]']                   \n",
      "                                                                                                  \n",
      "==================================================================================================\n",
      "Total params: 256921889 (980.08 MB)\n",
      "Trainable params: 124065 (484.63 KB)\n",
      "Non-trainable params: 256797824 (979.61 MB)\n",
      "__________________________________________________________________________________________________\n"
     ]
    }
   ],
   "source": [
    "model_5.summary()"
   ]
  },
  {
   "cell_type": "code",
   "execution_count": 166,
   "id": "49e2e258",
   "metadata": {},
   "outputs": [
    {
     "data": {
      "image/png": "[encoded data removed]",
      "text/plain": [
       "<IPython.core.display.Image object>"
      ]
     },
     "execution_count": 166,
     "metadata": {},
     "output_type": "execute_result"
    }
   ],
   "source": [
    "plot_model(model_5)"
   ]
  },
  {
   "cell_type": "code",
   "execution_count": 167,
   "id": "7565ec97",
   "metadata": {},
   "outputs": [],
   "source": [
    "model_5.compile(loss= tf.keras.losses.CategoricalCrossentropy(label_smoothing=0.2),\n",
    "               optimizer= tf.keras.optimizers.Adam(),\n",
    "               metrics= ['accuracy'])"
   ]
  },
  {
   "cell_type": "markdown",
   "id": "6b4270c9",
   "metadata": {},
   "source": [
    "What is label smoothing?\n",
    "\n",
    "For example, if our model gets too confident on a single class (e.g. its prediction probability is really high), it may get stuck on that class and not consider other classes...\n",
    "\n",
    "Really confident: `[0.0, 0.0, 1.0, 0.0, 0.0]`\n",
    "\n",
    "What label smoothing does is it assigns some of the value from the highest pred prob to other classes, in turn, hopefully improving generalization: `[0.01, 0.01, 0.96, 0.01, 0.01]`\n",
    "\n",
    ">📖 Resource: For more on label smoothing, see this blog post from PyImageSearch: https://www.pyimagesearch.com/2019/12/30/label-smoothing-with-keras-tensorflow-and-deep-learning/"
   ]
  },
  {
   "cell_type": "markdown",
   "id": "fcf7cc6c",
   "metadata": {},
   "source": [
    "### Create tribrid embedding datasets using tf.data\n"
   ]
  },
  {
   "cell_type": "code",
   "execution_count": 168,
   "id": "4c7b5e41",
   "metadata": {},
   "outputs": [
    {
     "data": {
      "text/plain": [
       "<tf.Tensor: shape=(180040, 15), dtype=float32, numpy=\n",
       "array([[1., 0., 0., ..., 0., 0., 0.],\n",
       "       [0., 1., 0., ..., 0., 0., 0.],\n",
       "       [0., 0., 1., ..., 0., 0., 0.],\n",
       "       ...,\n",
       "       [0., 0., 0., ..., 0., 0., 0.],\n",
       "       [0., 0., 0., ..., 0., 0., 0.],\n",
       "       [0., 0., 0., ..., 0., 0., 0.]], dtype=float32)>"
      ]
     },
     "execution_count": 168,
     "metadata": {},
     "output_type": "execute_result"
    }
   ],
   "source": [
    "train_line_number_one_hot"
   ]
  },
  {
   "cell_type": "code",
   "execution_count": 182,
   "id": "3d9d3398",
   "metadata": {},
   "outputs": [],
   "source": [
    "# Create training and valiadation datasets (with all four kinds of input data)\n",
    "train_token_char_pos_data= tf.data.Dataset.from_tensor_slices((train_line_number_one_hot,\n",
    "                                                              train_total_lines_one_hot,\n",
    "                                                              train_sentences,\n",
    "                                                              train_chars))\n",
    "\n",
    "train_token_char_pos_labels= tf.data.Dataset.from_tensor_slices(train_labels_one_hot)\n",
    "train_token_char_pos_dataset= tf.data.Dataset.zip((train_token_char_pos_data, train_token_char_pos_labels))\n",
    "train_token_char_pos_dataset= train_token_char_pos_dataset.batch(32).prefetch(tf.data.AUTOTUNE)\n",
    "\n",
    "# Do the same as above for validation dataset\n",
    "val_token_char_pos_data= tf.data.Dataset.from_tensor_slices((val_line_number_one_hot,\n",
    "                                                              val_total_lines_one_hot,\n",
    "                                                              val_sentences,\n",
    "                                                              val_chars))\n",
    "\n",
    "val_token_char_pos_labels= tf.data.Dataset.from_tensor_slices(val_labels_one_hot)\n",
    "val_token_char_pos_dataset= tf.data.Dataset.zip((val_token_char_pos_data, val_token_char_pos_labels))\n",
    "val_token_char_pos_dataset= val_token_char_pos_dataset.batch(32).prefetch(tf.data.AUTOTUNE)"
   ]
  },
  {
   "cell_type": "code",
   "execution_count": 196,
   "id": "7978f2a8",
   "metadata": {},
   "outputs": [
    {
     "data": {
      "text/plain": [
       "(<_PrefetchDataset element_spec=((TensorSpec(shape=(None, 15), dtype=tf.float32, name=None), TensorSpec(shape=(None, 20), dtype=tf.float32, name=None), TensorSpec(shape=(None,), dtype=tf.string, name=None), TensorSpec(shape=(None,), dtype=tf.string, name=None)), TensorSpec(shape=(None, 5), dtype=tf.float64, name=None))>,\n",
       " '',\n",
       " <_PrefetchDataset element_spec=((TensorSpec(shape=(None, 15), dtype=tf.float32, name=None), TensorSpec(shape=(None, 20), dtype=tf.float32, name=None), TensorSpec(shape=(None,), dtype=tf.string, name=None), TensorSpec(shape=(None,), dtype=tf.string, name=None)), TensorSpec(shape=(None, 5), dtype=tf.float64, name=None))>)"
      ]
     },
     "execution_count": 196,
     "metadata": {},
     "output_type": "execute_result"
    }
   ],
   "source": [
    "train_token_char_pos_dataset, '', val_token_char_pos_dataset"
   ]
  },
  {
   "cell_type": "code",
   "execution_count": 194,
   "id": "a4fc5c6e",
   "metadata": {},
   "outputs": [],
   "source": [
    "a=train_token_char_pos_dataset.take(1)"
   ]
  },
  {
   "cell_type": "code",
   "execution_count": 195,
   "id": "780132cf",
   "metadata": {},
   "outputs": [
    {
     "data": {
      "text/plain": [
       "[((<tf.Tensor: shape=(32, 15), dtype=float32, numpy=\n",
       "   array([[1., 0., 0., 0., 0., 0., 0., 0., 0., 0., 0., 0., 0., 0., 0.],\n",
       "          [0., 1., 0., 0., 0., 0., 0., 0., 0., 0., 0., 0., 0., 0., 0.],\n",
       "          [0., 0., 1., 0., 0., 0., 0., 0., 0., 0., 0., 0., 0., 0., 0.],\n",
       "          [0., 0., 0., 1., 0., 0., 0., 0., 0., 0., 0., 0., 0., 0., 0.],\n",
       "          [0., 0., 0., 0., 1., 0., 0., 0., 0., 0., 0., 0., 0., 0., 0.],\n",
       "          [0., 0., 0., 0., 0., 1., 0., 0., 0., 0., 0., 0., 0., 0., 0.],\n",
       "          [0., 0., 0., 0., 0., 0., 1., 0., 0., 0., 0., 0., 0., 0., 0.],\n",
       "          [0., 0., 0., 0., 0., 0., 0., 1., 0., 0., 0., 0., 0., 0., 0.],\n",
       "          [0., 0., 0., 0., 0., 0., 0., 0., 1., 0., 0., 0., 0., 0., 0.],\n",
       "          [0., 0., 0., 0., 0., 0., 0., 0., 0., 1., 0., 0., 0., 0., 0.],\n",
       "          [0., 0., 0., 0., 0., 0., 0., 0., 0., 0., 1., 0., 0., 0., 0.],\n",
       "          [0., 0., 0., 0., 0., 0., 0., 0., 0., 0., 0., 1., 0., 0., 0.],\n",
       "          [1., 0., 0., 0., 0., 0., 0., 0., 0., 0., 0., 0., 0., 0., 0.],\n",
       "          [0., 1., 0., 0., 0., 0., 0., 0., 0., 0., 0., 0., 0., 0., 0.],\n",
       "          [0., 0., 1., 0., 0., 0., 0., 0., 0., 0., 0., 0., 0., 0., 0.],\n",
       "          [0., 0., 0., 1., 0., 0., 0., 0., 0., 0., 0., 0., 0., 0., 0.],\n",
       "          [0., 0., 0., 0., 1., 0., 0., 0., 0., 0., 0., 0., 0., 0., 0.],\n",
       "          [0., 0., 0., 0., 0., 1., 0., 0., 0., 0., 0., 0., 0., 0., 0.],\n",
       "          [0., 0., 0., 0., 0., 0., 1., 0., 0., 0., 0., 0., 0., 0., 0.],\n",
       "          [0., 0., 0., 0., 0., 0., 0., 1., 0., 0., 0., 0., 0., 0., 0.],\n",
       "          [0., 0., 0., 0., 0., 0., 0., 0., 1., 0., 0., 0., 0., 0., 0.],\n",
       "          [0., 0., 0., 0., 0., 0., 0., 0., 0., 1., 0., 0., 0., 0., 0.],\n",
       "          [0., 0., 0., 0., 0., 0., 0., 0., 0., 0., 1., 0., 0., 0., 0.],\n",
       "          [1., 0., 0., 0., 0., 0., 0., 0., 0., 0., 0., 0., 0., 0., 0.],\n",
       "          [0., 1., 0., 0., 0., 0., 0., 0., 0., 0., 0., 0., 0., 0., 0.],\n",
       "          [0., 0., 1., 0., 0., 0., 0., 0., 0., 0., 0., 0., 0., 0., 0.],\n",
       "          [0., 0., 0., 1., 0., 0., 0., 0., 0., 0., 0., 0., 0., 0., 0.],\n",
       "          [0., 0., 0., 0., 1., 0., 0., 0., 0., 0., 0., 0., 0., 0., 0.],\n",
       "          [0., 0., 0., 0., 0., 1., 0., 0., 0., 0., 0., 0., 0., 0., 0.],\n",
       "          [0., 0., 0., 0., 0., 0., 1., 0., 0., 0., 0., 0., 0., 0., 0.],\n",
       "          [0., 0., 0., 0., 0., 0., 0., 1., 0., 0., 0., 0., 0., 0., 0.],\n",
       "          [0., 0., 0., 0., 0., 0., 0., 0., 1., 0., 0., 0., 0., 0., 0.]],\n",
       "         dtype=float32)>,\n",
       "   <tf.Tensor: shape=(32, 20), dtype=float32, numpy=\n",
       "   array([[0., 0., 0., 0., 0., 0., 0., 0., 0., 0., 0., 1., 0., 0., 0., 0.,\n",
       "           0., 0., 0., 0.],\n",
       "          [0., 0., 0., 0., 0., 0., 0., 0., 0., 0., 0., 1., 0., 0., 0., 0.,\n",
       "           0., 0., 0., 0.],\n",
       "          [0., 0., 0., 0., 0., 0., 0., 0., 0., 0., 0., 1., 0., 0., 0., 0.,\n",
       "           0., 0., 0., 0.],\n",
       "          [0., 0., 0., 0., 0., 0., 0., 0., 0., 0., 0., 1., 0., 0., 0., 0.,\n",
       "           0., 0., 0., 0.],\n",
       "          [0., 0., 0., 0., 0., 0., 0., 0., 0., 0., 0., 1., 0., 0., 0., 0.,\n",
       "           0., 0., 0., 0.],\n",
       "          [0., 0., 0., 0., 0., 0., 0., 0., 0., 0., 0., 1., 0., 0., 0., 0.,\n",
       "           0., 0., 0., 0.],\n",
       "          [0., 0., 0., 0., 0., 0., 0., 0., 0., 0., 0., 1., 0., 0., 0., 0.,\n",
       "           0., 0., 0., 0.],\n",
       "          [0., 0., 0., 0., 0., 0., 0., 0., 0., 0., 0., 1., 0., 0., 0., 0.,\n",
       "           0., 0., 0., 0.],\n",
       "          [0., 0., 0., 0., 0., 0., 0., 0., 0., 0., 0., 1., 0., 0., 0., 0.,\n",
       "           0., 0., 0., 0.],\n",
       "          [0., 0., 0., 0., 0., 0., 0., 0., 0., 0., 0., 1., 0., 0., 0., 0.,\n",
       "           0., 0., 0., 0.],\n",
       "          [0., 0., 0., 0., 0., 0., 0., 0., 0., 0., 0., 1., 0., 0., 0., 0.,\n",
       "           0., 0., 0., 0.],\n",
       "          [0., 0., 0., 0., 0., 0., 0., 0., 0., 0., 0., 1., 0., 0., 0., 0.,\n",
       "           0., 0., 0., 0.],\n",
       "          [0., 0., 0., 0., 0., 0., 0., 0., 0., 0., 1., 0., 0., 0., 0., 0.,\n",
       "           0., 0., 0., 0.],\n",
       "          [0., 0., 0., 0., 0., 0., 0., 0., 0., 0., 1., 0., 0., 0., 0., 0.,\n",
       "           0., 0., 0., 0.],\n",
       "          [0., 0., 0., 0., 0., 0., 0., 0., 0., 0., 1., 0., 0., 0., 0., 0.,\n",
       "           0., 0., 0., 0.],\n",
       "          [0., 0., 0., 0., 0., 0., 0., 0., 0., 0., 1., 0., 0., 0., 0., 0.,\n",
       "           0., 0., 0., 0.],\n",
       "          [0., 0., 0., 0., 0., 0., 0., 0., 0., 0., 1., 0., 0., 0., 0., 0.,\n",
       "           0., 0., 0., 0.],\n",
       "          [0., 0., 0., 0., 0., 0., 0., 0., 0., 0., 1., 0., 0., 0., 0., 0.,\n",
       "           0., 0., 0., 0.],\n",
       "          [0., 0., 0., 0., 0., 0., 0., 0., 0., 0., 1., 0., 0., 0., 0., 0.,\n",
       "           0., 0., 0., 0.],\n",
       "          [0., 0., 0., 0., 0., 0., 0., 0., 0., 0., 1., 0., 0., 0., 0., 0.,\n",
       "           0., 0., 0., 0.],\n",
       "          [0., 0., 0., 0., 0., 0., 0., 0., 0., 0., 1., 0., 0., 0., 0., 0.,\n",
       "           0., 0., 0., 0.],\n",
       "          [0., 0., 0., 0., 0., 0., 0., 0., 0., 0., 1., 0., 0., 0., 0., 0.,\n",
       "           0., 0., 0., 0.],\n",
       "          [0., 0., 0., 0., 0., 0., 0., 0., 0., 0., 1., 0., 0., 0., 0., 0.,\n",
       "           0., 0., 0., 0.],\n",
       "          [0., 0., 0., 0., 0., 0., 0., 0., 0., 0., 0., 0., 0., 0., 1., 0.,\n",
       "           0., 0., 0., 0.],\n",
       "          [0., 0., 0., 0., 0., 0., 0., 0., 0., 0., 0., 0., 0., 0., 1., 0.,\n",
       "           0., 0., 0., 0.],\n",
       "          [0., 0., 0., 0., 0., 0., 0., 0., 0., 0., 0., 0., 0., 0., 1., 0.,\n",
       "           0., 0., 0., 0.],\n",
       "          [0., 0., 0., 0., 0., 0., 0., 0., 0., 0., 0., 0., 0., 0., 1., 0.,\n",
       "           0., 0., 0., 0.],\n",
       "          [0., 0., 0., 0., 0., 0., 0., 0., 0., 0., 0., 0., 0., 0., 1., 0.,\n",
       "           0., 0., 0., 0.],\n",
       "          [0., 0., 0., 0., 0., 0., 0., 0., 0., 0., 0., 0., 0., 0., 1., 0.,\n",
       "           0., 0., 0., 0.],\n",
       "          [0., 0., 0., 0., 0., 0., 0., 0., 0., 0., 0., 0., 0., 0., 1., 0.,\n",
       "           0., 0., 0., 0.],\n",
       "          [0., 0., 0., 0., 0., 0., 0., 0., 0., 0., 0., 0., 0., 0., 1., 0.,\n",
       "           0., 0., 0., 0.],\n",
       "          [0., 0., 0., 0., 0., 0., 0., 0., 0., 0., 0., 0., 0., 0., 1., 0.,\n",
       "           0., 0., 0., 0.]], dtype=float32)>,\n",
       "   <tf.Tensor: shape=(32,), dtype=string, numpy=\n",
       "   array([b'to investigate the efficacy of @ weeks of daily low-dose oral prednisolone in improving pain , mobility , and systemic low-grade inflammation in the short term and whether the effect would be sustained at @ weeks in older adults with moderate to severe knee osteoarthritis ( oa ) .',\n",
       "          b'a total of @ patients with primary knee oa were randomized @:@ ; @ received @ mg/day of prednisolone and @ received placebo for @ weeks .',\n",
       "          b'outcome measures included pain reduction and improvement in function scores and systemic inflammation markers .',\n",
       "          b'pain was assessed using the visual analog pain scale ( @-@ mm ) .',\n",
       "          b'secondary outcome measures included the western ontario and mcmaster universities osteoarthritis index scores , patient global assessment ( pga ) of the severity of knee oa , and @-min walk distance ( @mwd ) .',\n",
       "          b'serum levels of interleukin @ ( il-@ ) , il-@ , tumor necrosis factor ( tnf ) - , and high-sensitivity c-reactive protein ( hscrp ) were measured .',\n",
       "          b'there was a clinically relevant reduction in the intervention group compared to the placebo group for knee pain , physical function , pga , and @mwd at @ weeks .',\n",
       "          b'the mean difference between treatment arms ( @ % ci ) was @ ( @-@ @ ) , p < @ ; @ ( @-@ @ ) , p < @ ; @ ( @-@ @ ) , p < @ ; and @ ( @-@ @ ) , p < @ , respectively .',\n",
       "          b'further , there was a clinically relevant reduction in the serum levels of il-@ , il-@ , tnf - , and hscrp at @ weeks in the intervention group when compared to the placebo group .',\n",
       "          b'these differences remained significant at @ weeks .',\n",
       "          b'the outcome measures in rheumatology clinical trials-osteoarthritis research society international responder rate was @ % in the intervention group and @ % in the placebo group ( p < @ ) .',\n",
       "          b'low-dose oral prednisolone had both a short-term and a longer sustained effect resulting in less knee pain , better physical function , and attenuation of systemic inflammation in older patients with knee oa ( clinicaltrials.gov identifier nct@ ) .',\n",
       "          b'emotional eating is associated with overeating and the development of obesity .',\n",
       "          b'yet , empirical evidence for individual ( trait ) differences in emotional eating and cognitive mechanisms that contribute to eating during sad mood remain equivocal .',\n",
       "          b'the aim of this study was to test if attention bias for food moderates the effect of self-reported emotional eating during sad mood ( vs neutral mood ) on actual food intake .',\n",
       "          b'it was expected that emotional eating is predictive of elevated attention for food and higher food intake after an experimentally induced sad mood and that attentional maintenance on food predicts food intake during a sad versus a neutral mood .',\n",
       "          b'participants ( n = @ ) were randomly assigned to one of the two experimental mood induction conditions ( sad/neutral ) .',\n",
       "          b'attentional biases for high caloric foods were measured by eye tracking during a visual probe task with pictorial food and neutral stimuli .',\n",
       "          b'self-reported emotional eating was assessed with the dutch eating behavior questionnaire ( debq ) and ad libitum food intake was tested by a disguised food offer .',\n",
       "          b'hierarchical multivariate regression modeling showed that self-reported emotional eating did not account for changes in attention allocation for food or food intake in either condition .',\n",
       "          b'yet , attention maintenance on food cues was significantly related to increased intake specifically in the neutral condition , but not in the sad mood condition .',\n",
       "          b'the current findings show that self-reported emotional eating ( based on the debq ) might not validly predict who overeats when sad , at least not in a laboratory setting with healthy women .',\n",
       "          b'results further suggest that attention maintenance on food relates to eating motivation when in a neutral affective state , and might therefore be a cognitive mechanism contributing to increased food intake in general , but maybe not during sad mood .',\n",
       "          b'although working smoke alarms halve deaths in residential fires , many households do not keep alarms operational .',\n",
       "          b'we tested whether theory-based education increases alarm operability .',\n",
       "          b'randomised multiarm trial , with a single arm randomly selected for use each day , in low-income neighbourhoods in maryland , usa .',\n",
       "          b\"intervention arms : ( @ ) full education combining a health belief module with a social-cognitive theory module that provided hands-on practice installing alarm batteries and using the alarm 's hush button ; ( @ ) hands-on practice social-cognitive module supplemented by typical fire department education ; ( @ ) current norm receiving typical fire department education only .\",\n",
       "          b'four hundred and thirty-six homes recruited through churches or by knocking on doors in @-@ .',\n",
       "          b'follow-up visits checked alarm operability in @ homes ( @ % ) @-@ @ years after installation .',\n",
       "          b'number of homes with working alarms defined as alarms with working batteries or hard-wired and number of working alarms per home .',\n",
       "          b'regressions controlled for alarm status preintervention ; demographics and beliefs about fire risks and alarm effectiveness .',\n",
       "          b'homes in the full education and practice arms were more likely to have a functioning smoke alarm at follow-up ( or = @ , @ % ci @ to @ ) and had an average of @ more working alarms per home ( @ % ci @ to @ ) .'],\n",
       "         dtype=object)>,\n",
       "   <tf.Tensor: shape=(32,), dtype=string, numpy=\n",
       "   array([b't o   i n v e s t i g a t e   t h e   e f f i c a c y   o f   @   w e e k s   o f   d a i l y   l o w - d o s e   o r a l   p r e d n i s o l o n e   i n   i m p r o v i n g   p a i n   ,   m o b i l i t y   ,   a n d   s y s t e m i c   l o w - g r a d e   i n f l a m m a t i o n   i n   t h e   s h o r t   t e r m   a n d   w h e t h e r   t h e   e f f e c t   w o u l d   b e   s u s t a i n e d   a t   @   w e e k s   i n   o l d e r   a d u l t s   w i t h   m o d e r a t e   t o   s e v e r e   k n e e   o s t e o a r t h r i t i s   (   o a   )   .',\n",
       "          b'a   t o t a l   o f   @   p a t i e n t s   w i t h   p r i m a r y   k n e e   o a   w e r e   r a n d o m i z e d   @ : @   ;   @   r e c e i v e d   @   m g / d a y   o f   p r e d n i s o l o n e   a n d   @   r e c e i v e d   p l a c e b o   f o r   @   w e e k s   .',\n",
       "          b'o u t c o m e   m e a s u r e s   i n c l u d e d   p a i n   r e d u c t i o n   a n d   i m p r o v e m e n t   i n   f u n c t i o n   s c o r e s   a n d   s y s t e m i c   i n f l a m m a t i o n   m a r k e r s   .',\n",
       "          b'p a i n   w a s   a s s e s s e d   u s i n g   t h e   v i s u a l   a n a l o g   p a i n   s c a l e   (   @ - @   m m   )   .',\n",
       "          b's e c o n d a r y   o u t c o m e   m e a s u r e s   i n c l u d e d   t h e   w e s t e r n   o n t a r i o   a n d   m c m a s t e r   u n i v e r s i t i e s   o s t e o a r t h r i t i s   i n d e x   s c o r e s   ,   p a t i e n t   g l o b a l   a s s e s s m e n t   (   p g a   )   o f   t h e   s e v e r i t y   o f   k n e e   o a   ,   a n d   @ - m i n   w a l k   d i s t a n c e   (   @ m w d   )   .',\n",
       "          b's e r u m   l e v e l s   o f   i n t e r l e u k i n   @   (   i l - @   )   ,   i l - @   ,   t u m o r   n e c r o s i s   f a c t o r   (   t n f   )   -   ,   a n d   h i g h - s e n s i t i v i t y   c - r e a c t i v e   p r o t e i n   (   h s c r p   )   w e r e   m e a s u r e d   .',\n",
       "          b't h e r e   w a s   a   c l i n i c a l l y   r e l e v a n t   r e d u c t i o n   i n   t h e   i n t e r v e n t i o n   g r o u p   c o m p a r e d   t o   t h e   p l a c e b o   g r o u p   f o r   k n e e   p a i n   ,   p h y s i c a l   f u n c t i o n   ,   p g a   ,   a n d   @ m w d   a t   @   w e e k s   .',\n",
       "          b't h e   m e a n   d i f f e r e n c e   b e t w e e n   t r e a t m e n t   a r m s   (   @   %   c i   )   w a s   @   (   @ - @   @   )   ,   p   <   @   ;   @   (   @ - @   @   )   ,   p   <   @   ;   @   (   @ - @   @   )   ,   p   <   @   ;   a n d   @   (   @ - @   @   )   ,   p   <   @   ,   r e s p e c t i v e l y   .',\n",
       "          b'f u r t h e r   ,   t h e r e   w a s   a   c l i n i c a l l y   r e l e v a n t   r e d u c t i o n   i n   t h e   s e r u m   l e v e l s   o f   i l - @   ,   i l - @   ,   t n f   -   ,   a n d   h s c r p   a t   @   w e e k s   i n   t h e   i n t e r v e n t i o n   g r o u p   w h e n   c o m p a r e d   t o   t h e   p l a c e b o   g r o u p   .',\n",
       "          b't h e s e   d i f f e r e n c e s   r e m a i n e d   s i g n i f i c a n t   a t   @   w e e k s   .',\n",
       "          b't h e   o u t c o m e   m e a s u r e s   i n   r h e u m a t o l o g y   c l i n i c a l   t r i a l s - o s t e o a r t h r i t i s   r e s e a r c h   s o c i e t y   i n t e r n a t i o n a l   r e s p o n d e r   r a t e   w a s   @   %   i n   t h e   i n t e r v e n t i o n   g r o u p   a n d   @   %   i n   t h e   p l a c e b o   g r o u p   (   p   <   @   )   .',\n",
       "          b'l o w - d o s e   o r a l   p r e d n i s o l o n e   h a d   b o t h   a   s h o r t - t e r m   a n d   a   l o n g e r   s u s t a i n e d   e f f e c t   r e s u l t i n g   i n   l e s s   k n e e   p a i n   ,   b e t t e r   p h y s i c a l   f u n c t i o n   ,   a n d   a t t e n u a t i o n   o f   s y s t e m i c   i n f l a m m a t i o n   i n   o l d e r   p a t i e n t s   w i t h   k n e e   o a   (   c l i n i c a l t r i a l s . g o v   i d e n t i f i e r   n c t @   )   .',\n",
       "          b'e m o t i o n a l   e a t i n g   i s   a s s o c i a t e d   w i t h   o v e r e a t i n g   a n d   t h e   d e v e l o p m e n t   o f   o b e s i t y   .',\n",
       "          b'y e t   ,   e m p i r i c a l   e v i d e n c e   f o r   i n d i v i d u a l   (   t r a i t   )   d i f f e r e n c e s   i n   e m o t i o n a l   e a t i n g   a n d   c o g n i t i v e   m e c h a n i s m s   t h a t   c o n t r i b u t e   t o   e a t i n g   d u r i n g   s a d   m o o d   r e m a i n   e q u i v o c a l   .',\n",
       "          b't h e   a i m   o f   t h i s   s t u d y   w a s   t o   t e s t   i f   a t t e n t i o n   b i a s   f o r   f o o d   m o d e r a t e s   t h e   e f f e c t   o f   s e l f - r e p o r t e d   e m o t i o n a l   e a t i n g   d u r i n g   s a d   m o o d   (   v s   n e u t r a l   m o o d   )   o n   a c t u a l   f o o d   i n t a k e   .',\n",
       "          b'i t   w a s   e x p e c t e d   t h a t   e m o t i o n a l   e a t i n g   i s   p r e d i c t i v e   o f   e l e v a t e d   a t t e n t i o n   f o r   f o o d   a n d   h i g h e r   f o o d   i n t a k e   a f t e r   a n   e x p e r i m e n t a l l y   i n d u c e d   s a d   m o o d   a n d   t h a t   a t t e n t i o n a l   m a i n t e n a n c e   o n   f o o d   p r e d i c t s   f o o d   i n t a k e   d u r i n g   a   s a d   v e r s u s   a   n e u t r a l   m o o d   .',\n",
       "          b'p a r t i c i p a n t s   (   n   =   @   )   w e r e   r a n d o m l y   a s s i g n e d   t o   o n e   o f   t h e   t w o   e x p e r i m e n t a l   m o o d   i n d u c t i o n   c o n d i t i o n s   (   s a d / n e u t r a l   )   .',\n",
       "          b'a t t e n t i o n a l   b i a s e s   f o r   h i g h   c a l o r i c   f o o d s   w e r e   m e a s u r e d   b y   e y e   t r a c k i n g   d u r i n g   a   v i s u a l   p r o b e   t a s k   w i t h   p i c t o r i a l   f o o d   a n d   n e u t r a l   s t i m u l i   .',\n",
       "          b's e l f - r e p o r t e d   e m o t i o n a l   e a t i n g   w a s   a s s e s s e d   w i t h   t h e   d u t c h   e a t i n g   b e h a v i o r   q u e s t i o n n a i r e   (   d e b q   )   a n d   a d   l i b i t u m   f o o d   i n t a k e   w a s   t e s t e d   b y   a   d i s g u i s e d   f o o d   o f f e r   .',\n",
       "          b'h i e r a r c h i c a l   m u l t i v a r i a t e   r e g r e s s i o n   m o d e l i n g   s h o w e d   t h a t   s e l f - r e p o r t e d   e m o t i o n a l   e a t i n g   d i d   n o t   a c c o u n t   f o r   c h a n g e s   i n   a t t e n t i o n   a l l o c a t i o n   f o r   f o o d   o r   f o o d   i n t a k e   i n   e i t h e r   c o n d i t i o n   .',\n",
       "          b'y e t   ,   a t t e n t i o n   m a i n t e n a n c e   o n   f o o d   c u e s   w a s   s i g n i f i c a n t l y   r e l a t e d   t o   i n c r e a s e d   i n t a k e   s p e c i f i c a l l y   i n   t h e   n e u t r a l   c o n d i t i o n   ,   b u t   n o t   i n   t h e   s a d   m o o d   c o n d i t i o n   .',\n",
       "          b't h e   c u r r e n t   f i n d i n g s   s h o w   t h a t   s e l f - r e p o r t e d   e m o t i o n a l   e a t i n g   (   b a s e d   o n   t h e   d e b q   )   m i g h t   n o t   v a l i d l y   p r e d i c t   w h o   o v e r e a t s   w h e n   s a d   ,   a t   l e a s t   n o t   i n   a   l a b o r a t o r y   s e t t i n g   w i t h   h e a l t h y   w o m e n   .',\n",
       "          b'r e s u l t s   f u r t h e r   s u g g e s t   t h a t   a t t e n t i o n   m a i n t e n a n c e   o n   f o o d   r e l a t e s   t o   e a t i n g   m o t i v a t i o n   w h e n   i n   a   n e u t r a l   a f f e c t i v e   s t a t e   ,   a n d   m i g h t   t h e r e f o r e   b e   a   c o g n i t i v e   m e c h a n i s m   c o n t r i b u t i n g   t o   i n c r e a s e d   f o o d   i n t a k e   i n   g e n e r a l   ,   b u t   m a y b e   n o t   d u r i n g   s a d   m o o d   .',\n",
       "          b'a l t h o u g h   w o r k i n g   s m o k e   a l a r m s   h a l v e   d e a t h s   i n   r e s i d e n t i a l   f i r e s   ,   m a n y   h o u s e h o l d s   d o   n o t   k e e p   a l a r m s   o p e r a t i o n a l   .',\n",
       "          b'w e   t e s t e d   w h e t h e r   t h e o r y - b a s e d   e d u c a t i o n   i n c r e a s e s   a l a r m   o p e r a b i l i t y   .',\n",
       "          b'r a n d o m i s e d   m u l t i a r m   t r i a l   ,   w i t h   a   s i n g l e   a r m   r a n d o m l y   s e l e c t e d   f o r   u s e   e a c h   d a y   ,   i n   l o w - i n c o m e   n e i g h b o u r h o o d s   i n   m a r y l a n d   ,   u s a   .',\n",
       "          b\"i n t e r v e n t i o n   a r m s   :   (   @   )   f u l l   e d u c a t i o n   c o m b i n i n g   a   h e a l t h   b e l i e f   m o d u l e   w i t h   a   s o c i a l - c o g n i t i v e   t h e o r y   m o d u l e   t h a t   p r o v i d e d   h a n d s - o n   p r a c t i c e   i n s t a l l i n g   a l a r m   b a t t e r i e s   a n d   u s i n g   t h e   a l a r m   ' s   h u s h   b u t t o n   ;   (   @   )   h a n d s - o n   p r a c t i c e   s o c i a l - c o g n i t i v e   m o d u l e   s u p p l e m e n t e d   b y   t y p i c a l   f i r e   d e p a r t m e n t   e d u c a t i o n   ;   (   @   )   c u r r e n t   n o r m   r e c e i v i n g   t y p i c a l   f i r e   d e p a r t m e n t   e d u c a t i o n   o n l y   .\",\n",
       "          b'f o u r   h u n d r e d   a n d   t h i r t y - s i x   h o m e s   r e c r u i t e d   t h r o u g h   c h u r c h e s   o r   b y   k n o c k i n g   o n   d o o r s   i n   @ - @   .',\n",
       "          b'f o l l o w - u p   v i s i t s   c h e c k e d   a l a r m   o p e r a b i l i t y   i n   @   h o m e s   (   @   %   )   @ - @   @   y e a r s   a f t e r   i n s t a l l a t i o n   .',\n",
       "          b'n u m b e r   o f   h o m e s   w i t h   w o r k i n g   a l a r m s   d e f i n e d   a s   a l a r m s   w i t h   w o r k i n g   b a t t e r i e s   o r   h a r d - w i r e d   a n d   n u m b e r   o f   w o r k i n g   a l a r m s   p e r   h o m e   .',\n",
       "          b'r e g r e s s i o n s   c o n t r o l l e d   f o r   a l a r m   s t a t u s   p r e i n t e r v e n t i o n   ;   d e m o g r a p h i c s   a n d   b e l i e f s   a b o u t   f i r e   r i s k s   a n d   a l a r m   e f f e c t i v e n e s s   .',\n",
       "          b'h o m e s   i n   t h e   f u l l   e d u c a t i o n   a n d   p r a c t i c e   a r m s   w e r e   m o r e   l i k e l y   t o   h a v e   a   f u n c t i o n i n g   s m o k e   a l a r m   a t   f o l l o w - u p   (   o r   =   @   ,   @   %   c i   @   t o   @   )   a n d   h a d   a n   a v e r a g e   o f   @   m o r e   w o r k i n g   a l a r m s   p e r   h o m e   (   @   %   c i   @   t o   @   )   .'],\n",
       "         dtype=object)>),\n",
       "  <tf.Tensor: shape=(32, 5), dtype=float64, numpy=\n",
       "  array([[0., 0., 0., 1., 0.],\n",
       "         [0., 0., 1., 0., 0.],\n",
       "         [0., 0., 1., 0., 0.],\n",
       "         [0., 0., 1., 0., 0.],\n",
       "         [0., 0., 1., 0., 0.],\n",
       "         [0., 0., 1., 0., 0.],\n",
       "         [0., 0., 0., 0., 1.],\n",
       "         [0., 0., 0., 0., 1.],\n",
       "         [0., 0., 0., 0., 1.],\n",
       "         [0., 0., 0., 0., 1.],\n",
       "         [0., 0., 0., 0., 1.],\n",
       "         [0., 1., 0., 0., 0.],\n",
       "         [1., 0., 0., 0., 0.],\n",
       "         [1., 0., 0., 0., 0.],\n",
       "         [0., 0., 0., 1., 0.],\n",
       "         [0., 0., 0., 1., 0.],\n",
       "         [0., 0., 1., 0., 0.],\n",
       "         [0., 0., 1., 0., 0.],\n",
       "         [0., 0., 1., 0., 0.],\n",
       "         [0., 0., 0., 0., 1.],\n",
       "         [0., 0., 0., 0., 1.],\n",
       "         [0., 1., 0., 0., 0.],\n",
       "         [0., 1., 0., 0., 0.],\n",
       "         [1., 0., 0., 0., 0.],\n",
       "         [1., 0., 0., 0., 0.],\n",
       "         [0., 0., 1., 0., 0.],\n",
       "         [0., 0., 1., 0., 0.],\n",
       "         [0., 0., 1., 0., 0.],\n",
       "         [0., 0., 1., 0., 0.],\n",
       "         [0., 0., 1., 0., 0.],\n",
       "         [0., 0., 1., 0., 0.],\n",
       "         [0., 0., 0., 0., 1.]])>)]"
      ]
     },
     "execution_count": 195,
     "metadata": {},
     "output_type": "execute_result"
    }
   ],
   "source": [
    "list(a)"
   ]
  },
  {
   "cell_type": "markdown",
   "id": "447c301b",
   "metadata": {},
   "source": [
    "### Fitting, evaluating and making predicitions with our tribrid model\n"
   ]
  },
  {
   "cell_type": "code",
   "execution_count": 197,
   "id": "40dd9901",
   "metadata": {},
   "outputs": [
    {
     "name": "stdout",
     "output_type": "stream",
     "text": [
      "Epoch 1/3\n",
      "562/562 [==============================] - 147s 252ms/step - loss: 1.0933 - accuracy: 0.7271 - val_loss: 0.9851 - val_accuracy: 0.8012\n",
      "Epoch 2/3\n",
      "562/562 [==============================] - 140s 249ms/step - loss: 0.9673 - accuracy: 0.8162 - val_loss: 0.9510 - val_accuracy: 0.8288\n",
      "Epoch 3/3\n",
      "562/562 [==============================] - 138s 246ms/step - loss: 0.9509 - accuracy: 0.8240 - val_loss: 0.9410 - val_accuracy: 0.8291\n"
     ]
    }
   ],
   "source": [
    "history_model_5= model_5.fit(train_token_char_pos_dataset,\n",
    "                            steps_per_epoch= int(.1*len(train_token_char_pos_dataset)),\n",
    "                            epochs=3,\n",
    "                            validation_data= val_token_char_pos_dataset,\n",
    "                            validation_steps= int(.1*len(val_token_char_pos_dataset)))"
   ]
  },
  {
   "cell_type": "code",
   "execution_count": 199,
   "id": "1f8f8b65",
   "metadata": {},
   "outputs": [
    {
     "name": "stdout",
     "output_type": "stream",
     "text": [
      "945/945 [==============================] - 56s 58ms/step\n"
     ]
    }
   ],
   "source": [
    "model_5_pred_probs= model_5.predict(val_token_char_pos_dataset)"
   ]
  },
  {
   "cell_type": "code",
   "execution_count": 200,
   "id": "891765b4",
   "metadata": {},
   "outputs": [],
   "source": [
    "model_5_preds= tf.argmax(model_5_pred_probs, axis=1)"
   ]
  },
  {
   "cell_type": "code",
   "execution_count": 202,
   "id": "43c3e59f",
   "metadata": {},
   "outputs": [
    {
     "data": {
      "text/plain": [
       "{'accuracy': 83.08619091751622,\n",
       " 'precision': 0.8294327653788981,\n",
       " 'recall': 0.8308619091751622,\n",
       " 'f1': 0.8296434802010868}"
      ]
     },
     "execution_count": 202,
     "metadata": {},
     "output_type": "execute_result"
    }
   ],
   "source": [
    "model_5_results= calculate_results(val_labels_encoded, model_5_preds)\n",
    "model_5_results"
   ]
  },
  {
   "cell_type": "markdown",
   "id": "0be8d36b",
   "metadata": {},
   "source": [
    "## Compare model results"
   ]
  },
  {
   "cell_type": "code",
   "execution_count": 217,
   "id": "5acf3d5b",
   "metadata": {},
   "outputs": [
    {
     "data": {
      "text/html": [
       "<div>\n",
       "<style scoped>\n",
       "    .dataframe tbody tr th:only-of-type {\n",
       "        vertical-align: middle;\n",
       "    }\n",
       "\n",
       "    .dataframe tbody tr th {\n",
       "        vertical-align: top;\n",
       "    }\n",
       "\n",
       "    .dataframe thead th {\n",
       "        text-align: right;\n",
       "    }\n",
       "</style>\n",
       "<table border=\"1\" class=\"dataframe\">\n",
       "  <thead>\n",
       "    <tr style=\"text-align: right;\">\n",
       "      <th></th>\n",
       "      <th>accuracy</th>\n",
       "      <th>precision</th>\n",
       "      <th>recall</th>\n",
       "      <th>f1</th>\n",
       "    </tr>\n",
       "  </thead>\n",
       "  <tbody>\n",
       "    <tr>\n",
       "      <th>model_0_baseline</th>\n",
       "      <td>71.667496</td>\n",
       "      <td>0.712432</td>\n",
       "      <td>0.716675</td>\n",
       "      <td>0.692510</td>\n",
       "    </tr>\n",
       "    <tr>\n",
       "      <th>model_1_custom_token_embedding</th>\n",
       "      <td>78.148333</td>\n",
       "      <td>0.778599</td>\n",
       "      <td>0.781483</td>\n",
       "      <td>0.779005</td>\n",
       "    </tr>\n",
       "    <tr>\n",
       "      <th>model_2_pretrained_token_embedding</th>\n",
       "      <td>70.817986</td>\n",
       "      <td>0.710649</td>\n",
       "      <td>0.708180</td>\n",
       "      <td>0.705574</td>\n",
       "    </tr>\n",
       "    <tr>\n",
       "      <th>model_3_custom_char_embedding</th>\n",
       "      <td>65.425585</td>\n",
       "      <td>0.647930</td>\n",
       "      <td>0.654256</td>\n",
       "      <td>0.642919</td>\n",
       "    </tr>\n",
       "    <tr>\n",
       "      <th>model_4_hybrid_token_char_embedding</th>\n",
       "      <td>73.265590</td>\n",
       "      <td>0.733808</td>\n",
       "      <td>0.732656</td>\n",
       "      <td>0.730394</td>\n",
       "    </tr>\n",
       "    <tr>\n",
       "      <th>model_5_token_char_pos_embedding</th>\n",
       "      <td>83.086191</td>\n",
       "      <td>0.829433</td>\n",
       "      <td>0.830862</td>\n",
       "      <td>0.829643</td>\n",
       "    </tr>\n",
       "  </tbody>\n",
       "</table>\n",
       "</div>"
      ],
      "text/plain": [
       "                                      accuracy  precision    recall        f1\n",
       "model_0_baseline                     71.667496   0.712432  0.716675  0.692510\n",
       "model_1_custom_token_embedding       78.148333   0.778599  0.781483  0.779005\n",
       "model_2_pretrained_token_embedding   70.817986   0.710649  0.708180  0.705574\n",
       "model_3_custom_char_embedding        65.425585   0.647930  0.654256  0.642919\n",
       "model_4_hybrid_token_char_embedding  73.265590   0.733808  0.732656  0.730394\n",
       "model_5_token_char_pos_embedding     83.086191   0.829433  0.830862  0.829643"
      ]
     },
     "execution_count": 217,
     "metadata": {},
     "output_type": "execute_result"
    }
   ],
   "source": [
    "results_all_model= pd.DataFrame({'model_0_baseline':baseline_results,\n",
    "                                'model_1_custom_token_embedding':model_1_results,\n",
    "                                'model_2_pretrained_token_embedding':model_2_results,\n",
    "                                'model_3_custom_char_embedding':model_3_results,\n",
    "                                'model_4_hybrid_token_char_embedding':model_4_results,\n",
    "                                'model_5_token_char_pos_embedding':model_5_results})\n",
    "\n",
    "results_all_model= results_all_model.T\n",
    "results_all_model"
   ]
  },
  {
   "cell_type": "code",
   "execution_count": 218,
   "id": "6d36b34d",
   "metadata": {},
   "outputs": [
    {
     "data": {
      "text/html": [
       "<div>\n",
       "<style scoped>\n",
       "    .dataframe tbody tr th:only-of-type {\n",
       "        vertical-align: middle;\n",
       "    }\n",
       "\n",
       "    .dataframe tbody tr th {\n",
       "        vertical-align: top;\n",
       "    }\n",
       "\n",
       "    .dataframe thead th {\n",
       "        text-align: right;\n",
       "    }\n",
       "</style>\n",
       "<table border=\"1\" class=\"dataframe\">\n",
       "  <thead>\n",
       "    <tr style=\"text-align: right;\">\n",
       "      <th></th>\n",
       "      <th>accuracy</th>\n",
       "      <th>precision</th>\n",
       "      <th>recall</th>\n",
       "      <th>f1</th>\n",
       "    </tr>\n",
       "  </thead>\n",
       "  <tbody>\n",
       "    <tr>\n",
       "      <th>model_0_baseline</th>\n",
       "      <td>0.716675</td>\n",
       "      <td>0.712432</td>\n",
       "      <td>0.716675</td>\n",
       "      <td>0.692510</td>\n",
       "    </tr>\n",
       "    <tr>\n",
       "      <th>model_1_custom_token_embedding</th>\n",
       "      <td>0.781483</td>\n",
       "      <td>0.778599</td>\n",
       "      <td>0.781483</td>\n",
       "      <td>0.779005</td>\n",
       "    </tr>\n",
       "    <tr>\n",
       "      <th>model_2_pretrained_token_embedding</th>\n",
       "      <td>0.708180</td>\n",
       "      <td>0.710649</td>\n",
       "      <td>0.708180</td>\n",
       "      <td>0.705574</td>\n",
       "    </tr>\n",
       "    <tr>\n",
       "      <th>model_3_custom_char_embedding</th>\n",
       "      <td>0.654256</td>\n",
       "      <td>0.647930</td>\n",
       "      <td>0.654256</td>\n",
       "      <td>0.642919</td>\n",
       "    </tr>\n",
       "    <tr>\n",
       "      <th>model_4_hybrid_token_char_embedding</th>\n",
       "      <td>0.732656</td>\n",
       "      <td>0.733808</td>\n",
       "      <td>0.732656</td>\n",
       "      <td>0.730394</td>\n",
       "    </tr>\n",
       "    <tr>\n",
       "      <th>model_5_token_char_pos_embedding</th>\n",
       "      <td>0.830862</td>\n",
       "      <td>0.829433</td>\n",
       "      <td>0.830862</td>\n",
       "      <td>0.829643</td>\n",
       "    </tr>\n",
       "  </tbody>\n",
       "</table>\n",
       "</div>"
      ],
      "text/plain": [
       "                                     accuracy  precision    recall        f1\n",
       "model_0_baseline                     0.716675   0.712432  0.716675  0.692510\n",
       "model_1_custom_token_embedding       0.781483   0.778599  0.781483  0.779005\n",
       "model_2_pretrained_token_embedding   0.708180   0.710649  0.708180  0.705574\n",
       "model_3_custom_char_embedding        0.654256   0.647930  0.654256  0.642919\n",
       "model_4_hybrid_token_char_embedding  0.732656   0.733808  0.732656  0.730394\n",
       "model_5_token_char_pos_embedding     0.830862   0.829433  0.830862  0.829643"
      ]
     },
     "execution_count": 218,
     "metadata": {},
     "output_type": "execute_result"
    }
   ],
   "source": [
    "results_all_model['accuracy']= results_all_model['accuracy']/100\n",
    "results_all_model"
   ]
  },
  {
   "cell_type": "code",
   "execution_count": 229,
   "id": "bbdbc07c",
   "metadata": {},
   "outputs": [
    {
     "data": {
      "image/png": "[encoded data removed]",
      "text/plain": [
       "<Figure size 1000x500 with 1 Axes>"
      ]
     },
     "metadata": {},
     "output_type": "display_data"
    }
   ],
   "source": [
    "results_all_model.plot(kind='bar', figsize=(10,5)).legend(bbox_to_anchor=(1,1))\n",
    "plt.grid()"
   ]
  },
  {
   "cell_type": "code",
   "execution_count": 239,
   "id": "a5fd7144",
   "metadata": {},
   "outputs": [
    {
     "data": {
      "image/png": "[encoded data removed]",
      "text/plain": [
       "<Figure size 1000x500 with 1 Axes>"
      ]
     },
     "metadata": {},
     "output_type": "display_data"
    }
   ],
   "source": [
    "results_all_model['f1'].sort_values().plot(kind='bar', figsize=(10,5)).grid()"
   ]
  },
  {
   "cell_type": "markdown",
   "id": "5b294d9a",
   "metadata": {},
   "source": [
    "## Save and load model"
   ]
  },
  {
   "cell_type": "code",
   "execution_count": 276,
   "id": "1513255e",
   "metadata": {},
   "outputs": [
    {
     "name": "stdout",
     "output_type": "stream",
     "text": [
      "INFO:tensorflow:Assets written to: Saved_models/skimlit_tribred_model/assets\n"
     ]
    },
    {
     "name": "stderr",
     "output_type": "stream",
     "text": [
      "INFO:tensorflow:Assets written to: Saved_models/skimlit_tribred_model/assets\n"
     ]
    }
   ],
   "source": [
    "model_5.save('Saved_models/skimlit_tribred_model', save_format='tf')"
   ]
  },
  {
   "cell_type": "code",
   "execution_count": 277,
   "id": "13d828eb",
   "metadata": {},
   "outputs": [],
   "source": [
    "#loaded_model_5= tf.saved_model.load('Saved_models/saved_model_5.keras') \n",
    "loaded_model= tf.keras.models.load_model('Saved_models/skimlit_tribred_model') "
   ]
  },
  {
   "cell_type": "code",
   "execution_count": 278,
   "id": "1547133c",
   "metadata": {},
   "outputs": [
    {
     "data": {
      "text/plain": [
       "<tf_keras.src.engine.functional.Functional at 0x7fb29235fc80>"
      ]
     },
     "execution_count": 278,
     "metadata": {},
     "output_type": "execute_result"
    }
   ],
   "source": [
    "loaded_model"
   ]
  },
  {
   "cell_type": "code",
   "execution_count": 279,
   "id": "d28ce8a9",
   "metadata": {},
   "outputs": [
    {
     "name": "stdout",
     "output_type": "stream",
     "text": [
      "945/945 [==============================] - 55s 58ms/step\n"
     ]
    },
    {
     "data": {
      "text/plain": [
       "<tf.Tensor: shape=(5,), dtype=int64, numpy=array([0, 0, 3, 2, 2])>"
      ]
     },
     "execution_count": 279,
     "metadata": {},
     "output_type": "execute_result"
    }
   ],
   "source": [
    "loaded_model_preds= tf.argmax(loaded_model_5.predict(val_token_char_pos_dataset), axis=1)\n",
    "loaded_model_preds[:5]"
   ]
  },
  {
   "cell_type": "code",
   "execution_count": 280,
   "id": "291f8e94",
   "metadata": {},
   "outputs": [
    {
     "data": {
      "text/plain": [
       "{'accuracy': 83.08619091751622,\n",
       " 'precision': 0.8294327653788981,\n",
       " 'recall': 0.8308619091751622,\n",
       " 'f1': 0.8296434802010868}"
      ]
     },
     "execution_count": 280,
     "metadata": {},
     "output_type": "execute_result"
    }
   ],
   "source": [
    "loaded_model_results= calculate_results(val_labels_encoded, loaded_model_5_preds)\n",
    "loaded_model_results"
   ]
  },
  {
   "cell_type": "code",
   "execution_count": 281,
   "id": "559742c4",
   "metadata": {},
   "outputs": [
    {
     "data": {
      "text/plain": [
       "{'accuracy': 83.08619091751622,\n",
       " 'precision': 0.8294327653788981,\n",
       " 'recall': 0.8308619091751622,\n",
       " 'f1': 0.8296434802010868}"
      ]
     },
     "execution_count": 281,
     "metadata": {},
     "output_type": "execute_result"
    }
   ],
   "source": [
    "model_5_results\n"
   ]
  },
  {
   "cell_type": "code",
   "execution_count": 283,
   "id": "4c5c4221",
   "metadata": {},
   "outputs": [],
   "source": [
    "assert model_5_results == loaded_model_results"
   ]
  },
  {
   "cell_type": "code",
   "execution_count": 284,
   "id": "245f0c49",
   "metadata": {},
   "outputs": [
    {
     "name": "stdout",
     "output_type": "stream",
     "text": [
      "Model: \"model_5_tribrid_embedding\"\n",
      "__________________________________________________________________________________________________\n",
      " Layer (type)                Output Shape                 Param #   Connected to                  \n",
      "==================================================================================================\n",
      " char_inputs (InputLayer)    [(None, 1)]                  0         []                            \n",
      "                                                                                                  \n",
      " token_inputs (InputLayer)   [(None,)]                    0         []                            \n",
      "                                                                                                  \n",
      " char_vectorizer (TextVecto  (None, 579)                  0         ['char_inputs[0][0]']         \n",
      " rization)                                                                                        \n",
      "                                                                                                  \n",
      " universal_sentence_encoder  (None, 512)                  2567978   ['token_inputs[0][0]']        \n",
      "  (KerasLayer)                                            24                                      \n",
      "                                                                                                  \n",
      " char_embedding (Embedding)  (None, 579, 25)              700       ['char_vectorizer[0][0]']     \n",
      "                                                                                                  \n",
      " token_outputs (Dense)       (None, 128)                  65664     ['universal_sentence_encoder[0\n",
      "                                                                    ][0]']                        \n",
      "                                                                                                  \n",
      " bidirectional_1 (Bidirecti  (None, 48)                   9600      ['char_embedding[0][0]']      \n",
      " onal)                                                                                            \n",
      "                                                                                                  \n",
      " token_char_embedding (Conc  (None, 176)                  0         ['token_outputs[0][0]',       \n",
      " atenate)                                                            'bidirectional_1[0][0]']     \n",
      "                                                                                                  \n",
      " line_number_inputs (InputL  [(None, 15)]                 0         []                            \n",
      " ayer)                                                                                            \n",
      "                                                                                                  \n",
      " total_lines_inputs (InputL  [(None, 20)]                 0         []                            \n",
      " ayer)                                                                                            \n",
      "                                                                                                  \n",
      " dense_9 (Dense)             (None, 256)                  45312     ['token_char_embedding[0][0]']\n",
      "                                                                                                  \n",
      " dense_7 (Dense)             (None, 32)                   512       ['line_number_inputs[0][0]']  \n",
      "                                                                                                  \n",
      " dense_8 (Dense)             (None, 32)                   672       ['total_lines_inputs[0][0]']  \n",
      "                                                                                                  \n",
      " dropout_2 (Dropout)         (None, 256)                  0         ['dense_9[0][0]']             \n",
      "                                                                                                  \n",
      " token_char_positional_embe  (None, 320)                  0         ['dense_7[0][0]',             \n",
      " dding (Concatenate)                                                 'dense_8[0][0]',             \n",
      "                                                                     'dropout_2[0][0]']           \n",
      "                                                                                                  \n",
      " output_layer (Dense)        (None, 5)                    1605      ['token_char_positional_embedd\n",
      "                                                                    ing[0][0]']                   \n",
      "                                                                                                  \n",
      "==================================================================================================\n",
      "Total params: 256921889 (980.08 MB)\n",
      "Trainable params: 124065 (484.63 KB)\n",
      "Non-trainable params: 256797824 (979.61 MB)\n",
      "__________________________________________________________________________________________________\n"
     ]
    }
   ],
   "source": [
    "loaded_model.summary()"
   ]
  },
  {
   "cell_type": "code",
   "execution_count": null,
   "id": "f5bb1f96",
   "metadata": {},
   "outputs": [],
   "source": []
  }
 ],
 "metadata": {
  "kernelspec": {
   "display_name": "Tensorflow_Certificate",
   "language": "python",
   "name": "tensorflow_certificate"
  },
  "language_info": {
   "codemirror_mode": {
    "name": "ipython",
    "version": 3
   },
   "file_extension": ".py",
   "mimetype": "text/x-python",
   "name": "python",
   "nbconvert_exporter": "python",
   "pygments_lexer": "ipython3",
   "version": "3.12.3"
  }
 },
 "nbformat": 4,
 "nbformat_minor": 5
}
